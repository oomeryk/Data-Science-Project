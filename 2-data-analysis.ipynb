{
 "cells": [
  {
   "cell_type": "markdown",
   "id": "df3a0a05-00b3-48f3-b22a-ead7db451ac5",
   "metadata": {},
   "source": [
    "# 2- DATA ANALYSIS"
   ]
  },
  {
   "cell_type": "code",
   "execution_count": 2,
   "id": "c9525766-fdcd-4af7-8395-931462e2c052",
   "metadata": {},
   "outputs": [],
   "source": [
    "import pandas as pd\n",
    "import numpy as np\n",
    "import seaborn as sns"
   ]
  },
  {
   "cell_type": "code",
   "execution_count": 76,
   "id": "4c46c553-bb51-45bb-8cd0-2751f69011ac",
   "metadata": {},
   "outputs": [
    {
     "data": {
      "text/html": [
       "<div>\n",
       "<style scoped>\n",
       "    .dataframe tbody tr th:only-of-type {\n",
       "        vertical-align: middle;\n",
       "    }\n",
       "\n",
       "    .dataframe tbody tr th {\n",
       "        vertical-align: top;\n",
       "    }\n",
       "\n",
       "    .dataframe thead th {\n",
       "        text-align: right;\n",
       "    }\n",
       "</style>\n",
       "<table border=\"1\" class=\"dataframe\">\n",
       "  <thead>\n",
       "    <tr style=\"text-align: right;\">\n",
       "      <th></th>\n",
       "      <th>Source.Name</th>\n",
       "      <th>Column1</th>\n",
       "      <th>Column2</th>\n",
       "      <th>Column3</th>\n",
       "      <th>Column4</th>\n",
       "      <th>Column5</th>\n",
       "      <th>Column6</th>\n",
       "      <th>Column7</th>\n",
       "      <th>Column8</th>\n",
       "      <th>Column9</th>\n",
       "      <th>Column10</th>\n",
       "      <th>Column11</th>\n",
       "      <th>Column12</th>\n",
       "      <th>Column13</th>\n",
       "      <th>Column14</th>\n",
       "      <th>Column15</th>\n",
       "      <th>Column16</th>\n",
       "      <th>Column17</th>\n",
       "    </tr>\n",
       "  </thead>\n",
       "  <tbody>\n",
       "    <tr>\n",
       "      <th>0</th>\n",
       "      <td>emlakjet1.xlsx</td>\n",
       "      <td>a</td>\n",
       "      <td>0</td>\n",
       "      <td>1</td>\n",
       "      <td>2</td>\n",
       "      <td>3</td>\n",
       "      <td>4</td>\n",
       "      <td>5</td>\n",
       "      <td>6</td>\n",
       "      <td>7</td>\n",
       "      <td>8</td>\n",
       "      <td>9</td>\n",
       "      <td>10</td>\n",
       "      <td>11</td>\n",
       "      <td>12</td>\n",
       "      <td>13</td>\n",
       "      <td>14</td>\n",
       "      <td>15</td>\n",
       "    </tr>\n",
       "    <tr>\n",
       "      <th>1</th>\n",
       "      <td>emlakjet1.xlsx</td>\n",
       "      <td>0</td>\n",
       "      <td>edomer gayrimenkulden f.s.m. mahallesinde kira...</td>\n",
       "      <td>home</td>\n",
       "      <td>Müstakil Ev</td>\n",
       "      <td>weekend</td>\n",
       "      <td>3+1</td>\n",
       "      <td>texture</td>\n",
       "      <td>150 m2</td>\n",
       "      <td>event</td>\n",
       "      <td>22 Eylül</td>\n",
       "      <td>8.000 TL</td>\n",
       "      <td>Adana - Ceyhan - Fatih Sultan Mehmet Mh.</td>\n",
       "      <td>NaN</td>\n",
       "      <td>NaN</td>\n",
       "      <td>NaN</td>\n",
       "      <td>NaN</td>\n",
       "      <td>NaN</td>\n",
       "    </tr>\n",
       "    <tr>\n",
       "      <th>2</th>\n",
       "      <td>emlakjet1.xlsx</td>\n",
       "      <td>1</td>\n",
       "      <td>çinar emlak'tan cumhuri̇yet mh. ki̇ralik 2+1 d...</td>\n",
       "      <td>home</td>\n",
       "      <td>Daire</td>\n",
       "      <td>weekend</td>\n",
       "      <td>2+1</td>\n",
       "      <td>layers</td>\n",
       "      <td>5. Kat</td>\n",
       "      <td>texture</td>\n",
       "      <td>130 m2</td>\n",
       "      <td>event</td>\n",
       "      <td>21 Eylül</td>\n",
       "      <td>7.000 TL</td>\n",
       "      <td>Adana - Ceyhan - Cumhuriyet Mh.</td>\n",
       "      <td>NaN</td>\n",
       "      <td>NaN</td>\n",
       "      <td>NaN</td>\n",
       "    </tr>\n",
       "    <tr>\n",
       "      <th>3</th>\n",
       "      <td>emlakjet1.xlsx</td>\n",
       "      <td>2</td>\n",
       "      <td>yurdal emlak'tan ki̇ralik 4+1 dai̇re</td>\n",
       "      <td>home</td>\n",
       "      <td>Daire</td>\n",
       "      <td>weekend</td>\n",
       "      <td>4+1</td>\n",
       "      <td>layers</td>\n",
       "      <td>Yüksek giriş</td>\n",
       "      <td>texture</td>\n",
       "      <td>180 m2</td>\n",
       "      <td>event</td>\n",
       "      <td>20 Eylül</td>\n",
       "      <td>12.000 TL</td>\n",
       "      <td>Adana - Ceyhan - Cumhuriyet Mh.</td>\n",
       "      <td>NaN</td>\n",
       "      <td>NaN</td>\n",
       "      <td>NaN</td>\n",
       "    </tr>\n",
       "    <tr>\n",
       "      <th>4</th>\n",
       "      <td>emlakjet1.xlsx</td>\n",
       "      <td>3</td>\n",
       "      <td>mi̇ra emlak'tan cumhuri̇yet mah.de az hasarli ...</td>\n",
       "      <td>...</td>\n",
       "      <td>home</td>\n",
       "      <td>Daire</td>\n",
       "      <td>weekend</td>\n",
       "      <td>2+1</td>\n",
       "      <td>layers</td>\n",
       "      <td>7. Kat</td>\n",
       "      <td>texture</td>\n",
       "      <td>115 m2</td>\n",
       "      <td>event</td>\n",
       "      <td>20 Eylül</td>\n",
       "      <td>7.250 TL</td>\n",
       "      <td>Adana - Ceyhan - Cumhuriyet Mh.</td>\n",
       "      <td>NaN</td>\n",
       "      <td>NaN</td>\n",
       "    </tr>\n",
       "  </tbody>\n",
       "</table>\n",
       "</div>"
      ],
      "text/plain": [
       "      Source.Name Column1                                            Column2  \\\n",
       "0  emlakjet1.xlsx       a                                                  0   \n",
       "1  emlakjet1.xlsx       0  edomer gayrimenkulden f.s.m. mahallesinde kira...   \n",
       "2  emlakjet1.xlsx       1  çinar emlak'tan cumhuri̇yet mh. ki̇ralik 2+1 d...   \n",
       "3  emlakjet1.xlsx       2               yurdal emlak'tan ki̇ralik 4+1 dai̇re   \n",
       "4  emlakjet1.xlsx       3  mi̇ra emlak'tan cumhuri̇yet mah.de az hasarli ...   \n",
       "\n",
       "  Column3      Column4  Column5  Column6  Column7       Column8  Column9  \\\n",
       "0       1            2        3        4        5             6        7   \n",
       "1    home  Müstakil Ev  weekend      3+1  texture        150 m2    event   \n",
       "2    home        Daire  weekend      2+1   layers        5. Kat  texture   \n",
       "3    home        Daire  weekend      4+1   layers  Yüksek giriş  texture   \n",
       "4     ...         home    Daire  weekend      2+1        layers   7. Kat   \n",
       "\n",
       "   Column10  Column11                                  Column12   Column13  \\\n",
       "0         8         9                                        10         11   \n",
       "1  22 Eylül  8.000 TL  Adana - Ceyhan - Fatih Sultan Mehmet Mh.        NaN   \n",
       "2    130 m2     event                                  21 Eylül   7.000 TL   \n",
       "3    180 m2     event                                  20 Eylül  12.000 TL   \n",
       "4   texture    115 m2                                     event   20 Eylül   \n",
       "\n",
       "                          Column14                         Column15 Column16  \\\n",
       "0                               12                               13       14   \n",
       "1                              NaN                              NaN      NaN   \n",
       "2  Adana - Ceyhan - Cumhuriyet Mh.                              NaN      NaN   \n",
       "3  Adana - Ceyhan - Cumhuriyet Mh.                              NaN      NaN   \n",
       "4                         7.250 TL  Adana - Ceyhan - Cumhuriyet Mh.      NaN   \n",
       "\n",
       "  Column17  \n",
       "0       15  \n",
       "1      NaN  \n",
       "2      NaN  \n",
       "3      NaN  \n",
       "4      NaN  "
      ]
     },
     "execution_count": 76,
     "metadata": {},
     "output_type": "execute_result"
    }
   ],
   "source": [
    "data = pd.read_excel(\"emlak_jet.xlsx\")\n",
    "df = data.copy()\n",
    "df.head()\n"
   ]
  },
  {
   "cell_type": "code",
   "execution_count": 78,
   "id": "13f90f3c-4810-4c53-985a-66baa279fbeb",
   "metadata": {},
   "outputs": [
    {
     "data": {
      "text/plain": [
       "35841"
      ]
     },
     "execution_count": 78,
     "metadata": {},
     "output_type": "execute_result"
    }
   ],
   "source": [
    "len(df)"
   ]
  },
  {
   "cell_type": "code",
   "execution_count": null,
   "id": "721d67a1-b428-4310-a234-48150bd65e84",
   "metadata": {},
   "outputs": [],
   "source": []
  },
  {
   "cell_type": "code",
   "execution_count": 80,
   "id": "481beda8-75c3-4932-ab85-1bf4e3741d2b",
   "metadata": {},
   "outputs": [
    {
     "data": {
      "text/html": [
       "<div>\n",
       "<style scoped>\n",
       "    .dataframe tbody tr th:only-of-type {\n",
       "        vertical-align: middle;\n",
       "    }\n",
       "\n",
       "    .dataframe tbody tr th {\n",
       "        vertical-align: top;\n",
       "    }\n",
       "\n",
       "    .dataframe thead th {\n",
       "        text-align: right;\n",
       "    }\n",
       "</style>\n",
       "<table border=\"1\" class=\"dataframe\">\n",
       "  <thead>\n",
       "    <tr style=\"text-align: right;\">\n",
       "      <th></th>\n",
       "      <th>Column1</th>\n",
       "      <th>Column2</th>\n",
       "      <th>Column3</th>\n",
       "      <th>Column4</th>\n",
       "      <th>Column5</th>\n",
       "      <th>Column6</th>\n",
       "      <th>Column7</th>\n",
       "      <th>Column8</th>\n",
       "      <th>Column9</th>\n",
       "      <th>Column10</th>\n",
       "      <th>Column11</th>\n",
       "      <th>Column12</th>\n",
       "      <th>Column13</th>\n",
       "      <th>Column14</th>\n",
       "      <th>Column15</th>\n",
       "      <th>Column16</th>\n",
       "      <th>Column17</th>\n",
       "    </tr>\n",
       "    <tr>\n",
       "      <th></th>\n",
       "      <th></th>\n",
       "      <th></th>\n",
       "      <th></th>\n",
       "      <th></th>\n",
       "      <th></th>\n",
       "      <th></th>\n",
       "      <th></th>\n",
       "      <th></th>\n",
       "      <th></th>\n",
       "      <th></th>\n",
       "      <th></th>\n",
       "      <th></th>\n",
       "      <th></th>\n",
       "      <th></th>\n",
       "      <th></th>\n",
       "      <th></th>\n",
       "      <th></th>\n",
       "    </tr>\n",
       "  </thead>\n",
       "  <tbody>\n",
       "    <tr>\n",
       "      <th>1</th>\n",
       "      <td>0</td>\n",
       "      <td>edomer gayrimenkulden f.s.m. mahallesinde kira...</td>\n",
       "      <td>home</td>\n",
       "      <td>Müstakil Ev</td>\n",
       "      <td>weekend</td>\n",
       "      <td>3+1</td>\n",
       "      <td>texture</td>\n",
       "      <td>150 m2</td>\n",
       "      <td>event</td>\n",
       "      <td>22 Eylül</td>\n",
       "      <td>8.000 TL</td>\n",
       "      <td>Adana - Ceyhan - Fatih Sultan Mehmet Mh.</td>\n",
       "      <td>NaN</td>\n",
       "      <td>NaN</td>\n",
       "      <td>NaN</td>\n",
       "      <td>NaN</td>\n",
       "      <td>NaN</td>\n",
       "    </tr>\n",
       "    <tr>\n",
       "      <th>2</th>\n",
       "      <td>1</td>\n",
       "      <td>çinar emlak'tan cumhuri̇yet mh. ki̇ralik 2+1 d...</td>\n",
       "      <td>home</td>\n",
       "      <td>Daire</td>\n",
       "      <td>weekend</td>\n",
       "      <td>2+1</td>\n",
       "      <td>layers</td>\n",
       "      <td>5. Kat</td>\n",
       "      <td>texture</td>\n",
       "      <td>130 m2</td>\n",
       "      <td>event</td>\n",
       "      <td>21 Eylül</td>\n",
       "      <td>7.000 TL</td>\n",
       "      <td>Adana - Ceyhan - Cumhuriyet Mh.</td>\n",
       "      <td>NaN</td>\n",
       "      <td>NaN</td>\n",
       "      <td>NaN</td>\n",
       "    </tr>\n",
       "    <tr>\n",
       "      <th>3</th>\n",
       "      <td>2</td>\n",
       "      <td>yurdal emlak'tan ki̇ralik 4+1 dai̇re</td>\n",
       "      <td>home</td>\n",
       "      <td>Daire</td>\n",
       "      <td>weekend</td>\n",
       "      <td>4+1</td>\n",
       "      <td>layers</td>\n",
       "      <td>Yüksek giriş</td>\n",
       "      <td>texture</td>\n",
       "      <td>180 m2</td>\n",
       "      <td>event</td>\n",
       "      <td>20 Eylül</td>\n",
       "      <td>12.000 TL</td>\n",
       "      <td>Adana - Ceyhan - Cumhuriyet Mh.</td>\n",
       "      <td>NaN</td>\n",
       "      <td>NaN</td>\n",
       "      <td>NaN</td>\n",
       "    </tr>\n",
       "    <tr>\n",
       "      <th>4</th>\n",
       "      <td>3</td>\n",
       "      <td>mi̇ra emlak'tan cumhuri̇yet mah.de az hasarli ...</td>\n",
       "      <td>...</td>\n",
       "      <td>home</td>\n",
       "      <td>Daire</td>\n",
       "      <td>weekend</td>\n",
       "      <td>2+1</td>\n",
       "      <td>layers</td>\n",
       "      <td>7. Kat</td>\n",
       "      <td>texture</td>\n",
       "      <td>115 m2</td>\n",
       "      <td>event</td>\n",
       "      <td>20 Eylül</td>\n",
       "      <td>7.250 TL</td>\n",
       "      <td>Adana - Ceyhan - Cumhuriyet Mh.</td>\n",
       "      <td>NaN</td>\n",
       "      <td>NaN</td>\n",
       "    </tr>\n",
       "  </tbody>\n",
       "</table>\n",
       "</div>"
      ],
      "text/plain": [
       "  Column1                                            Column2 Column3  \\\n",
       "                                                                       \n",
       "1       0  edomer gayrimenkulden f.s.m. mahallesinde kira...    home   \n",
       "2       1  çinar emlak'tan cumhuri̇yet mh. ki̇ralik 2+1 d...    home   \n",
       "3       2               yurdal emlak'tan ki̇ralik 4+1 dai̇re    home   \n",
       "4       3  mi̇ra emlak'tan cumhuri̇yet mah.de az hasarli ...     ...   \n",
       "\n",
       "       Column4  Column5  Column6  Column7       Column8  Column9  Column10  \\\n",
       "                                                                             \n",
       "1  Müstakil Ev  weekend      3+1  texture        150 m2    event  22 Eylül   \n",
       "2        Daire  weekend      2+1   layers        5. Kat  texture    130 m2   \n",
       "3        Daire  weekend      4+1   layers  Yüksek giriş  texture    180 m2   \n",
       "4         home    Daire  weekend      2+1        layers   7. Kat   texture   \n",
       "\n",
       "   Column11                                  Column12   Column13  \\\n",
       "                                                                   \n",
       "1  8.000 TL  Adana - Ceyhan - Fatih Sultan Mehmet Mh.        NaN   \n",
       "2     event                                  21 Eylül   7.000 TL   \n",
       "3     event                                  20 Eylül  12.000 TL   \n",
       "4    115 m2                                     event   20 Eylül   \n",
       "\n",
       "                          Column14                         Column15 Column16  \\\n",
       "                                                                               \n",
       "1                              NaN                              NaN      NaN   \n",
       "2  Adana - Ceyhan - Cumhuriyet Mh.                              NaN      NaN   \n",
       "3  Adana - Ceyhan - Cumhuriyet Mh.                              NaN      NaN   \n",
       "4                         7.250 TL  Adana - Ceyhan - Cumhuriyet Mh.      NaN   \n",
       "\n",
       "  Column17  \n",
       "            \n",
       "1      NaN  \n",
       "2      NaN  \n",
       "3      NaN  \n",
       "4      NaN  "
      ]
     },
     "execution_count": 80,
     "metadata": {},
     "output_type": "execute_result"
    }
   ],
   "source": [
    "df = df.drop(0, axis=0)\n",
    "df = df.drop(\"Source.Name\", axis=1)\n",
    "\n",
    "df.head(4)"
   ]
  },
  {
   "cell_type": "code",
   "execution_count": 81,
   "id": "5ecfbe43-f7e8-46ec-b133-0f486536fee3",
   "metadata": {},
   "outputs": [
    {
     "data": {
      "text/html": [
       "<div>\n",
       "<style scoped>\n",
       "    .dataframe tbody tr th:only-of-type {\n",
       "        vertical-align: middle;\n",
       "    }\n",
       "\n",
       "    .dataframe tbody tr th {\n",
       "        vertical-align: top;\n",
       "    }\n",
       "\n",
       "    .dataframe thead th {\n",
       "        text-align: right;\n",
       "    }\n",
       "</style>\n",
       "<table border=\"1\" class=\"dataframe\">\n",
       "  <thead>\n",
       "    <tr style=\"text-align: right;\">\n",
       "      <th></th>\n",
       "      <th>Column1</th>\n",
       "      <th>Column2</th>\n",
       "      <th>Column3</th>\n",
       "      <th>Column4</th>\n",
       "      <th>Column5</th>\n",
       "      <th>Column6</th>\n",
       "      <th>Column7</th>\n",
       "      <th>Column8</th>\n",
       "      <th>Column9</th>\n",
       "      <th>Column10</th>\n",
       "      <th>Column11</th>\n",
       "      <th>Column12</th>\n",
       "      <th>Column13</th>\n",
       "      <th>Column14</th>\n",
       "      <th>Column15</th>\n",
       "      <th>Column16</th>\n",
       "      <th>Column17</th>\n",
       "    </tr>\n",
       "    <tr>\n",
       "      <th></th>\n",
       "      <th></th>\n",
       "      <th></th>\n",
       "      <th></th>\n",
       "      <th></th>\n",
       "      <th></th>\n",
       "      <th></th>\n",
       "      <th></th>\n",
       "      <th></th>\n",
       "      <th></th>\n",
       "      <th></th>\n",
       "      <th></th>\n",
       "      <th></th>\n",
       "      <th></th>\n",
       "      <th></th>\n",
       "      <th></th>\n",
       "      <th></th>\n",
       "      <th></th>\n",
       "    </tr>\n",
       "  </thead>\n",
       "  <tbody>\n",
       "    <tr>\n",
       "      <th>0</th>\n",
       "      <td>0</td>\n",
       "      <td>edomer gayrimenkulden f.s.m. mahallesinde kira...</td>\n",
       "      <td>home</td>\n",
       "      <td>Müstakil Ev</td>\n",
       "      <td>weekend</td>\n",
       "      <td>3+1</td>\n",
       "      <td>texture</td>\n",
       "      <td>150 m2</td>\n",
       "      <td>event</td>\n",
       "      <td>22 Eylül</td>\n",
       "      <td>8.000 TL</td>\n",
       "      <td>Adana - Ceyhan - Fatih Sultan Mehmet Mh.</td>\n",
       "      <td>NaN</td>\n",
       "      <td>NaN</td>\n",
       "      <td>NaN</td>\n",
       "      <td>NaN</td>\n",
       "      <td>NaN</td>\n",
       "    </tr>\n",
       "    <tr>\n",
       "      <th>1</th>\n",
       "      <td>1</td>\n",
       "      <td>çinar emlak'tan cumhuri̇yet mh. ki̇ralik 2+1 d...</td>\n",
       "      <td>home</td>\n",
       "      <td>Daire</td>\n",
       "      <td>weekend</td>\n",
       "      <td>2+1</td>\n",
       "      <td>layers</td>\n",
       "      <td>5. Kat</td>\n",
       "      <td>texture</td>\n",
       "      <td>130 m2</td>\n",
       "      <td>event</td>\n",
       "      <td>21 Eylül</td>\n",
       "      <td>7.000 TL</td>\n",
       "      <td>Adana - Ceyhan - Cumhuriyet Mh.</td>\n",
       "      <td>NaN</td>\n",
       "      <td>NaN</td>\n",
       "      <td>NaN</td>\n",
       "    </tr>\n",
       "    <tr>\n",
       "      <th>2</th>\n",
       "      <td>2</td>\n",
       "      <td>yurdal emlak'tan ki̇ralik 4+1 dai̇re</td>\n",
       "      <td>home</td>\n",
       "      <td>Daire</td>\n",
       "      <td>weekend</td>\n",
       "      <td>4+1</td>\n",
       "      <td>layers</td>\n",
       "      <td>Yüksek giriş</td>\n",
       "      <td>texture</td>\n",
       "      <td>180 m2</td>\n",
       "      <td>event</td>\n",
       "      <td>20 Eylül</td>\n",
       "      <td>12.000 TL</td>\n",
       "      <td>Adana - Ceyhan - Cumhuriyet Mh.</td>\n",
       "      <td>NaN</td>\n",
       "      <td>NaN</td>\n",
       "      <td>NaN</td>\n",
       "    </tr>\n",
       "    <tr>\n",
       "      <th>3</th>\n",
       "      <td>3</td>\n",
       "      <td>mi̇ra emlak'tan cumhuri̇yet mah.de az hasarli ...</td>\n",
       "      <td>...</td>\n",
       "      <td>home</td>\n",
       "      <td>Daire</td>\n",
       "      <td>weekend</td>\n",
       "      <td>2+1</td>\n",
       "      <td>layers</td>\n",
       "      <td>7. Kat</td>\n",
       "      <td>texture</td>\n",
       "      <td>115 m2</td>\n",
       "      <td>event</td>\n",
       "      <td>20 Eylül</td>\n",
       "      <td>7.250 TL</td>\n",
       "      <td>Adana - Ceyhan - Cumhuriyet Mh.</td>\n",
       "      <td>NaN</td>\n",
       "      <td>NaN</td>\n",
       "    </tr>\n",
       "  </tbody>\n",
       "</table>\n",
       "</div>"
      ],
      "text/plain": [
       "  Column1                                            Column2 Column3  \\\n",
       "                                                                       \n",
       "0       0  edomer gayrimenkulden f.s.m. mahallesinde kira...    home   \n",
       "1       1  çinar emlak'tan cumhuri̇yet mh. ki̇ralik 2+1 d...    home   \n",
       "2       2               yurdal emlak'tan ki̇ralik 4+1 dai̇re    home   \n",
       "3       3  mi̇ra emlak'tan cumhuri̇yet mah.de az hasarli ...     ...   \n",
       "\n",
       "       Column4  Column5  Column6  Column7       Column8  Column9  Column10  \\\n",
       "                                                                             \n",
       "0  Müstakil Ev  weekend      3+1  texture        150 m2    event  22 Eylül   \n",
       "1        Daire  weekend      2+1   layers        5. Kat  texture    130 m2   \n",
       "2        Daire  weekend      4+1   layers  Yüksek giriş  texture    180 m2   \n",
       "3         home    Daire  weekend      2+1        layers   7. Kat   texture   \n",
       "\n",
       "   Column11                                  Column12   Column13  \\\n",
       "                                                                   \n",
       "0  8.000 TL  Adana - Ceyhan - Fatih Sultan Mehmet Mh.        NaN   \n",
       "1     event                                  21 Eylül   7.000 TL   \n",
       "2     event                                  20 Eylül  12.000 TL   \n",
       "3    115 m2                                     event   20 Eylül   \n",
       "\n",
       "                          Column14                         Column15 Column16  \\\n",
       "                                                                               \n",
       "0                              NaN                              NaN      NaN   \n",
       "1  Adana - Ceyhan - Cumhuriyet Mh.                              NaN      NaN   \n",
       "2  Adana - Ceyhan - Cumhuriyet Mh.                              NaN      NaN   \n",
       "3                         7.250 TL  Adana - Ceyhan - Cumhuriyet Mh.      NaN   \n",
       "\n",
       "  Column17  \n",
       "            \n",
       "0      NaN  \n",
       "1      NaN  \n",
       "2      NaN  \n",
       "3      NaN  "
      ]
     },
     "execution_count": 81,
     "metadata": {},
     "output_type": "execute_result"
    }
   ],
   "source": [
    "# Reindex index number like starting from 0.\n",
    "# Add list of new_index to the DataFrame as a new column and set new_index to real index numbers\n",
    "df[''] = np.arange(len(df))\n",
    "df = df.set_index('')\n",
    "\n",
    "df.head(4)"
   ]
  },
  {
   "cell_type": "code",
   "execution_count": 82,
   "id": "f4f36e7b-bc65-40e6-8f19-775d85a2de7e",
   "metadata": {},
   "outputs": [
    {
     "data": {
      "text/html": [
       "<div>\n",
       "<style scoped>\n",
       "    .dataframe tbody tr th:only-of-type {\n",
       "        vertical-align: middle;\n",
       "    }\n",
       "\n",
       "    .dataframe tbody tr th {\n",
       "        vertical-align: top;\n",
       "    }\n",
       "\n",
       "    .dataframe thead th {\n",
       "        text-align: right;\n",
       "    }\n",
       "</style>\n",
       "<table border=\"1\" class=\"dataframe\">\n",
       "  <thead>\n",
       "    <tr style=\"text-align: right;\">\n",
       "      <th></th>\n",
       "      <th>Column1</th>\n",
       "      <th>Column2</th>\n",
       "      <th>Column3</th>\n",
       "      <th>Column4</th>\n",
       "      <th>Column5</th>\n",
       "      <th>Column6</th>\n",
       "      <th>Column7</th>\n",
       "      <th>Column8</th>\n",
       "      <th>Column9</th>\n",
       "      <th>Column10</th>\n",
       "      <th>Column11</th>\n",
       "      <th>Column12</th>\n",
       "      <th>Column13</th>\n",
       "      <th>Column14</th>\n",
       "      <th>Column15</th>\n",
       "      <th>Column16</th>\n",
       "      <th>Column17</th>\n",
       "    </tr>\n",
       "    <tr>\n",
       "      <th></th>\n",
       "      <th></th>\n",
       "      <th></th>\n",
       "      <th></th>\n",
       "      <th></th>\n",
       "      <th></th>\n",
       "      <th></th>\n",
       "      <th></th>\n",
       "      <th></th>\n",
       "      <th></th>\n",
       "      <th></th>\n",
       "      <th></th>\n",
       "      <th></th>\n",
       "      <th></th>\n",
       "      <th></th>\n",
       "      <th></th>\n",
       "      <th></th>\n",
       "      <th></th>\n",
       "    </tr>\n",
       "  </thead>\n",
       "  <tbody>\n",
       "    <tr>\n",
       "      <th>0</th>\n",
       "      <td>0</td>\n",
       "      <td>edomer gayrimenkulden f.s.m. mahallesinde kira...</td>\n",
       "      <td>home</td>\n",
       "      <td>Müstakil Ev</td>\n",
       "      <td>weekend</td>\n",
       "      <td>3+1</td>\n",
       "      <td>texture</td>\n",
       "      <td>150 m2</td>\n",
       "      <td>event</td>\n",
       "      <td>22 Eylül</td>\n",
       "      <td>8.000 TL</td>\n",
       "      <td>Adana - Ceyhan - Fatih Sultan Mehmet Mh.</td>\n",
       "      <td>NaN</td>\n",
       "      <td>NaN</td>\n",
       "      <td>NaN</td>\n",
       "      <td>NaN</td>\n",
       "      <td>NaN</td>\n",
       "    </tr>\n",
       "    <tr>\n",
       "      <th>1</th>\n",
       "      <td>1</td>\n",
       "      <td>çinar emlak'tan cumhuri̇yet mh. ki̇ralik 2+1 d...</td>\n",
       "      <td>home</td>\n",
       "      <td>Daire</td>\n",
       "      <td>weekend</td>\n",
       "      <td>2+1</td>\n",
       "      <td>layers</td>\n",
       "      <td>5. Kat</td>\n",
       "      <td>texture</td>\n",
       "      <td>130 m2</td>\n",
       "      <td>event</td>\n",
       "      <td>21 Eylül</td>\n",
       "      <td>7.000 TL</td>\n",
       "      <td>Adana - Ceyhan - Cumhuriyet Mh.</td>\n",
       "      <td>NaN</td>\n",
       "      <td>NaN</td>\n",
       "      <td>NaN</td>\n",
       "    </tr>\n",
       "    <tr>\n",
       "      <th>2</th>\n",
       "      <td>2</td>\n",
       "      <td>yurdal emlak'tan ki̇ralik 4+1 dai̇re</td>\n",
       "      <td>home</td>\n",
       "      <td>Daire</td>\n",
       "      <td>weekend</td>\n",
       "      <td>4+1</td>\n",
       "      <td>layers</td>\n",
       "      <td>Yüksek giriş</td>\n",
       "      <td>texture</td>\n",
       "      <td>180 m2</td>\n",
       "      <td>event</td>\n",
       "      <td>20 Eylül</td>\n",
       "      <td>12.000 TL</td>\n",
       "      <td>Adana - Ceyhan - Cumhuriyet Mh.</td>\n",
       "      <td>NaN</td>\n",
       "      <td>NaN</td>\n",
       "      <td>NaN</td>\n",
       "    </tr>\n",
       "    <tr>\n",
       "      <th>3</th>\n",
       "      <td>3</td>\n",
       "      <td>mi̇ra emlak'tan cumhuri̇yet mah.de az hasarli ...</td>\n",
       "      <td>home</td>\n",
       "      <td>Daire</td>\n",
       "      <td>weekend</td>\n",
       "      <td>2+1</td>\n",
       "      <td>layers</td>\n",
       "      <td>7. Kat</td>\n",
       "      <td>texture</td>\n",
       "      <td>115 m2</td>\n",
       "      <td>event</td>\n",
       "      <td>20 Eylül</td>\n",
       "      <td>7.250 TL</td>\n",
       "      <td>Adana - Ceyhan - Cumhuriyet Mh.</td>\n",
       "      <td>NaN</td>\n",
       "      <td>NaN</td>\n",
       "      <td>NaN</td>\n",
       "    </tr>\n",
       "  </tbody>\n",
       "</table>\n",
       "</div>"
      ],
      "text/plain": [
       "  Column1                                            Column2 Column3  \\\n",
       "                                                                       \n",
       "0       0  edomer gayrimenkulden f.s.m. mahallesinde kira...    home   \n",
       "1       1  çinar emlak'tan cumhuri̇yet mh. ki̇ralik 2+1 d...    home   \n",
       "2       2               yurdal emlak'tan ki̇ralik 4+1 dai̇re    home   \n",
       "3       3  mi̇ra emlak'tan cumhuri̇yet mah.de az hasarli ...    home   \n",
       "\n",
       "       Column4  Column5 Column6  Column7       Column8  Column9  Column10  \\\n",
       "                                                                            \n",
       "0  Müstakil Ev  weekend     3+1  texture        150 m2    event  22 Eylül   \n",
       "1        Daire  weekend     2+1   layers        5. Kat  texture    130 m2   \n",
       "2        Daire  weekend     4+1   layers  Yüksek giriş  texture    180 m2   \n",
       "3        Daire  weekend     2+1   layers        7. Kat  texture    115 m2   \n",
       "\n",
       "   Column11                                  Column12   Column13  \\\n",
       "                                                                   \n",
       "0  8.000 TL  Adana - Ceyhan - Fatih Sultan Mehmet Mh.        NaN   \n",
       "1     event                                  21 Eylül   7.000 TL   \n",
       "2     event                                  20 Eylül  12.000 TL   \n",
       "3     event                                  20 Eylül   7.250 TL   \n",
       "\n",
       "                          Column14 Column15 Column16 Column17  \n",
       "                                                               \n",
       "0                              NaN      NaN      NaN      NaN  \n",
       "1  Adana - Ceyhan - Cumhuriyet Mh.      NaN      NaN      NaN  \n",
       "2  Adana - Ceyhan - Cumhuriyet Mh.      NaN      NaN      NaN  \n",
       "3  Adana - Ceyhan - Cumhuriyet Mh.      NaN      NaN      NaN  "
      ]
     },
     "execution_count": 82,
     "metadata": {},
     "output_type": "execute_result"
    }
   ],
   "source": [
    "# Swipe cell that write '...' to one cell left\n",
    "for i in range(len(df)):\n",
    "    if df.iloc[i,2] == \"...\":\n",
    "        j=2\n",
    "        while j<16:\n",
    "            df.iloc[i,j] = df.iloc[i,j+1]\n",
    "            j+=1\n",
    "df.head(4)"
   ]
  },
  {
   "cell_type": "code",
   "execution_count": 83,
   "id": "19601b4b-7a2c-4fda-9ede-700dbf87da72",
   "metadata": {},
   "outputs": [
    {
     "data": {
      "text/html": [
       "<div>\n",
       "<style scoped>\n",
       "    .dataframe tbody tr th:only-of-type {\n",
       "        vertical-align: middle;\n",
       "    }\n",
       "\n",
       "    .dataframe tbody tr th {\n",
       "        vertical-align: top;\n",
       "    }\n",
       "\n",
       "    .dataframe thead th {\n",
       "        text-align: right;\n",
       "    }\n",
       "</style>\n",
       "<table border=\"1\" class=\"dataframe\">\n",
       "  <thead>\n",
       "    <tr style=\"text-align: right;\">\n",
       "      <th></th>\n",
       "      <th>Column1</th>\n",
       "      <th>Column2</th>\n",
       "      <th>Column3</th>\n",
       "      <th>Column4</th>\n",
       "      <th>Column5</th>\n",
       "      <th>Column6</th>\n",
       "      <th>Column7</th>\n",
       "      <th>Column8</th>\n",
       "      <th>Column9</th>\n",
       "      <th>Column10</th>\n",
       "      <th>Column11</th>\n",
       "      <th>Column12</th>\n",
       "      <th>Column13</th>\n",
       "      <th>Column14</th>\n",
       "      <th>Column15</th>\n",
       "      <th>Column16</th>\n",
       "      <th>Column17</th>\n",
       "    </tr>\n",
       "    <tr>\n",
       "      <th></th>\n",
       "      <th></th>\n",
       "      <th></th>\n",
       "      <th></th>\n",
       "      <th></th>\n",
       "      <th></th>\n",
       "      <th></th>\n",
       "      <th></th>\n",
       "      <th></th>\n",
       "      <th></th>\n",
       "      <th></th>\n",
       "      <th></th>\n",
       "      <th></th>\n",
       "      <th></th>\n",
       "      <th></th>\n",
       "      <th></th>\n",
       "      <th></th>\n",
       "      <th></th>\n",
       "    </tr>\n",
       "  </thead>\n",
       "  <tbody>\n",
       "    <tr>\n",
       "      <th>1</th>\n",
       "      <td>1</td>\n",
       "      <td>çinar emlak'tan cumhuri̇yet mh. ki̇ralik 2+1 d...</td>\n",
       "      <td>home</td>\n",
       "      <td>Daire</td>\n",
       "      <td>weekend</td>\n",
       "      <td>2+1</td>\n",
       "      <td>layers</td>\n",
       "      <td>5. Kat</td>\n",
       "      <td>texture</td>\n",
       "      <td>130 m2</td>\n",
       "      <td>event</td>\n",
       "      <td>21 Eylül</td>\n",
       "      <td>7.000 TL</td>\n",
       "      <td>Adana - Ceyhan - Cumhuriyet Mh.</td>\n",
       "      <td>NaN</td>\n",
       "      <td>NaN</td>\n",
       "      <td>NaN</td>\n",
       "    </tr>\n",
       "    <tr>\n",
       "      <th>2</th>\n",
       "      <td>2</td>\n",
       "      <td>yurdal emlak'tan ki̇ralik 4+1 dai̇re</td>\n",
       "      <td>home</td>\n",
       "      <td>Daire</td>\n",
       "      <td>weekend</td>\n",
       "      <td>4+1</td>\n",
       "      <td>layers</td>\n",
       "      <td>Yüksek giriş</td>\n",
       "      <td>texture</td>\n",
       "      <td>180 m2</td>\n",
       "      <td>event</td>\n",
       "      <td>20 Eylül</td>\n",
       "      <td>12.000 TL</td>\n",
       "      <td>Adana - Ceyhan - Cumhuriyet Mh.</td>\n",
       "      <td>NaN</td>\n",
       "      <td>NaN</td>\n",
       "      <td>NaN</td>\n",
       "    </tr>\n",
       "    <tr>\n",
       "      <th>3</th>\n",
       "      <td>3</td>\n",
       "      <td>mi̇ra emlak'tan cumhuri̇yet mah.de az hasarli ...</td>\n",
       "      <td>home</td>\n",
       "      <td>Daire</td>\n",
       "      <td>weekend</td>\n",
       "      <td>2+1</td>\n",
       "      <td>layers</td>\n",
       "      <td>7. Kat</td>\n",
       "      <td>texture</td>\n",
       "      <td>115 m2</td>\n",
       "      <td>event</td>\n",
       "      <td>20 Eylül</td>\n",
       "      <td>7.250 TL</td>\n",
       "      <td>Adana - Ceyhan - Cumhuriyet Mh.</td>\n",
       "      <td>NaN</td>\n",
       "      <td>NaN</td>\n",
       "      <td>NaN</td>\n",
       "    </tr>\n",
       "    <tr>\n",
       "      <th>4</th>\n",
       "      <td>4</td>\n",
       "      <td>edomer gayrimenkul'den n.kemal mah. kiralık 3+...</td>\n",
       "      <td>home</td>\n",
       "      <td>Daire</td>\n",
       "      <td>weekend</td>\n",
       "      <td>3+1</td>\n",
       "      <td>layers</td>\n",
       "      <td>3. Kat</td>\n",
       "      <td>texture</td>\n",
       "      <td>125 m2</td>\n",
       "      <td>event</td>\n",
       "      <td>17 Eylül</td>\n",
       "      <td>130.000 TL</td>\n",
       "      <td>Adana - Ceyhan - Namık Kemal Mh.</td>\n",
       "      <td>NaN</td>\n",
       "      <td>NaN</td>\n",
       "      <td>NaN</td>\n",
       "    </tr>\n",
       "  </tbody>\n",
       "</table>\n",
       "</div>"
      ],
      "text/plain": [
       "  Column1                                            Column2 Column3 Column4  \\\n",
       "                                                                               \n",
       "1       1  çinar emlak'tan cumhuri̇yet mh. ki̇ralik 2+1 d...    home   Daire   \n",
       "2       2               yurdal emlak'tan ki̇ralik 4+1 dai̇re    home   Daire   \n",
       "3       3  mi̇ra emlak'tan cumhuri̇yet mah.de az hasarli ...    home   Daire   \n",
       "4       4  edomer gayrimenkul'den n.kemal mah. kiralık 3+...    home   Daire   \n",
       "\n",
       "   Column5 Column6 Column7       Column8  Column9 Column10 Column11  Column12  \\\n",
       "                                                                                \n",
       "1  weekend     2+1  layers        5. Kat  texture   130 m2    event  21 Eylül   \n",
       "2  weekend     4+1  layers  Yüksek giriş  texture   180 m2    event  20 Eylül   \n",
       "3  weekend     2+1  layers        7. Kat  texture   115 m2    event  20 Eylül   \n",
       "4  weekend     3+1  layers        3. Kat  texture   125 m2    event  17 Eylül   \n",
       "\n",
       "     Column13                          Column14 Column15 Column16 Column17  \n",
       "                                                                            \n",
       "1    7.000 TL   Adana - Ceyhan - Cumhuriyet Mh.      NaN      NaN      NaN  \n",
       "2   12.000 TL   Adana - Ceyhan - Cumhuriyet Mh.      NaN      NaN      NaN  \n",
       "3    7.250 TL   Adana - Ceyhan - Cumhuriyet Mh.      NaN      NaN      NaN  \n",
       "4  130.000 TL  Adana - Ceyhan - Namık Kemal Mh.      NaN      NaN      NaN  "
      ]
     },
     "execution_count": 83,
     "metadata": {},
     "output_type": "execute_result"
    }
   ],
   "source": [
    "# Drop rows except \"Residence\" and \"Daire\"\n",
    "for i in range(len(df)):\n",
    "    if df[\"Column4\"][i] != \"Residence\" and df[\"Column4\"][i] != \"Daire\":\n",
    "        df = df.drop(i, axis=0)\n",
    "        \n",
    "df.head(4) "
   ]
  },
  {
   "cell_type": "code",
   "execution_count": 112,
   "id": "3f41664d-8b43-4265-83f2-2f24514a2c2f",
   "metadata": {},
   "outputs": [],
   "source": [
    "df[''] = np.arange(len(df))\n",
    "df = df.set_index('')"
   ]
  },
  {
   "cell_type": "code",
   "execution_count": 85,
   "id": "98c66a61-381d-47ac-9231-2f69cd3794fd",
   "metadata": {},
   "outputs": [
    {
     "data": {
      "text/plain": [
       "33293"
      ]
     },
     "execution_count": 85,
     "metadata": {},
     "output_type": "execute_result"
    }
   ],
   "source": [
    "len(df)"
   ]
  },
  {
   "cell_type": "code",
   "execution_count": 90,
   "id": "b99062ab-9d92-4e83-a860-68521f9b2610",
   "metadata": {},
   "outputs": [
    {
     "data": {
      "text/html": [
       "<div>\n",
       "<style scoped>\n",
       "    .dataframe tbody tr th:only-of-type {\n",
       "        vertical-align: middle;\n",
       "    }\n",
       "\n",
       "    .dataframe tbody tr th {\n",
       "        vertical-align: top;\n",
       "    }\n",
       "\n",
       "    .dataframe thead th {\n",
       "        text-align: right;\n",
       "    }\n",
       "</style>\n",
       "<table border=\"1\" class=\"dataframe\">\n",
       "  <thead>\n",
       "    <tr style=\"text-align: right;\">\n",
       "      <th></th>\n",
       "      <th>Column1</th>\n",
       "      <th>Column2</th>\n",
       "      <th>Column3</th>\n",
       "      <th>Column4</th>\n",
       "      <th>Column5</th>\n",
       "      <th>Column6</th>\n",
       "      <th>Column7</th>\n",
       "      <th>Column8</th>\n",
       "      <th>Column9</th>\n",
       "      <th>Column10</th>\n",
       "      <th>Column11</th>\n",
       "      <th>Column12</th>\n",
       "      <th>Column13</th>\n",
       "      <th>Column14</th>\n",
       "      <th>Column15</th>\n",
       "      <th>Column16</th>\n",
       "      <th>Column17</th>\n",
       "    </tr>\n",
       "    <tr>\n",
       "      <th></th>\n",
       "      <th></th>\n",
       "      <th></th>\n",
       "      <th></th>\n",
       "      <th></th>\n",
       "      <th></th>\n",
       "      <th></th>\n",
       "      <th></th>\n",
       "      <th></th>\n",
       "      <th></th>\n",
       "      <th></th>\n",
       "      <th></th>\n",
       "      <th></th>\n",
       "      <th></th>\n",
       "      <th></th>\n",
       "      <th></th>\n",
       "      <th></th>\n",
       "      <th></th>\n",
       "    </tr>\n",
       "  </thead>\n",
       "  <tbody>\n",
       "    <tr>\n",
       "      <th>35</th>\n",
       "      <td>38</td>\n",
       "      <td>yüzüncüyil kri̇mi̇nal ci̇vari 2+1 apartman dai...</td>\n",
       "      <td>home</td>\n",
       "      <td>Daire</td>\n",
       "      <td>weekend</td>\n",
       "      <td>2+1</td>\n",
       "      <td>layers</td>\n",
       "      <td>5. Kat</td>\n",
       "      <td>texture</td>\n",
       "      <td>100 m2</td>\n",
       "      <td>event</td>\n",
       "      <td>25 Eylül</td>\n",
       "      <td>9.250 TL</td>\n",
       "      <td>arrow_downward</td>\n",
       "      <td>ESKİ FİYATI10.000 TL</td>\n",
       "      <td>Adana - Çukurova - Yüzüncüyıl Mh.</td>\n",
       "      <td>NaN</td>\n",
       "    </tr>\n",
       "    <tr>\n",
       "      <th>36</th>\n",
       "      <td>39</td>\n",
       "      <td>ruh sağliği karşisi 3+1 k.mutfak doğalgazli ha...</td>\n",
       "      <td>home</td>\n",
       "      <td>Daire</td>\n",
       "      <td>weekend</td>\n",
       "      <td>3+1</td>\n",
       "      <td>layers</td>\n",
       "      <td>9. Kat</td>\n",
       "      <td>texture</td>\n",
       "      <td>220 m2</td>\n",
       "      <td>event</td>\n",
       "      <td>24 Eylül</td>\n",
       "      <td>14.500 TL</td>\n",
       "      <td>Adana - Çukurova - Belediye Evleri Mh.</td>\n",
       "      <td>NaN</td>\n",
       "      <td>NaN</td>\n",
       "      <td>NaN</td>\n",
       "    </tr>\n",
       "    <tr>\n",
       "      <th>37</th>\n",
       "      <td>40</td>\n",
       "      <td>güzelyali mahallesi̇ 3+1 170 m2 ki̇ralik dai̇re</td>\n",
       "      <td>home</td>\n",
       "      <td>Daire</td>\n",
       "      <td>weekend</td>\n",
       "      <td>3+1</td>\n",
       "      <td>layers</td>\n",
       "      <td>2. Kat</td>\n",
       "      <td>texture</td>\n",
       "      <td>170 m2</td>\n",
       "      <td>event</td>\n",
       "      <td>25 Eylül</td>\n",
       "      <td>100.000 TL</td>\n",
       "      <td>Adana - Çukurova - Güzelyalı Mh.</td>\n",
       "      <td>NaN</td>\n",
       "      <td>NaN</td>\n",
       "      <td>NaN</td>\n",
       "    </tr>\n",
       "  </tbody>\n",
       "</table>\n",
       "</div>"
      ],
      "text/plain": [
       "   Column1                                            Column2 Column3 Column4  \\\n",
       "                                                                                \n",
       "35      38  yüzüncüyil kri̇mi̇nal ci̇vari 2+1 apartman dai...    home   Daire   \n",
       "36      39  ruh sağliği karşisi 3+1 k.mutfak doğalgazli ha...    home   Daire   \n",
       "37      40    güzelyali mahallesi̇ 3+1 170 m2 ki̇ralik dai̇re    home   Daire   \n",
       "\n",
       "    Column5 Column6 Column7 Column8  Column9 Column10 Column11  Column12  \\\n",
       "                                                                           \n",
       "35  weekend     2+1  layers  5. Kat  texture   100 m2    event  25 Eylül   \n",
       "36  weekend     3+1  layers  9. Kat  texture   220 m2    event  24 Eylül   \n",
       "37  weekend     3+1  layers  2. Kat  texture   170 m2    event  25 Eylül   \n",
       "\n",
       "      Column13                                Column14              Column15  \\\n",
       "                                                                               \n",
       "35    9.250 TL                          arrow_downward  ESKİ FİYATI10.000 TL   \n",
       "36   14.500 TL  Adana - Çukurova - Belediye Evleri Mh.                   NaN   \n",
       "37  100.000 TL        Adana - Çukurova - Güzelyalı Mh.                   NaN   \n",
       "\n",
       "                             Column16 Column17  \n",
       "                                                \n",
       "35  Adana - Çukurova - Yüzüncüyıl Mh.      NaN  \n",
       "36                                NaN      NaN  \n",
       "37                                NaN      NaN  "
      ]
     },
     "execution_count": 90,
     "metadata": {},
     "output_type": "execute_result"
    }
   ],
   "source": [
    "# Wiew the error of Column14 and Column16\n",
    "df.iloc[35:38,:]"
   ]
  },
  {
   "cell_type": "code",
   "execution_count": 96,
   "id": "3d45439c-a22b-4860-a754-33149dc66162",
   "metadata": {},
   "outputs": [
    {
     "data": {
      "text/html": [
       "<div>\n",
       "<style scoped>\n",
       "    .dataframe tbody tr th:only-of-type {\n",
       "        vertical-align: middle;\n",
       "    }\n",
       "\n",
       "    .dataframe tbody tr th {\n",
       "        vertical-align: top;\n",
       "    }\n",
       "\n",
       "    .dataframe thead th {\n",
       "        text-align: right;\n",
       "    }\n",
       "</style>\n",
       "<table border=\"1\" class=\"dataframe\">\n",
       "  <thead>\n",
       "    <tr style=\"text-align: right;\">\n",
       "      <th></th>\n",
       "      <th>Column1</th>\n",
       "      <th>Column2</th>\n",
       "      <th>Column3</th>\n",
       "      <th>Column4</th>\n",
       "      <th>Column5</th>\n",
       "      <th>Column6</th>\n",
       "      <th>Column7</th>\n",
       "      <th>Column8</th>\n",
       "      <th>Column9</th>\n",
       "      <th>Column10</th>\n",
       "      <th>Column11</th>\n",
       "      <th>Column12</th>\n",
       "      <th>Column13</th>\n",
       "      <th>Column14</th>\n",
       "      <th>Column15</th>\n",
       "      <th>Column16</th>\n",
       "      <th>Column17</th>\n",
       "    </tr>\n",
       "    <tr>\n",
       "      <th></th>\n",
       "      <th></th>\n",
       "      <th></th>\n",
       "      <th></th>\n",
       "      <th></th>\n",
       "      <th></th>\n",
       "      <th></th>\n",
       "      <th></th>\n",
       "      <th></th>\n",
       "      <th></th>\n",
       "      <th></th>\n",
       "      <th></th>\n",
       "      <th></th>\n",
       "      <th></th>\n",
       "      <th></th>\n",
       "      <th></th>\n",
       "      <th></th>\n",
       "      <th></th>\n",
       "    </tr>\n",
       "  </thead>\n",
       "  <tbody>\n",
       "    <tr>\n",
       "      <th>35</th>\n",
       "      <td>38</td>\n",
       "      <td>yüzüncüyil kri̇mi̇nal ci̇vari 2+1 apartman dai...</td>\n",
       "      <td>home</td>\n",
       "      <td>Daire</td>\n",
       "      <td>weekend</td>\n",
       "      <td>2+1</td>\n",
       "      <td>layers</td>\n",
       "      <td>5. Kat</td>\n",
       "      <td>texture</td>\n",
       "      <td>100 m2</td>\n",
       "      <td>event</td>\n",
       "      <td>25 Eylül</td>\n",
       "      <td>9.250 TL</td>\n",
       "      <td>Adana - Çukurova - Yüzüncüyıl Mh.</td>\n",
       "      <td>ESKİ FİYATI10.000 TL</td>\n",
       "      <td>Adana - Çukurova - Yüzüncüyıl Mh.</td>\n",
       "      <td>NaN</td>\n",
       "    </tr>\n",
       "    <tr>\n",
       "      <th>36</th>\n",
       "      <td>39</td>\n",
       "      <td>ruh sağliği karşisi 3+1 k.mutfak doğalgazli ha...</td>\n",
       "      <td>home</td>\n",
       "      <td>Daire</td>\n",
       "      <td>weekend</td>\n",
       "      <td>3+1</td>\n",
       "      <td>layers</td>\n",
       "      <td>9. Kat</td>\n",
       "      <td>texture</td>\n",
       "      <td>220 m2</td>\n",
       "      <td>event</td>\n",
       "      <td>24 Eylül</td>\n",
       "      <td>14.500 TL</td>\n",
       "      <td>Adana - Çukurova - Belediye Evleri Mh.</td>\n",
       "      <td>NaN</td>\n",
       "      <td>NaN</td>\n",
       "      <td>NaN</td>\n",
       "    </tr>\n",
       "    <tr>\n",
       "      <th>37</th>\n",
       "      <td>40</td>\n",
       "      <td>güzelyali mahallesi̇ 3+1 170 m2 ki̇ralik dai̇re</td>\n",
       "      <td>home</td>\n",
       "      <td>Daire</td>\n",
       "      <td>weekend</td>\n",
       "      <td>3+1</td>\n",
       "      <td>layers</td>\n",
       "      <td>2. Kat</td>\n",
       "      <td>texture</td>\n",
       "      <td>170 m2</td>\n",
       "      <td>event</td>\n",
       "      <td>25 Eylül</td>\n",
       "      <td>100.000 TL</td>\n",
       "      <td>Adana - Çukurova - Güzelyalı Mh.</td>\n",
       "      <td>NaN</td>\n",
       "      <td>NaN</td>\n",
       "      <td>NaN</td>\n",
       "    </tr>\n",
       "  </tbody>\n",
       "</table>\n",
       "</div>"
      ],
      "text/plain": [
       "   Column1                                            Column2 Column3 Column4  \\\n",
       "                                                                                \n",
       "35      38  yüzüncüyil kri̇mi̇nal ci̇vari 2+1 apartman dai...    home   Daire   \n",
       "36      39  ruh sağliği karşisi 3+1 k.mutfak doğalgazli ha...    home   Daire   \n",
       "37      40    güzelyali mahallesi̇ 3+1 170 m2 ki̇ralik dai̇re    home   Daire   \n",
       "\n",
       "    Column5 Column6 Column7 Column8  Column9 Column10 Column11  Column12  \\\n",
       "                                                                           \n",
       "35  weekend     2+1  layers  5. Kat  texture   100 m2    event  25 Eylül   \n",
       "36  weekend     3+1  layers  9. Kat  texture   220 m2    event  24 Eylül   \n",
       "37  weekend     3+1  layers  2. Kat  texture   170 m2    event  25 Eylül   \n",
       "\n",
       "      Column13                                Column14              Column15  \\\n",
       "                                                                               \n",
       "35    9.250 TL       Adana - Çukurova - Yüzüncüyıl Mh.  ESKİ FİYATI10.000 TL   \n",
       "36   14.500 TL  Adana - Çukurova - Belediye Evleri Mh.                   NaN   \n",
       "37  100.000 TL        Adana - Çukurova - Güzelyalı Mh.                   NaN   \n",
       "\n",
       "                             Column16 Column17  \n",
       "                                                \n",
       "35  Adana - Çukurova - Yüzüncüyıl Mh.      NaN  \n",
       "36                                NaN      NaN  \n",
       "37                                NaN      NaN  "
      ]
     },
     "execution_count": 96,
     "metadata": {},
     "output_type": "execute_result"
    }
   ],
   "source": [
    "# Assign Column16 cell to Column14 cell\n",
    "for i in range(len(df)):\n",
    "    if df[\"Column14\"][i]==\"arrow_downward\":\n",
    "        df[\"Column14\"][i] = df[\"Column16\"][i]\n",
    "        \n",
    "# Error fixed\n",
    "df.iloc[35:38,:]"
   ]
  },
  {
   "cell_type": "code",
   "execution_count": null,
   "id": "06e491ff-e08c-4fb9-9abe-25a968105713",
   "metadata": {},
   "outputs": [],
   "source": []
  },
  {
   "cell_type": "code",
   "execution_count": 97,
   "id": "4148c0fa-688b-4026-a14d-723ec1eea0b7",
   "metadata": {},
   "outputs": [
    {
     "data": {
      "text/html": [
       "<div>\n",
       "<style scoped>\n",
       "    .dataframe tbody tr th:only-of-type {\n",
       "        vertical-align: middle;\n",
       "    }\n",
       "\n",
       "    .dataframe tbody tr th {\n",
       "        vertical-align: top;\n",
       "    }\n",
       "\n",
       "    .dataframe thead th {\n",
       "        text-align: right;\n",
       "    }\n",
       "</style>\n",
       "<table border=\"1\" class=\"dataframe\">\n",
       "  <thead>\n",
       "    <tr style=\"text-align: right;\">\n",
       "      <th></th>\n",
       "      <th>Column6</th>\n",
       "      <th>Column10</th>\n",
       "      <th>Column13</th>\n",
       "      <th>Column14</th>\n",
       "    </tr>\n",
       "    <tr>\n",
       "      <th></th>\n",
       "      <th></th>\n",
       "      <th></th>\n",
       "      <th></th>\n",
       "      <th></th>\n",
       "    </tr>\n",
       "  </thead>\n",
       "  <tbody>\n",
       "    <tr>\n",
       "      <th>0</th>\n",
       "      <td>2+1</td>\n",
       "      <td>130 m2</td>\n",
       "      <td>7.000 TL</td>\n",
       "      <td>Adana - Ceyhan - Cumhuriyet Mh.</td>\n",
       "    </tr>\n",
       "    <tr>\n",
       "      <th>1</th>\n",
       "      <td>4+1</td>\n",
       "      <td>180 m2</td>\n",
       "      <td>12.000 TL</td>\n",
       "      <td>Adana - Ceyhan - Cumhuriyet Mh.</td>\n",
       "    </tr>\n",
       "    <tr>\n",
       "      <th>2</th>\n",
       "      <td>2+1</td>\n",
       "      <td>115 m2</td>\n",
       "      <td>7.250 TL</td>\n",
       "      <td>Adana - Ceyhan - Cumhuriyet Mh.</td>\n",
       "    </tr>\n",
       "    <tr>\n",
       "      <th>3</th>\n",
       "      <td>3+1</td>\n",
       "      <td>125 m2</td>\n",
       "      <td>130.000 TL</td>\n",
       "      <td>Adana - Ceyhan - Namık Kemal Mh.</td>\n",
       "    </tr>\n",
       "    <tr>\n",
       "      <th>4</th>\n",
       "      <td>3+1</td>\n",
       "      <td>185 m2</td>\n",
       "      <td>11.500 TL</td>\n",
       "      <td>Adana - Ceyhan - Hürriyet Mh.</td>\n",
       "    </tr>\n",
       "  </tbody>\n",
       "</table>\n",
       "</div>"
      ],
      "text/plain": [
       "  Column6 Column10    Column13                          Column14\n",
       "                                                                \n",
       "0     2+1   130 m2    7.000 TL   Adana - Ceyhan - Cumhuriyet Mh.\n",
       "1     4+1   180 m2   12.000 TL   Adana - Ceyhan - Cumhuriyet Mh.\n",
       "2     2+1   115 m2    7.250 TL   Adana - Ceyhan - Cumhuriyet Mh.\n",
       "3     3+1   125 m2  130.000 TL  Adana - Ceyhan - Namık Kemal Mh.\n",
       "4     3+1   185 m2   11.500 TL     Adana - Ceyhan - Hürriyet Mh."
      ]
     },
     "execution_count": 97,
     "metadata": {},
     "output_type": "execute_result"
    }
   ],
   "source": [
    "## Drop colums that not necessary \n",
    "\n",
    "# Create a list of the columns_to_keep with column(6,10,13,14)\n",
    "columns_to_keep = [f\"Column{i}\" for i in [6, 10, 13, 14]]\n",
    "\n",
    "for column in df.columns:\n",
    "    if column not in columns_to_keep:\n",
    "        df = df.drop(column, axis=1)\n",
    "    \n",
    "df.head()"
   ]
  },
  {
   "cell_type": "code",
   "execution_count": 98,
   "id": "98d7e83b-0a06-443d-864a-9bbe3ac0b5c6",
   "metadata": {},
   "outputs": [
    {
     "data": {
      "text/html": [
       "<div>\n",
       "<style scoped>\n",
       "    .dataframe tbody tr th:only-of-type {\n",
       "        vertical-align: middle;\n",
       "    }\n",
       "\n",
       "    .dataframe tbody tr th {\n",
       "        vertical-align: top;\n",
       "    }\n",
       "\n",
       "    .dataframe thead th {\n",
       "        text-align: right;\n",
       "    }\n",
       "</style>\n",
       "<table border=\"1\" class=\"dataframe\">\n",
       "  <thead>\n",
       "    <tr style=\"text-align: right;\">\n",
       "      <th></th>\n",
       "      <th>room</th>\n",
       "      <th>m²</th>\n",
       "      <th>price</th>\n",
       "      <th>address</th>\n",
       "    </tr>\n",
       "    <tr>\n",
       "      <th></th>\n",
       "      <th></th>\n",
       "      <th></th>\n",
       "      <th></th>\n",
       "      <th></th>\n",
       "    </tr>\n",
       "  </thead>\n",
       "  <tbody>\n",
       "    <tr>\n",
       "      <th>0</th>\n",
       "      <td>2+1</td>\n",
       "      <td>130 m2</td>\n",
       "      <td>7.000 TL</td>\n",
       "      <td>Adana - Ceyhan - Cumhuriyet Mh.</td>\n",
       "    </tr>\n",
       "  </tbody>\n",
       "</table>\n",
       "</div>"
      ],
      "text/plain": [
       "  room      m²     price                          address\n",
       "                                                         \n",
       "0  2+1  130 m2  7.000 TL  Adana - Ceyhan - Cumhuriyet Mh."
      ]
     },
     "execution_count": 98,
     "metadata": {},
     "output_type": "execute_result"
    }
   ],
   "source": [
    "# rename column name\n",
    "df.rename(columns = {'Column6':  'room',   'Column10': 'm²',\n",
    "                     'Column13': 'price',  'Column14': 'address'}, inplace = True)    \n",
    "df.head(1)"
   ]
  },
  {
   "cell_type": "code",
   "execution_count": 99,
   "id": "e303f435-efca-4c04-9ac0-ad3f065261c3",
   "metadata": {},
   "outputs": [
    {
     "data": {
      "text/html": [
       "<div>\n",
       "<style scoped>\n",
       "    .dataframe tbody tr th:only-of-type {\n",
       "        vertical-align: middle;\n",
       "    }\n",
       "\n",
       "    .dataframe tbody tr th {\n",
       "        vertical-align: top;\n",
       "    }\n",
       "\n",
       "    .dataframe thead th {\n",
       "        text-align: right;\n",
       "    }\n",
       "</style>\n",
       "<table border=\"1\" class=\"dataframe\">\n",
       "  <thead>\n",
       "    <tr style=\"text-align: right;\">\n",
       "      <th></th>\n",
       "      <th>room</th>\n",
       "      <th>m²</th>\n",
       "      <th>price</th>\n",
       "      <th>address</th>\n",
       "    </tr>\n",
       "    <tr>\n",
       "      <th></th>\n",
       "      <th></th>\n",
       "      <th></th>\n",
       "      <th></th>\n",
       "      <th></th>\n",
       "    </tr>\n",
       "  </thead>\n",
       "  <tbody>\n",
       "    <tr>\n",
       "      <th>0</th>\n",
       "      <td>2+1</td>\n",
       "      <td>130</td>\n",
       "      <td>7.000</td>\n",
       "      <td>Adana - Ceyhan - Cumhuriyet</td>\n",
       "    </tr>\n",
       "    <tr>\n",
       "      <th>1</th>\n",
       "      <td>4+1</td>\n",
       "      <td>180</td>\n",
       "      <td>12.000</td>\n",
       "      <td>Adana - Ceyhan - Cumhuriyet</td>\n",
       "    </tr>\n",
       "    <tr>\n",
       "      <th>2</th>\n",
       "      <td>2+1</td>\n",
       "      <td>115</td>\n",
       "      <td>7.250</td>\n",
       "      <td>Adana - Ceyhan - Cumhuriyet</td>\n",
       "    </tr>\n",
       "    <tr>\n",
       "      <th>3</th>\n",
       "      <td>3+1</td>\n",
       "      <td>125</td>\n",
       "      <td>130.000</td>\n",
       "      <td>Adana - Ceyhan - Namık Kemal</td>\n",
       "    </tr>\n",
       "    <tr>\n",
       "      <th>4</th>\n",
       "      <td>3+1</td>\n",
       "      <td>185</td>\n",
       "      <td>11.500</td>\n",
       "      <td>Adana - Ceyhan - Hürriyet</td>\n",
       "    </tr>\n",
       "  </tbody>\n",
       "</table>\n",
       "</div>"
      ],
      "text/plain": [
       "  room   m²    price                       address\n",
       "                                                  \n",
       "0  2+1  130    7.000   Adana - Ceyhan - Cumhuriyet\n",
       "1  4+1  180   12.000   Adana - Ceyhan - Cumhuriyet\n",
       "2  2+1  115    7.250   Adana - Ceyhan - Cumhuriyet\n",
       "3  3+1  125  130.000  Adana - Ceyhan - Namık Kemal\n",
       "4  3+1  185   11.500     Adana - Ceyhan - Hürriyet"
      ]
     },
     "execution_count": 99,
     "metadata": {},
     "output_type": "execute_result"
    }
   ],
   "source": [
    "# Delete extentions of \"m²\", \"price\", \"address\"\n",
    "df[\"m²\"     ] = df[\"m²\"     ].str.slice(0, -3)\n",
    "df[\"price\"  ] = df[\"price\"  ].str.slice(0, -3)\n",
    "df[\"address\"] = df[\"address\"].str.slice(0, -4)\n",
    "\n",
    "df.head()"
   ]
  },
  {
   "cell_type": "code",
   "execution_count": 100,
   "id": "5487016c-4e25-45c5-b7af-0f8c72d30a23",
   "metadata": {},
   "outputs": [
    {
     "data": {
      "text/html": [
       "<div>\n",
       "<style scoped>\n",
       "    .dataframe tbody tr th:only-of-type {\n",
       "        vertical-align: middle;\n",
       "    }\n",
       "\n",
       "    .dataframe tbody tr th {\n",
       "        vertical-align: top;\n",
       "    }\n",
       "\n",
       "    .dataframe thead th {\n",
       "        text-align: right;\n",
       "    }\n",
       "</style>\n",
       "<table border=\"1\" class=\"dataframe\">\n",
       "  <thead>\n",
       "    <tr style=\"text-align: right;\">\n",
       "      <th></th>\n",
       "      <th>room</th>\n",
       "      <th>m²</th>\n",
       "      <th>price</th>\n",
       "      <th>address</th>\n",
       "      <th>city</th>\n",
       "      <th>district</th>\n",
       "      <th>neighborhood</th>\n",
       "    </tr>\n",
       "    <tr>\n",
       "      <th></th>\n",
       "      <th></th>\n",
       "      <th></th>\n",
       "      <th></th>\n",
       "      <th></th>\n",
       "      <th></th>\n",
       "      <th></th>\n",
       "      <th></th>\n",
       "    </tr>\n",
       "  </thead>\n",
       "  <tbody>\n",
       "    <tr>\n",
       "      <th>0</th>\n",
       "      <td>2+1</td>\n",
       "      <td>130</td>\n",
       "      <td>7.000</td>\n",
       "      <td>Adana - Ceyhan - Cumhuriyet</td>\n",
       "      <td>Adana</td>\n",
       "      <td>Ceyhan</td>\n",
       "      <td>Cumhuriyet</td>\n",
       "    </tr>\n",
       "    <tr>\n",
       "      <th>1</th>\n",
       "      <td>4+1</td>\n",
       "      <td>180</td>\n",
       "      <td>12.000</td>\n",
       "      <td>Adana - Ceyhan - Cumhuriyet</td>\n",
       "      <td>Adana</td>\n",
       "      <td>Ceyhan</td>\n",
       "      <td>Cumhuriyet</td>\n",
       "    </tr>\n",
       "    <tr>\n",
       "      <th>2</th>\n",
       "      <td>2+1</td>\n",
       "      <td>115</td>\n",
       "      <td>7.250</td>\n",
       "      <td>Adana - Ceyhan - Cumhuriyet</td>\n",
       "      <td>Adana</td>\n",
       "      <td>Ceyhan</td>\n",
       "      <td>Cumhuriyet</td>\n",
       "    </tr>\n",
       "    <tr>\n",
       "      <th>3</th>\n",
       "      <td>3+1</td>\n",
       "      <td>125</td>\n",
       "      <td>130.000</td>\n",
       "      <td>Adana - Ceyhan - Namık Kemal</td>\n",
       "      <td>Adana</td>\n",
       "      <td>Ceyhan</td>\n",
       "      <td>Namık Kemal</td>\n",
       "    </tr>\n",
       "    <tr>\n",
       "      <th>4</th>\n",
       "      <td>3+1</td>\n",
       "      <td>185</td>\n",
       "      <td>11.500</td>\n",
       "      <td>Adana - Ceyhan - Hürriyet</td>\n",
       "      <td>Adana</td>\n",
       "      <td>Ceyhan</td>\n",
       "      <td>Hürriyet</td>\n",
       "    </tr>\n",
       "  </tbody>\n",
       "</table>\n",
       "</div>"
      ],
      "text/plain": [
       "  room   m²    price                       address   city district  \\\n",
       "                                                                     \n",
       "0  2+1  130    7.000   Adana - Ceyhan - Cumhuriyet  Adana   Ceyhan   \n",
       "1  4+1  180   12.000   Adana - Ceyhan - Cumhuriyet  Adana   Ceyhan   \n",
       "2  2+1  115    7.250   Adana - Ceyhan - Cumhuriyet  Adana   Ceyhan   \n",
       "3  3+1  125  130.000  Adana - Ceyhan - Namık Kemal  Adana   Ceyhan   \n",
       "4  3+1  185   11.500     Adana - Ceyhan - Hürriyet  Adana   Ceyhan   \n",
       "\n",
       "  neighborhood  \n",
       "                \n",
       "0   Cumhuriyet  \n",
       "1   Cumhuriyet  \n",
       "2   Cumhuriyet  \n",
       "3  Namık Kemal  \n",
       "4     Hürriyet  "
      ]
     },
     "execution_count": 100,
     "metadata": {},
     "output_type": "execute_result"
    }
   ],
   "source": [
    "# Split \"address\" to tree column that \"city\", \"district\", \"neighborhood\"\n",
    "df = df.assign(\n",
    "    city         = df[\"address\"].str.split(\" - \").str[0],\n",
    "    district     = df[\"address\"].str.split(\" - \").str[1],\n",
    "    neighborhood = df[\"address\"].str.split(\" - \").str[2]\n",
    ")\n",
    "\n",
    "df.head()"
   ]
  },
  {
   "cell_type": "code",
   "execution_count": 101,
   "id": "e51f527d-4615-4824-abed-306a226a82a1",
   "metadata": {},
   "outputs": [],
   "source": [
    "df = df.drop(\"address\", axis=1)"
   ]
  },
  {
   "cell_type": "code",
   "execution_count": 110,
   "id": "9af37179-4c3b-46d2-b594-f75bb537a301",
   "metadata": {},
   "outputs": [
    {
     "name": "stdout",
     "output_type": "stream",
     "text": [
      "Number of rows that include Null values: 0\n"
     ]
    }
   ],
   "source": [
    "NaNdf = df[df.isnull().any(axis=1)]\n",
    "print(f\"Number of rows that include Null values: {len(NaNdf)}\")  # = 0 row"
   ]
  },
  {
   "cell_type": "code",
   "execution_count": null,
   "id": "498bf079-3263-4f3e-bd72-2c374c32ce04",
   "metadata": {},
   "outputs": [],
   "source": []
  },
  {
   "cell_type": "code",
   "execution_count": null,
   "id": "5a1aba49-278f-4bd1-b47d-cf6aa5523da6",
   "metadata": {
    "tags": []
   },
   "outputs": [],
   "source": [
    "# Convert the \"price\" and \"m²\" to integer.\n",
    "for i in range(len(df)):\n",
    "    df[\"price\"][i] = df[\"price\"][i].replace(\".\" , \"\") \n",
    "\n",
    "df[\"price\"] = pd.to_numeric(df[\"price\"])  # pandas to_numeric function convert string \"to int64\"\n",
    "df[\"price\"] = df[\"price\"].astype(int)     # astype int function convert int64 \"to int32\"\n",
    "\n",
    "df[\"m²\"] = df[\"m²\"].astype(int)\n",
    "\n",
    "# 2.way\n",
    "# but this code don't transform over 1.000.000 to float \n",
    "#df[\"price\"] = df[\"price\"].astype(float)\n",
    "#df[\"price\"] = df[\"price\"].astype(int)"
   ]
  },
  {
   "cell_type": "code",
   "execution_count": 121,
   "id": "92ac70d6-2942-4fb7-9b39-3e48954efda0",
   "metadata": {},
   "outputs": [
    {
     "name": "stdout",
     "output_type": "stream",
     "text": [
      "int32\n",
      "int32\n"
     ]
    }
   ],
   "source": [
    "print( df[\"m²\"].dtype )\n",
    "print( df[\"price\"].dtype )"
   ]
  },
  {
   "cell_type": "code",
   "execution_count": null,
   "id": "b21cb0cd-ad6c-4d4d-8a4f-926ed7b4caaa",
   "metadata": {},
   "outputs": [],
   "source": []
  },
  {
   "cell_type": "code",
   "execution_count": 123,
   "id": "6a11b264-c4d1-40e7-a747-af6cae772131",
   "metadata": {},
   "outputs": [],
   "source": [
    "# Drop outlier \"m²\" values.\n",
    "# Drop \"m²\" limited to between 300 and 20  for now...\n",
    "# if \"m²\">300 or \"m²\"<20 drop this row\n",
    "\n",
    "for i in range(len(df)):\n",
    "    if df[\"m²\"][i]>300 or df[\"m²\"][i]<20:\n",
    "        df = df.drop(i, axis=0)\n",
    "        \n",
    "# Reindex index number\n",
    "df[''] = np.arange(len(df))\n",
    "df = df.set_index('')"
   ]
  },
  {
   "cell_type": "code",
   "execution_count": 124,
   "id": "ef78d88e-8380-48aa-9272-6f33a7fe210d",
   "metadata": {},
   "outputs": [
    {
     "data": {
      "text/plain": [
       "<Axes: xlabel='m²'>"
      ]
     },
     "execution_count": 124,
     "metadata": {},
     "output_type": "execute_result"
    },
    {
     "data": {
      "image/png": "[encoded data removed]",
      "text/plain": [
       "<Figure size 640x480 with 1 Axes>"
      ]
     },
     "metadata": {},
     "output_type": "display_data"
    }
   ],
   "source": [
    "# Wiew m² outliars in seaborn boxplot\n",
    "\n",
    "m = df[\"m²\"]\n",
    "sns.boxplot(x = m)"
   ]
  },
  {
   "cell_type": "code",
   "execution_count": 127,
   "id": "9d1e4b42-d199-4ba8-a6bd-851b1e43287b",
   "metadata": {},
   "outputs": [
    {
     "data": {
      "text/html": [
       "<div>\n",
       "<style scoped>\n",
       "    .dataframe tbody tr th:only-of-type {\n",
       "        vertical-align: middle;\n",
       "    }\n",
       "\n",
       "    .dataframe tbody tr th {\n",
       "        vertical-align: top;\n",
       "    }\n",
       "\n",
       "    .dataframe thead th {\n",
       "        text-align: right;\n",
       "    }\n",
       "</style>\n",
       "<table border=\"1\" class=\"dataframe\">\n",
       "  <thead>\n",
       "    <tr style=\"text-align: right;\">\n",
       "      <th></th>\n",
       "      <th>count</th>\n",
       "      <th>mean</th>\n",
       "      <th>std</th>\n",
       "      <th>min</th>\n",
       "      <th>25%</th>\n",
       "      <th>50%</th>\n",
       "      <th>75%</th>\n",
       "      <th>max</th>\n",
       "    </tr>\n",
       "  </thead>\n",
       "  <tbody>\n",
       "    <tr>\n",
       "      <th>m²</th>\n",
       "      <td>32892.0</td>\n",
       "      <td>116.690533</td>\n",
       "      <td>4.799438e+01</td>\n",
       "      <td>2.000000e+01</td>\n",
       "      <td>80.0</td>\n",
       "      <td>110.0</td>\n",
       "      <td>145.0</td>\n",
       "      <td>300.0</td>\n",
       "    </tr>\n",
       "    <tr>\n",
       "      <th>price</th>\n",
       "      <td>32892.0</td>\n",
       "      <td>-4345.949836</td>\n",
       "      <td>9.366895e+06</td>\n",
       "      <td>-1.694967e+09</td>\n",
       "      <td>10000.0</td>\n",
       "      <td>13500.0</td>\n",
       "      <td>19000.0</td>\n",
       "      <td>50000000.0</td>\n",
       "    </tr>\n",
       "  </tbody>\n",
       "</table>\n",
       "</div>"
      ],
      "text/plain": [
       "         count         mean           std           min      25%      50%  \\\n",
       "m²     32892.0   116.690533  4.799438e+01  2.000000e+01     80.0    110.0   \n",
       "price  32892.0 -4345.949836  9.366895e+06 -1.694967e+09  10000.0  13500.0   \n",
       "\n",
       "           75%         max  \n",
       "m²       145.0       300.0  \n",
       "price  19000.0  50000000.0  "
      ]
     },
     "execution_count": 127,
     "metadata": {},
     "output_type": "execute_result"
    }
   ],
   "source": [
    "df.describe().T"
   ]
  },
  {
   "cell_type": "code",
   "execution_count": 128,
   "id": "919a4639-1174-4e74-b538-f622d2df6187",
   "metadata": {},
   "outputs": [
    {
     "data": {
      "text/plain": [
       "Int64Index([   51,   137,   211,   227,   228,   235,   256,   305,   310,\n",
       "              435,\n",
       "            ...\n",
       "            32397, 32484, 32592, 32687, 32692, 32698, 32703, 32718, 32760,\n",
       "            32815],\n",
       "           dtype='int64', name='', length=595)"
      ]
     },
     "execution_count": 128,
     "metadata": {},
     "output_type": "execute_result"
    }
   ],
   "source": [
    "# learn index of m² outliars\n",
    "outliars = df[\"m²\"] > (145 + (3/2*(145-80)))\n",
    "df[outliars].index"
   ]
  },
  {
   "cell_type": "code",
   "execution_count": 129,
   "id": "5afd9668-73b0-46f5-82d1-5ea50953f6e6",
   "metadata": {},
   "outputs": [],
   "source": [
    "# drop outlier \"m²\" values\n",
    "df = df.drop(df[outliars].index, axis=0)\n",
    "\n",
    "# Reindex index column. \n",
    "df[''] = np.arange(len(df))\n",
    "df = df.set_index('')"
   ]
  },
  {
   "cell_type": "code",
   "execution_count": null,
   "id": "a82fe8be-6617-41ad-b426-d7d0c9422b55",
   "metadata": {},
   "outputs": [],
   "source": []
  },
  {
   "cell_type": "code",
   "execution_count": 131,
   "id": "30b9c9e8-bf7b-4bbc-9ccb-dd309467ac60",
   "metadata": {},
   "outputs": [
    {
     "data": {
      "text/plain": [
       "<Axes: xlabel='m²'>"
      ]
     },
     "execution_count": 131,
     "metadata": {},
     "output_type": "execute_result"
    },
    {
     "data": {
      "image/png": "[encoded data removed]",
      "text/plain": [
       "<Figure size 640x480 with 1 Axes>"
      ]
     },
     "metadata": {},
     "output_type": "display_data"
    }
   ],
   "source": [
    "# wiew outliars m² in seaborn boxplot again.\n",
    "m = df[\"m²\"]\n",
    "sns.boxplot(x = m)"
   ]
  },
  {
   "cell_type": "code",
   "execution_count": 132,
   "id": "20cdee7f-d254-44a4-bb44-a736f02a7e74",
   "metadata": {},
   "outputs": [
    {
     "data": {
      "text/html": [
       "<div>\n",
       "<style scoped>\n",
       "    .dataframe tbody tr th:only-of-type {\n",
       "        vertical-align: middle;\n",
       "    }\n",
       "\n",
       "    .dataframe tbody tr th {\n",
       "        vertical-align: top;\n",
       "    }\n",
       "\n",
       "    .dataframe thead th {\n",
       "        text-align: right;\n",
       "    }\n",
       "</style>\n",
       "<table border=\"1\" class=\"dataframe\">\n",
       "  <thead>\n",
       "    <tr style=\"text-align: right;\">\n",
       "      <th></th>\n",
       "      <th>count</th>\n",
       "      <th>mean</th>\n",
       "      <th>std</th>\n",
       "      <th>min</th>\n",
       "      <th>25%</th>\n",
       "      <th>50%</th>\n",
       "      <th>75%</th>\n",
       "      <th>max</th>\n",
       "    </tr>\n",
       "  </thead>\n",
       "  <tbody>\n",
       "    <tr>\n",
       "      <th>m²</th>\n",
       "      <td>32297.0</td>\n",
       "      <td>113.922532</td>\n",
       "      <td>4.376906e+01</td>\n",
       "      <td>2.000000e+01</td>\n",
       "      <td>80.0</td>\n",
       "      <td>110.0</td>\n",
       "      <td>140.0</td>\n",
       "      <td>242.0</td>\n",
       "    </tr>\n",
       "    <tr>\n",
       "      <th>price</th>\n",
       "      <td>32297.0</td>\n",
       "      <td>-8542.597362</td>\n",
       "      <td>9.447729e+06</td>\n",
       "      <td>-1.694967e+09</td>\n",
       "      <td>10000.0</td>\n",
       "      <td>13500.0</td>\n",
       "      <td>18500.0</td>\n",
       "      <td>49000000.0</td>\n",
       "    </tr>\n",
       "  </tbody>\n",
       "</table>\n",
       "</div>"
      ],
      "text/plain": [
       "         count         mean           std           min      25%      50%  \\\n",
       "m²     32297.0   113.922532  4.376906e+01  2.000000e+01     80.0    110.0   \n",
       "price  32297.0 -8542.597362  9.447729e+06 -1.694967e+09  10000.0  13500.0   \n",
       "\n",
       "           75%         max  \n",
       "m²       140.0       242.0  \n",
       "price  18500.0  49000000.0  "
      ]
     },
     "execution_count": 132,
     "metadata": {},
     "output_type": "execute_result"
    }
   ],
   "source": [
    "df.describe().T"
   ]
  },
  {
   "cell_type": "code",
   "execution_count": 133,
   "id": "218d877c-ce21-40b3-a01c-be702d3efb97",
   "metadata": {},
   "outputs": [],
   "source": [
    "# learn index of m² outliars\n",
    "outliars = df[\"m²\"] > (140 + (3/2*(140-80)))\n",
    "\n",
    "# drop outliers \"m²\" again.\n",
    "df = df.drop(df[outliars].index, axis=0)\n",
    "\n",
    "df[''] = np.arange(len(df))\n",
    "df = df.set_index('')"
   ]
  },
  {
   "cell_type": "code",
   "execution_count": 134,
   "id": "3dd1743c-382a-4dc1-8160-0fff1b5af24a",
   "metadata": {},
   "outputs": [
    {
     "data": {
      "text/plain": [
       "<Axes: xlabel='m²'>"
      ]
     },
     "execution_count": 134,
     "metadata": {},
     "output_type": "execute_result"
    },
    {
     "data": {
      "image/png": "[encoded data removed]",
      "text/plain": [
       "<Figure size 640x480 with 1 Axes>"
      ]
     },
     "metadata": {},
     "output_type": "display_data"
    }
   ],
   "source": [
    "# wiew m² outliars in seaborn boxplot \n",
    "m = df[\"m²\"]\n",
    "sns.boxplot(x = m)"
   ]
  },
  {
   "cell_type": "code",
   "execution_count": null,
   "id": "17260c52-e868-45cb-93d2-6a586acc544c",
   "metadata": {},
   "outputs": [],
   "source": []
  },
  {
   "cell_type": "code",
   "execution_count": 135,
   "id": "1c8989c0-cd79-4920-a7d2-48acccc3c161",
   "metadata": {},
   "outputs": [],
   "source": [
    "# Deleting outlier \"price\" values.\n",
    "# Drop outlier \"price\" values between 2000 and 75000 for now...\n",
    "# if \"price\">75000 or \"price\"<2000 drop that row.\n",
    "\n",
    "for i in range(len(df)):\n",
    "    if df[\"price\"][i]>75000 or df[\"price\"][i]<2000:\n",
    "        df = df.drop(i, axis=0)\n",
    "        \n",
    "df[''] = np.arange(len(df))\n",
    "df = df.set_index('')"
   ]
  },
  {
   "cell_type": "code",
   "execution_count": 136,
   "id": "d9bd99eb-9260-4a2e-a74b-8e52a48c0a8b",
   "metadata": {},
   "outputs": [
    {
     "data": {
      "text/html": [
       "<div>\n",
       "<style scoped>\n",
       "    .dataframe tbody tr th:only-of-type {\n",
       "        vertical-align: middle;\n",
       "    }\n",
       "\n",
       "    .dataframe tbody tr th {\n",
       "        vertical-align: top;\n",
       "    }\n",
       "\n",
       "    .dataframe thead th {\n",
       "        text-align: right;\n",
       "    }\n",
       "</style>\n",
       "<table border=\"1\" class=\"dataframe\">\n",
       "  <thead>\n",
       "    <tr style=\"text-align: right;\">\n",
       "      <th></th>\n",
       "      <th>count</th>\n",
       "      <th>mean</th>\n",
       "      <th>std</th>\n",
       "      <th>min</th>\n",
       "      <th>25%</th>\n",
       "      <th>50%</th>\n",
       "      <th>75%</th>\n",
       "      <th>max</th>\n",
       "    </tr>\n",
       "  </thead>\n",
       "  <tbody>\n",
       "    <tr>\n",
       "      <th>m²</th>\n",
       "      <td>29861.0</td>\n",
       "      <td>113.667057</td>\n",
       "      <td>41.514222</td>\n",
       "      <td>20.0</td>\n",
       "      <td>85.0</td>\n",
       "      <td>110.0</td>\n",
       "      <td>140.0</td>\n",
       "      <td>230.0</td>\n",
       "    </tr>\n",
       "    <tr>\n",
       "      <th>price</th>\n",
       "      <td>29861.0</td>\n",
       "      <td>15412.878169</td>\n",
       "      <td>9355.479629</td>\n",
       "      <td>2000.0</td>\n",
       "      <td>10000.0</td>\n",
       "      <td>13500.0</td>\n",
       "      <td>18000.0</td>\n",
       "      <td>75000.0</td>\n",
       "    </tr>\n",
       "  </tbody>\n",
       "</table>\n",
       "</div>"
      ],
      "text/plain": [
       "         count          mean          std     min      25%      50%      75%  \\\n",
       "m²     29861.0    113.667057    41.514222    20.0     85.0    110.0    140.0   \n",
       "price  29861.0  15412.878169  9355.479629  2000.0  10000.0  13500.0  18000.0   \n",
       "\n",
       "           max  \n",
       "m²       230.0  \n",
       "price  75000.0  "
      ]
     },
     "execution_count": 136,
     "metadata": {},
     "output_type": "execute_result"
    }
   ],
   "source": [
    "df.describe().T"
   ]
  },
  {
   "cell_type": "code",
   "execution_count": null,
   "id": "444096c1-e3b3-4fdd-8cb4-f793cf7da0f2",
   "metadata": {},
   "outputs": [],
   "source": []
  },
  {
   "cell_type": "code",
   "execution_count": 137,
   "id": "6d2b5bb7-0d79-46de-a796-f5723addc4da",
   "metadata": {},
   "outputs": [
    {
     "data": {
      "text/html": [
       "<div>\n",
       "<style scoped>\n",
       "    .dataframe tbody tr th:only-of-type {\n",
       "        vertical-align: middle;\n",
       "    }\n",
       "\n",
       "    .dataframe tbody tr th {\n",
       "        vertical-align: top;\n",
       "    }\n",
       "\n",
       "    .dataframe thead th {\n",
       "        text-align: right;\n",
       "    }\n",
       "</style>\n",
       "<table border=\"1\" class=\"dataframe\">\n",
       "  <thead>\n",
       "    <tr style=\"text-align: right;\">\n",
       "      <th></th>\n",
       "      <th>city</th>\n",
       "      <th>district</th>\n",
       "      <th>neighborhood</th>\n",
       "      <th>room</th>\n",
       "      <th>m²</th>\n",
       "      <th>price</th>\n",
       "    </tr>\n",
       "    <tr>\n",
       "      <th></th>\n",
       "      <th></th>\n",
       "      <th></th>\n",
       "      <th></th>\n",
       "      <th></th>\n",
       "      <th></th>\n",
       "      <th></th>\n",
       "    </tr>\n",
       "  </thead>\n",
       "  <tbody>\n",
       "    <tr>\n",
       "      <th>0</th>\n",
       "      <td>Adana</td>\n",
       "      <td>Ceyhan</td>\n",
       "      <td>Cumhuriyet</td>\n",
       "      <td>2+1</td>\n",
       "      <td>130</td>\n",
       "      <td>7000</td>\n",
       "    </tr>\n",
       "    <tr>\n",
       "      <th>1</th>\n",
       "      <td>Adana</td>\n",
       "      <td>Ceyhan</td>\n",
       "      <td>Cumhuriyet</td>\n",
       "      <td>4+1</td>\n",
       "      <td>180</td>\n",
       "      <td>12000</td>\n",
       "    </tr>\n",
       "  </tbody>\n",
       "</table>\n",
       "</div>"
      ],
      "text/plain": [
       "    city district neighborhood room   m²  price\n",
       "                                               \n",
       "0  Adana   Ceyhan   Cumhuriyet  2+1  130   7000\n",
       "1  Adana   Ceyhan   Cumhuriyet  4+1  180  12000"
      ]
     },
     "execution_count": 137,
     "metadata": {},
     "output_type": "execute_result"
    }
   ],
   "source": [
    "# sort columns\n",
    "df = df.reindex([\"city\", \"district\", \"neighborhood\", \"room\", \"m²\", \"price\"], axis=1)\n",
    "df.head(2)"
   ]
  },
  {
   "cell_type": "code",
   "execution_count": 139,
   "id": "231922ea-ba6f-48f3-b310-a5af27399026",
   "metadata": {},
   "outputs": [],
   "source": [
    "# replace \"Stüdyo\" to \"1+0\"\n",
    "for i in range(len(df)):\n",
    "    if df[\"room\"][i]==\"Stüdyo\":\n",
    "        df[\"room\"][i]=\"1+0\""
   ]
  },
  {
   "cell_type": "code",
   "execution_count": 140,
   "id": "0e74f601-f229-46b9-898c-feb74e9e402b",
   "metadata": {},
   "outputs": [],
   "source": [
    "# Drop room numbers that not important like \"2.5+1\", \"5+1\", \"2+0\"\n",
    "for i in range(len(df)):\n",
    "    if df[\"room\"][i] not in [\"1+0\", \"1+1\", \"2+1\", \"3+1\", \"4+1\"]:\n",
    "        df = df.drop(i, axis=0)\n",
    "        \n",
    "df[''] = np.arange(len(df))\n",
    "df = df.set_index('')"
   ]
  },
  {
   "cell_type": "code",
   "execution_count": 148,
   "id": "731c223a-c85d-4607-9a8d-17eafa41008b",
   "metadata": {},
   "outputs": [
    {
     "data": {
      "text/plain": [
       "28577"
      ]
     },
     "execution_count": 148,
     "metadata": {},
     "output_type": "execute_result"
    }
   ],
   "source": [
    "len(df)"
   ]
  },
  {
   "cell_type": "code",
   "execution_count": 145,
   "id": "30f9973c-0e23-46de-b4f9-b3c426014d82",
   "metadata": {},
   "outputs": [],
   "source": [
    "df2 = df.copy()"
   ]
  },
  {
   "cell_type": "code",
   "execution_count": null,
   "id": "aa6ef521-c82b-468c-8e5d-a96683e3b8a1",
   "metadata": {},
   "outputs": [],
   "source": []
  },
  {
   "cell_type": "markdown",
   "id": "8677039f-a4fb-47eb-9876-0cb67cbaa205",
   "metadata": {},
   "source": [
    "### Cleaning some outlier 'm²' values"
   ]
  },
  {
   "cell_type": "code",
   "execution_count": 146,
   "id": "4d103ca0-c256-4db8-b92d-f9f27bc18260",
   "metadata": {},
   "outputs": [
    {
     "data": {
      "text/plain": [
       "count    555.000000\n",
       "mean      44.863063\n",
       "std       18.345540\n",
       "min       20.000000\n",
       "25%       35.000000\n",
       "50%       40.000000\n",
       "75%       54.000000\n",
       "max      220.000000\n",
       "Name: m², dtype: float64"
      ]
     },
     "execution_count": 146,
     "metadata": {},
     "output_type": "execute_result"
    },
    {
     "data": {
      "image/png": "[encoded data removed]",
      "text/plain": [
       "<Figure size 640x480 with 1 Axes>"
      ]
     },
     "metadata": {},
     "output_type": "display_data"
    }
   ],
   "source": [
    "# wiew and drop outliar \"m²\" for \"1+0\" room type\n",
    "room0 = df[df[\"room\"]==\"1+0\"]\n",
    "\n",
    "sns.boxplot(x = room0[\"m²\"])\n",
    "room0[\"m²\"].describe()"
   ]
  },
  {
   "cell_type": "code",
   "execution_count": 147,
   "id": "7eb69587-7a05-4051-8577-f601bc91bf66",
   "metadata": {},
   "outputs": [
    {
     "data": {
      "text/plain": [
       "Int64Index([ 1261,  5982,  6089, 11209, 11575, 11576, 12986, 16249, 16250,\n",
       "            16666, 17482, 17504, 17546, 18290, 20029, 20423, 22904, 22906,\n",
       "            24775, 26840, 28142],\n",
       "           dtype='int64', name='')"
      ]
     },
     "execution_count": 147,
     "metadata": {},
     "output_type": "execute_result"
    }
   ],
   "source": [
    "outliars = room0[\"m²\"]> 54 + 3/2*(54-35)\n",
    "room0[outliars].index"
   ]
  },
  {
   "cell_type": "code",
   "execution_count": 149,
   "id": "0ba30527-8c58-40e6-b031-0030334cc4cc",
   "metadata": {},
   "outputs": [],
   "source": [
    "df = df.drop(room0[outliars].index, axis=0)\n",
    "df[\"\"]= np.arange(len(df))\n",
    "df = df.set_index(\"\")"
   ]
  },
  {
   "cell_type": "code",
   "execution_count": null,
   "id": "cbd82162-9419-4f3c-8819-e1d89d7c5619",
   "metadata": {},
   "outputs": [],
   "source": []
  },
  {
   "cell_type": "code",
   "execution_count": 150,
   "id": "8566957a-3b29-48b8-a14c-3b21204a9dac",
   "metadata": {},
   "outputs": [
    {
     "data": {
      "text/plain": [
       "count    5463.000000\n",
       "mean       66.308805\n",
       "std        16.355970\n",
       "min        20.000000\n",
       "25%        55.000000\n",
       "50%        65.000000\n",
       "75%        75.000000\n",
       "max       225.000000\n",
       "Name: m², dtype: float64"
      ]
     },
     "execution_count": 150,
     "metadata": {},
     "output_type": "execute_result"
    },
    {
     "data": {
      "image/png": "[encoded data removed]",
      "text/plain": [
       "<Figure size 640x480 with 1 Axes>"
      ]
     },
     "metadata": {},
     "output_type": "display_data"
    }
   ],
   "source": [
    "# wiew and drop outliar \"m²\" for \"1+1\" room type\n",
    "room1 = df[df[\"room\"]==\"1+1\"]\n",
    "\n",
    "sns.boxplot(x = room1[\"m²\"])\n",
    "room1[\"m²\"].describe()"
   ]
  },
  {
   "cell_type": "code",
   "execution_count": 152,
   "id": "e9cb6fb7-d546-4eb3-8545-86c70ee2c465",
   "metadata": {},
   "outputs": [],
   "source": [
    "outliars = room1[\"m²\"] > 75 + 3/2*(75-55)\n",
    "\n",
    "df = df.drop(room1[outliars].index, axis=0)\n",
    "df[\"\"]= np.arange(len(df))\n",
    "df = df.set_index(\"\")"
   ]
  },
  {
   "cell_type": "code",
   "execution_count": 153,
   "id": "3a32c085-9fb8-4d6d-b038-961b22b84890",
   "metadata": {},
   "outputs": [],
   "source": [
    "outliars = room1[\"m²\"] < 55 - 3/2*(75-55)\n",
    "\n",
    "df = df.drop(room1[outliars].index, axis=0)\n",
    "df[\"\"]= np.arange(len(df))\n",
    "df = df.set_index(\"\")"
   ]
  },
  {
   "cell_type": "code",
   "execution_count": null,
   "id": "02d29687-f024-48bd-9dd0-f2008db71dae",
   "metadata": {},
   "outputs": [],
   "source": []
  },
  {
   "cell_type": "code",
   "execution_count": 156,
   "id": "ac86e0a5-404c-4955-85f1-258c663aa692",
   "metadata": {},
   "outputs": [
    {
     "data": {
      "text/plain": [
       "count    10531.000000\n",
       "mean       101.443358\n",
       "std         20.840832\n",
       "min         30.000000\n",
       "25%         90.000000\n",
       "50%        100.000000\n",
       "75%        110.000000\n",
       "max        230.000000\n",
       "Name: m², dtype: float64"
      ]
     },
     "execution_count": 156,
     "metadata": {},
     "output_type": "execute_result"
    },
    {
     "data": {
      "image/png": "[encoded data removed]",
      "text/plain": [
       "<Figure size 640x480 with 1 Axes>"
      ]
     },
     "metadata": {},
     "output_type": "display_data"
    }
   ],
   "source": [
    "# wiew and drop outliar \"m²\" for \"2+1\" room type\n",
    "room2 = df[df[\"room\"]==\"2+1\"]\n",
    "\n",
    "sns.boxplot(x = room2[\"m²\"])\n",
    "room2[\"m²\"].describe()"
   ]
  },
  {
   "cell_type": "code",
   "execution_count": 157,
   "id": "2054ad39-4cca-480d-b59e-1fd86db4bab0",
   "metadata": {},
   "outputs": [],
   "source": [
    "outliars = room2[\"m²\"] < 90-3/2*(110-90)\n",
    "\n",
    "df = df.drop(room2[outliars].index, axis=0)\n",
    "df[\"\"]= np.arange(len(df))\n",
    "df = df.set_index(\"\")"
   ]
  },
  {
   "cell_type": "code",
   "execution_count": 171,
   "id": "ae22804c-08b4-4f4b-afec-c0e911831837",
   "metadata": {},
   "outputs": [],
   "source": [
    "outliars2 = room2[\"m²\"] > 110+2*(110-90)\n",
    "\n",
    "df = df.drop(room2[outliars2].index, axis=0)\n",
    "df[\"\"]= np.arange(len(df))\n",
    "df = df.set_index(\"\")"
   ]
  },
  {
   "cell_type": "code",
   "execution_count": null,
   "id": "b4255795-6673-4296-87bf-d38ee0786caa",
   "metadata": {},
   "outputs": [],
   "source": []
  },
  {
   "cell_type": "code",
   "execution_count": 173,
   "id": "5fbb690d-01f0-4dc5-97c9-89999dde3b3e",
   "metadata": {},
   "outputs": [
    {
     "data": {
      "text/plain": [
       "count    10592.000000\n",
       "mean       143.286443\n",
       "std         24.122056\n",
       "min         20.000000\n",
       "25%        125.000000\n",
       "50%        140.000000\n",
       "75%        160.000000\n",
       "max        230.000000\n",
       "Name: m², dtype: float64"
      ]
     },
     "execution_count": 173,
     "metadata": {},
     "output_type": "execute_result"
    },
    {
     "data": {
      "image/png": "[encoded data removed]",
      "text/plain": [
       "<Figure size 640x480 with 1 Axes>"
      ]
     },
     "metadata": {},
     "output_type": "display_data"
    }
   ],
   "source": [
    "# wiew and drop outliar \"m²\" for \"3+1\" room type\n",
    "room3 = df[df[\"room\"]==\"3+1\"]\n",
    "\n",
    "sns.boxplot(x = room3[\"m²\"])\n",
    "room3[\"m²\"].describe()"
   ]
  },
  {
   "cell_type": "code",
   "execution_count": 174,
   "id": "bd5deb39-ec5d-4d41-ae7a-0b07cbcdff0f",
   "metadata": {},
   "outputs": [],
   "source": [
    "outliars = room3[\"m²\"] > 160+3/2*(160-125)\n",
    "\n",
    "df = df.drop(room3[outliars].index, axis=0)\n",
    "df[\"\"]= np.arange(len(df))\n",
    "df = df.set_index(\"\")"
   ]
  },
  {
   "cell_type": "code",
   "execution_count": 177,
   "id": "7f8ff5bd-dba4-4d35-9b0a-c7e044759632",
   "metadata": {},
   "outputs": [],
   "source": [
    "outliars2 = room3[\"m²\"] < 125-3/2*(160-125)\n",
    "\n",
    "df = df.drop(room3[outliars2].index, axis=0)\n",
    "df[\"\"]= np.arange(len(df))\n",
    "df = df.set_index(\"\")"
   ]
  },
  {
   "cell_type": "code",
   "execution_count": null,
   "id": "b7ac8bdc-57fb-4775-88ad-f47f69c6761e",
   "metadata": {},
   "outputs": [],
   "source": []
  },
  {
   "cell_type": "code",
   "execution_count": 179,
   "id": "8854927c-bad4-49c2-a4c9-fe3adc891cfb",
   "metadata": {},
   "outputs": [
    {
     "data": {
      "text/plain": [
       "count    1403.000000\n",
       "mean      185.924448\n",
       "std        26.686135\n",
       "min        35.000000\n",
       "25%       170.000000\n",
       "50%       185.000000\n",
       "75%       205.000000\n",
       "max       230.000000\n",
       "Name: m², dtype: float64"
      ]
     },
     "execution_count": 179,
     "metadata": {},
     "output_type": "execute_result"
    },
    {
     "data": {
      "image/png": "[encoded data removed]",
      "text/plain": [
       "<Figure size 640x480 with 1 Axes>"
      ]
     },
     "metadata": {},
     "output_type": "display_data"
    }
   ],
   "source": [
    "# wiew and drop outliar \"m²\" for \"4+1\" room type\n",
    "room4 = df[df[\"room\"]==\"4+1\"]\n",
    "\n",
    "sns.boxplot(x = room4[\"m²\"])\n",
    "room4[\"m²\"].describe()"
   ]
  },
  {
   "cell_type": "code",
   "execution_count": 180,
   "id": "b7f3e729-8e53-47da-83a4-189530fc2c25",
   "metadata": {},
   "outputs": [],
   "source": [
    "outliars = room4[\"m²\"] < 170-3/2*(205-170)\n",
    "\n",
    "df = df.drop(room4[outliars].index, axis=0)\n",
    "df[\"\"]= np.arange(len(df))\n",
    "df = df.set_index(\"\")"
   ]
  },
  {
   "cell_type": "code",
   "execution_count": 182,
   "id": "243bb435-de7e-47ab-abfd-ff92b2aebd8e",
   "metadata": {},
   "outputs": [
    {
     "data": {
      "text/plain": [
       "27999"
      ]
     },
     "execution_count": 182,
     "metadata": {},
     "output_type": "execute_result"
    }
   ],
   "source": [
    "len(df)"
   ]
  },
  {
   "cell_type": "code",
   "execution_count": null,
   "id": "fd001bb5-8931-409a-8bf9-69377df9af8e",
   "metadata": {},
   "outputs": [],
   "source": []
  },
  {
   "cell_type": "markdown",
   "id": "8697ddd9-37d7-466c-ba79-b2226b916d78",
   "metadata": {},
   "source": [
    "### Cleaning some outlier \"prices\""
   ]
  },
  {
   "cell_type": "code",
   "execution_count": 183,
   "id": "f50a3921-3fa3-4c23-bd0d-a027806685f9",
   "metadata": {},
   "outputs": [
    {
     "data": {
      "text/plain": [
       "count      534.000000\n",
       "mean      9430.335206\n",
       "std       5835.686519\n",
       "min       2000.000000\n",
       "25%       5000.000000\n",
       "50%       8000.000000\n",
       "75%      12000.000000\n",
       "max      50000.000000\n",
       "Name: price, dtype: float64"
      ]
     },
     "execution_count": 183,
     "metadata": {},
     "output_type": "execute_result"
    },
    {
     "data": {
      "image/png": "[encoded data removed]",
      "text/plain": [
       "<Figure size 640x480 with 1 Axes>"
      ]
     },
     "metadata": {},
     "output_type": "display_data"
    }
   ],
   "source": [
    "# wiew and drop \"price\" outliars for \"1+0\" room type\n",
    "room0 = df[df[\"room\"]==\"1+0\"]\n",
    "price0 = room0[\"price\"]\n",
    "\n",
    "sns.boxplot(x = price0)\n",
    "price0.describe()"
   ]
  },
  {
   "cell_type": "code",
   "execution_count": 184,
   "id": "e86c850c-ac39-4050-b803-d23d5848adc1",
   "metadata": {},
   "outputs": [],
   "source": [
    "outliars = price0[price0>12000+3/2*(12000-5000)].index\n",
    "\n",
    "df = df.drop(outliars, axis=0)\n",
    "df[\"\"] = np.arange(len(df))\n",
    "df = df.set_index(\"\")"
   ]
  },
  {
   "cell_type": "code",
   "execution_count": null,
   "id": "6f1990be-76c9-42ed-9440-26a3eceb1aa5",
   "metadata": {},
   "outputs": [],
   "source": []
  },
  {
   "cell_type": "code",
   "execution_count": 189,
   "id": "381588fa-d1b2-4088-acee-5020f7b58e39",
   "metadata": {},
   "outputs": [
    {
     "data": {
      "text/plain": [
       "count     5331.000000\n",
       "mean     12565.612455\n",
       "std       7445.239826\n",
       "min       2000.000000\n",
       "25%       8000.000000\n",
       "50%      11000.000000\n",
       "75%      15000.000000\n",
       "max      75000.000000\n",
       "Name: price, dtype: float64"
      ]
     },
     "execution_count": 189,
     "metadata": {},
     "output_type": "execute_result"
    },
    {
     "data": {
      "image/png": "[encoded data removed]",
      "text/plain": [
       "<Figure size 640x480 with 1 Axes>"
      ]
     },
     "metadata": {},
     "output_type": "display_data"
    }
   ],
   "source": [
    "# wiew and drop \"price\" outliars for \"1+1\" room type\n",
    "room1 = df[df[\"room\"]==\"1+1\"]\n",
    "price1 = room1[\"price\"]\n",
    "\n",
    "sns.boxplot(x = price1)\n",
    "price1.describe()"
   ]
  },
  {
   "cell_type": "code",
   "execution_count": 190,
   "id": "79c0360a-3c2f-44a3-a3b5-bd7e777f31b7",
   "metadata": {},
   "outputs": [],
   "source": [
    "outliars = price1[price1>15000+5/2*(15000-8000)].index\n",
    "\n",
    "df = df.drop(outliars, axis=0)\n",
    "df[\"\"] = np.arange(len(df))\n",
    "df = df.set_index(\"\")"
   ]
  },
  {
   "cell_type": "code",
   "execution_count": null,
   "id": "cf11be46-5322-4d91-9e63-5e7f00675715",
   "metadata": {},
   "outputs": [],
   "source": []
  },
  {
   "cell_type": "code",
   "execution_count": 192,
   "id": "245cd277-08c8-458a-9aca-95d4a8f37ca7",
   "metadata": {},
   "outputs": [
    {
     "data": {
      "text/plain": [
       "count    10249.000000\n",
       "mean     15266.228022\n",
       "std       8703.925552\n",
       "min       2000.000000\n",
       "25%      10000.000000\n",
       "50%      13500.000000\n",
       "75%      17500.000000\n",
       "max      75000.000000\n",
       "Name: price, dtype: float64"
      ]
     },
     "execution_count": 192,
     "metadata": {},
     "output_type": "execute_result"
    },
    {
     "data": {
      "image/png": "[encoded data removed]",
      "text/plain": [
       "<Figure size 640x480 with 1 Axes>"
      ]
     },
     "metadata": {},
     "output_type": "display_data"
    }
   ],
   "source": [
    "# wiew and drop \"price\" outliars for \"2+1\" room type\n",
    "room2 = df[df[\"room\"]==\"2+1\"]\n",
    "price2 = room2[\"price\"]\n",
    "\n",
    "sns.boxplot(x = price2)\n",
    "price2.describe()"
   ]
  },
  {
   "cell_type": "code",
   "execution_count": 198,
   "id": "92e5f1d7-79de-4612-9f61-2ef27035768d",
   "metadata": {},
   "outputs": [],
   "source": [
    "outliars = price2[price2>17500+5/2*(17500-10000)].index\n",
    "\n",
    "df = df.drop(outliars, axis=0)\n",
    "df[\"\"] = np.arange(len(df))\n",
    "df = df.set_index(\"\")"
   ]
  },
  {
   "cell_type": "code",
   "execution_count": null,
   "id": "ebee95b8-c8d3-48d5-891d-806ecc896a5a",
   "metadata": {},
   "outputs": [],
   "source": []
  },
  {
   "cell_type": "code",
   "execution_count": 200,
   "id": "c4b09627-3262-4503-a7b8-7ab6ffc79ff1",
   "metadata": {},
   "outputs": [
    {
     "data": {
      "text/plain": [
       "count    10491.000000\n",
       "mean     16238.365361\n",
       "std       9288.175477\n",
       "min       2000.000000\n",
       "25%      11000.000000\n",
       "50%      14000.000000\n",
       "75%      18500.000000\n",
       "max      75000.000000\n",
       "Name: price, dtype: float64"
      ]
     },
     "execution_count": 200,
     "metadata": {},
     "output_type": "execute_result"
    },
    {
     "data": {
      "image/png": "[encoded data removed]",
      "text/plain": [
       "<Figure size 640x480 with 1 Axes>"
      ]
     },
     "metadata": {},
     "output_type": "display_data"
    }
   ],
   "source": [
    "# wiew and drop \"price\" outliars for \"3+1\" room type\n",
    "room3 = df[df[\"room\"]==\"3+1\"]\n",
    "price3 = room3[\"price\"]\n",
    "\n",
    "sns.boxplot(x = price3)\n",
    "price3.describe()"
   ]
  },
  {
   "cell_type": "code",
   "execution_count": 204,
   "id": "e7c21588-5dcf-4dc8-b1bd-d20fb42db11b",
   "metadata": {},
   "outputs": [],
   "source": [
    "outliars = price3[price3>18500+3*(18500-11000)].index\n",
    "\n",
    "df = df.drop(outliars, axis=0)\n",
    "df[\"\"] = np.arange(len(df))\n",
    "df = df.set_index(\"\")"
   ]
  },
  {
   "cell_type": "code",
   "execution_count": null,
   "id": "57bf5210-de80-47ed-a10c-e27794fe22b3",
   "metadata": {},
   "outputs": [],
   "source": []
  },
  {
   "cell_type": "code",
   "execution_count": 206,
   "id": "4651a6cb-166c-4f75-8118-d7904ae405d9",
   "metadata": {},
   "outputs": [
    {
     "data": {
      "text/plain": [
       "count     1394.000000\n",
       "mean     21100.227403\n",
       "std      11408.409869\n",
       "min       2000.000000\n",
       "25%      14000.000000\n",
       "50%      18500.000000\n",
       "75%      25000.000000\n",
       "max      75000.000000\n",
       "Name: price, dtype: float64"
      ]
     },
     "execution_count": 206,
     "metadata": {},
     "output_type": "execute_result"
    },
    {
     "data": {
      "image/png": "[encoded data removed]",
      "text/plain": [
       "<Figure size 640x480 with 1 Axes>"
      ]
     },
     "metadata": {},
     "output_type": "display_data"
    }
   ],
   "source": [
    "# wiew and drop \"price\" outliars for \"4+1\" room type\n",
    "room4 = df[df[\"room\"]==\"4+1\"]\n",
    "price4 = room4[\"price\"]\n",
    "\n",
    "sns.boxplot(x = price4)\n",
    "price4.describe()"
   ]
  },
  {
   "cell_type": "code",
   "execution_count": 207,
   "id": "6f48e232-909f-4ef0-b12e-2942b1e815ef",
   "metadata": {},
   "outputs": [],
   "source": [
    "outliars = price4[price4>25000+3*(25000-14000)].index\n",
    "\n",
    "df = df.drop(outliars, axis=0)\n",
    "df[\"\"] = np.arange(len(df))\n",
    "df = df.set_index(\"\")"
   ]
  },
  {
   "cell_type": "code",
   "execution_count": 209,
   "id": "d2695c53-28c5-4e3b-9c82-9d5364812d96",
   "metadata": {},
   "outputs": [
    {
     "data": {
      "text/plain": [
       "27238"
      ]
     },
     "execution_count": 209,
     "metadata": {},
     "output_type": "execute_result"
    }
   ],
   "source": [
    "len(df)"
   ]
  },
  {
   "cell_type": "code",
   "execution_count": null,
   "id": "e8e11b10-a694-4091-8cd5-fed7cac7c7f4",
   "metadata": {},
   "outputs": [],
   "source": []
  },
  {
   "cell_type": "code",
   "execution_count": 211,
   "id": "9a45d084-ee31-4ee5-a2ce-70b7e81f51b3",
   "metadata": {},
   "outputs": [],
   "source": [
    "# save dataframe to excel\n",
    "df.to_excel(\"advertss.xlsx\")"
   ]
  },
  {
   "cell_type": "code",
   "execution_count": null,
   "id": "aca4ae55-d88a-4c2c-9883-b506ebbf9f1d",
   "metadata": {},
   "outputs": [],
   "source": []
  },
  {
   "cell_type": "code",
   "execution_count": null,
   "id": "bad05e0e-6e30-43de-8445-7461ca8ae276",
   "metadata": {},
   "outputs": [],
   "source": []
  }
 ],
 "metadata": {
  "kernelspec": {
   "display_name": "Python 3 (ipykernel)",
   "language": "python",
   "name": "python3"
  },
  "language_info": {
   "codemirror_mode": {
    "name": "ipython",
    "version": 3
   },
   "file_extension": ".py",
   "mimetype": "text/x-python",
   "name": "python",
   "nbconvert_exporter": "python",
   "pygments_lexer": "ipython3",
   "version": "3.10.9"
  }
 },
 "nbformat": 4,
 "nbformat_minor": 5
}
