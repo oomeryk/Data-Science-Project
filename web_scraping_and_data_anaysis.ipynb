{
 "cells": [
  {
   "cell_type": "markdown",
   "id": "32a2e1ab-4cd0-4180-9406-029b4fa767f2",
   "metadata": {},
   "source": [
    "### ~Rental house market project of Türkiye with selenium, sklearn, seaborn, matplotlib, pandas, numpy libraries."
   ]
  },
  {
   "cell_type": "markdown",
   "id": "a9a1ebc2-d7fd-4f09-ade7-509e729ace81",
   "metadata": {},
   "source": [
    "#### 1- Web Scraping\n",
    "#### 2- Data Analysis\n",
    "#### 3- Data Visualization\n",
    "#### 4- Machine Learning\n"
   ]
  },
  {
   "cell_type": "code",
   "execution_count": null,
   "id": "6599d2a3-acb0-47e8-9bf1-b311ede051e9",
   "metadata": {},
   "outputs": [],
   "source": []
  },
  {
   "cell_type": "code",
   "execution_count": null,
   "id": "60a901c3-27fc-48b3-b27e-519b0138c930",
   "metadata": {},
   "outputs": [],
   "source": []
  },
  {
   "cell_type": "markdown",
   "id": "28709377-6060-48a3-b03f-f82682b3957e",
   "metadata": {},
   "source": [
    "# 1- Web Scraping"
   ]
  },
  {
   "cell_type": "code",
   "execution_count": 2,
   "id": "9f0b399c-9dde-460c-bacf-f2a2127d4d8f",
   "metadata": {},
   "outputs": [],
   "source": [
    "\n",
    "# We should install and set up 'chrome driver' on computer.\n",
    "\n",
    "# We should do 'pip install Selenium'\n",
    "import selenium\n",
    "import pandas as pd\n",
    "import numpy as np\n",
    "import matplotlib.pyplot as plt\n",
    "import seaborn as sns\n",
    "\n",
    "# Import necessary modules for web browsing with Selenium.\n",
    "from selenium import webdriver\n",
    "from selenium.webdriver.common.by import By\n",
    "\n",
    "# Import functions for waiting.\n",
    "from selenium.webdriver.support.wait import WebDriverWait\n",
    "from selenium.webdriver.support import expected_conditions\n",
    "\n",
    "# Import exceptions for error handling.\n",
    "from selenium.common.exceptions import TimeoutException\n",
    "from selenium.common.exceptions import NoSuchElementException\n",
    "from selenium.common.exceptions import StaleElementReferenceException\n"
   ]
  },
  {
   "cell_type": "code",
   "execution_count": null,
   "id": "c3c90595-b73a-496b-972b-f7f563f623ab",
   "metadata": {},
   "outputs": [],
   "source": []
  },
  {
   "cell_type": "markdown",
   "id": "ab2fcbe3-0cb2-4f91-a2ce-d5664fa4cd2f",
   "metadata": {},
   "source": [
    "#### LIST OF TURKIYE DISTRICTS"
   ]
  },
  {
   "cell_type": "code",
   "execution_count": 412,
   "id": "7159d8e0-ef5b-4aa9-959a-fff39cf1731c",
   "metadata": {},
   "outputs": [],
   "source": [
    "# Create a Chrome WebDriver instance to open a new Chrome window.\n",
    "driver = webdriver.Chrome()\n",
    "\n",
    "# Create a WebDriverWait instance to wait for elements on the web page.\n",
    "wait = WebDriverWait(driver, 4)\n",
    "\n",
    "# Open the website.\n",
    "driver.get(\"https://www.drdatastats.com/turkiye-il-ve-ilceler-listesi/\")\n",
    "\n",
    "# Create a list to store the information to be extracted from the website.\n",
    "ilce_list = []\n",
    "\n",
    "# Wait until the table is visible on the page.\n",
    "wait.until(expected_conditions.visibility_of_element_located((By.XPATH, \"/html/body/div[5]/div[2]/div/div[2]/div/div/article/div[3]/figure[1]/table/tbody\")))\n",
    "\n",
    "# Find all the rows in the table.\n",
    "rows = driver.find_elements(By.XPATH, \"/html/body/div[5]/div[2]/div/div[2]/div/div/article/div[3]/figure[1]/table/tbody/tr\")\n",
    "\n",
    "# Iterate through the rows in the table.\n",
    "for i in range(len(rows)-1):\n",
    "    \n",
    "    # Extract the XPath for the district (ilçe).\n",
    "    ilce_path = f\"/html/body/div[5]/div[2]/div/div[2]/div/div/article/div[3]/figure[1]/table/tbody/tr[{i+2}]/td[3]\"\n",
    "    \n",
    "    # Find and extract the district (ilçe) text.\n",
    "    ilce = driver.find_element(By.XPATH, ilce_path)\n",
    "    ilce = ilce.text\n",
    "    \n",
    "    # Check if the district is not \"Merkez\" and add it to the list directly.\n",
    "    if ilce != \"Merkez\":\n",
    "        ilce_list.append(ilce)\n",
    "        \n",
    "    # If it's \"Merkez,\" also extract the province (il) and combine them.    \n",
    "    else:\n",
    "        il_path = f\"/html/body/div[5]/div[2]/div/div[2]/div/div/article/div[3]/figure[1]/table/tbody/tr[{i+2}]/td[2]\"\n",
    "        il = driver.find_element(By.XPATH, il_path)\n",
    "        il = il.text\n",
    "        ilce_list.append((il + \" \" + ilce))\n",
    "\n",
    "driver.quit()"
   ]
  },
  {
   "cell_type": "code",
   "execution_count": 413,
   "id": "ddc358c0-9fb6-4b76-83ba-b619c199d818",
   "metadata": {},
   "outputs": [
    {
     "name": "stdout",
     "output_type": "stream",
     "text": [
      "['Aladağ', 'Ceyhan', 'Çukurova', 'Feke', 'İmamoğlu', 'Karaisalı', 'Karataş', 'Kozan', 'Pozantı', 'Saimbeyli']\n",
      "Zonguldak Merkez\n"
     ]
    }
   ],
   "source": [
    "print(ilce_list[:10])\n",
    "print(ilce_list[len(ilce_list)-1])"
   ]
  },
  {
   "cell_type": "code",
   "execution_count": null,
   "id": "907f1bae-c81c-4fe0-9ffa-d6041b76ed59",
   "metadata": {},
   "outputs": [],
   "source": []
  },
  {
   "cell_type": "markdown",
   "id": "637b6e21-42f4-48b7-8c66-b2ee087fae57",
   "metadata": {},
   "source": [
    "#### RENTAL HOUSING ADVERTISEMENTS IN EVERY DISTRICT"
   ]
  },
  {
   "cell_type": "code",
   "execution_count": null,
   "id": "ced45f44-70f5-4154-804d-0e95914aeb51",
   "metadata": {
    "tags": []
   },
   "outputs": [],
   "source": [
    "# Open a Chrome window - create a driver instance.\n",
    "driver = webdriver.Chrome()\n",
    "\n",
    "# Create a WebDriverWait instance to wait for elements on the web page.\n",
    "wait = WebDriverWait(driver, 5)\n",
    "\n",
    "# Open the website.\n",
    "driver.get(\"https://www.emlakjet.com/kiralik-konut/\")\n",
    "\n",
    "# Close the pop-up bar that appears at the bottom of the first page.\n",
    "close_button = driver.find_element(By.XPATH, \"/html/body/div[1]/div/div[3]/div[5]/div[2]/div/button/span[1]\")\n",
    "close_button.click()\n",
    "\n",
    "# Create a list to store the information to be extracted from the website.\n",
    "list_before_excel = []\n",
    "\n",
    "# Turn through the district list.\n",
    "for j in range(446, len(ilce_list)):\n",
    "    \n",
    "        # Wait for the district input field to be clickable. Click and write district to input.\n",
    "    wait.until(expected_conditions.element_to_be_clickable((By.XPATH, \"/html/body/div/div/div[3]/div[1]/div/div[5]/div/div/div[2]/div[2]/div/input\")))\n",
    "    ilce_input = driver.find_element(By.XPATH, \"/html/body/div/div/div[3]/div[1]/div/div[5]/div/div/div[2]/div[2]/div/input\")\n",
    "    ilce_input.click()                          \n",
    "    ilce_input.send_keys(ilce_list[j])\n",
    " \n",
    "    # Wait for the search button to be clickable and click.\n",
    "    wait.until(expected_conditions.element_to_be_clickable((By.XPATH, \"html/body/div/div/div[3]/div[1]/div/div[5]/div/div/button\")))\n",
    "    search_button = driver.find_element(By.XPATH, \"html/body/div/div/div[3]/div[1]/div/div[5]/div/div/button\")\n",
    "    search_button.click()\n",
    "    \n",
    "    # Turn all pages for one district.\n",
    "    for one_page in range(40):\n",
    "        try:\n",
    "            try:\n",
    "                # Find elements with the class name of the advert listings on the first page.\n",
    "                wait.until(expected_conditions.visibility_of_all_elements_located((By.CLASS_NAME, \"manJWF\")))\n",
    "                elements = driver.find_elements(By.CLASS_NAME, \"manJWF\")\n",
    "                \n",
    "                # Turn through advert boxes on a page.\n",
    "                for element in elements:\n",
    "                    # Append advert information to list.\n",
    "                    list_before_excel.append(element.text.split(\"\\n\"))\n",
    "\n",
    "                # Click the \"Next\" button to go to the next page.      \n",
    "                wait.until(expected_conditions.visibility_of_all_elements_located((By.CLASS_NAME, \"_3au2n_.OTUgAO\")))\n",
    "                next_button = driver.find_element(By.CLASS_NAME, \"_3au2n_.OTUgAO\")\n",
    "                next_button.click()                                  \n",
    "                \n",
    "            # if StaleElementReferenceException occurs refresh web page and run same codes above       \n",
    "            except StaleElementReferenceException:\n",
    "                driver.refresh()\n",
    "                \n",
    "                # Find elements with the class name of the property listings on the first page.\n",
    "                wait.until(expected_conditions.visibility_of_all_elements_located((By.CLASS_NAME, \"manJWF\")))\n",
    "                elements = driver.find_elements(By.CLASS_NAME, \"manJWF\")\n",
    "                \n",
    "                # Iterate through property listings on one page.\n",
    "                for element in elements:\n",
    "                    # Append property information to the list.\n",
    "                    list_before_excel.append(element.text.split(\"\\n\"))\n",
    "\n",
    "                # Find the 'next_button' again.   \n",
    "                wait.until(expected_conditions.visibility_of_all_elements_located((By.CLASS_NAME, \"_3au2n_.OTUgAO\")))\n",
    "                next_button = driver.find_element(By.CLASS_NAME, \"_3au2n_.OTUgAO\")\n",
    "                next_button.click()\n",
    "                \n",
    "        # İf there aren't 'advert' or 'next_button' in page, move to next district.            \n",
    "        # So if these errors occurs from the try block above; remove the (il, ilçe) and break loop    \n",
    "        except (NoSuchElementException, TimeoutException, IndexError):\n",
    "            try:\n",
    "                # If (il, ilce) cancel buttons are not found(NoSuchElementException), change to second path and try again\n",
    "                remove_ilce = driver.find_element(By.XPATH, \"/html/body/div/div/div[3]/div[1]/div/div[5]/div/div/div[2]/div[2]/div/div[1]/i\")\n",
    "                remove_ilce.click()                     \n",
    "                remove_il = driver.find_element(By.XPATH, \"/html/body/div/div/div[3]/div[1]/div/div[5]/div/div/div[2]/div[2]/div/div/i\")\n",
    "                remove_il.click()                          \n",
    "            except NoSuchElementException:\n",
    "                remove_ilce = driver.find_element(By.XPATH, \"/html/body/div[1]/div/div[3]/div[1]/div/div[5]/div/div/div[2]/div[2]/div/div[1]/i\")\n",
    "                remove_ilce.click()                          \n",
    "                remove_il = driver.find_element(By.XPATH, \"/html/body/div[1]/div/div[3]/div[1]/div/div[5]/div/div/div[2]/div[2]/div/div/i\")\n",
    "                remove_il.click()                \n",
    "                \n",
    "            break\n"
   ]
  },
  {
   "cell_type": "code",
   "execution_count": 24,
   "id": "5a692f12-64c6-47cc-9418-b49e303699b2",
   "metadata": {},
   "outputs": [],
   "source": [
    "pddf = pd.DataFrame(list_before_excel)\n",
    "pddf.to_excel(\"emlakjet.xlsx\")"
   ]
  },
  {
   "cell_type": "code",
   "execution_count": null,
   "id": "ba8dec16-1976-4360-88e5-416f87003230",
   "metadata": {},
   "outputs": [],
   "source": []
  },
  {
   "cell_type": "code",
   "execution_count": null,
   "id": "8c58965a-2e3e-4ff0-b29b-d1328feb9c74",
   "metadata": {},
   "outputs": [],
   "source": []
  },
  {
   "cell_type": "code",
   "execution_count": null,
   "id": "e2482a43-78b0-4c7a-b8c6-120971bb6985",
   "metadata": {},
   "outputs": [],
   "source": []
  },
  {
   "cell_type": "markdown",
   "id": "1bc484d2-e281-4d50-85aa-a1af1bc40c54",
   "metadata": {},
   "source": [
    "# 2- DATA ANALYSIS"
   ]
  },
  {
   "cell_type": "code",
   "execution_count": 4,
   "id": "0bcf14f9-d5c0-4a9d-b4fb-b0d87ff9025c",
   "metadata": {},
   "outputs": [
    {
     "data": {
      "text/html": [
       "<div>\n",
       "<style scoped>\n",
       "    .dataframe tbody tr th:only-of-type {\n",
       "        vertical-align: middle;\n",
       "    }\n",
       "\n",
       "    .dataframe tbody tr th {\n",
       "        vertical-align: top;\n",
       "    }\n",
       "\n",
       "    .dataframe thead th {\n",
       "        text-align: right;\n",
       "    }\n",
       "</style>\n",
       "<table border=\"1\" class=\"dataframe\">\n",
       "  <thead>\n",
       "    <tr style=\"text-align: right;\">\n",
       "      <th></th>\n",
       "      <th>Source.Name</th>\n",
       "      <th>Column1</th>\n",
       "      <th>Column2</th>\n",
       "      <th>Column3</th>\n",
       "      <th>Column4</th>\n",
       "      <th>Column5</th>\n",
       "      <th>Column6</th>\n",
       "      <th>Column7</th>\n",
       "      <th>Column8</th>\n",
       "      <th>Column9</th>\n",
       "      <th>Column10</th>\n",
       "      <th>Column11</th>\n",
       "      <th>Column12</th>\n",
       "      <th>Column13</th>\n",
       "      <th>Column14</th>\n",
       "      <th>Column15</th>\n",
       "      <th>Column16</th>\n",
       "      <th>Column17</th>\n",
       "    </tr>\n",
       "  </thead>\n",
       "  <tbody>\n",
       "    <tr>\n",
       "      <th>0</th>\n",
       "      <td>emlakjet1.xlsx</td>\n",
       "      <td>a</td>\n",
       "      <td>0</td>\n",
       "      <td>1</td>\n",
       "      <td>2</td>\n",
       "      <td>3</td>\n",
       "      <td>4</td>\n",
       "      <td>5</td>\n",
       "      <td>6</td>\n",
       "      <td>7</td>\n",
       "      <td>8</td>\n",
       "      <td>9</td>\n",
       "      <td>10</td>\n",
       "      <td>11</td>\n",
       "      <td>12</td>\n",
       "      <td>13</td>\n",
       "      <td>14</td>\n",
       "      <td>15</td>\n",
       "    </tr>\n",
       "    <tr>\n",
       "      <th>1</th>\n",
       "      <td>emlakjet1.xlsx</td>\n",
       "      <td>0</td>\n",
       "      <td>edomer gayrimenkulden f.s.m. mahallesinde kira...</td>\n",
       "      <td>home</td>\n",
       "      <td>Müstakil Ev</td>\n",
       "      <td>weekend</td>\n",
       "      <td>3+1</td>\n",
       "      <td>texture</td>\n",
       "      <td>150 m2</td>\n",
       "      <td>event</td>\n",
       "      <td>22 Eylül</td>\n",
       "      <td>8.000 TL</td>\n",
       "      <td>Adana - Ceyhan - Fatih Sultan Mehmet Mh.</td>\n",
       "      <td>NaN</td>\n",
       "      <td>NaN</td>\n",
       "      <td>NaN</td>\n",
       "      <td>NaN</td>\n",
       "      <td>NaN</td>\n",
       "    </tr>\n",
       "    <tr>\n",
       "      <th>2</th>\n",
       "      <td>emlakjet1.xlsx</td>\n",
       "      <td>1</td>\n",
       "      <td>çinar emlak'tan cumhuri̇yet mh. ki̇ralik 2+1 d...</td>\n",
       "      <td>home</td>\n",
       "      <td>Daire</td>\n",
       "      <td>weekend</td>\n",
       "      <td>2+1</td>\n",
       "      <td>layers</td>\n",
       "      <td>5. Kat</td>\n",
       "      <td>texture</td>\n",
       "      <td>130 m2</td>\n",
       "      <td>event</td>\n",
       "      <td>21 Eylül</td>\n",
       "      <td>7.000 TL</td>\n",
       "      <td>Adana - Ceyhan - Cumhuriyet Mh.</td>\n",
       "      <td>NaN</td>\n",
       "      <td>NaN</td>\n",
       "      <td>NaN</td>\n",
       "    </tr>\n",
       "    <tr>\n",
       "      <th>3</th>\n",
       "      <td>emlakjet1.xlsx</td>\n",
       "      <td>2</td>\n",
       "      <td>yurdal emlak'tan ki̇ralik 4+1 dai̇re</td>\n",
       "      <td>home</td>\n",
       "      <td>Daire</td>\n",
       "      <td>weekend</td>\n",
       "      <td>4+1</td>\n",
       "      <td>layers</td>\n",
       "      <td>Yüksek giriş</td>\n",
       "      <td>texture</td>\n",
       "      <td>180 m2</td>\n",
       "      <td>event</td>\n",
       "      <td>20 Eylül</td>\n",
       "      <td>12.000 TL</td>\n",
       "      <td>Adana - Ceyhan - Cumhuriyet Mh.</td>\n",
       "      <td>NaN</td>\n",
       "      <td>NaN</td>\n",
       "      <td>NaN</td>\n",
       "    </tr>\n",
       "    <tr>\n",
       "      <th>4</th>\n",
       "      <td>emlakjet1.xlsx</td>\n",
       "      <td>3</td>\n",
       "      <td>mi̇ra emlak'tan cumhuri̇yet mah.de az hasarli ...</td>\n",
       "      <td>...</td>\n",
       "      <td>home</td>\n",
       "      <td>Daire</td>\n",
       "      <td>weekend</td>\n",
       "      <td>2+1</td>\n",
       "      <td>layers</td>\n",
       "      <td>7. Kat</td>\n",
       "      <td>texture</td>\n",
       "      <td>115 m2</td>\n",
       "      <td>event</td>\n",
       "      <td>20 Eylül</td>\n",
       "      <td>7.250 TL</td>\n",
       "      <td>Adana - Ceyhan - Cumhuriyet Mh.</td>\n",
       "      <td>NaN</td>\n",
       "      <td>NaN</td>\n",
       "    </tr>\n",
       "  </tbody>\n",
       "</table>\n",
       "</div>"
      ],
      "text/plain": [
       "      Source.Name Column1                                            Column2  \\\n",
       "0  emlakjet1.xlsx       a                                                  0   \n",
       "1  emlakjet1.xlsx       0  edomer gayrimenkulden f.s.m. mahallesinde kira...   \n",
       "2  emlakjet1.xlsx       1  çinar emlak'tan cumhuri̇yet mh. ki̇ralik 2+1 d...   \n",
       "3  emlakjet1.xlsx       2               yurdal emlak'tan ki̇ralik 4+1 dai̇re   \n",
       "4  emlakjet1.xlsx       3  mi̇ra emlak'tan cumhuri̇yet mah.de az hasarli ...   \n",
       "\n",
       "  Column3      Column4  Column5  Column6  Column7       Column8  Column9  \\\n",
       "0       1            2        3        4        5             6        7   \n",
       "1    home  Müstakil Ev  weekend      3+1  texture        150 m2    event   \n",
       "2    home        Daire  weekend      2+1   layers        5. Kat  texture   \n",
       "3    home        Daire  weekend      4+1   layers  Yüksek giriş  texture   \n",
       "4     ...         home    Daire  weekend      2+1        layers   7. Kat   \n",
       "\n",
       "   Column10  Column11                                  Column12   Column13  \\\n",
       "0         8         9                                        10         11   \n",
       "1  22 Eylül  8.000 TL  Adana - Ceyhan - Fatih Sultan Mehmet Mh.        NaN   \n",
       "2    130 m2     event                                  21 Eylül   7.000 TL   \n",
       "3    180 m2     event                                  20 Eylül  12.000 TL   \n",
       "4   texture    115 m2                                     event   20 Eylül   \n",
       "\n",
       "                          Column14                         Column15 Column16  \\\n",
       "0                               12                               13       14   \n",
       "1                              NaN                              NaN      NaN   \n",
       "2  Adana - Ceyhan - Cumhuriyet Mh.                              NaN      NaN   \n",
       "3  Adana - Ceyhan - Cumhuriyet Mh.                              NaN      NaN   \n",
       "4                         7.250 TL  Adana - Ceyhan - Cumhuriyet Mh.      NaN   \n",
       "\n",
       "  Column17  \n",
       "0       15  \n",
       "1      NaN  \n",
       "2      NaN  \n",
       "3      NaN  \n",
       "4      NaN  "
      ]
     },
     "execution_count": 4,
     "metadata": {},
     "output_type": "execute_result"
    }
   ],
   "source": [
    "data = pd.read_excel(\"emlak_jet.xlsx\")\n",
    "df = data.copy()\n",
    "df.head()\n"
   ]
  },
  {
   "cell_type": "code",
   "execution_count": 5,
   "id": "99b41a77-0efd-4f1d-8317-c6b65e9a0083",
   "metadata": {},
   "outputs": [
    {
     "data": {
      "text/plain": [
       "35841"
      ]
     },
     "execution_count": 5,
     "metadata": {},
     "output_type": "execute_result"
    }
   ],
   "source": [
    "len(df)"
   ]
  },
  {
   "cell_type": "code",
   "execution_count": 6,
   "id": "984fadf3-443a-46a5-ba3a-04ac215d28ba",
   "metadata": {},
   "outputs": [
    {
     "data": {
      "text/html": [
       "<div>\n",
       "<style scoped>\n",
       "    .dataframe tbody tr th:only-of-type {\n",
       "        vertical-align: middle;\n",
       "    }\n",
       "\n",
       "    .dataframe tbody tr th {\n",
       "        vertical-align: top;\n",
       "    }\n",
       "\n",
       "    .dataframe thead th {\n",
       "        text-align: right;\n",
       "    }\n",
       "</style>\n",
       "<table border=\"1\" class=\"dataframe\">\n",
       "  <thead>\n",
       "    <tr style=\"text-align: right;\">\n",
       "      <th></th>\n",
       "      <th>Column1</th>\n",
       "      <th>Column2</th>\n",
       "      <th>Column3</th>\n",
       "      <th>Column4</th>\n",
       "      <th>Column5</th>\n",
       "      <th>Column6</th>\n",
       "      <th>Column7</th>\n",
       "      <th>Column8</th>\n",
       "      <th>Column9</th>\n",
       "      <th>Column10</th>\n",
       "      <th>Column11</th>\n",
       "      <th>Column12</th>\n",
       "      <th>Column13</th>\n",
       "      <th>Column14</th>\n",
       "      <th>Column15</th>\n",
       "      <th>Column16</th>\n",
       "      <th>Column17</th>\n",
       "    </tr>\n",
       "  </thead>\n",
       "  <tbody>\n",
       "    <tr>\n",
       "      <th>1</th>\n",
       "      <td>0</td>\n",
       "      <td>edomer gayrimenkulden f.s.m. mahallesinde kira...</td>\n",
       "      <td>home</td>\n",
       "      <td>Müstakil Ev</td>\n",
       "      <td>weekend</td>\n",
       "      <td>3+1</td>\n",
       "      <td>texture</td>\n",
       "      <td>150 m2</td>\n",
       "      <td>event</td>\n",
       "      <td>22 Eylül</td>\n",
       "      <td>8.000 TL</td>\n",
       "      <td>Adana - Ceyhan - Fatih Sultan Mehmet Mh.</td>\n",
       "      <td>NaN</td>\n",
       "      <td>NaN</td>\n",
       "      <td>NaN</td>\n",
       "      <td>NaN</td>\n",
       "      <td>NaN</td>\n",
       "    </tr>\n",
       "    <tr>\n",
       "      <th>2</th>\n",
       "      <td>1</td>\n",
       "      <td>çinar emlak'tan cumhuri̇yet mh. ki̇ralik 2+1 d...</td>\n",
       "      <td>home</td>\n",
       "      <td>Daire</td>\n",
       "      <td>weekend</td>\n",
       "      <td>2+1</td>\n",
       "      <td>layers</td>\n",
       "      <td>5. Kat</td>\n",
       "      <td>texture</td>\n",
       "      <td>130 m2</td>\n",
       "      <td>event</td>\n",
       "      <td>21 Eylül</td>\n",
       "      <td>7.000 TL</td>\n",
       "      <td>Adana - Ceyhan - Cumhuriyet Mh.</td>\n",
       "      <td>NaN</td>\n",
       "      <td>NaN</td>\n",
       "      <td>NaN</td>\n",
       "    </tr>\n",
       "    <tr>\n",
       "      <th>3</th>\n",
       "      <td>2</td>\n",
       "      <td>yurdal emlak'tan ki̇ralik 4+1 dai̇re</td>\n",
       "      <td>home</td>\n",
       "      <td>Daire</td>\n",
       "      <td>weekend</td>\n",
       "      <td>4+1</td>\n",
       "      <td>layers</td>\n",
       "      <td>Yüksek giriş</td>\n",
       "      <td>texture</td>\n",
       "      <td>180 m2</td>\n",
       "      <td>event</td>\n",
       "      <td>20 Eylül</td>\n",
       "      <td>12.000 TL</td>\n",
       "      <td>Adana - Ceyhan - Cumhuriyet Mh.</td>\n",
       "      <td>NaN</td>\n",
       "      <td>NaN</td>\n",
       "      <td>NaN</td>\n",
       "    </tr>\n",
       "    <tr>\n",
       "      <th>4</th>\n",
       "      <td>3</td>\n",
       "      <td>mi̇ra emlak'tan cumhuri̇yet mah.de az hasarli ...</td>\n",
       "      <td>...</td>\n",
       "      <td>home</td>\n",
       "      <td>Daire</td>\n",
       "      <td>weekend</td>\n",
       "      <td>2+1</td>\n",
       "      <td>layers</td>\n",
       "      <td>7. Kat</td>\n",
       "      <td>texture</td>\n",
       "      <td>115 m2</td>\n",
       "      <td>event</td>\n",
       "      <td>20 Eylül</td>\n",
       "      <td>7.250 TL</td>\n",
       "      <td>Adana - Ceyhan - Cumhuriyet Mh.</td>\n",
       "      <td>NaN</td>\n",
       "      <td>NaN</td>\n",
       "    </tr>\n",
       "  </tbody>\n",
       "</table>\n",
       "</div>"
      ],
      "text/plain": [
       "  Column1                                            Column2 Column3  \\\n",
       "1       0  edomer gayrimenkulden f.s.m. mahallesinde kira...    home   \n",
       "2       1  çinar emlak'tan cumhuri̇yet mh. ki̇ralik 2+1 d...    home   \n",
       "3       2               yurdal emlak'tan ki̇ralik 4+1 dai̇re    home   \n",
       "4       3  mi̇ra emlak'tan cumhuri̇yet mah.de az hasarli ...     ...   \n",
       "\n",
       "       Column4  Column5  Column6  Column7       Column8  Column9  Column10  \\\n",
       "1  Müstakil Ev  weekend      3+1  texture        150 m2    event  22 Eylül   \n",
       "2        Daire  weekend      2+1   layers        5. Kat  texture    130 m2   \n",
       "3        Daire  weekend      4+1   layers  Yüksek giriş  texture    180 m2   \n",
       "4         home    Daire  weekend      2+1        layers   7. Kat   texture   \n",
       "\n",
       "   Column11                                  Column12   Column13  \\\n",
       "1  8.000 TL  Adana - Ceyhan - Fatih Sultan Mehmet Mh.        NaN   \n",
       "2     event                                  21 Eylül   7.000 TL   \n",
       "3     event                                  20 Eylül  12.000 TL   \n",
       "4    115 m2                                     event   20 Eylül   \n",
       "\n",
       "                          Column14                         Column15 Column16  \\\n",
       "1                              NaN                              NaN      NaN   \n",
       "2  Adana - Ceyhan - Cumhuriyet Mh.                              NaN      NaN   \n",
       "3  Adana - Ceyhan - Cumhuriyet Mh.                              NaN      NaN   \n",
       "4                         7.250 TL  Adana - Ceyhan - Cumhuriyet Mh.      NaN   \n",
       "\n",
       "  Column17  \n",
       "1      NaN  \n",
       "2      NaN  \n",
       "3      NaN  \n",
       "4      NaN  "
      ]
     },
     "execution_count": 6,
     "metadata": {},
     "output_type": "execute_result"
    }
   ],
   "source": [
    "df = df.drop(0, axis=0)\n",
    "df = df.drop(\"Source.Name\", axis=1)\n",
    "\n",
    "df.head(4)"
   ]
  },
  {
   "cell_type": "code",
   "execution_count": 7,
   "id": "5d203ec2-16b3-453c-a23e-02d891a7e480",
   "metadata": {
    "tags": []
   },
   "outputs": [
    {
     "data": {
      "text/html": [
       "<div>\n",
       "<style scoped>\n",
       "    .dataframe tbody tr th:only-of-type {\n",
       "        vertical-align: middle;\n",
       "    }\n",
       "\n",
       "    .dataframe tbody tr th {\n",
       "        vertical-align: top;\n",
       "    }\n",
       "\n",
       "    .dataframe thead th {\n",
       "        text-align: right;\n",
       "    }\n",
       "</style>\n",
       "<table border=\"1\" class=\"dataframe\">\n",
       "  <thead>\n",
       "    <tr style=\"text-align: right;\">\n",
       "      <th></th>\n",
       "      <th>Column1</th>\n",
       "      <th>Column2</th>\n",
       "      <th>Column3</th>\n",
       "      <th>Column4</th>\n",
       "      <th>Column5</th>\n",
       "      <th>Column6</th>\n",
       "      <th>Column7</th>\n",
       "      <th>Column8</th>\n",
       "      <th>Column9</th>\n",
       "      <th>Column10</th>\n",
       "      <th>Column11</th>\n",
       "      <th>Column12</th>\n",
       "      <th>Column13</th>\n",
       "      <th>Column14</th>\n",
       "      <th>Column15</th>\n",
       "      <th>Column16</th>\n",
       "      <th>Column17</th>\n",
       "    </tr>\n",
       "    <tr>\n",
       "      <th></th>\n",
       "      <th></th>\n",
       "      <th></th>\n",
       "      <th></th>\n",
       "      <th></th>\n",
       "      <th></th>\n",
       "      <th></th>\n",
       "      <th></th>\n",
       "      <th></th>\n",
       "      <th></th>\n",
       "      <th></th>\n",
       "      <th></th>\n",
       "      <th></th>\n",
       "      <th></th>\n",
       "      <th></th>\n",
       "      <th></th>\n",
       "      <th></th>\n",
       "      <th></th>\n",
       "    </tr>\n",
       "  </thead>\n",
       "  <tbody>\n",
       "    <tr>\n",
       "      <th>0</th>\n",
       "      <td>0</td>\n",
       "      <td>edomer gayrimenkulden f.s.m. mahallesinde kira...</td>\n",
       "      <td>home</td>\n",
       "      <td>Müstakil Ev</td>\n",
       "      <td>weekend</td>\n",
       "      <td>3+1</td>\n",
       "      <td>texture</td>\n",
       "      <td>150 m2</td>\n",
       "      <td>event</td>\n",
       "      <td>22 Eylül</td>\n",
       "      <td>8.000 TL</td>\n",
       "      <td>Adana - Ceyhan - Fatih Sultan Mehmet Mh.</td>\n",
       "      <td>NaN</td>\n",
       "      <td>NaN</td>\n",
       "      <td>NaN</td>\n",
       "      <td>NaN</td>\n",
       "      <td>NaN</td>\n",
       "    </tr>\n",
       "    <tr>\n",
       "      <th>1</th>\n",
       "      <td>1</td>\n",
       "      <td>çinar emlak'tan cumhuri̇yet mh. ki̇ralik 2+1 d...</td>\n",
       "      <td>home</td>\n",
       "      <td>Daire</td>\n",
       "      <td>weekend</td>\n",
       "      <td>2+1</td>\n",
       "      <td>layers</td>\n",
       "      <td>5. Kat</td>\n",
       "      <td>texture</td>\n",
       "      <td>130 m2</td>\n",
       "      <td>event</td>\n",
       "      <td>21 Eylül</td>\n",
       "      <td>7.000 TL</td>\n",
       "      <td>Adana - Ceyhan - Cumhuriyet Mh.</td>\n",
       "      <td>NaN</td>\n",
       "      <td>NaN</td>\n",
       "      <td>NaN</td>\n",
       "    </tr>\n",
       "    <tr>\n",
       "      <th>2</th>\n",
       "      <td>2</td>\n",
       "      <td>yurdal emlak'tan ki̇ralik 4+1 dai̇re</td>\n",
       "      <td>home</td>\n",
       "      <td>Daire</td>\n",
       "      <td>weekend</td>\n",
       "      <td>4+1</td>\n",
       "      <td>layers</td>\n",
       "      <td>Yüksek giriş</td>\n",
       "      <td>texture</td>\n",
       "      <td>180 m2</td>\n",
       "      <td>event</td>\n",
       "      <td>20 Eylül</td>\n",
       "      <td>12.000 TL</td>\n",
       "      <td>Adana - Ceyhan - Cumhuriyet Mh.</td>\n",
       "      <td>NaN</td>\n",
       "      <td>NaN</td>\n",
       "      <td>NaN</td>\n",
       "    </tr>\n",
       "    <tr>\n",
       "      <th>3</th>\n",
       "      <td>3</td>\n",
       "      <td>mi̇ra emlak'tan cumhuri̇yet mah.de az hasarli ...</td>\n",
       "      <td>...</td>\n",
       "      <td>home</td>\n",
       "      <td>Daire</td>\n",
       "      <td>weekend</td>\n",
       "      <td>2+1</td>\n",
       "      <td>layers</td>\n",
       "      <td>7. Kat</td>\n",
       "      <td>texture</td>\n",
       "      <td>115 m2</td>\n",
       "      <td>event</td>\n",
       "      <td>20 Eylül</td>\n",
       "      <td>7.250 TL</td>\n",
       "      <td>Adana - Ceyhan - Cumhuriyet Mh.</td>\n",
       "      <td>NaN</td>\n",
       "      <td>NaN</td>\n",
       "    </tr>\n",
       "  </tbody>\n",
       "</table>\n",
       "</div>"
      ],
      "text/plain": [
       "  Column1                                            Column2 Column3  \\\n",
       "                                                                       \n",
       "0       0  edomer gayrimenkulden f.s.m. mahallesinde kira...    home   \n",
       "1       1  çinar emlak'tan cumhuri̇yet mh. ki̇ralik 2+1 d...    home   \n",
       "2       2               yurdal emlak'tan ki̇ralik 4+1 dai̇re    home   \n",
       "3       3  mi̇ra emlak'tan cumhuri̇yet mah.de az hasarli ...     ...   \n",
       "\n",
       "       Column4  Column5  Column6  Column7       Column8  Column9  Column10  \\\n",
       "                                                                             \n",
       "0  Müstakil Ev  weekend      3+1  texture        150 m2    event  22 Eylül   \n",
       "1        Daire  weekend      2+1   layers        5. Kat  texture    130 m2   \n",
       "2        Daire  weekend      4+1   layers  Yüksek giriş  texture    180 m2   \n",
       "3         home    Daire  weekend      2+1        layers   7. Kat   texture   \n",
       "\n",
       "   Column11                                  Column12   Column13  \\\n",
       "                                                                   \n",
       "0  8.000 TL  Adana - Ceyhan - Fatih Sultan Mehmet Mh.        NaN   \n",
       "1     event                                  21 Eylül   7.000 TL   \n",
       "2     event                                  20 Eylül  12.000 TL   \n",
       "3    115 m2                                     event   20 Eylül   \n",
       "\n",
       "                          Column14                         Column15 Column16  \\\n",
       "                                                                               \n",
       "0                              NaN                              NaN      NaN   \n",
       "1  Adana - Ceyhan - Cumhuriyet Mh.                              NaN      NaN   \n",
       "2  Adana - Ceyhan - Cumhuriyet Mh.                              NaN      NaN   \n",
       "3                         7.250 TL  Adana - Ceyhan - Cumhuriyet Mh.      NaN   \n",
       "\n",
       "  Column17  \n",
       "            \n",
       "0      NaN  \n",
       "1      NaN  \n",
       "2      NaN  \n",
       "3      NaN  "
      ]
     },
     "execution_count": 7,
     "metadata": {},
     "output_type": "execute_result"
    }
   ],
   "source": [
    "# Reindex index number like starting from 0.\n",
    "# Add list of new_index to the DataFrame as a new column and set new_index to real index numbers\n",
    "df[''] = np.arange(len(df))\n",
    "df = df.set_index('')\n",
    "\n",
    "df.head(4)"
   ]
  },
  {
   "cell_type": "code",
   "execution_count": 8,
   "id": "d1bd0e0d-0335-47a0-b09b-e69bca6b5471",
   "metadata": {
    "tags": []
   },
   "outputs": [
    {
     "data": {
      "text/html": [
       "<div>\n",
       "<style scoped>\n",
       "    .dataframe tbody tr th:only-of-type {\n",
       "        vertical-align: middle;\n",
       "    }\n",
       "\n",
       "    .dataframe tbody tr th {\n",
       "        vertical-align: top;\n",
       "    }\n",
       "\n",
       "    .dataframe thead th {\n",
       "        text-align: right;\n",
       "    }\n",
       "</style>\n",
       "<table border=\"1\" class=\"dataframe\">\n",
       "  <thead>\n",
       "    <tr style=\"text-align: right;\">\n",
       "      <th></th>\n",
       "      <th>Column1</th>\n",
       "      <th>Column2</th>\n",
       "      <th>Column3</th>\n",
       "      <th>Column4</th>\n",
       "      <th>Column5</th>\n",
       "      <th>Column6</th>\n",
       "      <th>Column7</th>\n",
       "      <th>Column8</th>\n",
       "      <th>Column9</th>\n",
       "      <th>Column10</th>\n",
       "      <th>Column11</th>\n",
       "      <th>Column12</th>\n",
       "      <th>Column13</th>\n",
       "      <th>Column14</th>\n",
       "      <th>Column15</th>\n",
       "      <th>Column16</th>\n",
       "      <th>Column17</th>\n",
       "    </tr>\n",
       "    <tr>\n",
       "      <th></th>\n",
       "      <th></th>\n",
       "      <th></th>\n",
       "      <th></th>\n",
       "      <th></th>\n",
       "      <th></th>\n",
       "      <th></th>\n",
       "      <th></th>\n",
       "      <th></th>\n",
       "      <th></th>\n",
       "      <th></th>\n",
       "      <th></th>\n",
       "      <th></th>\n",
       "      <th></th>\n",
       "      <th></th>\n",
       "      <th></th>\n",
       "      <th></th>\n",
       "      <th></th>\n",
       "    </tr>\n",
       "  </thead>\n",
       "  <tbody>\n",
       "    <tr>\n",
       "      <th>0</th>\n",
       "      <td>0</td>\n",
       "      <td>edomer gayrimenkulden f.s.m. mahallesinde kira...</td>\n",
       "      <td>home</td>\n",
       "      <td>Müstakil Ev</td>\n",
       "      <td>weekend</td>\n",
       "      <td>3+1</td>\n",
       "      <td>texture</td>\n",
       "      <td>150 m2</td>\n",
       "      <td>event</td>\n",
       "      <td>22 Eylül</td>\n",
       "      <td>8.000 TL</td>\n",
       "      <td>Adana - Ceyhan - Fatih Sultan Mehmet Mh.</td>\n",
       "      <td>NaN</td>\n",
       "      <td>NaN</td>\n",
       "      <td>NaN</td>\n",
       "      <td>NaN</td>\n",
       "      <td>NaN</td>\n",
       "    </tr>\n",
       "    <tr>\n",
       "      <th>1</th>\n",
       "      <td>1</td>\n",
       "      <td>çinar emlak'tan cumhuri̇yet mh. ki̇ralik 2+1 d...</td>\n",
       "      <td>home</td>\n",
       "      <td>Daire</td>\n",
       "      <td>weekend</td>\n",
       "      <td>2+1</td>\n",
       "      <td>layers</td>\n",
       "      <td>5. Kat</td>\n",
       "      <td>texture</td>\n",
       "      <td>130 m2</td>\n",
       "      <td>event</td>\n",
       "      <td>21 Eylül</td>\n",
       "      <td>7.000 TL</td>\n",
       "      <td>Adana - Ceyhan - Cumhuriyet Mh.</td>\n",
       "      <td>NaN</td>\n",
       "      <td>NaN</td>\n",
       "      <td>NaN</td>\n",
       "    </tr>\n",
       "    <tr>\n",
       "      <th>2</th>\n",
       "      <td>2</td>\n",
       "      <td>yurdal emlak'tan ki̇ralik 4+1 dai̇re</td>\n",
       "      <td>home</td>\n",
       "      <td>Daire</td>\n",
       "      <td>weekend</td>\n",
       "      <td>4+1</td>\n",
       "      <td>layers</td>\n",
       "      <td>Yüksek giriş</td>\n",
       "      <td>texture</td>\n",
       "      <td>180 m2</td>\n",
       "      <td>event</td>\n",
       "      <td>20 Eylül</td>\n",
       "      <td>12.000 TL</td>\n",
       "      <td>Adana - Ceyhan - Cumhuriyet Mh.</td>\n",
       "      <td>NaN</td>\n",
       "      <td>NaN</td>\n",
       "      <td>NaN</td>\n",
       "    </tr>\n",
       "    <tr>\n",
       "      <th>3</th>\n",
       "      <td>3</td>\n",
       "      <td>mi̇ra emlak'tan cumhuri̇yet mah.de az hasarli ...</td>\n",
       "      <td>home</td>\n",
       "      <td>Daire</td>\n",
       "      <td>weekend</td>\n",
       "      <td>2+1</td>\n",
       "      <td>layers</td>\n",
       "      <td>7. Kat</td>\n",
       "      <td>texture</td>\n",
       "      <td>115 m2</td>\n",
       "      <td>event</td>\n",
       "      <td>20 Eylül</td>\n",
       "      <td>7.250 TL</td>\n",
       "      <td>Adana - Ceyhan - Cumhuriyet Mh.</td>\n",
       "      <td>NaN</td>\n",
       "      <td>NaN</td>\n",
       "      <td>NaN</td>\n",
       "    </tr>\n",
       "  </tbody>\n",
       "</table>\n",
       "</div>"
      ],
      "text/plain": [
       "  Column1                                            Column2 Column3  \\\n",
       "                                                                       \n",
       "0       0  edomer gayrimenkulden f.s.m. mahallesinde kira...    home   \n",
       "1       1  çinar emlak'tan cumhuri̇yet mh. ki̇ralik 2+1 d...    home   \n",
       "2       2               yurdal emlak'tan ki̇ralik 4+1 dai̇re    home   \n",
       "3       3  mi̇ra emlak'tan cumhuri̇yet mah.de az hasarli ...    home   \n",
       "\n",
       "       Column4  Column5 Column6  Column7       Column8  Column9  Column10  \\\n",
       "                                                                            \n",
       "0  Müstakil Ev  weekend     3+1  texture        150 m2    event  22 Eylül   \n",
       "1        Daire  weekend     2+1   layers        5. Kat  texture    130 m2   \n",
       "2        Daire  weekend     4+1   layers  Yüksek giriş  texture    180 m2   \n",
       "3        Daire  weekend     2+1   layers        7. Kat  texture    115 m2   \n",
       "\n",
       "   Column11                                  Column12   Column13  \\\n",
       "                                                                   \n",
       "0  8.000 TL  Adana - Ceyhan - Fatih Sultan Mehmet Mh.        NaN   \n",
       "1     event                                  21 Eylül   7.000 TL   \n",
       "2     event                                  20 Eylül  12.000 TL   \n",
       "3     event                                  20 Eylül   7.250 TL   \n",
       "\n",
       "                          Column14 Column15 Column16 Column17  \n",
       "                                                               \n",
       "0                              NaN      NaN      NaN      NaN  \n",
       "1  Adana - Ceyhan - Cumhuriyet Mh.      NaN      NaN      NaN  \n",
       "2  Adana - Ceyhan - Cumhuriyet Mh.      NaN      NaN      NaN  \n",
       "3  Adana - Ceyhan - Cumhuriyet Mh.      NaN      NaN      NaN  "
      ]
     },
     "execution_count": 8,
     "metadata": {},
     "output_type": "execute_result"
    }
   ],
   "source": [
    "# Swipe cell that write '...' to one cell left\n",
    "for i in range(len(df)):\n",
    "    if df.iloc[i,2] == \"...\":\n",
    "        j=2\n",
    "        while j<16:\n",
    "            df.iloc[i,j] = df.iloc[i,j+1]\n",
    "            j+=1\n",
    "df.head(4)"
   ]
  },
  {
   "cell_type": "code",
   "execution_count": 9,
   "id": "a56970f7-b364-4cf8-b400-f5bf3ca1f7bb",
   "metadata": {
    "tags": []
   },
   "outputs": [
    {
     "data": {
      "text/html": [
       "<div>\n",
       "<style scoped>\n",
       "    .dataframe tbody tr th:only-of-type {\n",
       "        vertical-align: middle;\n",
       "    }\n",
       "\n",
       "    .dataframe tbody tr th {\n",
       "        vertical-align: top;\n",
       "    }\n",
       "\n",
       "    .dataframe thead th {\n",
       "        text-align: right;\n",
       "    }\n",
       "</style>\n",
       "<table border=\"1\" class=\"dataframe\">\n",
       "  <thead>\n",
       "    <tr style=\"text-align: right;\">\n",
       "      <th></th>\n",
       "      <th>Column1</th>\n",
       "      <th>Column2</th>\n",
       "      <th>Column3</th>\n",
       "      <th>Column4</th>\n",
       "      <th>Column5</th>\n",
       "      <th>Column6</th>\n",
       "      <th>Column7</th>\n",
       "      <th>Column8</th>\n",
       "      <th>Column9</th>\n",
       "      <th>Column10</th>\n",
       "      <th>Column11</th>\n",
       "      <th>Column12</th>\n",
       "      <th>Column13</th>\n",
       "      <th>Column14</th>\n",
       "      <th>Column15</th>\n",
       "      <th>Column16</th>\n",
       "      <th>Column17</th>\n",
       "    </tr>\n",
       "    <tr>\n",
       "      <th></th>\n",
       "      <th></th>\n",
       "      <th></th>\n",
       "      <th></th>\n",
       "      <th></th>\n",
       "      <th></th>\n",
       "      <th></th>\n",
       "      <th></th>\n",
       "      <th></th>\n",
       "      <th></th>\n",
       "      <th></th>\n",
       "      <th></th>\n",
       "      <th></th>\n",
       "      <th></th>\n",
       "      <th></th>\n",
       "      <th></th>\n",
       "      <th></th>\n",
       "      <th></th>\n",
       "    </tr>\n",
       "  </thead>\n",
       "  <tbody>\n",
       "    <tr>\n",
       "      <th>1</th>\n",
       "      <td>1</td>\n",
       "      <td>çinar emlak'tan cumhuri̇yet mh. ki̇ralik 2+1 d...</td>\n",
       "      <td>home</td>\n",
       "      <td>Daire</td>\n",
       "      <td>weekend</td>\n",
       "      <td>2+1</td>\n",
       "      <td>layers</td>\n",
       "      <td>5. Kat</td>\n",
       "      <td>texture</td>\n",
       "      <td>130 m2</td>\n",
       "      <td>event</td>\n",
       "      <td>21 Eylül</td>\n",
       "      <td>7.000 TL</td>\n",
       "      <td>Adana - Ceyhan - Cumhuriyet Mh.</td>\n",
       "      <td>NaN</td>\n",
       "      <td>NaN</td>\n",
       "      <td>NaN</td>\n",
       "    </tr>\n",
       "    <tr>\n",
       "      <th>2</th>\n",
       "      <td>2</td>\n",
       "      <td>yurdal emlak'tan ki̇ralik 4+1 dai̇re</td>\n",
       "      <td>home</td>\n",
       "      <td>Daire</td>\n",
       "      <td>weekend</td>\n",
       "      <td>4+1</td>\n",
       "      <td>layers</td>\n",
       "      <td>Yüksek giriş</td>\n",
       "      <td>texture</td>\n",
       "      <td>180 m2</td>\n",
       "      <td>event</td>\n",
       "      <td>20 Eylül</td>\n",
       "      <td>12.000 TL</td>\n",
       "      <td>Adana - Ceyhan - Cumhuriyet Mh.</td>\n",
       "      <td>NaN</td>\n",
       "      <td>NaN</td>\n",
       "      <td>NaN</td>\n",
       "    </tr>\n",
       "    <tr>\n",
       "      <th>3</th>\n",
       "      <td>3</td>\n",
       "      <td>mi̇ra emlak'tan cumhuri̇yet mah.de az hasarli ...</td>\n",
       "      <td>home</td>\n",
       "      <td>Daire</td>\n",
       "      <td>weekend</td>\n",
       "      <td>2+1</td>\n",
       "      <td>layers</td>\n",
       "      <td>7. Kat</td>\n",
       "      <td>texture</td>\n",
       "      <td>115 m2</td>\n",
       "      <td>event</td>\n",
       "      <td>20 Eylül</td>\n",
       "      <td>7.250 TL</td>\n",
       "      <td>Adana - Ceyhan - Cumhuriyet Mh.</td>\n",
       "      <td>NaN</td>\n",
       "      <td>NaN</td>\n",
       "      <td>NaN</td>\n",
       "    </tr>\n",
       "    <tr>\n",
       "      <th>4</th>\n",
       "      <td>4</td>\n",
       "      <td>edomer gayrimenkul'den n.kemal mah. kiralık 3+...</td>\n",
       "      <td>home</td>\n",
       "      <td>Daire</td>\n",
       "      <td>weekend</td>\n",
       "      <td>3+1</td>\n",
       "      <td>layers</td>\n",
       "      <td>3. Kat</td>\n",
       "      <td>texture</td>\n",
       "      <td>125 m2</td>\n",
       "      <td>event</td>\n",
       "      <td>17 Eylül</td>\n",
       "      <td>130.000 TL</td>\n",
       "      <td>Adana - Ceyhan - Namık Kemal Mh.</td>\n",
       "      <td>NaN</td>\n",
       "      <td>NaN</td>\n",
       "      <td>NaN</td>\n",
       "    </tr>\n",
       "  </tbody>\n",
       "</table>\n",
       "</div>"
      ],
      "text/plain": [
       "  Column1                                            Column2 Column3 Column4  \\\n",
       "                                                                               \n",
       "1       1  çinar emlak'tan cumhuri̇yet mh. ki̇ralik 2+1 d...    home   Daire   \n",
       "2       2               yurdal emlak'tan ki̇ralik 4+1 dai̇re    home   Daire   \n",
       "3       3  mi̇ra emlak'tan cumhuri̇yet mah.de az hasarli ...    home   Daire   \n",
       "4       4  edomer gayrimenkul'den n.kemal mah. kiralık 3+...    home   Daire   \n",
       "\n",
       "   Column5 Column6 Column7       Column8  Column9 Column10 Column11  Column12  \\\n",
       "                                                                                \n",
       "1  weekend     2+1  layers        5. Kat  texture   130 m2    event  21 Eylül   \n",
       "2  weekend     4+1  layers  Yüksek giriş  texture   180 m2    event  20 Eylül   \n",
       "3  weekend     2+1  layers        7. Kat  texture   115 m2    event  20 Eylül   \n",
       "4  weekend     3+1  layers        3. Kat  texture   125 m2    event  17 Eylül   \n",
       "\n",
       "     Column13                          Column14 Column15 Column16 Column17  \n",
       "                                                                            \n",
       "1    7.000 TL   Adana - Ceyhan - Cumhuriyet Mh.      NaN      NaN      NaN  \n",
       "2   12.000 TL   Adana - Ceyhan - Cumhuriyet Mh.      NaN      NaN      NaN  \n",
       "3    7.250 TL   Adana - Ceyhan - Cumhuriyet Mh.      NaN      NaN      NaN  \n",
       "4  130.000 TL  Adana - Ceyhan - Namık Kemal Mh.      NaN      NaN      NaN  "
      ]
     },
     "execution_count": 9,
     "metadata": {},
     "output_type": "execute_result"
    }
   ],
   "source": [
    "# Drop rows except \"Residence\" and \"Daire\"\n",
    "for i in range(len(df)):\n",
    "    if df[\"Column4\"][i] != \"Residence\" and df[\"Column4\"][i] != \"Daire\":\n",
    "        df = df.drop(i, axis=0)\n",
    "        \n",
    "df.head(4)  "
   ]
  },
  {
   "cell_type": "code",
   "execution_count": 10,
   "id": "c2dacac1-b165-4215-8eb2-5f8fef951261",
   "metadata": {},
   "outputs": [],
   "source": [
    "df[''] = np.arange(len(df))\n",
    "df = df.set_index('')"
   ]
  },
  {
   "cell_type": "code",
   "execution_count": 11,
   "id": "d6f5534d-60a7-4dff-82ab-aabef0c3fc2b",
   "metadata": {},
   "outputs": [
    {
     "data": {
      "text/plain": [
       "33293"
      ]
     },
     "execution_count": 11,
     "metadata": {},
     "output_type": "execute_result"
    }
   ],
   "source": [
    "len(df)"
   ]
  },
  {
   "cell_type": "code",
   "execution_count": 12,
   "id": "824df915-626e-4f5b-85ec-af60183a716e",
   "metadata": {},
   "outputs": [
    {
     "data": {
      "text/html": [
       "<div>\n",
       "<style scoped>\n",
       "    .dataframe tbody tr th:only-of-type {\n",
       "        vertical-align: middle;\n",
       "    }\n",
       "\n",
       "    .dataframe tbody tr th {\n",
       "        vertical-align: top;\n",
       "    }\n",
       "\n",
       "    .dataframe thead th {\n",
       "        text-align: right;\n",
       "    }\n",
       "</style>\n",
       "<table border=\"1\" class=\"dataframe\">\n",
       "  <thead>\n",
       "    <tr style=\"text-align: right;\">\n",
       "      <th></th>\n",
       "      <th>Column6</th>\n",
       "      <th>Column10</th>\n",
       "      <th>Column13</th>\n",
       "      <th>Column14</th>\n",
       "    </tr>\n",
       "    <tr>\n",
       "      <th></th>\n",
       "      <th></th>\n",
       "      <th></th>\n",
       "      <th></th>\n",
       "      <th></th>\n",
       "    </tr>\n",
       "  </thead>\n",
       "  <tbody>\n",
       "    <tr>\n",
       "      <th>0</th>\n",
       "      <td>2+1</td>\n",
       "      <td>130 m2</td>\n",
       "      <td>7.000 TL</td>\n",
       "      <td>Adana - Ceyhan - Cumhuriyet Mh.</td>\n",
       "    </tr>\n",
       "    <tr>\n",
       "      <th>1</th>\n",
       "      <td>4+1</td>\n",
       "      <td>180 m2</td>\n",
       "      <td>12.000 TL</td>\n",
       "      <td>Adana - Ceyhan - Cumhuriyet Mh.</td>\n",
       "    </tr>\n",
       "    <tr>\n",
       "      <th>2</th>\n",
       "      <td>2+1</td>\n",
       "      <td>115 m2</td>\n",
       "      <td>7.250 TL</td>\n",
       "      <td>Adana - Ceyhan - Cumhuriyet Mh.</td>\n",
       "    </tr>\n",
       "    <tr>\n",
       "      <th>3</th>\n",
       "      <td>3+1</td>\n",
       "      <td>125 m2</td>\n",
       "      <td>130.000 TL</td>\n",
       "      <td>Adana - Ceyhan - Namık Kemal Mh.</td>\n",
       "    </tr>\n",
       "    <tr>\n",
       "      <th>4</th>\n",
       "      <td>3+1</td>\n",
       "      <td>185 m2</td>\n",
       "      <td>11.500 TL</td>\n",
       "      <td>Adana - Ceyhan - Hürriyet Mh.</td>\n",
       "    </tr>\n",
       "  </tbody>\n",
       "</table>\n",
       "</div>"
      ],
      "text/plain": [
       "  Column6 Column10    Column13                          Column14\n",
       "                                                                \n",
       "0     2+1   130 m2    7.000 TL   Adana - Ceyhan - Cumhuriyet Mh.\n",
       "1     4+1   180 m2   12.000 TL   Adana - Ceyhan - Cumhuriyet Mh.\n",
       "2     2+1   115 m2    7.250 TL   Adana - Ceyhan - Cumhuriyet Mh.\n",
       "3     3+1   125 m2  130.000 TL  Adana - Ceyhan - Namık Kemal Mh.\n",
       "4     3+1   185 m2   11.500 TL     Adana - Ceyhan - Hürriyet Mh."
      ]
     },
     "execution_count": 12,
     "metadata": {},
     "output_type": "execute_result"
    }
   ],
   "source": [
    "# Create a list of the columns_to_keep with column(6,10,13,14)\n",
    "columns_to_keep = [f\"Column{i}\" for i in [6, 10, 13, 14]]\n",
    "\n",
    "# Drop colums that not necessary for us\n",
    "for column in df.columns:\n",
    "    if column not in columns_to_keep:\n",
    "        df = df.drop(column, axis=1)\n",
    "    \n",
    "df.head()"
   ]
  },
  {
   "cell_type": "code",
   "execution_count": 13,
   "id": "3bac3238-2654-40ae-936c-79283b9e0ed5",
   "metadata": {},
   "outputs": [
    {
     "data": {
      "text/html": [
       "<div>\n",
       "<style scoped>\n",
       "    .dataframe tbody tr th:only-of-type {\n",
       "        vertical-align: middle;\n",
       "    }\n",
       "\n",
       "    .dataframe tbody tr th {\n",
       "        vertical-align: top;\n",
       "    }\n",
       "\n",
       "    .dataframe thead th {\n",
       "        text-align: right;\n",
       "    }\n",
       "</style>\n",
       "<table border=\"1\" class=\"dataframe\">\n",
       "  <thead>\n",
       "    <tr style=\"text-align: right;\">\n",
       "      <th></th>\n",
       "      <th>room</th>\n",
       "      <th>m²</th>\n",
       "      <th>price</th>\n",
       "      <th>address</th>\n",
       "    </tr>\n",
       "    <tr>\n",
       "      <th></th>\n",
       "      <th></th>\n",
       "      <th></th>\n",
       "      <th></th>\n",
       "      <th></th>\n",
       "    </tr>\n",
       "  </thead>\n",
       "  <tbody>\n",
       "    <tr>\n",
       "      <th>0</th>\n",
       "      <td>2+1</td>\n",
       "      <td>130 m2</td>\n",
       "      <td>7.000 TL</td>\n",
       "      <td>Adana - Ceyhan - Cumhuriyet Mh.</td>\n",
       "    </tr>\n",
       "  </tbody>\n",
       "</table>\n",
       "</div>"
      ],
      "text/plain": [
       "  room      m²     price                          address\n",
       "                                                         \n",
       "0  2+1  130 m2  7.000 TL  Adana - Ceyhan - Cumhuriyet Mh."
      ]
     },
     "execution_count": 13,
     "metadata": {},
     "output_type": "execute_result"
    }
   ],
   "source": [
    "# rename column name\n",
    "df.rename(columns = {'Column6':  'room',   'Column10': 'm²',\n",
    "                     'Column13': 'price',  'Column14': 'address'}, inplace = True)    \n",
    "df.head(1)"
   ]
  },
  {
   "cell_type": "code",
   "execution_count": 14,
   "id": "41709839-aa87-40a0-85f9-c7ad4741fbda",
   "metadata": {},
   "outputs": [
    {
     "data": {
      "text/html": [
       "<div>\n",
       "<style scoped>\n",
       "    .dataframe tbody tr th:only-of-type {\n",
       "        vertical-align: middle;\n",
       "    }\n",
       "\n",
       "    .dataframe tbody tr th {\n",
       "        vertical-align: top;\n",
       "    }\n",
       "\n",
       "    .dataframe thead th {\n",
       "        text-align: right;\n",
       "    }\n",
       "</style>\n",
       "<table border=\"1\" class=\"dataframe\">\n",
       "  <thead>\n",
       "    <tr style=\"text-align: right;\">\n",
       "      <th></th>\n",
       "      <th>room</th>\n",
       "      <th>m²</th>\n",
       "      <th>price</th>\n",
       "      <th>address</th>\n",
       "    </tr>\n",
       "    <tr>\n",
       "      <th></th>\n",
       "      <th></th>\n",
       "      <th></th>\n",
       "      <th></th>\n",
       "      <th></th>\n",
       "    </tr>\n",
       "  </thead>\n",
       "  <tbody>\n",
       "    <tr>\n",
       "      <th>0</th>\n",
       "      <td>2+1</td>\n",
       "      <td>130</td>\n",
       "      <td>7.000</td>\n",
       "      <td>Adana - Ceyhan - Cumhuriyet</td>\n",
       "    </tr>\n",
       "    <tr>\n",
       "      <th>1</th>\n",
       "      <td>4+1</td>\n",
       "      <td>180</td>\n",
       "      <td>12.000</td>\n",
       "      <td>Adana - Ceyhan - Cumhuriyet</td>\n",
       "    </tr>\n",
       "    <tr>\n",
       "      <th>2</th>\n",
       "      <td>2+1</td>\n",
       "      <td>115</td>\n",
       "      <td>7.250</td>\n",
       "      <td>Adana - Ceyhan - Cumhuriyet</td>\n",
       "    </tr>\n",
       "    <tr>\n",
       "      <th>3</th>\n",
       "      <td>3+1</td>\n",
       "      <td>125</td>\n",
       "      <td>130.000</td>\n",
       "      <td>Adana - Ceyhan - Namık Kemal</td>\n",
       "    </tr>\n",
       "    <tr>\n",
       "      <th>4</th>\n",
       "      <td>3+1</td>\n",
       "      <td>185</td>\n",
       "      <td>11.500</td>\n",
       "      <td>Adana - Ceyhan - Hürriyet</td>\n",
       "    </tr>\n",
       "  </tbody>\n",
       "</table>\n",
       "</div>"
      ],
      "text/plain": [
       "  room   m²    price                       address\n",
       "                                                  \n",
       "0  2+1  130    7.000   Adana - Ceyhan - Cumhuriyet\n",
       "1  4+1  180   12.000   Adana - Ceyhan - Cumhuriyet\n",
       "2  2+1  115    7.250   Adana - Ceyhan - Cumhuriyet\n",
       "3  3+1  125  130.000  Adana - Ceyhan - Namık Kemal\n",
       "4  3+1  185   11.500     Adana - Ceyhan - Hürriyet"
      ]
     },
     "execution_count": 14,
     "metadata": {},
     "output_type": "execute_result"
    }
   ],
   "source": [
    "# Delete extentions of \"m²\", \"price\", \"address\"\n",
    "df[\"m²\"     ] = df[\"m²\"     ].str.slice(0, -3)\n",
    "df[\"price\"  ] = df[\"price\"  ].str.slice(0, -3)\n",
    "df[\"address\"] = df[\"address\"].str.slice(0, -4)\n",
    "\n",
    "df.head()"
   ]
  },
  {
   "cell_type": "code",
   "execution_count": 15,
   "id": "5be8a599-00ab-45fa-9119-8f7086647cda",
   "metadata": {},
   "outputs": [
    {
     "data": {
      "text/html": [
       "<div>\n",
       "<style scoped>\n",
       "    .dataframe tbody tr th:only-of-type {\n",
       "        vertical-align: middle;\n",
       "    }\n",
       "\n",
       "    .dataframe tbody tr th {\n",
       "        vertical-align: top;\n",
       "    }\n",
       "\n",
       "    .dataframe thead th {\n",
       "        text-align: right;\n",
       "    }\n",
       "</style>\n",
       "<table border=\"1\" class=\"dataframe\">\n",
       "  <thead>\n",
       "    <tr style=\"text-align: right;\">\n",
       "      <th></th>\n",
       "      <th>room</th>\n",
       "      <th>m²</th>\n",
       "      <th>price</th>\n",
       "      <th>address</th>\n",
       "      <th>city</th>\n",
       "      <th>district</th>\n",
       "      <th>neighborhood</th>\n",
       "    </tr>\n",
       "    <tr>\n",
       "      <th></th>\n",
       "      <th></th>\n",
       "      <th></th>\n",
       "      <th></th>\n",
       "      <th></th>\n",
       "      <th></th>\n",
       "      <th></th>\n",
       "      <th></th>\n",
       "    </tr>\n",
       "  </thead>\n",
       "  <tbody>\n",
       "    <tr>\n",
       "      <th>0</th>\n",
       "      <td>2+1</td>\n",
       "      <td>130</td>\n",
       "      <td>7.000</td>\n",
       "      <td>Adana - Ceyhan - Cumhuriyet</td>\n",
       "      <td>Adana</td>\n",
       "      <td>Ceyhan</td>\n",
       "      <td>Cumhuriyet</td>\n",
       "    </tr>\n",
       "    <tr>\n",
       "      <th>1</th>\n",
       "      <td>4+1</td>\n",
       "      <td>180</td>\n",
       "      <td>12.000</td>\n",
       "      <td>Adana - Ceyhan - Cumhuriyet</td>\n",
       "      <td>Adana</td>\n",
       "      <td>Ceyhan</td>\n",
       "      <td>Cumhuriyet</td>\n",
       "    </tr>\n",
       "    <tr>\n",
       "      <th>2</th>\n",
       "      <td>2+1</td>\n",
       "      <td>115</td>\n",
       "      <td>7.250</td>\n",
       "      <td>Adana - Ceyhan - Cumhuriyet</td>\n",
       "      <td>Adana</td>\n",
       "      <td>Ceyhan</td>\n",
       "      <td>Cumhuriyet</td>\n",
       "    </tr>\n",
       "    <tr>\n",
       "      <th>3</th>\n",
       "      <td>3+1</td>\n",
       "      <td>125</td>\n",
       "      <td>130.000</td>\n",
       "      <td>Adana - Ceyhan - Namık Kemal</td>\n",
       "      <td>Adana</td>\n",
       "      <td>Ceyhan</td>\n",
       "      <td>Namık Kemal</td>\n",
       "    </tr>\n",
       "    <tr>\n",
       "      <th>4</th>\n",
       "      <td>3+1</td>\n",
       "      <td>185</td>\n",
       "      <td>11.500</td>\n",
       "      <td>Adana - Ceyhan - Hürriyet</td>\n",
       "      <td>Adana</td>\n",
       "      <td>Ceyhan</td>\n",
       "      <td>Hürriyet</td>\n",
       "    </tr>\n",
       "  </tbody>\n",
       "</table>\n",
       "</div>"
      ],
      "text/plain": [
       "  room   m²    price                       address   city district  \\\n",
       "                                                                     \n",
       "0  2+1  130    7.000   Adana - Ceyhan - Cumhuriyet  Adana   Ceyhan   \n",
       "1  4+1  180   12.000   Adana - Ceyhan - Cumhuriyet  Adana   Ceyhan   \n",
       "2  2+1  115    7.250   Adana - Ceyhan - Cumhuriyet  Adana   Ceyhan   \n",
       "3  3+1  125  130.000  Adana - Ceyhan - Namık Kemal  Adana   Ceyhan   \n",
       "4  3+1  185   11.500     Adana - Ceyhan - Hürriyet  Adana   Ceyhan   \n",
       "\n",
       "  neighborhood  \n",
       "                \n",
       "0   Cumhuriyet  \n",
       "1   Cumhuriyet  \n",
       "2   Cumhuriyet  \n",
       "3  Namık Kemal  \n",
       "4     Hürriyet  "
      ]
     },
     "execution_count": 15,
     "metadata": {},
     "output_type": "execute_result"
    }
   ],
   "source": [
    "# Split \"address\" to tree column that \"city\", \"district\", \"neighborhood\"\n",
    "df = df.assign(\n",
    "    city         = df[\"address\"].str.split(\" - \").str[0],\n",
    "    district     = df[\"address\"].str.split(\" - \").str[1],\n",
    "    neighborhood = df[\"address\"].str.split(\" - \").str[2]\n",
    ")\n",
    "\n",
    "df.head()"
   ]
  },
  {
   "cell_type": "code",
   "execution_count": 16,
   "id": "c1e18cfe-ca48-43f5-bfa3-b085e1496996",
   "metadata": {},
   "outputs": [],
   "source": [
    "df = df.drop(\"address\", axis=1)"
   ]
  },
  {
   "cell_type": "code",
   "execution_count": 17,
   "id": "ab631b8d-51c4-4e07-a954-543811e99a69",
   "metadata": {},
   "outputs": [
    {
     "data": {
      "text/html": [
       "<div>\n",
       "<style scoped>\n",
       "    .dataframe tbody tr th:only-of-type {\n",
       "        vertical-align: middle;\n",
       "    }\n",
       "\n",
       "    .dataframe tbody tr th {\n",
       "        vertical-align: top;\n",
       "    }\n",
       "\n",
       "    .dataframe thead th {\n",
       "        text-align: right;\n",
       "    }\n",
       "</style>\n",
       "<table border=\"1\" class=\"dataframe\">\n",
       "  <thead>\n",
       "    <tr style=\"text-align: right;\">\n",
       "      <th></th>\n",
       "      <th>room</th>\n",
       "      <th>m²</th>\n",
       "      <th>price</th>\n",
       "      <th>city</th>\n",
       "      <th>district</th>\n",
       "      <th>neighborhood</th>\n",
       "    </tr>\n",
       "    <tr>\n",
       "      <th></th>\n",
       "      <th></th>\n",
       "      <th></th>\n",
       "      <th></th>\n",
       "      <th></th>\n",
       "      <th></th>\n",
       "      <th></th>\n",
       "    </tr>\n",
       "  </thead>\n",
       "  <tbody>\n",
       "    <tr>\n",
       "      <th>0</th>\n",
       "      <td>2+1</td>\n",
       "      <td>130</td>\n",
       "      <td>7000</td>\n",
       "      <td>Adana</td>\n",
       "      <td>Ceyhan</td>\n",
       "      <td>Cumhuriyet</td>\n",
       "    </tr>\n",
       "    <tr>\n",
       "      <th>1</th>\n",
       "      <td>4+1</td>\n",
       "      <td>180</td>\n",
       "      <td>12000</td>\n",
       "      <td>Adana</td>\n",
       "      <td>Ceyhan</td>\n",
       "      <td>Cumhuriyet</td>\n",
       "    </tr>\n",
       "    <tr>\n",
       "      <th>2</th>\n",
       "      <td>2+1</td>\n",
       "      <td>115</td>\n",
       "      <td>7250</td>\n",
       "      <td>Adana</td>\n",
       "      <td>Ceyhan</td>\n",
       "      <td>Cumhuriyet</td>\n",
       "    </tr>\n",
       "    <tr>\n",
       "      <th>3</th>\n",
       "      <td>3+1</td>\n",
       "      <td>125</td>\n",
       "      <td>130000</td>\n",
       "      <td>Adana</td>\n",
       "      <td>Ceyhan</td>\n",
       "      <td>Namık Kemal</td>\n",
       "    </tr>\n",
       "    <tr>\n",
       "      <th>4</th>\n",
       "      <td>3+1</td>\n",
       "      <td>185</td>\n",
       "      <td>11500</td>\n",
       "      <td>Adana</td>\n",
       "      <td>Ceyhan</td>\n",
       "      <td>Hürriyet</td>\n",
       "    </tr>\n",
       "  </tbody>\n",
       "</table>\n",
       "</div>"
      ],
      "text/plain": [
       "  room   m²   price   city district neighborhood\n",
       "                                                \n",
       "0  2+1  130    7000  Adana   Ceyhan   Cumhuriyet\n",
       "1  4+1  180   12000  Adana   Ceyhan   Cumhuriyet\n",
       "2  2+1  115    7250  Adana   Ceyhan   Cumhuriyet\n",
       "3  3+1  125  130000  Adana   Ceyhan  Namık Kemal\n",
       "4  3+1  185   11500  Adana   Ceyhan     Hürriyet"
      ]
     },
     "execution_count": 17,
     "metadata": {},
     "output_type": "execute_result"
    }
   ],
   "source": [
    "# To make \"price\" and \"m²\" integer.\n",
    "for i in range(len(df)):\n",
    "    df[\"price\"][i] = df[\"price\"][i].replace(\".\" , \"\") \n",
    "\n",
    "# 2.way\n",
    "#df[\"price\"] = df[\"price\"].astype(float)\n",
    "\n",
    "df[\"price\"] = df[\"price\"].astype(int)\n",
    "df[\"m²\"   ] = df[\"m²\"   ].astype(int)\n",
    "\n",
    "df.head()"
   ]
  },
  {
   "cell_type": "code",
   "execution_count": 18,
   "id": "1a368cb3-16d7-412e-846b-117c957ef848",
   "metadata": {},
   "outputs": [
    {
     "name": "stdout",
     "output_type": "stream",
     "text": [
      "int32\n",
      "int32\n"
     ]
    }
   ],
   "source": [
    "print(df[\"m²\"].dtype)\n",
    "print(df[\"price\"].dtype)"
   ]
  },
  {
   "cell_type": "code",
   "execution_count": null,
   "id": "eaeca78d-6d26-43c5-947e-fc25b8e7ce1b",
   "metadata": {},
   "outputs": [],
   "source": []
  },
  {
   "cell_type": "code",
   "execution_count": 19,
   "id": "3885533f-84b8-4900-9ec8-5a13e4c86416",
   "metadata": {},
   "outputs": [],
   "source": [
    "# Drop outlier \"m²\" values.\n",
    "# Drop limited to between 300 and 20  for now...\n",
    "# if \"m²\">300 or \"m²\"<20 drop this row\n",
    "\n",
    "for i in range(len(df)):\n",
    "    if df[\"m²\"][i]>300 or df[\"m²\"][i]<20:\n",
    "        df = df.drop(i, axis=0)\n",
    "        \n",
    "# Reindex index number\n",
    "df[''] = np.arange(len(df))\n",
    "df = df.set_index('')"
   ]
  },
  {
   "cell_type": "code",
   "execution_count": 20,
   "id": "63124bee-d27e-48ac-9731-9df8f368a1fb",
   "metadata": {
    "tags": []
   },
   "outputs": [
    {
     "data": {
      "text/plain": [
       "<Axes: xlabel='m²'>"
      ]
     },
     "execution_count": 20,
     "metadata": {},
     "output_type": "execute_result"
    },
    {
     "data": {
      "image/png": "[encoded data removed]",
      "text/plain": [
       "<Figure size 640x480 with 1 Axes>"
      ]
     },
     "metadata": {},
     "output_type": "display_data"
    }
   ],
   "source": [
    "# Wiew m² outliars in seaborn boxplot\n",
    "\n",
    "m = df[\"m²\"]\n",
    "sns.boxplot(x = m)"
   ]
  },
  {
   "cell_type": "code",
   "execution_count": 21,
   "id": "03644f46-d69c-4cd9-833e-9d6c5fb4ded8",
   "metadata": {},
   "outputs": [
    {
     "data": {
      "text/html": [
       "<div>\n",
       "<style scoped>\n",
       "    .dataframe tbody tr th:only-of-type {\n",
       "        vertical-align: middle;\n",
       "    }\n",
       "\n",
       "    .dataframe tbody tr th {\n",
       "        vertical-align: top;\n",
       "    }\n",
       "\n",
       "    .dataframe thead th {\n",
       "        text-align: right;\n",
       "    }\n",
       "</style>\n",
       "<table border=\"1\" class=\"dataframe\">\n",
       "  <thead>\n",
       "    <tr style=\"text-align: right;\">\n",
       "      <th></th>\n",
       "      <th>count</th>\n",
       "      <th>mean</th>\n",
       "      <th>std</th>\n",
       "      <th>min</th>\n",
       "      <th>25%</th>\n",
       "      <th>50%</th>\n",
       "      <th>75%</th>\n",
       "      <th>max</th>\n",
       "    </tr>\n",
       "  </thead>\n",
       "  <tbody>\n",
       "    <tr>\n",
       "      <th>m²</th>\n",
       "      <td>32892.0</td>\n",
       "      <td>116.690533</td>\n",
       "      <td>4.799438e+01</td>\n",
       "      <td>2.000000e+01</td>\n",
       "      <td>80.0</td>\n",
       "      <td>110.0</td>\n",
       "      <td>145.0</td>\n",
       "      <td>300.0</td>\n",
       "    </tr>\n",
       "    <tr>\n",
       "      <th>price</th>\n",
       "      <td>32892.0</td>\n",
       "      <td>-18103.591572</td>\n",
       "      <td>1.185762e+07</td>\n",
       "      <td>-2.147484e+09</td>\n",
       "      <td>10000.0</td>\n",
       "      <td>13500.0</td>\n",
       "      <td>19000.0</td>\n",
       "      <td>50000000.0</td>\n",
       "    </tr>\n",
       "  </tbody>\n",
       "</table>\n",
       "</div>"
      ],
      "text/plain": [
       "         count          mean           std           min      25%      50%  \\\n",
       "m²     32892.0    116.690533  4.799438e+01  2.000000e+01     80.0    110.0   \n",
       "price  32892.0 -18103.591572  1.185762e+07 -2.147484e+09  10000.0  13500.0   \n",
       "\n",
       "           75%         max  \n",
       "m²       145.0       300.0  \n",
       "price  19000.0  50000000.0  "
      ]
     },
     "execution_count": 21,
     "metadata": {},
     "output_type": "execute_result"
    }
   ],
   "source": [
    "df.describe().T"
   ]
  },
  {
   "cell_type": "code",
   "execution_count": 22,
   "id": "17007642-bb73-48fe-8ed1-4187525232e7",
   "metadata": {},
   "outputs": [
    {
     "data": {
      "text/plain": [
       "Int64Index([   51,   137,   211,   227,   228,   235,   256,   305,   310,\n",
       "              435,\n",
       "            ...\n",
       "            32397, 32484, 32592, 32687, 32692, 32698, 32703, 32718, 32760,\n",
       "            32815],\n",
       "           dtype='int64', name='', length=595)"
      ]
     },
     "execution_count": 22,
     "metadata": {},
     "output_type": "execute_result"
    }
   ],
   "source": [
    "# learn index of m² outliars\n",
    "outliars = df[\"m²\"] > (145 + (3/2*(145-80)))\n",
    "df[outliars].index"
   ]
  },
  {
   "cell_type": "code",
   "execution_count": 23,
   "id": "513e02ed-55ee-40ec-99ca-94aa92bd4470",
   "metadata": {},
   "outputs": [],
   "source": [
    "# drop outlier \"m²\" values\n",
    "df = df.drop(df[outliars].index, axis=0)"
   ]
  },
  {
   "cell_type": "code",
   "execution_count": 24,
   "id": "98b701a5-e6bf-4f55-b4fb-48b5fbe9ed7c",
   "metadata": {},
   "outputs": [],
   "source": [
    "# Reindex index number. \n",
    "df[''] = np.arange(len(df))\n",
    "df = df.set_index('')"
   ]
  },
  {
   "cell_type": "code",
   "execution_count": null,
   "id": "e18f99f8-7187-45c4-9d7a-d8b1333ada7a",
   "metadata": {},
   "outputs": [],
   "source": []
  },
  {
   "cell_type": "code",
   "execution_count": 25,
   "id": "e3da2253-76e4-4470-97ef-7cef212893d5",
   "metadata": {},
   "outputs": [
    {
     "data": {
      "text/plain": [
       "<Axes: xlabel='m²'>"
      ]
     },
     "execution_count": 25,
     "metadata": {},
     "output_type": "execute_result"
    },
    {
     "data": {
      "image/png": "[encoded data removed]",
      "text/plain": [
       "<Figure size 640x480 with 1 Axes>"
      ]
     },
     "metadata": {},
     "output_type": "display_data"
    }
   ],
   "source": [
    "# wiew outliars m² in seaborn boxplot again.\n",
    "m = df[\"m²\"]\n",
    "sns.boxplot(x = m)"
   ]
  },
  {
   "cell_type": "code",
   "execution_count": 26,
   "id": "71ed7c05-fb06-4445-b0d2-177ee219feaa",
   "metadata": {},
   "outputs": [
    {
     "data": {
      "text/html": [
       "<div>\n",
       "<style scoped>\n",
       "    .dataframe tbody tr th:only-of-type {\n",
       "        vertical-align: middle;\n",
       "    }\n",
       "\n",
       "    .dataframe tbody tr th {\n",
       "        vertical-align: top;\n",
       "    }\n",
       "\n",
       "    .dataframe thead th {\n",
       "        text-align: right;\n",
       "    }\n",
       "</style>\n",
       "<table border=\"1\" class=\"dataframe\">\n",
       "  <thead>\n",
       "    <tr style=\"text-align: right;\">\n",
       "      <th></th>\n",
       "      <th>count</th>\n",
       "      <th>mean</th>\n",
       "      <th>std</th>\n",
       "      <th>min</th>\n",
       "      <th>25%</th>\n",
       "      <th>50%</th>\n",
       "      <th>75%</th>\n",
       "      <th>max</th>\n",
       "    </tr>\n",
       "  </thead>\n",
       "  <tbody>\n",
       "    <tr>\n",
       "      <th>m²</th>\n",
       "      <td>32297.0</td>\n",
       "      <td>113.922532</td>\n",
       "      <td>4.376906e+01</td>\n",
       "      <td>2.000000e+01</td>\n",
       "      <td>80.0</td>\n",
       "      <td>110.0</td>\n",
       "      <td>140.0</td>\n",
       "      <td>242.0</td>\n",
       "    </tr>\n",
       "    <tr>\n",
       "      <th>price</th>\n",
       "      <td>32297.0</td>\n",
       "      <td>-22553.692882</td>\n",
       "      <td>1.196235e+07</td>\n",
       "      <td>-2.147484e+09</td>\n",
       "      <td>10000.0</td>\n",
       "      <td>13500.0</td>\n",
       "      <td>18500.0</td>\n",
       "      <td>49000000.0</td>\n",
       "    </tr>\n",
       "  </tbody>\n",
       "</table>\n",
       "</div>"
      ],
      "text/plain": [
       "         count          mean           std           min      25%      50%  \\\n",
       "m²     32297.0    113.922532  4.376906e+01  2.000000e+01     80.0    110.0   \n",
       "price  32297.0 -22553.692882  1.196235e+07 -2.147484e+09  10000.0  13500.0   \n",
       "\n",
       "           75%         max  \n",
       "m²       140.0       242.0  \n",
       "price  18500.0  49000000.0  "
      ]
     },
     "execution_count": 26,
     "metadata": {},
     "output_type": "execute_result"
    }
   ],
   "source": [
    "df.describe().T"
   ]
  },
  {
   "cell_type": "code",
   "execution_count": 27,
   "id": "7bafff80-5ef0-40f8-88f8-0d4cbc4bca53",
   "metadata": {},
   "outputs": [],
   "source": [
    "# learn index of m² outliars\n",
    "outliars = df[\"m²\"] > (140 + (3/2*(140-80)))\n",
    "\n",
    "# drop outliers \"m²\" again.\n",
    "df = df.drop(df[outliars].index, axis=0)\n",
    "df[''] = np.arange(len(df))\n",
    "df = df.set_index('')"
   ]
  },
  {
   "cell_type": "code",
   "execution_count": 28,
   "id": "f6958d92-b4a0-45dd-94b8-b7c1bf871c09",
   "metadata": {},
   "outputs": [
    {
     "data": {
      "text/plain": [
       "<Axes: xlabel='m²'>"
      ]
     },
     "execution_count": 28,
     "metadata": {},
     "output_type": "execute_result"
    },
    {
     "data": {
      "image/png": "[encoded data removed]",
      "text/plain": [
       "<Figure size 640x480 with 1 Axes>"
      ]
     },
     "metadata": {},
     "output_type": "display_data"
    }
   ],
   "source": [
    "# wiew m² outliars in seaborn boxplot \n",
    "m = df[\"m²\"]\n",
    "sns.boxplot(x = m)"
   ]
  },
  {
   "cell_type": "code",
   "execution_count": null,
   "id": "2d3deeaa-b3bd-4b43-8af8-7b55dd81d0ad",
   "metadata": {},
   "outputs": [],
   "source": []
  },
  {
   "cell_type": "code",
   "execution_count": 29,
   "id": "9537a176-d47c-4846-85e6-63dfc85f509e",
   "metadata": {
    "tags": []
   },
   "outputs": [],
   "source": [
    "# Deleting outlier \"price\" values.\n",
    "# Drop outlier \"price\" values between 2000 and 75000 for now...\n",
    "# if \"price\">75000 or \"price\"<2000 drop that row.\n",
    "\n",
    "for i in range(len(df)):\n",
    "    if df[\"price\"][i]>75000 or df[\"price\"][i]<2000:\n",
    "        df = df.drop(i, axis=0)\n",
    "        \n",
    "df[''] = np.arange(len(df))\n",
    "df = df.set_index('')"
   ]
  },
  {
   "cell_type": "code",
   "execution_count": 30,
   "id": "e81ef481-c59e-4a60-8514-74b135f3fe5e",
   "metadata": {},
   "outputs": [
    {
     "data": {
      "text/html": [
       "<div>\n",
       "<style scoped>\n",
       "    .dataframe tbody tr th:only-of-type {\n",
       "        vertical-align: middle;\n",
       "    }\n",
       "\n",
       "    .dataframe tbody tr th {\n",
       "        vertical-align: top;\n",
       "    }\n",
       "\n",
       "    .dataframe thead th {\n",
       "        text-align: right;\n",
       "    }\n",
       "</style>\n",
       "<table border=\"1\" class=\"dataframe\">\n",
       "  <thead>\n",
       "    <tr style=\"text-align: right;\">\n",
       "      <th></th>\n",
       "      <th>count</th>\n",
       "      <th>mean</th>\n",
       "      <th>std</th>\n",
       "      <th>min</th>\n",
       "      <th>25%</th>\n",
       "      <th>50%</th>\n",
       "      <th>75%</th>\n",
       "      <th>max</th>\n",
       "    </tr>\n",
       "  </thead>\n",
       "  <tbody>\n",
       "    <tr>\n",
       "      <th>m²</th>\n",
       "      <td>29861.0</td>\n",
       "      <td>113.667057</td>\n",
       "      <td>41.514222</td>\n",
       "      <td>20.0</td>\n",
       "      <td>85.0</td>\n",
       "      <td>110.0</td>\n",
       "      <td>140.0</td>\n",
       "      <td>230.0</td>\n",
       "    </tr>\n",
       "    <tr>\n",
       "      <th>price</th>\n",
       "      <td>29861.0</td>\n",
       "      <td>15412.878169</td>\n",
       "      <td>9355.479629</td>\n",
       "      <td>2000.0</td>\n",
       "      <td>10000.0</td>\n",
       "      <td>13500.0</td>\n",
       "      <td>18000.0</td>\n",
       "      <td>75000.0</td>\n",
       "    </tr>\n",
       "  </tbody>\n",
       "</table>\n",
       "</div>"
      ],
      "text/plain": [
       "         count          mean          std     min      25%      50%      75%  \\\n",
       "m²     29861.0    113.667057    41.514222    20.0     85.0    110.0    140.0   \n",
       "price  29861.0  15412.878169  9355.479629  2000.0  10000.0  13500.0  18000.0   \n",
       "\n",
       "           max  \n",
       "m²       230.0  \n",
       "price  75000.0  "
      ]
     },
     "execution_count": 30,
     "metadata": {},
     "output_type": "execute_result"
    }
   ],
   "source": [
    "df.describe().T"
   ]
  },
  {
   "cell_type": "code",
   "execution_count": 31,
   "id": "07642d7f-87bf-4c05-9f1c-12ec4dc4f13e",
   "metadata": {},
   "outputs": [
    {
     "data": {
      "text/html": [
       "<div>\n",
       "<style scoped>\n",
       "    .dataframe tbody tr th:only-of-type {\n",
       "        vertical-align: middle;\n",
       "    }\n",
       "\n",
       "    .dataframe tbody tr th {\n",
       "        vertical-align: top;\n",
       "    }\n",
       "\n",
       "    .dataframe thead th {\n",
       "        text-align: right;\n",
       "    }\n",
       "</style>\n",
       "<table border=\"1\" class=\"dataframe\">\n",
       "  <thead>\n",
       "    <tr style=\"text-align: right;\">\n",
       "      <th></th>\n",
       "      <th>city</th>\n",
       "      <th>district</th>\n",
       "      <th>neighborhood</th>\n",
       "      <th>room</th>\n",
       "      <th>m²</th>\n",
       "      <th>price</th>\n",
       "    </tr>\n",
       "    <tr>\n",
       "      <th></th>\n",
       "      <th></th>\n",
       "      <th></th>\n",
       "      <th></th>\n",
       "      <th></th>\n",
       "      <th></th>\n",
       "      <th></th>\n",
       "    </tr>\n",
       "  </thead>\n",
       "  <tbody>\n",
       "    <tr>\n",
       "      <th>0</th>\n",
       "      <td>Adana</td>\n",
       "      <td>Ceyhan</td>\n",
       "      <td>Cumhuriyet</td>\n",
       "      <td>2+1</td>\n",
       "      <td>130</td>\n",
       "      <td>7000</td>\n",
       "    </tr>\n",
       "    <tr>\n",
       "      <th>1</th>\n",
       "      <td>Adana</td>\n",
       "      <td>Ceyhan</td>\n",
       "      <td>Cumhuriyet</td>\n",
       "      <td>4+1</td>\n",
       "      <td>180</td>\n",
       "      <td>12000</td>\n",
       "    </tr>\n",
       "    <tr>\n",
       "      <th>2</th>\n",
       "      <td>Adana</td>\n",
       "      <td>Ceyhan</td>\n",
       "      <td>Cumhuriyet</td>\n",
       "      <td>2+1</td>\n",
       "      <td>115</td>\n",
       "      <td>7250</td>\n",
       "    </tr>\n",
       "    <tr>\n",
       "      <th>3</th>\n",
       "      <td>Adana</td>\n",
       "      <td>Ceyhan</td>\n",
       "      <td>Hürriyet</td>\n",
       "      <td>3+1</td>\n",
       "      <td>185</td>\n",
       "      <td>11500</td>\n",
       "    </tr>\n",
       "    <tr>\n",
       "      <th>4</th>\n",
       "      <td>Adana</td>\n",
       "      <td>Ceyhan</td>\n",
       "      <td>Ulus</td>\n",
       "      <td>3+1</td>\n",
       "      <td>165</td>\n",
       "      <td>9000</td>\n",
       "    </tr>\n",
       "  </tbody>\n",
       "</table>\n",
       "</div>"
      ],
      "text/plain": [
       "    city district neighborhood room   m²  price\n",
       "                                               \n",
       "0  Adana   Ceyhan   Cumhuriyet  2+1  130   7000\n",
       "1  Adana   Ceyhan   Cumhuriyet  4+1  180  12000\n",
       "2  Adana   Ceyhan   Cumhuriyet  2+1  115   7250\n",
       "3  Adana   Ceyhan     Hürriyet  3+1  185  11500\n",
       "4  Adana   Ceyhan         Ulus  3+1  165   9000"
      ]
     },
     "execution_count": 31,
     "metadata": {},
     "output_type": "execute_result"
    }
   ],
   "source": [
    "# sort column names\n",
    "df = df.reindex([\"city\", \"district\", \"neighborhood\", \"room\", \"m²\", \"price\"], axis=1)\n",
    "df.head()"
   ]
  },
  {
   "cell_type": "code",
   "execution_count": 33,
   "id": "c5e8d8fe-8708-4780-aba7-e72e14a67717",
   "metadata": {},
   "outputs": [],
   "source": [
    "# replace \"Stüdyo\" to \"1+0\"\n",
    "for i in range(len(df)):\n",
    "    if df[\"room\"][i]==\"Stüdyo\":\n",
    "        df[\"room\"][i]=\"1+0\""
   ]
  },
  {
   "cell_type": "code",
   "execution_count": 34,
   "id": "722b2dde-04a7-4e5f-a6cc-3af11d049230",
   "metadata": {},
   "outputs": [],
   "source": [
    "# Drop room numbers that not important like \"2.5+1\", \"5+1\", \"2+0\"\n",
    "for i in range(len(df)):\n",
    "    if df[\"room\"][i] not in [\"1+0\", \"1+1\", \"2+1\", \"3+1\", \"4+1\"]:\n",
    "        df = df.drop(i, axis=0)"
   ]
  },
  {
   "cell_type": "code",
   "execution_count": 35,
   "id": "4675e127-1eac-438c-910e-40ec1469db93",
   "metadata": {},
   "outputs": [],
   "source": [
    "df[''] = np.arange(len(df))\n",
    "df = df.set_index('')"
   ]
  },
  {
   "cell_type": "code",
   "execution_count": 36,
   "id": "819a38b7-f39c-4d41-8d3f-470cb58e4af4",
   "metadata": {},
   "outputs": [
    {
     "data": {
      "text/html": [
       "<div>\n",
       "<style scoped>\n",
       "    .dataframe tbody tr th:only-of-type {\n",
       "        vertical-align: middle;\n",
       "    }\n",
       "\n",
       "    .dataframe tbody tr th {\n",
       "        vertical-align: top;\n",
       "    }\n",
       "\n",
       "    .dataframe thead th {\n",
       "        text-align: right;\n",
       "    }\n",
       "</style>\n",
       "<table border=\"1\" class=\"dataframe\">\n",
       "  <thead>\n",
       "    <tr style=\"text-align: right;\">\n",
       "      <th></th>\n",
       "      <th>city</th>\n",
       "      <th>district</th>\n",
       "      <th>neighborhood</th>\n",
       "      <th>room</th>\n",
       "      <th>m²</th>\n",
       "      <th>price</th>\n",
       "    </tr>\n",
       "    <tr>\n",
       "      <th></th>\n",
       "      <th></th>\n",
       "      <th></th>\n",
       "      <th></th>\n",
       "      <th></th>\n",
       "      <th></th>\n",
       "      <th></th>\n",
       "    </tr>\n",
       "  </thead>\n",
       "  <tbody>\n",
       "    <tr>\n",
       "      <th>0</th>\n",
       "      <td>Adana</td>\n",
       "      <td>Ceyhan</td>\n",
       "      <td>Cumhuriyet</td>\n",
       "      <td>2+1</td>\n",
       "      <td>130</td>\n",
       "      <td>7000</td>\n",
       "    </tr>\n",
       "    <tr>\n",
       "      <th>1</th>\n",
       "      <td>Adana</td>\n",
       "      <td>Ceyhan</td>\n",
       "      <td>Cumhuriyet</td>\n",
       "      <td>4+1</td>\n",
       "      <td>180</td>\n",
       "      <td>12000</td>\n",
       "    </tr>\n",
       "    <tr>\n",
       "      <th>2</th>\n",
       "      <td>Adana</td>\n",
       "      <td>Ceyhan</td>\n",
       "      <td>Cumhuriyet</td>\n",
       "      <td>2+1</td>\n",
       "      <td>115</td>\n",
       "      <td>7250</td>\n",
       "    </tr>\n",
       "    <tr>\n",
       "      <th>3</th>\n",
       "      <td>Adana</td>\n",
       "      <td>Ceyhan</td>\n",
       "      <td>Hürriyet</td>\n",
       "      <td>3+1</td>\n",
       "      <td>185</td>\n",
       "      <td>11500</td>\n",
       "    </tr>\n",
       "    <tr>\n",
       "      <th>4</th>\n",
       "      <td>Adana</td>\n",
       "      <td>Ceyhan</td>\n",
       "      <td>Ulus</td>\n",
       "      <td>3+1</td>\n",
       "      <td>165</td>\n",
       "      <td>9000</td>\n",
       "    </tr>\n",
       "    <tr>\n",
       "      <th>...</th>\n",
       "      <td>...</td>\n",
       "      <td>...</td>\n",
       "      <td>...</td>\n",
       "      <td>...</td>\n",
       "      <td>...</td>\n",
       "      <td>...</td>\n",
       "    </tr>\n",
       "    <tr>\n",
       "      <th>28572</th>\n",
       "      <td>Yozgat</td>\n",
       "      <td>Yerköy</td>\n",
       "      <td>100. Yıl</td>\n",
       "      <td>3+1</td>\n",
       "      <td>135</td>\n",
       "      <td>4250</td>\n",
       "    </tr>\n",
       "    <tr>\n",
       "      <th>28573</th>\n",
       "      <td>Yozgat</td>\n",
       "      <td>Yerköy</td>\n",
       "      <td>Ayanoğlu</td>\n",
       "      <td>3+1</td>\n",
       "      <td>135</td>\n",
       "      <td>5250</td>\n",
       "    </tr>\n",
       "    <tr>\n",
       "      <th>28574</th>\n",
       "      <td>Yozgat</td>\n",
       "      <td>Yerköy</td>\n",
       "      <td>100. Yıl</td>\n",
       "      <td>3+1</td>\n",
       "      <td>140</td>\n",
       "      <td>3250</td>\n",
       "    </tr>\n",
       "    <tr>\n",
       "      <th>28575</th>\n",
       "      <td>Zonguldak</td>\n",
       "      <td>Çaycuma</td>\n",
       "      <td>Karamusa</td>\n",
       "      <td>3+1</td>\n",
       "      <td>120</td>\n",
       "      <td>11000</td>\n",
       "    </tr>\n",
       "    <tr>\n",
       "      <th>28576</th>\n",
       "      <td>arrow_down</td>\n",
       "      <td>NaN</td>\n",
       "      <td>NaN</td>\n",
       "      <td>3+1</td>\n",
       "      <td>160</td>\n",
       "      <td>8000</td>\n",
       "    </tr>\n",
       "  </tbody>\n",
       "</table>\n",
       "<p>28577 rows × 6 columns</p>\n",
       "</div>"
      ],
      "text/plain": [
       "             city district neighborhood room   m²  price\n",
       "                                                        \n",
       "0           Adana   Ceyhan   Cumhuriyet  2+1  130   7000\n",
       "1           Adana   Ceyhan   Cumhuriyet  4+1  180  12000\n",
       "2           Adana   Ceyhan   Cumhuriyet  2+1  115   7250\n",
       "3           Adana   Ceyhan     Hürriyet  3+1  185  11500\n",
       "4           Adana   Ceyhan         Ulus  3+1  165   9000\n",
       "...           ...      ...          ...  ...  ...    ...\n",
       "28572      Yozgat   Yerköy     100. Yıl  3+1  135   4250\n",
       "28573      Yozgat   Yerköy     Ayanoğlu  3+1  135   5250\n",
       "28574      Yozgat   Yerköy     100. Yıl  3+1  140   3250\n",
       "28575   Zonguldak  Çaycuma     Karamusa  3+1  120  11000\n",
       "28576  arrow_down      NaN          NaN  3+1  160   8000\n",
       "\n",
       "[28577 rows x 6 columns]"
      ]
     },
     "execution_count": 36,
     "metadata": {},
     "output_type": "execute_result"
    }
   ],
   "source": [
    "df"
   ]
  },
  {
   "cell_type": "code",
   "execution_count": 43,
   "id": "b6ef2b8c-831b-4f8a-a0dc-d4ac86bf1fe9",
   "metadata": {},
   "outputs": [
    {
     "data": {
      "text/html": [
       "<div>\n",
       "<style scoped>\n",
       "    .dataframe tbody tr th:only-of-type {\n",
       "        vertical-align: middle;\n",
       "    }\n",
       "\n",
       "    .dataframe tbody tr th {\n",
       "        vertical-align: top;\n",
       "    }\n",
       "\n",
       "    .dataframe thead th {\n",
       "        text-align: right;\n",
       "    }\n",
       "</style>\n",
       "<table border=\"1\" class=\"dataframe\">\n",
       "  <thead>\n",
       "    <tr style=\"text-align: right;\">\n",
       "      <th></th>\n",
       "      <th>city</th>\n",
       "      <th>district</th>\n",
       "      <th>neighborhood</th>\n",
       "      <th>room</th>\n",
       "      <th>m²</th>\n",
       "      <th>price</th>\n",
       "    </tr>\n",
       "    <tr>\n",
       "      <th></th>\n",
       "      <th></th>\n",
       "      <th></th>\n",
       "      <th></th>\n",
       "      <th></th>\n",
       "      <th></th>\n",
       "      <th></th>\n",
       "    </tr>\n",
       "  </thead>\n",
       "  <tbody>\n",
       "    <tr>\n",
       "      <th>25</th>\n",
       "      <td>arrow_down</td>\n",
       "      <td>NaN</td>\n",
       "      <td>NaN</td>\n",
       "      <td>2+1</td>\n",
       "      <td>100</td>\n",
       "      <td>9250</td>\n",
       "    </tr>\n",
       "    <tr>\n",
       "      <th>37</th>\n",
       "      <td>arrow_down</td>\n",
       "      <td>NaN</td>\n",
       "      <td>NaN</td>\n",
       "      <td>3+1</td>\n",
       "      <td>160</td>\n",
       "      <td>9000</td>\n",
       "    </tr>\n",
       "    <tr>\n",
       "      <th>112</th>\n",
       "      <td>arrow_down</td>\n",
       "      <td>NaN</td>\n",
       "      <td>NaN</td>\n",
       "      <td>3+1</td>\n",
       "      <td>140</td>\n",
       "      <td>10000</td>\n",
       "    </tr>\n",
       "    <tr>\n",
       "      <th>127</th>\n",
       "      <td>arrow_down</td>\n",
       "      <td>NaN</td>\n",
       "      <td>NaN</td>\n",
       "      <td>1+1</td>\n",
       "      <td>55</td>\n",
       "      <td>11000</td>\n",
       "    </tr>\n",
       "    <tr>\n",
       "      <th>139</th>\n",
       "      <td>arrow_down</td>\n",
       "      <td>NaN</td>\n",
       "      <td>NaN</td>\n",
       "      <td>3+1</td>\n",
       "      <td>120</td>\n",
       "      <td>10000</td>\n",
       "    </tr>\n",
       "    <tr>\n",
       "      <th>...</th>\n",
       "      <td>...</td>\n",
       "      <td>...</td>\n",
       "      <td>...</td>\n",
       "      <td>...</td>\n",
       "      <td>...</td>\n",
       "      <td>...</td>\n",
       "    </tr>\n",
       "    <tr>\n",
       "      <th>28530</th>\n",
       "      <td>arrow_down</td>\n",
       "      <td>NaN</td>\n",
       "      <td>NaN</td>\n",
       "      <td>1+1</td>\n",
       "      <td>55</td>\n",
       "      <td>7200</td>\n",
       "    </tr>\n",
       "    <tr>\n",
       "      <th>28533</th>\n",
       "      <td>arrow_down</td>\n",
       "      <td>NaN</td>\n",
       "      <td>NaN</td>\n",
       "      <td>3+1</td>\n",
       "      <td>135</td>\n",
       "      <td>10500</td>\n",
       "    </tr>\n",
       "    <tr>\n",
       "      <th>28569</th>\n",
       "      <td>arrow_down</td>\n",
       "      <td>NaN</td>\n",
       "      <td>NaN</td>\n",
       "      <td>4+1</td>\n",
       "      <td>180</td>\n",
       "      <td>7750</td>\n",
       "    </tr>\n",
       "    <tr>\n",
       "      <th>28570</th>\n",
       "      <td>arrow_down</td>\n",
       "      <td>NaN</td>\n",
       "      <td>NaN</td>\n",
       "      <td>3+1</td>\n",
       "      <td>130</td>\n",
       "      <td>8500</td>\n",
       "    </tr>\n",
       "    <tr>\n",
       "      <th>28576</th>\n",
       "      <td>arrow_down</td>\n",
       "      <td>NaN</td>\n",
       "      <td>NaN</td>\n",
       "      <td>3+1</td>\n",
       "      <td>160</td>\n",
       "      <td>8000</td>\n",
       "    </tr>\n",
       "  </tbody>\n",
       "</table>\n",
       "<p>2933 rows × 6 columns</p>\n",
       "</div>"
      ],
      "text/plain": [
       "             city district neighborhood room   m²  price\n",
       "                                                        \n",
       "25     arrow_down      NaN          NaN  2+1  100   9250\n",
       "37     arrow_down      NaN          NaN  3+1  160   9000\n",
       "112    arrow_down      NaN          NaN  3+1  140  10000\n",
       "127    arrow_down      NaN          NaN  1+1   55  11000\n",
       "139    arrow_down      NaN          NaN  3+1  120  10000\n",
       "...           ...      ...          ...  ...  ...    ...\n",
       "28530  arrow_down      NaN          NaN  1+1   55   7200\n",
       "28533  arrow_down      NaN          NaN  3+1  135  10500\n",
       "28569  arrow_down      NaN          NaN  4+1  180   7750\n",
       "28570  arrow_down      NaN          NaN  3+1  130   8500\n",
       "28576  arrow_down      NaN          NaN  3+1  160   8000\n",
       "\n",
       "[2933 rows x 6 columns]"
      ]
     },
     "execution_count": 43,
     "metadata": {},
     "output_type": "execute_result"
    }
   ],
   "source": [
    "df[df.isnull().any(axis=1)]"
   ]
  },
  {
   "cell_type": "code",
   "execution_count": 44,
   "id": "194be5fc-d728-4be9-a70a-d5b2b9bb415e",
   "metadata": {},
   "outputs": [
    {
     "data": {
      "text/plain": [
       "2933"
      ]
     },
     "execution_count": 44,
     "metadata": {},
     "output_type": "execute_result"
    }
   ],
   "source": [
    "# Drop rows that include null values  and show how many rows are droped\n",
    "a = len(df)\n",
    "df = df.dropna()\n",
    "a-len(df)"
   ]
  },
  {
   "cell_type": "code",
   "execution_count": 48,
   "id": "e9cd558f-acc8-4c79-b96d-0bb602fb0c36",
   "metadata": {},
   "outputs": [],
   "source": [
    "df[''] = np.arange(len(df))\n",
    "df = df.set_index('')"
   ]
  },
  {
   "cell_type": "code",
   "execution_count": null,
   "id": "1b3c1532-3d03-45a5-b882-e7546c483e6c",
   "metadata": {},
   "outputs": [],
   "source": []
  },
  {
   "cell_type": "markdown",
   "id": "435e337f-5d1c-426c-8ada-9ce3cd23755f",
   "metadata": {},
   "source": [
    "### Cleaning outlier 'm²' values"
   ]
  },
  {
   "cell_type": "code",
   "execution_count": null,
   "id": "9d158e00-eba7-4119-a421-148ce2694114",
   "metadata": {},
   "outputs": [],
   "source": []
  },
  {
   "cell_type": "code",
   "execution_count": 49,
   "id": "58ee9cab-5eb6-4194-b2fc-8feda55ff0eb",
   "metadata": {},
   "outputs": [
    {
     "data": {
      "text/plain": [
       "count    522.000000\n",
       "mean      44.306513\n",
       "std       17.691153\n",
       "min       20.000000\n",
       "25%       35.000000\n",
       "50%       40.000000\n",
       "75%       53.500000\n",
       "max      220.000000\n",
       "Name: m², dtype: float64"
      ]
     },
     "execution_count": 49,
     "metadata": {},
     "output_type": "execute_result"
    },
    {
     "data": {
      "image/png": "[encoded data removed]",
      "text/plain": [
       "<Figure size 640x480 with 1 Axes>"
      ]
     },
     "metadata": {},
     "output_type": "display_data"
    }
   ],
   "source": [
    "# wiew and drop outliar \"m²\" for \"1+0\" room type\n",
    "room0 = df[df[\"room\"]==\"1+0\"]\n",
    "\n",
    "sns.boxplot(x = room0[\"m²\"])\n",
    "room0[\"m²\"].describe()"
   ]
  },
  {
   "cell_type": "code",
   "execution_count": 50,
   "id": "038ebf33-7a36-405f-97ad-9542038a60eb",
   "metadata": {},
   "outputs": [
    {
     "data": {
      "text/plain": [
       "Int64Index([ 1187,  5378, 10091, 10425, 14623, 14624, 14998, 15740, 15762,\n",
       "            15799, 16484, 18034, 18384, 20602, 20604, 22301, 25261],\n",
       "           dtype='int64', name='')"
      ]
     },
     "execution_count": 50,
     "metadata": {},
     "output_type": "execute_result"
    }
   ],
   "source": [
    "outliars = room0[\"m²\"]> 53.5 + 3/2*(53.5-35)\n",
    "room0[outliars].index"
   ]
  },
  {
   "cell_type": "code",
   "execution_count": 51,
   "id": "6f0926a1-df27-41d6-ac6f-068b85953b6e",
   "metadata": {},
   "outputs": [],
   "source": [
    "df = df.drop(room0[outliars].index, axis=0)\n",
    "df[\"\"]= np.arange(len(df))\n",
    "df = df.set_index(\"\")"
   ]
  },
  {
   "cell_type": "code",
   "execution_count": null,
   "id": "6b435367-2c03-49d3-a127-4de80cfce947",
   "metadata": {},
   "outputs": [],
   "source": []
  },
  {
   "cell_type": "code",
   "execution_count": 52,
   "id": "32b2886e-9222-4705-a45f-e6837e75fd7c",
   "metadata": {},
   "outputs": [
    {
     "data": {
      "text/plain": [
       "count    4963.000000\n",
       "mean       66.152730\n",
       "std        16.321008\n",
       "min        20.000000\n",
       "25%        55.000000\n",
       "50%        65.000000\n",
       "75%        75.000000\n",
       "max       225.000000\n",
       "Name: m², dtype: float64"
      ]
     },
     "execution_count": 52,
     "metadata": {},
     "output_type": "execute_result"
    },
    {
     "data": {
      "image/png": "[encoded data removed]",
      "text/plain": [
       "<Figure size 640x480 with 1 Axes>"
      ]
     },
     "metadata": {},
     "output_type": "display_data"
    }
   ],
   "source": [
    "# wiew and drop outliar \"m²\" for \"1+1\" room type\n",
    "room1 = df[df[\"room\"]==\"1+1\"]\n",
    "\n",
    "sns.boxplot(x = room1[\"m²\"])\n",
    "room1[\"m²\"].describe()"
   ]
  },
  {
   "cell_type": "code",
   "execution_count": 53,
   "id": "1ca399cd-bc9f-44a7-b617-bc7b6df69e4e",
   "metadata": {},
   "outputs": [],
   "source": [
    "outliars = room1[\"m²\"] > 75 + 3/2*(75-55)\n",
    "\n",
    "df = df.drop(room1[outliars].index, axis=0)\n",
    "df[\"\"]= np.arange(len(df))\n",
    "df = df.set_index(\"\")"
   ]
  },
  {
   "cell_type": "code",
   "execution_count": null,
   "id": "e465cf57-5fa4-4947-9b2d-8274677a7d9b",
   "metadata": {},
   "outputs": [],
   "source": []
  },
  {
   "cell_type": "code",
   "execution_count": 54,
   "id": "83997c35-1296-4dba-b8e7-38b73ec60f08",
   "metadata": {},
   "outputs": [
    {
     "data": {
      "text/plain": [
       "count    9453.000000\n",
       "mean      101.367820\n",
       "std        20.799219\n",
       "min        30.000000\n",
       "25%        90.000000\n",
       "50%       100.000000\n",
       "75%       110.000000\n",
       "max       230.000000\n",
       "Name: m², dtype: float64"
      ]
     },
     "execution_count": 54,
     "metadata": {},
     "output_type": "execute_result"
    },
    {
     "data": {
      "image/png": "[encoded data removed]",
      "text/plain": [
       "<Figure size 640x480 with 1 Axes>"
      ]
     },
     "metadata": {},
     "output_type": "display_data"
    }
   ],
   "source": [
    "# wiew and drop outliar \"m²\" for \"2+1\" room type\n",
    "room2 = df[df[\"room\"]==\"2+1\"]\n",
    "\n",
    "sns.boxplot(x = room2[\"m²\"])\n",
    "room2[\"m²\"].describe()"
   ]
  },
  {
   "cell_type": "code",
   "execution_count": 55,
   "id": "21f7f1eb-bd71-4174-9340-0f0cfbb03097",
   "metadata": {},
   "outputs": [],
   "source": [
    "outliars = room2[\"m²\"] < 90-3/2*(110-90)\n",
    "\n",
    "df = df.drop(room2[outliars].index, axis=0)\n",
    "df[\"\"]= np.arange(len(df))\n",
    "df = df.set_index(\"\")"
   ]
  },
  {
   "cell_type": "code",
   "execution_count": 56,
   "id": "021a9115-2fdc-4f3e-9093-850629f44378",
   "metadata": {},
   "outputs": [],
   "source": [
    "outliars2 = room2[\"m²\"] > 90+3*(110-90)\n",
    "\n",
    "df = df.drop(room2[outliars2].index, axis=0)\n",
    "df[\"\"]= np.arange(len(df))\n",
    "df = df.set_index(\"\")"
   ]
  },
  {
   "cell_type": "code",
   "execution_count": null,
   "id": "aee27a5a-4fb1-41c4-9796-99c390fbb9de",
   "metadata": {},
   "outputs": [],
   "source": []
  },
  {
   "cell_type": "code",
   "execution_count": 57,
   "id": "5f2e908c-b9fe-4705-9a1d-0c0e61029bd8",
   "metadata": {},
   "outputs": [
    {
     "data": {
      "text/plain": [
       "count    9388.000000\n",
       "mean      143.446314\n",
       "std        24.078765\n",
       "min        20.000000\n",
       "25%       125.000000\n",
       "50%       140.000000\n",
       "75%       160.000000\n",
       "max       230.000000\n",
       "Name: m², dtype: float64"
      ]
     },
     "execution_count": 57,
     "metadata": {},
     "output_type": "execute_result"
    },
    {
     "data": {
      "image/png": "[encoded data removed]",
      "text/plain": [
       "<Figure size 640x480 with 1 Axes>"
      ]
     },
     "metadata": {},
     "output_type": "display_data"
    }
   ],
   "source": [
    "# wiew and drop outliar \"m²\" for \"3+1\" room type\n",
    "room3 = df[df[\"room\"]==\"3+1\"]\n",
    "\n",
    "sns.boxplot(x = room3[\"m²\"])\n",
    "room3[\"m²\"].describe()"
   ]
  },
  {
   "cell_type": "code",
   "execution_count": 58,
   "id": "dcc65006-73d4-49c5-b7ec-12a619fd7a3f",
   "metadata": {},
   "outputs": [],
   "source": [
    "outliars = room3[\"m²\"] > 160+3/2*(160-125)\n",
    "\n",
    "df = df.drop(room3[outliars].index, axis=0)\n",
    "df[\"\"]= np.arange(len(df))\n",
    "df = df.set_index(\"\")"
   ]
  },
  {
   "cell_type": "code",
   "execution_count": 59,
   "id": "41c95306-0203-48e9-98f7-e813654a984f",
   "metadata": {},
   "outputs": [],
   "source": [
    "outliars2 = room3[\"m²\"] < 125-3/2*(160-125)\n",
    "\n",
    "df = df.drop(room3[outliars2].index, axis=0)\n",
    "df[\"\"]= np.arange(len(df))\n",
    "df = df.set_index(\"\")"
   ]
  },
  {
   "cell_type": "code",
   "execution_count": null,
   "id": "4340302a-bef7-4eae-b701-1e8355df2534",
   "metadata": {},
   "outputs": [],
   "source": []
  },
  {
   "cell_type": "code",
   "execution_count": 60,
   "id": "d909d67b-9ee8-445e-ae58-5b1d26804d16",
   "metadata": {},
   "outputs": [
    {
     "data": {
      "text/plain": [
       "count    1260.000000\n",
       "mean      185.286508\n",
       "std        27.016360\n",
       "min        35.000000\n",
       "25%       165.750000\n",
       "50%       185.000000\n",
       "75%       205.000000\n",
       "max       230.000000\n",
       "Name: m², dtype: float64"
      ]
     },
     "execution_count": 60,
     "metadata": {},
     "output_type": "execute_result"
    },
    {
     "data": {
      "image/png": "[encoded data removed]",
      "text/plain": [
       "<Figure size 640x480 with 1 Axes>"
      ]
     },
     "metadata": {},
     "output_type": "display_data"
    }
   ],
   "source": [
    "# wiew and drop outliar \"m²\" for \"4+1\" room type\n",
    "room4 = df[df[\"room\"]==\"4+1\"]\n",
    "\n",
    "sns.boxplot(x = room4[\"m²\"])\n",
    "room4[\"m²\"].describe()"
   ]
  },
  {
   "cell_type": "code",
   "execution_count": 61,
   "id": "2aedd712-80b1-48c1-8b78-91040fddabd9",
   "metadata": {},
   "outputs": [],
   "source": [
    "outliars = room4[\"m²\"] < 167-3/2*(205-166)\n",
    "\n",
    "df = df.drop(room4[outliars].index, axis=0)\n",
    "df[\"\"]= np.arange(len(df))\n",
    "df = df.set_index(\"\")"
   ]
  },
  {
   "cell_type": "code",
   "execution_count": null,
   "id": "b7090b52-b4d7-468e-bac8-42f77f29fa23",
   "metadata": {},
   "outputs": [],
   "source": []
  },
  {
   "cell_type": "markdown",
   "id": "f3425510-4cfd-40dc-880f-50192c1147af",
   "metadata": {},
   "source": [
    "### Cleaning outlier prices"
   ]
  },
  {
   "cell_type": "code",
   "execution_count": 62,
   "id": "19cf4886-4527-4d23-9dde-29ce95d47e63",
   "metadata": {},
   "outputs": [
    {
     "data": {
      "text/plain": [
       "count      501.000000\n",
       "mean      9429.059880\n",
       "std       5868.507326\n",
       "min       2000.000000\n",
       "25%       5000.000000\n",
       "50%       8000.000000\n",
       "75%      12000.000000\n",
       "max      50000.000000\n",
       "Name: price, dtype: float64"
      ]
     },
     "execution_count": 62,
     "metadata": {},
     "output_type": "execute_result"
    },
    {
     "data": {
      "image/png": "[encoded data removed]",
      "text/plain": [
       "<Figure size 640x480 with 1 Axes>"
      ]
     },
     "metadata": {},
     "output_type": "display_data"
    }
   ],
   "source": [
    "# see and drop \"price\" outliars for \"1+0\" room type\n",
    "room0 = df[df[\"room\"]==\"1+0\"]\n",
    "price0 = room0[\"price\"]\n",
    "\n",
    "sns.boxplot(x = price0)\n",
    "price0.describe()"
   ]
  },
  {
   "cell_type": "code",
   "execution_count": 63,
   "id": "e6d5724b-a554-42c9-99fb-25dbc6049e5e",
   "metadata": {},
   "outputs": [],
   "source": [
    "outliars = price0[price0>12000+3/2*(12000-5000)].index\n",
    "\n",
    "df = df.drop(outliars, axis=0)\n",
    "df[\"\"] = np.arange(len(df))\n",
    "df = df.set_index(\"\")"
   ]
  },
  {
   "cell_type": "code",
   "execution_count": null,
   "id": "60b9dcc7-e041-4d4a-bdcf-c145b8a2586c",
   "metadata": {},
   "outputs": [],
   "source": []
  },
  {
   "cell_type": "code",
   "execution_count": 64,
   "id": "15224196-eb06-4301-9169-cb0100064a87",
   "metadata": {},
   "outputs": [
    {
     "data": {
      "text/plain": [
       "count     4822.000000\n",
       "mean     12573.298009\n",
       "std       7428.437112\n",
       "min       2000.000000\n",
       "25%       8000.000000\n",
       "50%      11000.000000\n",
       "75%      15000.000000\n",
       "max      75000.000000\n",
       "Name: price, dtype: float64"
      ]
     },
     "execution_count": 64,
     "metadata": {},
     "output_type": "execute_result"
    },
    {
     "data": {
      "image/png": "[encoded data removed]",
      "text/plain": [
       "<Figure size 640x480 with 1 Axes>"
      ]
     },
     "metadata": {},
     "output_type": "display_data"
    }
   ],
   "source": [
    "# see and drop \"price\" outliars for \"1+1\" room type\n",
    "room1 = df[df[\"room\"]==\"1+1\"]\n",
    "price1 = room1[\"price\"]\n",
    "\n",
    "sns.boxplot(x = price1)\n",
    "price1.describe()"
   ]
  },
  {
   "cell_type": "code",
   "execution_count": 65,
   "id": "727549cf-b83b-4b77-ac46-2777ddaa6540",
   "metadata": {},
   "outputs": [],
   "source": [
    "outliars = price1[price1>15000+5/2*(15000-8000)].index\n",
    "\n",
    "df = df.drop(outliars, axis=0)\n",
    "df[\"\"] = np.arange(len(df))\n",
    "df = df.set_index(\"\")"
   ]
  },
  {
   "cell_type": "code",
   "execution_count": null,
   "id": "bbb02843-9b25-4f87-a911-2d17a2cbb066",
   "metadata": {},
   "outputs": [],
   "source": []
  },
  {
   "cell_type": "code",
   "execution_count": 66,
   "id": "2e39b3bf-c6da-4c6c-9a7d-45644ece703b",
   "metadata": {},
   "outputs": [
    {
     "data": {
      "text/plain": [
       "count     9315.000000\n",
       "mean     15489.062909\n",
       "std       8988.132817\n",
       "min       2000.000000\n",
       "25%      10000.000000\n",
       "50%      13500.000000\n",
       "75%      18000.000000\n",
       "max      75000.000000\n",
       "Name: price, dtype: float64"
      ]
     },
     "execution_count": 66,
     "metadata": {},
     "output_type": "execute_result"
    },
    {
     "data": {
      "image/png": "[encoded data removed]",
      "text/plain": [
       "<Figure size 640x480 with 1 Axes>"
      ]
     },
     "metadata": {},
     "output_type": "display_data"
    }
   ],
   "source": [
    "# see and drop \"price\" outliars for \"2+1\" room type\n",
    "room2 = df[df[\"room\"]==\"2+1\"]\n",
    "price2 = room2[\"price\"]\n",
    "\n",
    "sns.boxplot(x = price2)\n",
    "price2.describe()"
   ]
  },
  {
   "cell_type": "code",
   "execution_count": 67,
   "id": "11943686-e55b-4d23-871c-1cefa0d2fa56",
   "metadata": {},
   "outputs": [],
   "source": [
    "outliars = price2[price2>18000+3*(18000-10000)].index\n",
    "\n",
    "df = df.drop(outliars, axis=0)\n",
    "df[\"\"] = np.arange(len(df))\n",
    "df = df.set_index(\"\")"
   ]
  },
  {
   "cell_type": "code",
   "execution_count": null,
   "id": "f87d0003-2045-4526-a15f-087ed1b2d5b3",
   "metadata": {},
   "outputs": [],
   "source": []
  },
  {
   "cell_type": "code",
   "execution_count": 68,
   "id": "7417436e-a882-4df6-8345-d8a8b55da903",
   "metadata": {},
   "outputs": [
    {
     "data": {
      "text/plain": [
       "count     9311.000000\n",
       "mean     16346.559338\n",
       "std       9377.344170\n",
       "min       2000.000000\n",
       "25%      11000.000000\n",
       "50%      14500.000000\n",
       "75%      18500.000000\n",
       "max      75000.000000\n",
       "Name: price, dtype: float64"
      ]
     },
     "execution_count": 68,
     "metadata": {},
     "output_type": "execute_result"
    },
    {
     "data": {
      "image/png": "[encoded data removed]",
      "text/plain": [
       "<Figure size 640x480 with 1 Axes>"
      ]
     },
     "metadata": {},
     "output_type": "display_data"
    }
   ],
   "source": [
    "# see and drop \"price\" outliars for \"3+1\" room type\n",
    "room3 = df[df[\"room\"]==\"3+1\"]\n",
    "price3 = room3[\"price\"]\n",
    "\n",
    "sns.boxplot(x = price3)\n",
    "price3.describe()"
   ]
  },
  {
   "cell_type": "code",
   "execution_count": 69,
   "id": "00003969-4826-4553-b92f-f7f1e02e50e8",
   "metadata": {},
   "outputs": [],
   "source": [
    "outliars = price3[price3>18500+3*(18500-11000)].index\n",
    "\n",
    "df = df.drop(outliars, axis=0)\n",
    "df[\"\"] = np.arange(len(df))\n",
    "df = df.set_index(\"\")"
   ]
  },
  {
   "cell_type": "code",
   "execution_count": null,
   "id": "b39b4cdb-6cf2-4987-96a4-4bf1a40513ad",
   "metadata": {},
   "outputs": [],
   "source": []
  },
  {
   "cell_type": "code",
   "execution_count": 70,
   "id": "22d90e97-2031-4d95-9e23-535ab4169f20",
   "metadata": {},
   "outputs": [
    {
     "data": {
      "text/plain": [
       "count     1254.000000\n",
       "mean     21199.503190\n",
       "std      11387.890829\n",
       "min       2000.000000\n",
       "25%      14000.000000\n",
       "50%      18825.000000\n",
       "75%      25000.000000\n",
       "max      75000.000000\n",
       "Name: price, dtype: float64"
      ]
     },
     "execution_count": 70,
     "metadata": {},
     "output_type": "execute_result"
    },
    {
     "data": {
      "image/png": "[encoded data removed]",
      "text/plain": [
       "<Figure size 640x480 with 1 Axes>"
      ]
     },
     "metadata": {},
     "output_type": "display_data"
    }
   ],
   "source": [
    "# see and drop \"price\" outliars for \"4+1\" room type\n",
    "room4 = df[df[\"room\"]==\"4+1\"]\n",
    "price4 = room4[\"price\"]\n",
    "\n",
    "sns.boxplot(x = price4)\n",
    "price4.describe()"
   ]
  },
  {
   "cell_type": "code",
   "execution_count": 71,
   "id": "99f859a9-894b-4414-bc75-0faee101255b",
   "metadata": {},
   "outputs": [],
   "source": [
    "outliars = price4[price4>25000+3*(25000-14000)].index\n",
    "\n",
    "df = df.drop(outliars, axis=0)\n",
    "df[\"\"] = np.arange(len(df))\n",
    "df = df.set_index(\"\")"
   ]
  },
  {
   "cell_type": "code",
   "execution_count": 123,
   "id": "beb45a5c-4c03-43ab-b6f5-51504f6201e6",
   "metadata": {},
   "outputs": [
    {
     "data": {
      "text/html": [
       "<div>\n",
       "<style scoped>\n",
       "    .dataframe tbody tr th:only-of-type {\n",
       "        vertical-align: middle;\n",
       "    }\n",
       "\n",
       "    .dataframe tbody tr th {\n",
       "        vertical-align: top;\n",
       "    }\n",
       "\n",
       "    .dataframe thead th {\n",
       "        text-align: right;\n",
       "    }\n",
       "</style>\n",
       "<table border=\"1\" class=\"dataframe\">\n",
       "  <thead>\n",
       "    <tr style=\"text-align: right;\">\n",
       "      <th></th>\n",
       "      <th>city</th>\n",
       "      <th>district</th>\n",
       "      <th>neighborhood</th>\n",
       "      <th>room</th>\n",
       "      <th>m²</th>\n",
       "      <th>price</th>\n",
       "    </tr>\n",
       "    <tr>\n",
       "      <th></th>\n",
       "      <th></th>\n",
       "      <th></th>\n",
       "      <th></th>\n",
       "      <th></th>\n",
       "      <th></th>\n",
       "      <th></th>\n",
       "    </tr>\n",
       "  </thead>\n",
       "  <tbody>\n",
       "    <tr>\n",
       "      <th>0</th>\n",
       "      <td>Adana</td>\n",
       "      <td>Ceyhan</td>\n",
       "      <td>Cumhuriyet</td>\n",
       "      <td>2+1</td>\n",
       "      <td>130</td>\n",
       "      <td>7000</td>\n",
       "    </tr>\n",
       "    <tr>\n",
       "      <th>1</th>\n",
       "      <td>Adana</td>\n",
       "      <td>Ceyhan</td>\n",
       "      <td>Cumhuriyet</td>\n",
       "      <td>4+1</td>\n",
       "      <td>180</td>\n",
       "      <td>12000</td>\n",
       "    </tr>\n",
       "    <tr>\n",
       "      <th>2</th>\n",
       "      <td>Adana</td>\n",
       "      <td>Ceyhan</td>\n",
       "      <td>Cumhuriyet</td>\n",
       "      <td>2+1</td>\n",
       "      <td>115</td>\n",
       "      <td>7250</td>\n",
       "    </tr>\n",
       "    <tr>\n",
       "      <th>3</th>\n",
       "      <td>Adana</td>\n",
       "      <td>Ceyhan</td>\n",
       "      <td>Hürriyet</td>\n",
       "      <td>3+1</td>\n",
       "      <td>185</td>\n",
       "      <td>11500</td>\n",
       "    </tr>\n",
       "    <tr>\n",
       "      <th>4</th>\n",
       "      <td>Adana</td>\n",
       "      <td>Ceyhan</td>\n",
       "      <td>Ulus</td>\n",
       "      <td>3+1</td>\n",
       "      <td>165</td>\n",
       "      <td>9000</td>\n",
       "    </tr>\n",
       "    <tr>\n",
       "      <th>...</th>\n",
       "      <td>...</td>\n",
       "      <td>...</td>\n",
       "      <td>...</td>\n",
       "      <td>...</td>\n",
       "      <td>...</td>\n",
       "      <td>...</td>\n",
       "    </tr>\n",
       "    <tr>\n",
       "      <th>24604</th>\n",
       "      <td>Yozgat</td>\n",
       "      <td>Sorgun</td>\n",
       "      <td>Yeni</td>\n",
       "      <td>3+1</td>\n",
       "      <td>120</td>\n",
       "      <td>3500</td>\n",
       "    </tr>\n",
       "    <tr>\n",
       "      <th>24605</th>\n",
       "      <td>Yozgat</td>\n",
       "      <td>Yerköy</td>\n",
       "      <td>100. Yıl</td>\n",
       "      <td>3+1</td>\n",
       "      <td>135</td>\n",
       "      <td>4250</td>\n",
       "    </tr>\n",
       "    <tr>\n",
       "      <th>24606</th>\n",
       "      <td>Yozgat</td>\n",
       "      <td>Yerköy</td>\n",
       "      <td>Ayanoğlu</td>\n",
       "      <td>3+1</td>\n",
       "      <td>135</td>\n",
       "      <td>5250</td>\n",
       "    </tr>\n",
       "    <tr>\n",
       "      <th>24607</th>\n",
       "      <td>Yozgat</td>\n",
       "      <td>Yerköy</td>\n",
       "      <td>100. Yıl</td>\n",
       "      <td>3+1</td>\n",
       "      <td>140</td>\n",
       "      <td>3250</td>\n",
       "    </tr>\n",
       "    <tr>\n",
       "      <th>24608</th>\n",
       "      <td>Zonguldak</td>\n",
       "      <td>Çaycuma</td>\n",
       "      <td>Karamusa</td>\n",
       "      <td>3+1</td>\n",
       "      <td>120</td>\n",
       "      <td>11000</td>\n",
       "    </tr>\n",
       "  </tbody>\n",
       "</table>\n",
       "<p>24609 rows × 6 columns</p>\n",
       "</div>"
      ],
      "text/plain": [
       "            city district neighborhood room   m²  price\n",
       "                                                       \n",
       "0          Adana   Ceyhan   Cumhuriyet  2+1  130   7000\n",
       "1          Adana   Ceyhan   Cumhuriyet  4+1  180  12000\n",
       "2          Adana   Ceyhan   Cumhuriyet  2+1  115   7250\n",
       "3          Adana   Ceyhan     Hürriyet  3+1  185  11500\n",
       "4          Adana   Ceyhan         Ulus  3+1  165   9000\n",
       "...          ...      ...          ...  ...  ...    ...\n",
       "24604     Yozgat   Sorgun         Yeni  3+1  120   3500\n",
       "24605     Yozgat   Yerköy     100. Yıl  3+1  135   4250\n",
       "24606     Yozgat   Yerköy     Ayanoğlu  3+1  135   5250\n",
       "24607     Yozgat   Yerköy     100. Yıl  3+1  140   3250\n",
       "24608  Zonguldak  Çaycuma     Karamusa  3+1  120  11000\n",
       "\n",
       "[24609 rows x 6 columns]"
      ]
     },
     "execution_count": 123,
     "metadata": {},
     "output_type": "execute_result"
    }
   ],
   "source": [
    "df"
   ]
  },
  {
   "cell_type": "code",
   "execution_count": 124,
   "id": "ba8fed0b-855c-4826-8be6-44e58faa00e9",
   "metadata": {},
   "outputs": [],
   "source": [
    "# save dataframe to excel\n",
    "df.to_excel(\"adverts.xlsx\")"
   ]
  },
  {
   "cell_type": "code",
   "execution_count": null,
   "id": "a7b3599f-5a99-4add-bc64-6ab98fbf185f",
   "metadata": {},
   "outputs": [],
   "source": []
  },
  {
   "cell_type": "code",
   "execution_count": null,
   "id": "1f3c20c4-6002-4094-a0af-fbe7cc609673",
   "metadata": {},
   "outputs": [],
   "source": []
  },
  {
   "cell_type": "code",
   "execution_count": null,
   "id": "365020ad-2205-49b4-9cb0-52a2c231380b",
   "metadata": {},
   "outputs": [],
   "source": []
  },
  {
   "cell_type": "markdown",
   "id": "60ccfefb-aab3-43c6-a467-1bdcc0d817da",
   "metadata": {},
   "source": [
    "# 3- Visualization"
   ]
  },
  {
   "cell_type": "code",
   "execution_count": 6,
   "id": "b47fc82f-d3f6-47fd-9fb4-25b5a8618418",
   "metadata": {},
   "outputs": [],
   "source": [
    "import pandas as pd"
   ]
  },
  {
   "cell_type": "code",
   "execution_count": 7,
   "id": "381e015e-7e27-4ebf-99dc-0cda7a3f6129",
   "metadata": {},
   "outputs": [],
   "source": [
    "data = pd.read_excel(\"adverts.xlsx\")"
   ]
  },
  {
   "cell_type": "code",
   "execution_count": 8,
   "id": "f743c6cd-201c-4e51-bf44-c7df1b55525f",
   "metadata": {},
   "outputs": [
    {
     "data": {
      "text/html": [
       "<div>\n",
       "<style scoped>\n",
       "    .dataframe tbody tr th:only-of-type {\n",
       "        vertical-align: middle;\n",
       "    }\n",
       "\n",
       "    .dataframe tbody tr th {\n",
       "        vertical-align: top;\n",
       "    }\n",
       "\n",
       "    .dataframe thead th {\n",
       "        text-align: right;\n",
       "    }\n",
       "</style>\n",
       "<table border=\"1\" class=\"dataframe\">\n",
       "  <thead>\n",
       "    <tr style=\"text-align: right;\">\n",
       "      <th></th>\n",
       "      <th>Unnamed: 0.1</th>\n",
       "      <th>Unnamed: 0</th>\n",
       "      <th>city</th>\n",
       "      <th>district</th>\n",
       "      <th>neighborhood</th>\n",
       "      <th>room</th>\n",
       "      <th>m²</th>\n",
       "      <th>price</th>\n",
       "    </tr>\n",
       "  </thead>\n",
       "  <tbody>\n",
       "    <tr>\n",
       "      <th>24602</th>\n",
       "      <td>24602</td>\n",
       "      <td>24604</td>\n",
       "      <td>Yozgat</td>\n",
       "      <td>Sorgun</td>\n",
       "      <td>Yeni</td>\n",
       "      <td>3+1</td>\n",
       "      <td>120</td>\n",
       "      <td>3500</td>\n",
       "    </tr>\n",
       "    <tr>\n",
       "      <th>24603</th>\n",
       "      <td>24603</td>\n",
       "      <td>24605</td>\n",
       "      <td>Yozgat</td>\n",
       "      <td>Yerköy</td>\n",
       "      <td>100. Yıl</td>\n",
       "      <td>3+1</td>\n",
       "      <td>135</td>\n",
       "      <td>4250</td>\n",
       "    </tr>\n",
       "    <tr>\n",
       "      <th>24604</th>\n",
       "      <td>24604</td>\n",
       "      <td>24606</td>\n",
       "      <td>Yozgat</td>\n",
       "      <td>Yerköy</td>\n",
       "      <td>Ayanoğlu</td>\n",
       "      <td>3+1</td>\n",
       "      <td>135</td>\n",
       "      <td>5250</td>\n",
       "    </tr>\n",
       "    <tr>\n",
       "      <th>24605</th>\n",
       "      <td>24605</td>\n",
       "      <td>24607</td>\n",
       "      <td>Yozgat</td>\n",
       "      <td>Yerköy</td>\n",
       "      <td>100. Yıl</td>\n",
       "      <td>3+1</td>\n",
       "      <td>140</td>\n",
       "      <td>3250</td>\n",
       "    </tr>\n",
       "    <tr>\n",
       "      <th>24606</th>\n",
       "      <td>24606</td>\n",
       "      <td>24608</td>\n",
       "      <td>Zonguldak</td>\n",
       "      <td>Çaycuma</td>\n",
       "      <td>Karamusa</td>\n",
       "      <td>3+1</td>\n",
       "      <td>120</td>\n",
       "      <td>11000</td>\n",
       "    </tr>\n",
       "  </tbody>\n",
       "</table>\n",
       "</div>"
      ],
      "text/plain": [
       "       Unnamed: 0.1  Unnamed: 0       city district neighborhood room   m²  \\\n",
       "24602         24602       24604     Yozgat   Sorgun         Yeni  3+1  120   \n",
       "24603         24603       24605     Yozgat   Yerköy     100. Yıl  3+1  135   \n",
       "24604         24604       24606     Yozgat   Yerköy     Ayanoğlu  3+1  135   \n",
       "24605         24605       24607     Yozgat   Yerköy     100. Yıl  3+1  140   \n",
       "24606         24606       24608  Zonguldak  Çaycuma     Karamusa  3+1  120   \n",
       "\n",
       "       price  \n",
       "24602   3500  \n",
       "24603   4250  \n",
       "24604   5250  \n",
       "24605   3250  \n",
       "24606  11000  "
      ]
     },
     "execution_count": 8,
     "metadata": {},
     "output_type": "execute_result"
    }
   ],
   "source": [
    "df = data.copy()\n",
    "df.tail()"
   ]
  },
  {
   "cell_type": "code",
   "execution_count": 127,
   "id": "0d0b3245-c48e-4e0f-9dd7-27e1569673c1",
   "metadata": {},
   "outputs": [
    {
     "data": {
      "text/html": [
       "<div>\n",
       "<style scoped>\n",
       "    .dataframe tbody tr th:only-of-type {\n",
       "        vertical-align: middle;\n",
       "    }\n",
       "\n",
       "    .dataframe tbody tr th {\n",
       "        vertical-align: top;\n",
       "    }\n",
       "\n",
       "    .dataframe thead th {\n",
       "        text-align: right;\n",
       "    }\n",
       "</style>\n",
       "<table border=\"1\" class=\"dataframe\">\n",
       "  <thead>\n",
       "    <tr style=\"text-align: right;\">\n",
       "      <th></th>\n",
       "      <th>city</th>\n",
       "      <th>district</th>\n",
       "      <th>neighborhood</th>\n",
       "      <th>room</th>\n",
       "      <th>m²</th>\n",
       "      <th>price</th>\n",
       "    </tr>\n",
       "  </thead>\n",
       "  <tbody>\n",
       "    <tr>\n",
       "      <th>24604</th>\n",
       "      <td>Yozgat</td>\n",
       "      <td>Sorgun</td>\n",
       "      <td>Yeni</td>\n",
       "      <td>3+1</td>\n",
       "      <td>120</td>\n",
       "      <td>3500</td>\n",
       "    </tr>\n",
       "    <tr>\n",
       "      <th>24605</th>\n",
       "      <td>Yozgat</td>\n",
       "      <td>Yerköy</td>\n",
       "      <td>100. Yıl</td>\n",
       "      <td>3+1</td>\n",
       "      <td>135</td>\n",
       "      <td>4250</td>\n",
       "    </tr>\n",
       "    <tr>\n",
       "      <th>24606</th>\n",
       "      <td>Yozgat</td>\n",
       "      <td>Yerköy</td>\n",
       "      <td>Ayanoğlu</td>\n",
       "      <td>3+1</td>\n",
       "      <td>135</td>\n",
       "      <td>5250</td>\n",
       "    </tr>\n",
       "    <tr>\n",
       "      <th>24607</th>\n",
       "      <td>Yozgat</td>\n",
       "      <td>Yerköy</td>\n",
       "      <td>100. Yıl</td>\n",
       "      <td>3+1</td>\n",
       "      <td>140</td>\n",
       "      <td>3250</td>\n",
       "    </tr>\n",
       "    <tr>\n",
       "      <th>24608</th>\n",
       "      <td>Zonguldak</td>\n",
       "      <td>Çaycuma</td>\n",
       "      <td>Karamusa</td>\n",
       "      <td>3+1</td>\n",
       "      <td>120</td>\n",
       "      <td>11000</td>\n",
       "    </tr>\n",
       "  </tbody>\n",
       "</table>\n",
       "</div>"
      ],
      "text/plain": [
       "            city district neighborhood room   m²  price\n",
       "24604     Yozgat   Sorgun         Yeni  3+1  120   3500\n",
       "24605     Yozgat   Yerköy     100. Yıl  3+1  135   4250\n",
       "24606     Yozgat   Yerköy     Ayanoğlu  3+1  135   5250\n",
       "24607     Yozgat   Yerköy     100. Yıl  3+1  140   3250\n",
       "24608  Zonguldak  Çaycuma     Karamusa  3+1  120  11000"
      ]
     },
     "execution_count": 127,
     "metadata": {},
     "output_type": "execute_result"
    }
   ],
   "source": [
    "df.drop(\"Unnamed: 0\", axis=1, inplace=True)\n",
    "df.tail()"
   ]
  },
  {
   "cell_type": "code",
   "execution_count": null,
   "id": "35b7c961-e480-4824-a7e1-f1a2d9098daa",
   "metadata": {},
   "outputs": [],
   "source": []
  },
  {
   "cell_type": "code",
   "execution_count": 153,
   "id": "c8496c53-9139-4784-a729-40808b19ff09",
   "metadata": {},
   "outputs": [
    {
     "data": {
      "image/png": "[encoded data removed]",
      "text/plain": [
       "<Figure size 640x480 with 1 Axes>"
      ]
     },
     "metadata": {},
     "output_type": "display_data"
    }
   ],
   "source": [
    "# average price for each home type\n",
    "y = df.groupby(\"room\")[\"price\"].mean()\n",
    "x = np.array([\"1+0\", \"1+1\", \"2+1\", \"3+1\", \"4+1\"])\n",
    "\n",
    "plt.grid(axis=\"y\")\n",
    "plt.title(\"average m² for each home type\")\n",
    "plt.bar(x,y)\n",
    "plt.show()"
   ]
  },
  {
   "cell_type": "code",
   "execution_count": null,
   "id": "86d06785-3746-47e9-a63d-eea145c6a687",
   "metadata": {},
   "outputs": [],
   "source": []
  },
  {
   "cell_type": "code",
   "execution_count": 140,
   "id": "b241d0a7-29be-48f8-ac3e-d4c732f0c80a",
   "metadata": {},
   "outputs": [
    {
     "data": {
      "image/png": "[encoded data removed]",
      "text/plain": [
       "<Figure size 640x480 with 1 Axes>"
      ]
     },
     "metadata": {},
     "output_type": "display_data"
    }
   ],
   "source": [
    "# average m² for each home type\n",
    "y = df.groupby(\"room\")[\"m²\"].mean()\n",
    "x = np.array([\"1+0\", \"1+1\", \"2+1\", \"3+1\", \"4+1\"])\n",
    "\n",
    "plt.grid()\n",
    "plt.title(\"average m² for each home type\")\n",
    "plt.scatter(x,y, s=50)\n",
    "plt.show()"
   ]
  },
  {
   "cell_type": "code",
   "execution_count": null,
   "id": "c9b5f4e4-94f5-4755-9283-bdfd5bbae553",
   "metadata": {},
   "outputs": [],
   "source": []
  },
  {
   "cell_type": "code",
   "execution_count": 11,
   "id": "8999ba24-af3e-472a-83d7-351e9e4e351b",
   "metadata": {},
   "outputs": [
    {
     "name": "stdout",
     "output_type": "stream",
     "text": [
      "count of 4+1 house: 1230\n",
      "count of 3+1 house: 9054\n",
      "count of 2+1 house: 9125\n",
      "count of 1+1 house: 4720\n",
      "count of 1+0 house: 478\n"
     ]
    }
   ],
   "source": [
    "# count of home type\n",
    "# the code below can also write using 'groupby' method!\n",
    "\n",
    "unique_room_list = df[\"room\"].unique()\n",
    "\n",
    "twoone= [] # mean of \"twoone\" is \"2+1\" house\n",
    "fourone= []\n",
    "treeone= []\n",
    "oneone= []\n",
    "onezero= []\n",
    "\n",
    "for i in range(len(df)):\n",
    "    if unique_room_list[0] == df[\"room\"][i]:\n",
    "        twoone.append(df[\"room\"][i])\n",
    "    elif unique_room_list[1] == df[\"room\"][i]:\n",
    "        fourone.append(df[\"room\"][i])\n",
    "    elif unique_room_list[2] == df[\"room\"][i]:\n",
    "        treeone.append(df[\"room\"][i])\n",
    "    elif unique_room_list[3] == df[\"room\"][i]:\n",
    "        oneone.append(df[\"room\"][i])\n",
    "    else:\n",
    "        onezero.append(df[\"room\"][i])\n",
    "\n",
    "print(f\"count of 4+1 house: {len(fourone)}\")\n",
    "print(f\"count of 3+1 house: {len(treeone)}\")\n",
    "print(f\"count of 2+1 house: {len(twoone)}\")\n",
    "print(f\"count of 1+1 house: {len(oneone)}\")\n",
    "print(f\"count of 1+0 house: {len(onezero)}\")"
   ]
  },
  {
   "cell_type": "code",
   "execution_count": 131,
   "id": "9f74ae63-fbd3-4abc-8858-993f2f060520",
   "metadata": {},
   "outputs": [
    {
     "data": {
      "image/png": "[encoded data removed]",
      "text/plain": [
       "<Figure size 640x480 with 1 Axes>"
      ]
     },
     "metadata": {},
     "output_type": "display_data"
    }
   ],
   "source": [
    "# count of home type\n",
    "# determination x and y labels of pie chart \n",
    "x = np.array([\"4+1\", \"3+1\", \"2+1\", \"1+1\", \"1+0\"])\n",
    "y = np.array([len(fourone), len(treeone), len(twoone), len(oneone), len(onezero)])\n",
    "\n",
    "# create pie chart\n",
    "plt.pie(y, labels=x)\n",
    "plt.title(\"count of home type\")\n",
    "plt.show()"
   ]
  },
  {
   "cell_type": "code",
   "execution_count": null,
   "id": "0caa414b-b860-4fec-9dba-fb8eed28dc4c",
   "metadata": {},
   "outputs": [],
   "source": []
  },
  {
   "cell_type": "code",
   "execution_count": 133,
   "id": "f2684157-2381-4a17-9b3f-e5de3cb5bf08",
   "metadata": {},
   "outputs": [
    {
     "data": {
      "text/html": [
       "<div>\n",
       "<style scoped>\n",
       "    .dataframe tbody tr th:only-of-type {\n",
       "        vertical-align: middle;\n",
       "    }\n",
       "\n",
       "    .dataframe tbody tr th {\n",
       "        vertical-align: top;\n",
       "    }\n",
       "\n",
       "    .dataframe thead th {\n",
       "        text-align: right;\n",
       "    }\n",
       "</style>\n",
       "<table border=\"1\" class=\"dataframe\">\n",
       "  <thead>\n",
       "    <tr style=\"text-align: right;\">\n",
       "      <th></th>\n",
       "      <th>price</th>\n",
       "    </tr>\n",
       "    <tr>\n",
       "      <th>city</th>\n",
       "      <th></th>\n",
       "    </tr>\n",
       "  </thead>\n",
       "  <tbody>\n",
       "    <tr>\n",
       "      <th>Adana</th>\n",
       "      <td>9260.626620</td>\n",
       "    </tr>\n",
       "    <tr>\n",
       "      <th>Adıyaman</th>\n",
       "      <td>10090.909091</td>\n",
       "    </tr>\n",
       "    <tr>\n",
       "      <th>Afyonkarahisar</th>\n",
       "      <td>8704.065041</td>\n",
       "    </tr>\n",
       "    <tr>\n",
       "      <th>Aksaray</th>\n",
       "      <td>5140.000000</td>\n",
       "    </tr>\n",
       "    <tr>\n",
       "      <th>Amasya</th>\n",
       "      <td>8192.647059</td>\n",
       "    </tr>\n",
       "  </tbody>\n",
       "</table>\n",
       "</div>"
      ],
      "text/plain": [
       "                       price\n",
       "city                        \n",
       "Adana            9260.626620\n",
       "Adıyaman        10090.909091\n",
       "Afyonkarahisar   8704.065041\n",
       "Aksaray          5140.000000\n",
       "Amasya           8192.647059"
      ]
     },
     "execution_count": 133,
     "metadata": {},
     "output_type": "execute_result"
    }
   ],
   "source": [
    "# Average of rental house prices of each cities\n",
    "prices_mean_of_each_cities = df.groupby(\"city\")[\"price\"].mean()\n",
    "\n",
    "prices_mean_of_each_cities = pd.DataFrame(prices_mean_of_each_cities)\n",
    "prices_mean_of_each_cities.head()"
   ]
  },
  {
   "cell_type": "code",
   "execution_count": 139,
   "id": "a8a66cd4-b0b3-4407-80dc-2fe9f65e06c9",
   "metadata": {},
   "outputs": [
    {
     "data": {
      "image/png": "[encoded data removed]",
      "text/plain": [
       "<Figure size 600x1600 with 1 Axes>"
      ]
     },
     "metadata": {},
     "output_type": "display_data"
    }
   ],
   "source": [
    "# average rent price of each cities\n",
    "x = prices_mean_of_each_cities.index\n",
    "y = prices_mean_of_each_cities[\"price\"]\n",
    "\n",
    "plt.figure(figsize=(6, 16))\n",
    "plt.grid(linewidth=0.4,  axis=\"x\")\n",
    "\n",
    "plt.barh(x, y,  height=0.5,  color=[\"orange\",\"blue\"])\n",
    "\n",
    "plt.title(\"average rent price of each cities\")\n",
    "\n",
    "plt.show()"
   ]
  },
  {
   "cell_type": "code",
   "execution_count": null,
   "id": "759f7817-83ed-4c8d-833d-813ef4a89ce1",
   "metadata": {},
   "outputs": [],
   "source": []
  },
  {
   "cell_type": "code",
   "execution_count": 148,
   "id": "ed513add-f84b-4000-b2c5-45957c1ece32",
   "metadata": {},
   "outputs": [
    {
     "data": {
      "image/png": "[encoded data removed]",
      "text/plain": [
       "<Figure size 1000x1500 with 1 Axes>"
      ]
     },
     "metadata": {},
     "output_type": "display_data"
    }
   ],
   "source": [
    "# count of rental house in logarithmic scale\n",
    "df[\"constant\"] = 1\n",
    "\n",
    "y = df.groupby(\"city\")[\"constant\"].sum()\n",
    "x = pd.DataFrame(y).index\n",
    "\n",
    "plt.figure(figsize=(10, 15))\n",
    "plt.grid(axis=\"x\")\n",
    "plt.xscale(\"log\")\n",
    "\n",
    "plt.barh(x, y, height=0.4,  color=[\"red\",\"y\"])\n",
    "plt.title(\"count of rental house in logarithmic scale\")\n",
    "plt.show()"
   ]
  },
  {
   "cell_type": "code",
   "execution_count": null,
   "id": "9c6ff7d8-8235-4af0-8954-7b5907db46b1",
   "metadata": {},
   "outputs": [],
   "source": []
  },
  {
   "cell_type": "code",
   "execution_count": null,
   "id": "2cef0745-c60b-484d-9805-261b8d45cdec",
   "metadata": {},
   "outputs": [],
   "source": []
  },
  {
   "cell_type": "code",
   "execution_count": null,
   "id": "adf55a1b-7361-4ee5-9f3b-d486d8ac33d7",
   "metadata": {},
   "outputs": [],
   "source": []
  },
  {
   "cell_type": "markdown",
   "id": "286d1550-1018-4198-ae2e-d618011de07b",
   "metadata": {},
   "source": [
    "# 4- Machine Learning"
   ]
  },
  {
   "cell_type": "code",
   "execution_count": 16,
   "id": "7db2042c-f3cc-4c74-81f3-3c79685e44d2",
   "metadata": {},
   "outputs": [],
   "source": [
    "import pandas as pd\n",
    "import numpy as np\n",
    "import matplotlib.pyplot as plt\n",
    "import seaborn as sns\n",
    "\n",
    "\n",
    "from sklearn.model_selection import train_test_split, GridSearchCV,cross_val_score\n",
    "from sklearn.metrics import mean_squared_error, r2_score\n",
    "from sklearn.preprocessing import LabelEncoder\n",
    "from sklearn.model_selection import GridSearchCV\n",
    "\n",
    "from sklearn.neighbors import KNeighborsRegressor\n",
    "from sklearn.svm import SVR\n",
    "from sklearn.tree import DecisionTreeRegressor  \n",
    "from catboost import CatBoostRegressor\n",
    "from sklearn.tree import DecisionTreeRegressor\n",
    "from sklearn.ensemble import RandomForestRegressor\n",
    "from sklearn.neural_network import MLPRegressor\n",
    "from sklearn.ensemble import BaggingRegressor\n",
    "from sklearn.ensemble import GradientBoostingRegressor\n",
    "from xgboost import XGBRegressor\n",
    "from lightgbm import LGBMRegressor"
   ]
  },
  {
   "cell_type": "code",
   "execution_count": 17,
   "id": "98aafe19-f0b7-48e6-86f6-2aaf7a37f92d",
   "metadata": {},
   "outputs": [],
   "source": [
    "d = pd.read_excel(\"adverts.xlsx\")\n",
    "d = d.drop(\"Unnamed: 0.1\", axis=1)\n",
    "d = d.drop(\"Unnamed: 0\", axis=1)\n",
    "df = d.copy()"
   ]
  },
  {
   "cell_type": "code",
   "execution_count": 18,
   "id": "52854cda-f34d-4f79-aa1b-831432d65af2",
   "metadata": {},
   "outputs": [
    {
     "data": {
      "text/html": [
       "<div>\n",
       "<style scoped>\n",
       "    .dataframe tbody tr th:only-of-type {\n",
       "        vertical-align: middle;\n",
       "    }\n",
       "\n",
       "    .dataframe tbody tr th {\n",
       "        vertical-align: top;\n",
       "    }\n",
       "\n",
       "    .dataframe thead th {\n",
       "        text-align: right;\n",
       "    }\n",
       "</style>\n",
       "<table border=\"1\" class=\"dataframe\">\n",
       "  <thead>\n",
       "    <tr style=\"text-align: right;\">\n",
       "      <th></th>\n",
       "      <th>city</th>\n",
       "      <th>district</th>\n",
       "      <th>neighborhood</th>\n",
       "      <th>room</th>\n",
       "      <th>m²</th>\n",
       "      <th>price</th>\n",
       "    </tr>\n",
       "  </thead>\n",
       "  <tbody>\n",
       "    <tr>\n",
       "      <th>0</th>\n",
       "      <td>Adana</td>\n",
       "      <td>Ceyhan</td>\n",
       "      <td>Cumhuriyet</td>\n",
       "      <td>2+1</td>\n",
       "      <td>130</td>\n",
       "      <td>7000</td>\n",
       "    </tr>\n",
       "    <tr>\n",
       "      <th>1</th>\n",
       "      <td>Adana</td>\n",
       "      <td>Ceyhan</td>\n",
       "      <td>Cumhuriyet</td>\n",
       "      <td>4+1</td>\n",
       "      <td>180</td>\n",
       "      <td>12000</td>\n",
       "    </tr>\n",
       "    <tr>\n",
       "      <th>2</th>\n",
       "      <td>Adana</td>\n",
       "      <td>Ceyhan</td>\n",
       "      <td>Cumhuriyet</td>\n",
       "      <td>2+1</td>\n",
       "      <td>115</td>\n",
       "      <td>7250</td>\n",
       "    </tr>\n",
       "    <tr>\n",
       "      <th>3</th>\n",
       "      <td>Adana</td>\n",
       "      <td>Ceyhan</td>\n",
       "      <td>Hürriyet</td>\n",
       "      <td>3+1</td>\n",
       "      <td>185</td>\n",
       "      <td>11500</td>\n",
       "    </tr>\n",
       "    <tr>\n",
       "      <th>4</th>\n",
       "      <td>Adana</td>\n",
       "      <td>Ceyhan</td>\n",
       "      <td>Ulus</td>\n",
       "      <td>3+1</td>\n",
       "      <td>165</td>\n",
       "      <td>9000</td>\n",
       "    </tr>\n",
       "    <tr>\n",
       "      <th>...</th>\n",
       "      <td>...</td>\n",
       "      <td>...</td>\n",
       "      <td>...</td>\n",
       "      <td>...</td>\n",
       "      <td>...</td>\n",
       "      <td>...</td>\n",
       "    </tr>\n",
       "    <tr>\n",
       "      <th>24602</th>\n",
       "      <td>Yozgat</td>\n",
       "      <td>Sorgun</td>\n",
       "      <td>Yeni</td>\n",
       "      <td>3+1</td>\n",
       "      <td>120</td>\n",
       "      <td>3500</td>\n",
       "    </tr>\n",
       "    <tr>\n",
       "      <th>24603</th>\n",
       "      <td>Yozgat</td>\n",
       "      <td>Yerköy</td>\n",
       "      <td>100. Yıl</td>\n",
       "      <td>3+1</td>\n",
       "      <td>135</td>\n",
       "      <td>4250</td>\n",
       "    </tr>\n",
       "    <tr>\n",
       "      <th>24604</th>\n",
       "      <td>Yozgat</td>\n",
       "      <td>Yerköy</td>\n",
       "      <td>Ayanoğlu</td>\n",
       "      <td>3+1</td>\n",
       "      <td>135</td>\n",
       "      <td>5250</td>\n",
       "    </tr>\n",
       "    <tr>\n",
       "      <th>24605</th>\n",
       "      <td>Yozgat</td>\n",
       "      <td>Yerköy</td>\n",
       "      <td>100. Yıl</td>\n",
       "      <td>3+1</td>\n",
       "      <td>140</td>\n",
       "      <td>3250</td>\n",
       "    </tr>\n",
       "    <tr>\n",
       "      <th>24606</th>\n",
       "      <td>Zonguldak</td>\n",
       "      <td>Çaycuma</td>\n",
       "      <td>Karamusa</td>\n",
       "      <td>3+1</td>\n",
       "      <td>120</td>\n",
       "      <td>11000</td>\n",
       "    </tr>\n",
       "  </tbody>\n",
       "</table>\n",
       "<p>24607 rows × 6 columns</p>\n",
       "</div>"
      ],
      "text/plain": [
       "            city district neighborhood room   m²  price\n",
       "0          Adana   Ceyhan   Cumhuriyet  2+1  130   7000\n",
       "1          Adana   Ceyhan   Cumhuriyet  4+1  180  12000\n",
       "2          Adana   Ceyhan   Cumhuriyet  2+1  115   7250\n",
       "3          Adana   Ceyhan     Hürriyet  3+1  185  11500\n",
       "4          Adana   Ceyhan         Ulus  3+1  165   9000\n",
       "...          ...      ...          ...  ...  ...    ...\n",
       "24602     Yozgat   Sorgun         Yeni  3+1  120   3500\n",
       "24603     Yozgat   Yerköy     100. Yıl  3+1  135   4250\n",
       "24604     Yozgat   Yerköy     Ayanoğlu  3+1  135   5250\n",
       "24605     Yozgat   Yerköy     100. Yıl  3+1  140   3250\n",
       "24606  Zonguldak  Çaycuma     Karamusa  3+1  120  11000\n",
       "\n",
       "[24607 rows x 6 columns]"
      ]
     },
     "execution_count": 18,
     "metadata": {},
     "output_type": "execute_result"
    }
   ],
   "source": [
    "df"
   ]
  },
  {
   "cell_type": "code",
   "execution_count": 19,
   "id": "33cb3f31-43cb-4aa4-a28a-a2159c84192f",
   "metadata": {},
   "outputs": [],
   "source": [
    "# Assing dummy variable to columns for each room type\n",
    "df = pd.get_dummies(df, columns=[\"room\"], prefix=[\"room\"])"
   ]
  },
  {
   "cell_type": "code",
   "execution_count": 20,
   "id": "d59d36ba-e3d3-49a1-a18b-959dca119580",
   "metadata": {},
   "outputs": [
    {
     "data": {
      "text/plain": [
       "[478, 4720, 9125, 9054, 1230]"
      ]
     },
     "execution_count": 20,
     "metadata": {},
     "output_type": "execute_result"
    }
   ],
   "source": [
    "# learn how many advert for each room type using cplumns that assing dummy \n",
    "arr= [df[\"room_1+0\"].sum(), df[\"room_1+1\"].sum(), df[\"room_2+1\"].sum(), df[\"room_3+1\"].sum(), df[\"room_4+1\"].sum()]\n",
    "arr"
   ]
  },
  {
   "cell_type": "code",
   "execution_count": 21,
   "id": "fa7aad3e-56ce-47ff-8cb3-f7af49453fd1",
   "metadata": {},
   "outputs": [],
   "source": [
    "# Apply LabelEencoder transformation for 'city', 'district', 'neighborhood'\n",
    "from sklearn.preprocessing import LabelEncoder\n",
    "# Create a LabelEncoder object\n",
    "le = LabelEncoder()\n",
    "\n",
    "# Encode the string column 'city'\n",
    "df['city_le'] = le.fit_transform(df['city'])\n",
    "\n",
    "# Encode the string column 'district'\n",
    "df['district_le'] = le.fit_transform(df['district'])\n",
    "\n",
    "# Encode the string column 'neighborhood'\n",
    "df['neighborhood_le'] = le.fit_transform(df['neighborhood'])"
   ]
  },
  {
   "cell_type": "code",
   "execution_count": 22,
   "id": "273b93a9-bbf1-4989-b320-5f553284b81e",
   "metadata": {},
   "outputs": [],
   "source": [
    "df = df.drop([\"city\",\"district\",\"neighborhood\"], axis=1)"
   ]
  },
  {
   "cell_type": "code",
   "execution_count": 23,
   "id": "37b89a19-0bba-4b4d-b2ca-f83f25c134fe",
   "metadata": {},
   "outputs": [
    {
     "data": {
      "text/html": [
       "<div>\n",
       "<style scoped>\n",
       "    .dataframe tbody tr th:only-of-type {\n",
       "        vertical-align: middle;\n",
       "    }\n",
       "\n",
       "    .dataframe tbody tr th {\n",
       "        vertical-align: top;\n",
       "    }\n",
       "\n",
       "    .dataframe thead th {\n",
       "        text-align: right;\n",
       "    }\n",
       "</style>\n",
       "<table border=\"1\" class=\"dataframe\">\n",
       "  <thead>\n",
       "    <tr style=\"text-align: right;\">\n",
       "      <th></th>\n",
       "      <th>count</th>\n",
       "      <th>mean</th>\n",
       "      <th>std</th>\n",
       "      <th>min</th>\n",
       "      <th>25%</th>\n",
       "      <th>50%</th>\n",
       "      <th>75%</th>\n",
       "      <th>max</th>\n",
       "    </tr>\n",
       "  </thead>\n",
       "  <tbody>\n",
       "    <tr>\n",
       "      <th>m²</th>\n",
       "      <td>24607.0</td>\n",
       "      <td>112.512984</td>\n",
       "      <td>39.937221</td>\n",
       "      <td>20.0</td>\n",
       "      <td>85.0</td>\n",
       "      <td>110.0</td>\n",
       "      <td>140.0</td>\n",
       "      <td>230.0</td>\n",
       "    </tr>\n",
       "    <tr>\n",
       "      <th>price</th>\n",
       "      <td>24607.0</td>\n",
       "      <td>14503.486366</td>\n",
       "      <td>6926.190760</td>\n",
       "      <td>2000.0</td>\n",
       "      <td>10000.0</td>\n",
       "      <td>13000.0</td>\n",
       "      <td>17500.0</td>\n",
       "      <td>57500.0</td>\n",
       "    </tr>\n",
       "    <tr>\n",
       "      <th>room_1+0</th>\n",
       "      <td>24607.0</td>\n",
       "      <td>0.019425</td>\n",
       "      <td>0.138017</td>\n",
       "      <td>0.0</td>\n",
       "      <td>0.0</td>\n",
       "      <td>0.0</td>\n",
       "      <td>0.0</td>\n",
       "      <td>1.0</td>\n",
       "    </tr>\n",
       "    <tr>\n",
       "      <th>room_1+1</th>\n",
       "      <td>24607.0</td>\n",
       "      <td>0.191815</td>\n",
       "      <td>0.393737</td>\n",
       "      <td>0.0</td>\n",
       "      <td>0.0</td>\n",
       "      <td>0.0</td>\n",
       "      <td>0.0</td>\n",
       "      <td>1.0</td>\n",
       "    </tr>\n",
       "    <tr>\n",
       "      <th>room_2+1</th>\n",
       "      <td>24607.0</td>\n",
       "      <td>0.370829</td>\n",
       "      <td>0.483037</td>\n",
       "      <td>0.0</td>\n",
       "      <td>0.0</td>\n",
       "      <td>0.0</td>\n",
       "      <td>1.0</td>\n",
       "      <td>1.0</td>\n",
       "    </tr>\n",
       "    <tr>\n",
       "      <th>room_3+1</th>\n",
       "      <td>24607.0</td>\n",
       "      <td>0.367944</td>\n",
       "      <td>0.482256</td>\n",
       "      <td>0.0</td>\n",
       "      <td>0.0</td>\n",
       "      <td>0.0</td>\n",
       "      <td>1.0</td>\n",
       "      <td>1.0</td>\n",
       "    </tr>\n",
       "    <tr>\n",
       "      <th>room_4+1</th>\n",
       "      <td>24607.0</td>\n",
       "      <td>0.049986</td>\n",
       "      <td>0.217920</td>\n",
       "      <td>0.0</td>\n",
       "      <td>0.0</td>\n",
       "      <td>0.0</td>\n",
       "      <td>0.0</td>\n",
       "      <td>1.0</td>\n",
       "    </tr>\n",
       "    <tr>\n",
       "      <th>city_le</th>\n",
       "      <td>24607.0</td>\n",
       "      <td>41.843947</td>\n",
       "      <td>27.592971</td>\n",
       "      <td>0.0</td>\n",
       "      <td>8.0</td>\n",
       "      <td>48.0</td>\n",
       "      <td>71.0</td>\n",
       "      <td>73.0</td>\n",
       "    </tr>\n",
       "    <tr>\n",
       "      <th>district_le</th>\n",
       "      <td>24607.0</td>\n",
       "      <td>192.843134</td>\n",
       "      <td>107.174784</td>\n",
       "      <td>0.0</td>\n",
       "      <td>107.0</td>\n",
       "      <td>196.0</td>\n",
       "      <td>278.0</td>\n",
       "      <td>377.0</td>\n",
       "    </tr>\n",
       "    <tr>\n",
       "      <th>neighborhood_le</th>\n",
       "      <td>24607.0</td>\n",
       "      <td>1198.389361</td>\n",
       "      <td>722.557204</td>\n",
       "      <td>0.0</td>\n",
       "      <td>523.0</td>\n",
       "      <td>1202.0</td>\n",
       "      <td>1861.0</td>\n",
       "      <td>2403.0</td>\n",
       "    </tr>\n",
       "  </tbody>\n",
       "</table>\n",
       "</div>"
      ],
      "text/plain": [
       "                   count          mean          std     min      25%      50%  \\\n",
       "m²               24607.0    112.512984    39.937221    20.0     85.0    110.0   \n",
       "price            24607.0  14503.486366  6926.190760  2000.0  10000.0  13000.0   \n",
       "room_1+0         24607.0      0.019425     0.138017     0.0      0.0      0.0   \n",
       "room_1+1         24607.0      0.191815     0.393737     0.0      0.0      0.0   \n",
       "room_2+1         24607.0      0.370829     0.483037     0.0      0.0      0.0   \n",
       "room_3+1         24607.0      0.367944     0.482256     0.0      0.0      0.0   \n",
       "room_4+1         24607.0      0.049986     0.217920     0.0      0.0      0.0   \n",
       "city_le          24607.0     41.843947    27.592971     0.0      8.0     48.0   \n",
       "district_le      24607.0    192.843134   107.174784     0.0    107.0    196.0   \n",
       "neighborhood_le  24607.0   1198.389361   722.557204     0.0    523.0   1202.0   \n",
       "\n",
       "                     75%      max  \n",
       "m²                 140.0    230.0  \n",
       "price            17500.0  57500.0  \n",
       "room_1+0             0.0      1.0  \n",
       "room_1+1             0.0      1.0  \n",
       "room_2+1             1.0      1.0  \n",
       "room_3+1             1.0      1.0  \n",
       "room_4+1             0.0      1.0  \n",
       "city_le             71.0     73.0  \n",
       "district_le        278.0    377.0  \n",
       "neighborhood_le   1861.0   2403.0  "
      ]
     },
     "execution_count": 23,
     "metadata": {},
     "output_type": "execute_result"
    }
   ],
   "source": [
    "df.describe().T"
   ]
  },
  {
   "cell_type": "code",
   "execution_count": 24,
   "id": "bda5342d-a9f6-4a0b-887f-0c88a6289bc8",
   "metadata": {},
   "outputs": [
    {
     "data": {
      "text/html": [
       "<div>\n",
       "<style scoped>\n",
       "    .dataframe tbody tr th:only-of-type {\n",
       "        vertical-align: middle;\n",
       "    }\n",
       "\n",
       "    .dataframe tbody tr th {\n",
       "        vertical-align: top;\n",
       "    }\n",
       "\n",
       "    .dataframe thead th {\n",
       "        text-align: right;\n",
       "    }\n",
       "</style>\n",
       "<table border=\"1\" class=\"dataframe\">\n",
       "  <thead>\n",
       "    <tr style=\"text-align: right;\">\n",
       "      <th></th>\n",
       "      <th>m²</th>\n",
       "      <th>price</th>\n",
       "      <th>room_1+0</th>\n",
       "      <th>room_1+1</th>\n",
       "      <th>room_2+1</th>\n",
       "      <th>room_3+1</th>\n",
       "      <th>room_4+1</th>\n",
       "      <th>city_le</th>\n",
       "      <th>district_le</th>\n",
       "      <th>neighborhood_le</th>\n",
       "    </tr>\n",
       "  </thead>\n",
       "  <tbody>\n",
       "    <tr>\n",
       "      <th>0</th>\n",
       "      <td>130</td>\n",
       "      <td>7000</td>\n",
       "      <td>0</td>\n",
       "      <td>0</td>\n",
       "      <td>1</td>\n",
       "      <td>0</td>\n",
       "      <td>0</td>\n",
       "      <td>0</td>\n",
       "      <td>88</td>\n",
       "      <td>486</td>\n",
       "    </tr>\n",
       "    <tr>\n",
       "      <th>1</th>\n",
       "      <td>180</td>\n",
       "      <td>12000</td>\n",
       "      <td>0</td>\n",
       "      <td>0</td>\n",
       "      <td>0</td>\n",
       "      <td>0</td>\n",
       "      <td>1</td>\n",
       "      <td>0</td>\n",
       "      <td>88</td>\n",
       "      <td>486</td>\n",
       "    </tr>\n",
       "    <tr>\n",
       "      <th>2</th>\n",
       "      <td>115</td>\n",
       "      <td>7250</td>\n",
       "      <td>0</td>\n",
       "      <td>0</td>\n",
       "      <td>1</td>\n",
       "      <td>0</td>\n",
       "      <td>0</td>\n",
       "      <td>0</td>\n",
       "      <td>88</td>\n",
       "      <td>486</td>\n",
       "    </tr>\n",
       "    <tr>\n",
       "      <th>3</th>\n",
       "      <td>185</td>\n",
       "      <td>11500</td>\n",
       "      <td>0</td>\n",
       "      <td>0</td>\n",
       "      <td>0</td>\n",
       "      <td>1</td>\n",
       "      <td>0</td>\n",
       "      <td>0</td>\n",
       "      <td>88</td>\n",
       "      <td>983</td>\n",
       "    </tr>\n",
       "    <tr>\n",
       "      <th>4</th>\n",
       "      <td>165</td>\n",
       "      <td>9000</td>\n",
       "      <td>0</td>\n",
       "      <td>0</td>\n",
       "      <td>0</td>\n",
       "      <td>1</td>\n",
       "      <td>0</td>\n",
       "      <td>0</td>\n",
       "      <td>88</td>\n",
       "      <td>1919</td>\n",
       "    </tr>\n",
       "  </tbody>\n",
       "</table>\n",
       "</div>"
      ],
      "text/plain": [
       "    m²  price  room_1+0  room_1+1  room_2+1  room_3+1  room_4+1  city_le  \\\n",
       "0  130   7000         0         0         1         0         0        0   \n",
       "1  180  12000         0         0         0         0         1        0   \n",
       "2  115   7250         0         0         1         0         0        0   \n",
       "3  185  11500         0         0         0         1         0        0   \n",
       "4  165   9000         0         0         0         1         0        0   \n",
       "\n",
       "   district_le  neighborhood_le  \n",
       "0           88              486  \n",
       "1           88              486  \n",
       "2           88              486  \n",
       "3           88              983  \n",
       "4           88             1919  "
      ]
     },
     "execution_count": 24,
     "metadata": {},
     "output_type": "execute_result"
    }
   ],
   "source": [
    "df.head()"
   ]
  },
  {
   "cell_type": "code",
   "execution_count": null,
   "id": "6cf4252c-d3cf-4bcd-ac0d-b48fe774ff1f",
   "metadata": {},
   "outputs": [],
   "source": []
  },
  {
   "cell_type": "code",
   "execution_count": 25,
   "id": "d5947f24-2a7a-460d-94ac-e7441f2e1a3c",
   "metadata": {},
   "outputs": [],
   "source": [
    "# Define dependet and independet variables\n",
    "\n",
    "y = df[\"price\"]\n",
    "x = df.drop(\"price\", axis=1)"
   ]
  },
  {
   "cell_type": "code",
   "execution_count": 26,
   "id": "593bf539-ede8-46ee-baf1-39a7a9cd5b5b",
   "metadata": {},
   "outputs": [],
   "source": [
    "x_train, x_test, y_train, y_test = train_test_split(x, y, test_size=0.2, random_state=42)"
   ]
  },
  {
   "cell_type": "code",
   "execution_count": 27,
   "id": "bc05b321-1e55-4949-865f-7746f9583403",
   "metadata": {},
   "outputs": [
    {
     "data": {
      "text/plain": [
       "0.1978082191780822"
      ]
     },
     "execution_count": 27,
     "metadata": {},
     "output_type": "execute_result"
    }
   ],
   "source": [
    "# for learning rate\"test_data/all_data\" that 2+1 room type  \n",
    "(x_test[\"room_2+1\"].sum()) / (x_test[\"room_2+1\"].sum() + x_train[\"room_2+1\"].sum())"
   ]
  },
  {
   "cell_type": "code",
   "execution_count": 28,
   "id": "a145fc98-f695-4ff5-97f0-325736e7b38e",
   "metadata": {},
   "outputs": [
    {
     "data": {
      "text/html": [
       "<div>\n",
       "<style scoped>\n",
       "    .dataframe tbody tr th:only-of-type {\n",
       "        vertical-align: middle;\n",
       "    }\n",
       "\n",
       "    .dataframe tbody tr th {\n",
       "        vertical-align: top;\n",
       "    }\n",
       "\n",
       "    .dataframe thead th {\n",
       "        text-align: right;\n",
       "    }\n",
       "</style>\n",
       "<table border=\"1\" class=\"dataframe\">\n",
       "  <thead>\n",
       "    <tr style=\"text-align: right;\">\n",
       "      <th></th>\n",
       "      <th>m²</th>\n",
       "      <th>room_1+0</th>\n",
       "      <th>room_1+1</th>\n",
       "      <th>room_2+1</th>\n",
       "      <th>room_3+1</th>\n",
       "      <th>room_4+1</th>\n",
       "      <th>city_le</th>\n",
       "      <th>district_le</th>\n",
       "      <th>neighborhood_le</th>\n",
       "    </tr>\n",
       "  </thead>\n",
       "  <tbody>\n",
       "    <tr>\n",
       "      <th>2444</th>\n",
       "      <td>115</td>\n",
       "      <td>0</td>\n",
       "      <td>0</td>\n",
       "      <td>0</td>\n",
       "      <td>1</td>\n",
       "      <td>0</td>\n",
       "      <td>5</td>\n",
       "      <td>190</td>\n",
       "      <td>2310</td>\n",
       "    </tr>\n",
       "    <tr>\n",
       "      <th>9061</th>\n",
       "      <td>75</td>\n",
       "      <td>0</td>\n",
       "      <td>1</td>\n",
       "      <td>0</td>\n",
       "      <td>0</td>\n",
       "      <td>0</td>\n",
       "      <td>25</td>\n",
       "      <td>321</td>\n",
       "      <td>1471</td>\n",
       "    </tr>\n",
       "    <tr>\n",
       "      <th>21152</th>\n",
       "      <td>70</td>\n",
       "      <td>0</td>\n",
       "      <td>0</td>\n",
       "      <td>1</td>\n",
       "      <td>0</td>\n",
       "      <td>0</td>\n",
       "      <td>48</td>\n",
       "      <td>326</td>\n",
       "      <td>34</td>\n",
       "    </tr>\n",
       "    <tr>\n",
       "      <th>5472</th>\n",
       "      <td>150</td>\n",
       "      <td>0</td>\n",
       "      <td>0</td>\n",
       "      <td>0</td>\n",
       "      <td>1</td>\n",
       "      <td>0</td>\n",
       "      <td>6</td>\n",
       "      <td>234</td>\n",
       "      <td>2401</td>\n",
       "    </tr>\n",
       "    <tr>\n",
       "      <th>7563</th>\n",
       "      <td>130</td>\n",
       "      <td>0</td>\n",
       "      <td>0</td>\n",
       "      <td>0</td>\n",
       "      <td>1</td>\n",
       "      <td>0</td>\n",
       "      <td>18</td>\n",
       "      <td>251</td>\n",
       "      <td>521</td>\n",
       "    </tr>\n",
       "    <tr>\n",
       "      <th>...</th>\n",
       "      <td>...</td>\n",
       "      <td>...</td>\n",
       "      <td>...</td>\n",
       "      <td>...</td>\n",
       "      <td>...</td>\n",
       "      <td>...</td>\n",
       "      <td>...</td>\n",
       "      <td>...</td>\n",
       "      <td>...</td>\n",
       "    </tr>\n",
       "    <tr>\n",
       "      <th>21575</th>\n",
       "      <td>150</td>\n",
       "      <td>0</td>\n",
       "      <td>0</td>\n",
       "      <td>0</td>\n",
       "      <td>1</td>\n",
       "      <td>0</td>\n",
       "      <td>49</td>\n",
       "      <td>90</td>\n",
       "      <td>1097</td>\n",
       "    </tr>\n",
       "    <tr>\n",
       "      <th>5390</th>\n",
       "      <td>185</td>\n",
       "      <td>0</td>\n",
       "      <td>0</td>\n",
       "      <td>0</td>\n",
       "      <td>1</td>\n",
       "      <td>0</td>\n",
       "      <td>6</td>\n",
       "      <td>220</td>\n",
       "      <td>955</td>\n",
       "    </tr>\n",
       "    <tr>\n",
       "      <th>860</th>\n",
       "      <td>49</td>\n",
       "      <td>0</td>\n",
       "      <td>1</td>\n",
       "      <td>0</td>\n",
       "      <td>0</td>\n",
       "      <td>0</td>\n",
       "      <td>5</td>\n",
       "      <td>142</td>\n",
       "      <td>2302</td>\n",
       "    </tr>\n",
       "    <tr>\n",
       "      <th>15795</th>\n",
       "      <td>145</td>\n",
       "      <td>0</td>\n",
       "      <td>0</td>\n",
       "      <td>1</td>\n",
       "      <td>0</td>\n",
       "      <td>0</td>\n",
       "      <td>71</td>\n",
       "      <td>311</td>\n",
       "      <td>256</td>\n",
       "    </tr>\n",
       "    <tr>\n",
       "      <th>23654</th>\n",
       "      <td>95</td>\n",
       "      <td>0</td>\n",
       "      <td>0</td>\n",
       "      <td>1</td>\n",
       "      <td>0</td>\n",
       "      <td>0</td>\n",
       "      <td>60</td>\n",
       "      <td>163</td>\n",
       "      <td>2316</td>\n",
       "    </tr>\n",
       "  </tbody>\n",
       "</table>\n",
       "<p>19685 rows × 9 columns</p>\n",
       "</div>"
      ],
      "text/plain": [
       "        m²  room_1+0  room_1+1  room_2+1  room_3+1  room_4+1  city_le  \\\n",
       "2444   115         0         0         0         1         0        5   \n",
       "9061    75         0         1         0         0         0       25   \n",
       "21152   70         0         0         1         0         0       48   \n",
       "5472   150         0         0         0         1         0        6   \n",
       "7563   130         0         0         0         1         0       18   \n",
       "...    ...       ...       ...       ...       ...       ...      ...   \n",
       "21575  150         0         0         0         1         0       49   \n",
       "5390   185         0         0         0         1         0        6   \n",
       "860     49         0         1         0         0         0        5   \n",
       "15795  145         0         0         1         0         0       71   \n",
       "23654   95         0         0         1         0         0       60   \n",
       "\n",
       "       district_le  neighborhood_le  \n",
       "2444           190             2310  \n",
       "9061           321             1471  \n",
       "21152          326               34  \n",
       "5472           234             2401  \n",
       "7563           251              521  \n",
       "...            ...              ...  \n",
       "21575           90             1097  \n",
       "5390           220              955  \n",
       "860            142             2302  \n",
       "15795          311              256  \n",
       "23654          163             2316  \n",
       "\n",
       "[19685 rows x 9 columns]"
      ]
     },
     "execution_count": 28,
     "metadata": {},
     "output_type": "execute_result"
    }
   ],
   "source": [
    "x_train"
   ]
  },
  {
   "cell_type": "code",
   "execution_count": null,
   "id": "641da863-14d0-44e9-adfb-9091dac55abe",
   "metadata": {},
   "outputs": [],
   "source": []
  },
  {
   "cell_type": "markdown",
   "id": "ad6b98c0-d330-4a0e-a1f7-bfbf20be9a18",
   "metadata": {},
   "source": [
    "#### Creating machine learning models"
   ]
  },
  {
   "cell_type": "code",
   "execution_count": 29,
   "id": "d47e148d-ebda-4379-92bc-62824e622ec7",
   "metadata": {},
   "outputs": [],
   "source": [
    "# KNN regression\n",
    "knn_model = KNeighborsRegressor().fit(x_train, y_train)"
   ]
  },
  {
   "cell_type": "code",
   "execution_count": 30,
   "id": "3e6ab182-3aad-43d7-bab5-d4d0be27a984",
   "metadata": {},
   "outputs": [],
   "source": [
    "y_pred_knn = knn_model.predict(x_test)"
   ]
  },
  {
   "cell_type": "code",
   "execution_count": 31,
   "id": "f2b6815c-fcc2-42b5-9a4f-d939ef0c1549",
   "metadata": {},
   "outputs": [
    {
     "data": {
      "text/plain": [
       "5199.242918971513"
      ]
     },
     "execution_count": 31,
     "metadata": {},
     "output_type": "execute_result"
    }
   ],
   "source": [
    "mse_knn = np.sqrt(mean_squared_error(y_test, y_pred_knn))\n",
    "mse_knn"
   ]
  },
  {
   "cell_type": "code",
   "execution_count": null,
   "id": "5d957703-9879-4ee5-bbdb-b207d449aaa0",
   "metadata": {},
   "outputs": [],
   "source": []
  },
  {
   "cell_type": "code",
   "execution_count": 38,
   "id": "9857f7d9-fe04-432b-94fe-e14bda704508",
   "metadata": {},
   "outputs": [],
   "source": [
    "# Decision Tree regression\n",
    "dec_tree = DecisionTreeRegressor().fit(x_train, y_train)"
   ]
  },
  {
   "cell_type": "code",
   "execution_count": 39,
   "id": "0abc6ca5-00ed-4c99-8d45-cbd8e5b33e0e",
   "metadata": {},
   "outputs": [],
   "source": [
    "y_pred_tree = dec_tree.predict(x_test)"
   ]
  },
  {
   "cell_type": "code",
   "execution_count": 40,
   "id": "c8e1239e-3a05-4d3c-b61d-27cc17008bc4",
   "metadata": {},
   "outputs": [
    {
     "data": {
      "text/plain": [
       "5492.321605785524"
      ]
     },
     "execution_count": 40,
     "metadata": {},
     "output_type": "execute_result"
    }
   ],
   "source": [
    "mse_tree = np.sqrt(mean_squared_error(y_test, y_pred_tree))\n",
    "mse_tree"
   ]
  },
  {
   "cell_type": "code",
   "execution_count": null,
   "id": "22812357-d229-42a5-9108-d7be306936bb",
   "metadata": {},
   "outputs": [],
   "source": []
  },
  {
   "cell_type": "code",
   "execution_count": 41,
   "id": "5a837bca-eaf1-4c1a-9ae8-0033574b8b79",
   "metadata": {},
   "outputs": [
    {
     "data": {
      "text/plain": [
       "4446.050573289556"
      ]
     },
     "execution_count": 41,
     "metadata": {},
     "output_type": "execute_result"
    }
   ],
   "source": [
    "# Random Forest regression\n",
    "rf = RandomForestRegressor().fit(x_train, y_train)\n",
    "y_pred_rf = rf.predict(x_test)\n",
    "mse_rf = np.sqrt(mean_squared_error(y_test, y_pred_rf))\n",
    "mse_rf"
   ]
  },
  {
   "cell_type": "code",
   "execution_count": null,
   "id": "229f9497-ffba-41b5-adfd-60f7e8fda3a5",
   "metadata": {},
   "outputs": [],
   "source": []
  },
  {
   "cell_type": "code",
   "execution_count": null,
   "id": "2d4faff8-bbc3-461e-99ad-082d533152a0",
   "metadata": {},
   "outputs": [],
   "source": [
    "# Cat Boost regression\n",
    "cat_boost = CatBoostRegressor().fit(x_train, y_train)\n",
    "y_pred_cat = cat_boost.predict(x_test)\n",
    "mse_cat = np.sqrt(mean_squared_error(y_test, y_pred_cat))"
   ]
  },
  {
   "cell_type": "code",
   "execution_count": 43,
   "id": "6c7d8cfb-ef48-4060-a046-1d601bacb364",
   "metadata": {},
   "outputs": [
    {
     "data": {
      "text/plain": [
       "4379.82048845411"
      ]
     },
     "execution_count": 43,
     "metadata": {},
     "output_type": "execute_result"
    }
   ],
   "source": [
    "mse_cat"
   ]
  },
  {
   "cell_type": "code",
   "execution_count": null,
   "id": "02c26baf-158e-4019-bcc8-72c6118c06b6",
   "metadata": {},
   "outputs": [],
   "source": []
  },
  {
   "cell_type": "code",
   "execution_count": 44,
   "id": "155f0657-ebae-4d95-a3c1-0b44eaa24e8c",
   "metadata": {},
   "outputs": [
    {
     "data": {
      "text/plain": [
       "4328.227013065296"
      ]
     },
     "execution_count": 44,
     "metadata": {},
     "output_type": "execute_result"
    }
   ],
   "source": [
    "# Bagged Trees regression\n",
    "bag_model = BaggingRegressor(bootstrap_features = True).fit(x_train, y_train)\n",
    "y_pred_bag = bag_model.predict(x_test)\n",
    "mse_bag = np.sqrt(mean_squared_error(y_test, y_pred_bag))\n",
    "mse_bag"
   ]
  },
  {
   "cell_type": "code",
   "execution_count": null,
   "id": "e986cbeb-c9df-426a-a29b-dd60162118e0",
   "metadata": {},
   "outputs": [],
   "source": []
  },
  {
   "cell_type": "code",
   "execution_count": null,
   "id": "057460dc-a1ba-4ce4-b9c2-37b23fa6af8e",
   "metadata": {},
   "outputs": [],
   "source": [
    "!pip install lightgbm"
   ]
  },
  {
   "cell_type": "code",
   "execution_count": null,
   "id": "80c377e9-95e5-4c5d-b431-469d3dbb2085",
   "metadata": {},
   "outputs": [],
   "source": [
    "lgbm_model = LGBMRegressor().fit(x_train, y_train)\n",
    "y_pred_lgbm = lgbm_model.predict(x_test)\n",
    "\n",
    "mse_lgbm = np.sqrt(mean_squared_error(y_test, y_pred_lgbm))"
   ]
  },
  {
   "cell_type": "code",
   "execution_count": 47,
   "id": "b929ec35-26b9-4621-849a-e01588125c85",
   "metadata": {},
   "outputs": [
    {
     "data": {
      "text/plain": [
       "4494.111539045355"
      ]
     },
     "execution_count": 47,
     "metadata": {},
     "output_type": "execute_result"
    }
   ],
   "source": [
    "mse_lgbm"
   ]
  },
  {
   "cell_type": "code",
   "execution_count": null,
   "id": "ca69521f-8758-47fe-ba73-820fb825d50d",
   "metadata": {},
   "outputs": [],
   "source": []
  },
  {
   "cell_type": "code",
   "execution_count": 48,
   "id": "a5a1ba4e-25d6-4e31-8e46-e214e3f8c365",
   "metadata": {},
   "outputs": [
    {
     "data": {
      "text/plain": [
       "5095.58892687141"
      ]
     },
     "execution_count": 48,
     "metadata": {},
     "output_type": "execute_result"
    }
   ],
   "source": [
    "# Gradient Boosting regression\n",
    "gbm_model = GradientBoostingRegressor().fit(x_train, y_train)\n",
    "y_pred_gbm = gbm_model.predict(x_test)\n",
    "mse_gbm = np.sqrt(mean_squared_error(y_test, y_pred_gbm))\n",
    "mse_gbm"
   ]
  },
  {
   "cell_type": "code",
   "execution_count": null,
   "id": "88f4952f-4761-4a48-9522-bf5dfdc8da1c",
   "metadata": {},
   "outputs": [],
   "source": []
  },
  {
   "cell_type": "code",
   "execution_count": null,
   "id": "656cdace-cccb-48d9-a882-03904ef6ef7b",
   "metadata": {},
   "outputs": [],
   "source": [
    "!pip install xgboost"
   ]
  },
  {
   "cell_type": "code",
   "execution_count": 49,
   "id": "970af53c-a875-44df-bb9c-4ab224d949a2",
   "metadata": {},
   "outputs": [
    {
     "data": {
      "text/plain": [
       "4277.446249084818"
      ]
     },
     "execution_count": 49,
     "metadata": {},
     "output_type": "execute_result"
    }
   ],
   "source": [
    "# XGBoost regression\n",
    "xgb_model = XGBRegressor().fit(x_train, y_train)\n",
    "y_pred_xgb = xgb_model.predict(x_test)\n",
    "mse_xgb = np.sqrt(mean_squared_error(y_test, y_pred_xgb))\n",
    "mse_xgb\n"
   ]
  },
  {
   "cell_type": "code",
   "execution_count": null,
   "id": "695d7607-88d0-4ad6-b181-93b4e951ae11",
   "metadata": {},
   "outputs": [],
   "source": []
  },
  {
   "cell_type": "code",
   "execution_count": 50,
   "id": "5755ee52-6f10-4ac3-ae7b-e1b410aec88e",
   "metadata": {},
   "outputs": [
    {
     "data": {
      "text/plain": [
       "<BarContainer object of 8 artists>"
      ]
     },
     "execution_count": 50,
     "metadata": {},
     "output_type": "execute_result"
    },
    {
     "data": {
      "image/png": "[encoded data removed]",
      "text/plain": [
       "<Figure size 640x480 with 1 Axes>"
      ]
     },
     "metadata": {},
     "output_type": "display_data"
    }
   ],
   "source": [
    "all_mse = pd.DataFrame({\n",
    "    \"x\": [\"mse_xgb\",\"mse_bag\",\"mse_cat\",\"mse_gbm\",\"mse_knn\",\"mse_lgbm\",\"mse_rf\",\"mse_tree\"],\n",
    "    \"y\": [mse_xgb,mse_bag,mse_cat,mse_gbm,mse_knn,mse_lgbm,mse_rf,mse_tree]  \n",
    "})\n",
    "\n",
    "plt.grid(axis=\"x\")\n",
    "plt.barh(all_mse[\"x\"], all_mse[\"y\"])"
   ]
  },
  {
   "cell_type": "code",
   "execution_count": null,
   "id": "e091f5b6-2084-48f5-803f-199540b6c670",
   "metadata": {},
   "outputs": [],
   "source": [
    "# XGB showed the best performance in this dataset"
   ]
  },
  {
   "cell_type": "code",
   "execution_count": null,
   "id": "3c34adfd-5e62-4e4d-934e-df5b9b483054",
   "metadata": {},
   "outputs": [],
   "source": []
  },
  {
   "cell_type": "markdown",
   "id": "cee7fef9-bb08-43d6-9b3e-a9e4f42ef785",
   "metadata": {},
   "source": [
    "#### XGB model tuning"
   ]
  },
  {
   "cell_type": "code",
   "execution_count": 51,
   "id": "ac307e04-b455-4e4c-8137-a9dbad2e9f7e",
   "metadata": {},
   "outputs": [],
   "source": [
    "xgb_grid = {\n",
    "     'colsample_bytree': [0.4, 0.5,0.6,0.9,1], \n",
    "     'n_estimators':[100, 200, 500, 1000],\n",
    "     'max_depth': [2,3,4,5,6],\n",
    "     'learning_rate': [0.1, 0.01, 0.5]\n",
    "}"
   ]
  },
  {
   "cell_type": "code",
   "execution_count": null,
   "id": "a486753f-0f54-477e-9ff6-99432b8acc40",
   "metadata": {},
   "outputs": [],
   "source": [
    "xgb = XGBRegressor()\n",
    "\n",
    "xgb_cv = GridSearchCV(xgb, \n",
    "                      param_grid = xgb_grid, \n",
    "                      cv = 10, \n",
    "                      n_jobs = -1,\n",
    "                      verbose = 2)\n",
    "\n",
    "\n",
    "xgb_cv.fit(x_train, y_train)"
   ]
  },
  {
   "cell_type": "code",
   "execution_count": 53,
   "id": "c9605c04-7f4b-4c28-acd7-950d5f7b7622",
   "metadata": {},
   "outputs": [
    {
     "data": {
      "text/plain": [
       "{'colsample_bytree': 0.6,\n",
       " 'learning_rate': 0.1,\n",
       " 'max_depth': 6,\n",
       " 'n_estimators': 1000}"
      ]
     },
     "execution_count": 53,
     "metadata": {},
     "output_type": "execute_result"
    }
   ],
   "source": [
    "xgb_cv.best_params_"
   ]
  },
  {
   "cell_type": "code",
   "execution_count": 54,
   "id": "7f495eb3-2a77-489d-9d4e-0dab4b88b964",
   "metadata": {},
   "outputs": [],
   "source": [
    "xgb_tuned = XGBRegressor(colsample_bytree = 0.6, \n",
    "                         learning_rate = 0.1, \n",
    "                         max_depth = 6, \n",
    "                         n_estimators = 1000) \n",
    "\n",
    "xgb_tuned = xgb_tuned.fit(x_train,y_train)"
   ]
  },
  {
   "cell_type": "code",
   "execution_count": 55,
   "id": "ee00902f-201b-4565-b5f6-bda5ebd8d2f2",
   "metadata": {},
   "outputs": [
    {
     "data": {
      "text/plain": [
       "4170.643619635636"
      ]
     },
     "execution_count": 55,
     "metadata": {},
     "output_type": "execute_result"
    }
   ],
   "source": [
    "y_pred = xgb_tuned.predict(x_test)\n",
    "np.sqrt(mean_squared_error(y_test, y_pred))"
   ]
  },
  {
   "cell_type": "code",
   "execution_count": null,
   "id": "58fb947a-ded3-4aca-bfd1-f93b1504e986",
   "metadata": {},
   "outputs": [],
   "source": []
  },
  {
   "cell_type": "code",
   "execution_count": null,
   "id": "18a87bfc-bc68-4864-8e9f-f31859a8701c",
   "metadata": {},
   "outputs": [],
   "source": []
  },
  {
   "cell_type": "markdown",
   "id": "07c06bbf-8a43-457a-8696-f72a2b2d9717",
   "metadata": {},
   "source": [
    "### Show estimated price and many useful output using XGB model based on entered infos "
   ]
  },
  {
   "cell_type": "code",
   "execution_count": 56,
   "id": "01badee9-a17c-498e-b28a-4669725eef50",
   "metadata": {},
   "outputs": [],
   "source": [
    "def pred_price(city, district, neighborhood, room, metrekare):\n",
    "  \n",
    "\n",
    "    if city!=\"\" and city not in d[\"city\"].tolist():\n",
    "        print(\"--------------------------------\\n\\nBöyle bir il bulunamadı ya da bu ilde ilan yok!\\n\")\n",
    "        print(\"Şehir ismini doğru yazdığınızdan emin olun!\\nŞehrin baş harfini büyük yazmayı deneyin!\\n\")\n",
    "        return None    \n",
    "    if district!=\"\" and district not in d[\"district\"].tolist():\n",
    "        print(\"--------------------------------\\n\\nBöyle bir ilçe bulunamadı ya da bu ilçede ilan yok!\\n\")\n",
    "        print(\"İlçe ismini doğru yazdığınızdan emin olun!\\nİlçenin baş harfini büyük yazmayı deneyin!\\n\")\n",
    "        return None\n",
    "    if neighborhood!=\"\" and neighborhood not in d[\"neighborhood\"].tolist():\n",
    "        print(\"--------------------------------\\n\\nBöyle bir mahalle bulunamadı ya da bu mahallede ilan yok!\\n\")\n",
    "        print(\"Mahalle ismini doğru yazdığınızdan emin olun!\\nMahallenin baş harfini büyük yazmayı deneyin!\\n\")\n",
    "        return None\n",
    "\n",
    "\n",
    "    \n",
    "    if metrekare==\"\" and room==\"1+0\": \n",
    "        metrekare=40\n",
    "        #print(f\"       m²={metrekare} olarak hesaba katıldı!\")\n",
    "    elif metrekare==\"\" and room==\"1+1\": \n",
    "        metrekare=65\n",
    "        #print(f\"       m²={metrekare} olarak hesaba katıldı!\")\n",
    "    elif metrekare==\"\" and room==\"2+1\": \n",
    "        metrekare=100\n",
    "        #print(f\"       m²={metrekare} olarak hesaba katıldı!\")\n",
    "    elif metrekare==\"\" and room==\"3+1\": \n",
    "        metrekare=130\n",
    "        #print(f\"       m²={metrekare} olarak hesaba katıldı!\")\n",
    "    elif metrekare==\"\" and room==\"4+1\": \n",
    "        metrekare=160\n",
    "        #print(f\"       m²={metrekare} olarak hesaba katıldı!\")\n",
    "    elif metrekare==\"\" and room==\"\": \n",
    "        metrekare=110\n",
    "        #print(f\"       m²={metrekare} olarak hesaba katıldı!\")\n",
    "    else: \n",
    "        pass\n",
    "\n",
    "    \n",
    "    \n",
    "    new = pd.DataFrame({\"city\":[city], \"district\":[district], \"neighborhood\":[neighborhood], \"room\":[room], \"m²\":[metrekare]})\n",
    "    new[\"m²\"] = pd.to_numeric(new[\"m²\"])\n",
    "       \n",
    "    dff = d.drop(\"price\", axis=1)\n",
    "    dff = pd.concat([dff, new], axis=0)\n",
    "\n",
    "    dff[\"\"] = np.arange(len(dff))\n",
    "    dff = dff.set_index(\"\")\n",
    "\n",
    "    # Get dummies the string column\"room\"\n",
    "    dff = pd.get_dummies(dff, columns=[\"room\"], prefix=[\"room\"])\n",
    "\n",
    "    # Encode the string column'city'\n",
    "    dff['city_le'] = le.fit_transform(dff['city'])\n",
    "    \n",
    "    # Encode the string column'district'\n",
    "    dff['district_le'] = le.fit_transform(dff['district'])\n",
    "    \n",
    "    # Encode the string column'neighborhood'\n",
    "    dff['neighborhood_le'] = le.fit_transform(dff['neighborhood'])\n",
    "\n",
    "    dff =dff.drop([\"city\",\"district\",\"neighborhood\"], axis=1)\n",
    "   \n",
    "    if room==\"\":\n",
    "        dff = dff.drop(\"room_\", axis=1)\n",
    "    \n",
    "    train_data = dff.iloc[24607:,:]\n",
    "    pred = xgb_tuned.predict(train_data)\n",
    "    #print(f\"----------------------------\\n\\nGirilen bilgilere göre tahmini fiyat: {int(pred)} TL\\n\\n----------------------------\")\n",
    "\n",
    "\n",
    "\n",
    "    # write advertising infos according to inputs entered by user\n",
    "    if city==\"\" and room!=\"\":\n",
    "        a=d[d[\"room\"]==room]\n",
    "        print(f\"----------------------------\\n\\nTürkiye'de tahmini {room} kira fiyatı: {int(pred)} TL\\n\\n----------------------------\")     \n",
    "        \n",
    "        print(f\"\\nTürkiye'de toplam {len(a)} tane {room} ilan var.\\n\\n----------------------------\")\n",
    "    \n",
    "    elif district==\"\" and room!=\"\":\n",
    "        a=d[d[\"city\"]==city]\n",
    "        a=a[a[\"room\"]==room]\n",
    "        print(f\"----------------------------\\n\\n{city} şehrinde tahmini {room} kira fiyatı: {int(pred)} TL\\n\\n----------------------------\")     \n",
    "        if len(a)>=5: \n",
    "            last_q = a[\"price\"].quantile(0.75) / a[\"m²\"].quantile(0.75)\n",
    "            first_q = a[\"price\"].quantile(0.25) / a[\"m²\"].quantile(0.25)\n",
    "            print(f\"\\nOrtalama metrekare fiyatı {int(first_q)}TL - {int(last_q)}TL aralığında.\")\n",
    "        else: pass\n",
    "        print(f\"\\nEn düşük fiyat: {a['price'].min()} \\nEn yüksek fiyat: {a['price'].max()}\\n\")\n",
    "        print(f\"{city} ilinde toplam {len(a)} tane {room} ilan var.\\n\\n----------------------------\")\n",
    "   \n",
    "    elif neighborhood==\"\" and room!=\"\":\n",
    "        a=d[d[\"district\"]==district]\n",
    "        a=a[a[\"room\"]==room]\n",
    "        print(f\"----------------------------\\n\\n{district} ilçesinde tahmini {room} kira fiyatı: {int(pred)} TL\\n\\n----------------------------\")     \n",
    "        if len(a)>=5: \n",
    "            last_q = a[\"price\"].quantile(0.75) / a[\"m²\"].quantile(0.75)\n",
    "            first_q = a[\"price\"].quantile(0.25) / a[\"m²\"].quantile(0.25)\n",
    "            print(f\"\\nOrtalama metrekare fiyatı {int(first_q)}TL - {int(last_q)}TL aralığında.\")\n",
    "        else: pass\n",
    "        print(f\"\\nEn düşük fiyat: {a['price'].min()} \\nEn yüksek fiyat: {a['price'].max()}\\n\")\n",
    "        print(f\"{district} ilçesinde toplam {len(a)} tane {room} ilan var.\\n\\n----------------------------\")\n",
    "        a=a.sort_values(by=\"price\", ascending=True)\n",
    "        print(f\"\\nGirilen bilgilere göre Emlakjet sitesindeki ilanlar 'Artan fiyata göre sıralı':\\n\\n{a.to_string(index=False)}\")\n",
    "   \n",
    "    elif neighborhood != \"\" and room!=\"\":\n",
    "        a=d[d[\"district\"]==district]\n",
    "        a=a[a[\"neighborhood\"]==neighborhood]\n",
    "        a=a[a[\"room\"]==room]\n",
    "        print(f\"----------------------------\\n\\n{neighborhood} mahallesinde tahmini {room} kira fiyatı: {int(pred)} TL\\n\\n----------------------------\")     \n",
    "        if len(a)>=5: \n",
    "            last_q = a[\"price\"].quantile(0.75) / a[\"m²\"].quantile(0.75)\n",
    "            first_q = a[\"price\"].quantile(0.25) / a[\"m²\"].quantile(0.25)\n",
    "            print(f\"\\nOrtalama metrekare fiyatı {int(first_q)}TL - {int(last_q)}TL aralığında.\")\n",
    "        else: pass\n",
    "        print(f\"\\nEn düşük fiyat: {a['price'].min()} \\nEn yüksek fiyat: {a['price'].max()}\\n\")\n",
    "        print(f\"{neighborhood} mahallesinde toplam {len(a)} tane {room} ilan var.\\n\\n----------------------------\")\n",
    "        a=a.sort_values(by=\"price\", ascending=True)\n",
    "        print(f\"\\nGirilen bilgilere göre Emlakjet sitesindeki ilanlar 'Artan fiyata göre sıralı':\\n\\n{a.to_string(index=False)}\")\n",
    "\n",
    "    \n",
    "    elif room==\"\" and city==\"\":\n",
    "        print(f\"----------------------------\\n\\nTürkiye'de tahmini kira fiyatı: {int(pred)} TL\\n\\n----------------------------\")     \n",
    "        print(f\"Türkiye'de toplam {len(d)} tane ilan var.\\n\\n----------------------------\")\n",
    "    \n",
    "    elif room == \"\" and district==\"\":\n",
    "        a=d[d[\"city\"]==city]\n",
    "        print(f\"----------------------------\\n\\n{city} şehrinde tahmini kira fiyatı: {int(pred)} TL\\n\\n----------------------------\")     \n",
    "        if len(a)>=5: \n",
    "            last_q = a[\"price\"].quantile(0.75) / a[\"m²\"].quantile(0.75)\n",
    "            first_q = a[\"price\"].quantile(0.25) / a[\"m²\"].quantile(0.25)\n",
    "            print(f\"\\nOrtalama metrekare fiyatı {int(first_q)}TL - {int(last_q)}TL aralığında.\")\n",
    "        else: pass\n",
    "        print(f\"\\nEn düşük fiyat: {a['price'].min()} \\nEn yüksek fiyat: {a['price'].max()}\\n\")\n",
    "        print(f\"{city} ilinde toplam {len(a)} tane ilan var.\\n\\n----------------------------\")\n",
    "    \n",
    "    elif room == \"\" and neighborhood==\"\":\n",
    "        a=d[d[\"district\"]==district]\n",
    "        print(f\"----------------------------\\n\\n{district} ilçesinde tahmini kira fiyatı: {int(pred)} TL\\n\\n----------------------------\")     \n",
    "        if len(a)>=5: \n",
    "            last_q = a[\"price\"].quantile(0.75) / a[\"m²\"].quantile(0.75)\n",
    "            first_q = a[\"price\"].quantile(0.25) / a[\"m²\"].quantile(0.25)\n",
    "            print(f\"\\nOrtalama metrekare fiyatı {int(first_q)}TL - {int(last_q)}TL aralığında.\")\n",
    "        else: pass\n",
    "        print(f\"\\nEn düşük fiyat: {a['price'].min()} \\nEn yüksek fiyat: {a['price'].max()}\\n\")\n",
    "        print(f\"{district} ilçesinde toplam {len(a)} tane ilan var.\\n\\n----------------------------\")\n",
    "        a=a.sort_values(by=\"price\", ascending=True)\n",
    "        print(f\"\\nGirilen bilgilere göre Emlakjet sitesindeki ilanlar 'Artan fiyata göre sıralı':\\n\\n{a.to_string(index=False)}\")\n",
    "    \n",
    "    elif room == \"\" and neighborhood!=\"\":\n",
    "        a=d[d[\"city\"]==city]\n",
    "        a=a[a[\"neighborhood\"]==neighborhood]\n",
    "        print(f\"----------------------------\\n\\n{neighborhood} mahallesinde tahmini kira fiyatı: {int(pred)} TL\\n\\n----------------------------\")     \n",
    "        if len(a)>=5: \n",
    "            last_q = a[\"price\"].quantile(0.75) / a[\"m²\"].quantile(0.75)\n",
    "            first_q = a[\"price\"].quantile(0.25) / a[\"m²\"].quantile(0.25)\n",
    "            print(f\"\\nOrtalama metrekare fiyatı {int(first_q)}TL - {int(last_q)}TL aralığında.\")\n",
    "        else: pass\n",
    "        print(f\"\\nEn düşük fiyat: {a['price'].min()} \\nEn yüksek fiyat: {a['price'].max()}\\n\")\n",
    "        print(f\"{neighborhood} mahallesinde toplam {len(a)} tane ilan var.\\n\\n----------------------------\")\n",
    "        a=a.sort_values(by=\"price\", ascending=True)\n",
    "        print(f\"\\nGirilen bilgilere göre Emlakjet sitesindeki ilanlar 'Artan fiyata göre sıralı':\\n\\n{a.to_string(index=False)}\")\n",
    "    \n",
    "    else:\n",
    "        pass\n",
    "\n"
   ]
  },
  {
   "cell_type": "code",
   "execution_count": 57,
   "id": "e0173dc2-3a66-47c0-87e8-a495d224a34a",
   "metadata": {},
   "outputs": [
    {
     "name": "stdout",
     "output_type": "stream",
     "text": [
      "İstediğiniz şekilde filtreleme yapınız.\n",
      "\n"
     ]
    },
    {
     "name": "stdin",
     "output_type": "stream",
     "text": [
      "City:  Manisa\n",
      "District:  Alaşehir\n",
      "Neighborhood:  \n",
      "Rooms:  2+1\n",
      "Meter:  \n"
     ]
    },
    {
     "name": "stdout",
     "output_type": "stream",
     "text": [
      "----------------------------\n",
      "\n",
      "Alaşehir ilçesinde tahmini 2+1 kira fiyatı: 7734 TL\n",
      "\n",
      "----------------------------\n",
      "\n",
      "Ortalama metrekare fiyatı 61TL - 66TL aralığında.\n",
      "\n",
      "En düşük fiyat: 4000 \n",
      "En yüksek fiyat: 8250\n",
      "\n",
      "Alaşehir ilçesinde toplam 6 tane 2+1 ilan var.\n",
      "\n",
      "----------------------------\n",
      "\n",
      "Girilen bilgilere göre Emlakjet sitesindeki ilanlar 'Artan fiyata göre sıralı':\n",
      "\n",
      "  city district neighborhood room  m²  price\n",
      "Manisa Alaşehir     Beşeylül  2+1 120   4000\n",
      "Manisa Alaşehir     Kurtuluş  2+1  95   6000\n",
      "Manisa Alaşehir     İstasyon  2+1 115   6500\n",
      "Manisa Alaşehir     Kurtuluş  2+1 120   8000\n",
      "Manisa Alaşehir     İstasyon  2+1 130   8000\n",
      "Manisa Alaşehir     Kurtuluş  2+1  90   8250\n"
     ]
    }
   ],
   "source": [
    "\n",
    "print(\"İstediğiniz şekilde filtreleme yapınız.\\n\")\n",
    "\n",
    "city = \"\"\n",
    "city = input(\"City: \")\n",
    "district = \"\"\n",
    "district = input(\"District: \")\n",
    "neighborhood = \"\"\n",
    "neighborhood = input(\"Neighborhood: \")\n",
    "room = \"\"\n",
    "room = input(\"Rooms: \")\n",
    "metrekare = \"\"\n",
    "metrekare = input(\"Meter: \")\n",
    "\n",
    "# Sent inputs to pred_price function\n",
    "pred_price(city,district,neighborhood,room,metrekare)\n"
   ]
  },
  {
   "cell_type": "code",
   "execution_count": null,
   "id": "c914a73e-0863-493d-affc-fb91597f58b7",
   "metadata": {},
   "outputs": [],
   "source": []
  },
  {
   "cell_type": "code",
   "execution_count": null,
   "id": "6c0d570c-2090-4c06-bcd3-e2217fe123c4",
   "metadata": {},
   "outputs": [],
   "source": []
  },
  {
   "cell_type": "code",
   "execution_count": null,
   "id": "54340a94-c79f-496c-bf7d-033a00f483db",
   "metadata": {},
   "outputs": [],
   "source": []
  },
  {
   "cell_type": "code",
   "execution_count": null,
   "id": "bd1547b6-3b1c-4131-a44d-fc14ba216a61",
   "metadata": {},
   "outputs": [],
   "source": []
  },
  {
   "cell_type": "code",
   "execution_count": null,
   "id": "3c4e4cad-a335-4b81-af44-a3f5dc20ee18",
   "metadata": {},
   "outputs": [],
   "source": []
  },
  {
   "cell_type": "code",
   "execution_count": null,
   "id": "128cbbda-2f59-44df-ad76-7c392b5ced38",
   "metadata": {},
   "outputs": [],
   "source": []
  }
 ],
 "metadata": {
  "kernelspec": {
   "display_name": "Python 3 (ipykernel)",
   "language": "python",
   "name": "python3"
  },
  "language_info": {
   "codemirror_mode": {
    "name": "ipython",
    "version": 3
   },
   "file_extension": ".py",
   "mimetype": "text/x-python",
   "name": "python",
   "nbconvert_exporter": "python",
   "pygments_lexer": "ipython3",
   "version": "3.10.9"
  },
  "toc-autonumbering": true,
  "toc-showcode": true,
  "toc-showmarkdowntxt": true,
  "toc-showtags": true
 },
 "nbformat": 4,
 "nbformat_minor": 5
}
