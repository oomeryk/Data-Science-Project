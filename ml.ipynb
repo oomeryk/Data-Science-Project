{
 "cells": [
  {
   "cell_type": "markdown",
   "id": "5c997ff5-8823-4715-a2f8-b8d1e5a04822",
   "metadata": {},
   "source": [
    "# 4- Machine Learning"
   ]
  },
  {
   "cell_type": "code",
   "execution_count": 66,
   "id": "5d7b2fbb-a75c-4223-a857-d66c051280dc",
   "metadata": {},
   "outputs": [],
   "source": [
    "import pandas as pd\n",
    "import numpy as np\n",
    "import matplotlib.pyplot as plt\n",
    "import seaborn as sns\n",
    "\n",
    "\n",
    "from sklearn.model_selection import train_test_split, GridSearchCV,cross_val_score\n",
    "from sklearn.metrics import mean_squared_error, r2_score\n",
    "from sklearn.preprocessing import LabelEncoder\n",
    "from sklearn.model_selection import GridSearchCV\n",
    "\n",
    "from sklearn.neighbors import KNeighborsRegressor\n",
    "from sklearn.svm import SVR\n",
    "from sklearn.tree import DecisionTreeRegressor  \n",
    "from catboost import CatBoostRegressor\n",
    "from sklearn.tree import DecisionTreeRegressor\n",
    "from sklearn.ensemble import RandomForestRegressor\n",
    "from sklearn.neural_network import MLPRegressor\n",
    "from sklearn.ensemble import BaggingRegressor\n",
    "from sklearn.ensemble import GradientBoostingRegressor\n",
    "from xgboost import XGBRegressor\n",
    "from lightgbm import LGBMRegressor"
   ]
  },
  {
   "cell_type": "code",
   "execution_count": 74,
   "id": "ea2f10a1-f9ae-4325-a51a-4178b7e9a97c",
   "metadata": {},
   "outputs": [],
   "source": [
    "d = pd.read_excel(\"adverts.xlsx\")\n",
    "d = d.drop(\"Unnamed: 0.1\", axis=1)\n",
    "d = d.drop(\"Unnamed: 0\", axis=1)\n",
    "df = d.copy()"
   ]
  },
  {
   "cell_type": "code",
   "execution_count": 8,
   "id": "f3f05fae-8ef3-4b43-a580-108c9d9d7463",
   "metadata": {},
   "outputs": [
    {
     "data": {
      "text/html": [
       "<div>\n",
       "<style scoped>\n",
       "    .dataframe tbody tr th:only-of-type {\n",
       "        vertical-align: middle;\n",
       "    }\n",
       "\n",
       "    .dataframe tbody tr th {\n",
       "        vertical-align: top;\n",
       "    }\n",
       "\n",
       "    .dataframe thead th {\n",
       "        text-align: right;\n",
       "    }\n",
       "</style>\n",
       "<table border=\"1\" class=\"dataframe\">\n",
       "  <thead>\n",
       "    <tr style=\"text-align: right;\">\n",
       "      <th></th>\n",
       "      <th>city</th>\n",
       "      <th>district</th>\n",
       "      <th>neighborhood</th>\n",
       "      <th>room</th>\n",
       "      <th>m²</th>\n",
       "      <th>price</th>\n",
       "    </tr>\n",
       "  </thead>\n",
       "  <tbody>\n",
       "    <tr>\n",
       "      <th>0</th>\n",
       "      <td>Adana</td>\n",
       "      <td>Ceyhan</td>\n",
       "      <td>Cumhuriyet</td>\n",
       "      <td>2+1</td>\n",
       "      <td>130</td>\n",
       "      <td>7000</td>\n",
       "    </tr>\n",
       "    <tr>\n",
       "      <th>1</th>\n",
       "      <td>Adana</td>\n",
       "      <td>Ceyhan</td>\n",
       "      <td>Cumhuriyet</td>\n",
       "      <td>4+1</td>\n",
       "      <td>180</td>\n",
       "      <td>12000</td>\n",
       "    </tr>\n",
       "    <tr>\n",
       "      <th>2</th>\n",
       "      <td>Adana</td>\n",
       "      <td>Ceyhan</td>\n",
       "      <td>Cumhuriyet</td>\n",
       "      <td>2+1</td>\n",
       "      <td>115</td>\n",
       "      <td>7250</td>\n",
       "    </tr>\n",
       "    <tr>\n",
       "      <th>3</th>\n",
       "      <td>Adana</td>\n",
       "      <td>Ceyhan</td>\n",
       "      <td>Hürriyet</td>\n",
       "      <td>3+1</td>\n",
       "      <td>185</td>\n",
       "      <td>11500</td>\n",
       "    </tr>\n",
       "    <tr>\n",
       "      <th>4</th>\n",
       "      <td>Adana</td>\n",
       "      <td>Ceyhan</td>\n",
       "      <td>Ulus</td>\n",
       "      <td>3+1</td>\n",
       "      <td>165</td>\n",
       "      <td>9000</td>\n",
       "    </tr>\n",
       "    <tr>\n",
       "      <th>...</th>\n",
       "      <td>...</td>\n",
       "      <td>...</td>\n",
       "      <td>...</td>\n",
       "      <td>...</td>\n",
       "      <td>...</td>\n",
       "      <td>...</td>\n",
       "    </tr>\n",
       "    <tr>\n",
       "      <th>24602</th>\n",
       "      <td>Yozgat</td>\n",
       "      <td>Sorgun</td>\n",
       "      <td>Yeni</td>\n",
       "      <td>3+1</td>\n",
       "      <td>120</td>\n",
       "      <td>3500</td>\n",
       "    </tr>\n",
       "    <tr>\n",
       "      <th>24603</th>\n",
       "      <td>Yozgat</td>\n",
       "      <td>Yerköy</td>\n",
       "      <td>100. Yıl</td>\n",
       "      <td>3+1</td>\n",
       "      <td>135</td>\n",
       "      <td>4250</td>\n",
       "    </tr>\n",
       "    <tr>\n",
       "      <th>24604</th>\n",
       "      <td>Yozgat</td>\n",
       "      <td>Yerköy</td>\n",
       "      <td>Ayanoğlu</td>\n",
       "      <td>3+1</td>\n",
       "      <td>135</td>\n",
       "      <td>5250</td>\n",
       "    </tr>\n",
       "    <tr>\n",
       "      <th>24605</th>\n",
       "      <td>Yozgat</td>\n",
       "      <td>Yerköy</td>\n",
       "      <td>100. Yıl</td>\n",
       "      <td>3+1</td>\n",
       "      <td>140</td>\n",
       "      <td>3250</td>\n",
       "    </tr>\n",
       "    <tr>\n",
       "      <th>24606</th>\n",
       "      <td>Zonguldak</td>\n",
       "      <td>Çaycuma</td>\n",
       "      <td>Karamusa</td>\n",
       "      <td>3+1</td>\n",
       "      <td>120</td>\n",
       "      <td>11000</td>\n",
       "    </tr>\n",
       "  </tbody>\n",
       "</table>\n",
       "<p>24607 rows × 6 columns</p>\n",
       "</div>"
      ],
      "text/plain": [
       "            city district neighborhood room   m²  price\n",
       "0          Adana   Ceyhan   Cumhuriyet  2+1  130   7000\n",
       "1          Adana   Ceyhan   Cumhuriyet  4+1  180  12000\n",
       "2          Adana   Ceyhan   Cumhuriyet  2+1  115   7250\n",
       "3          Adana   Ceyhan     Hürriyet  3+1  185  11500\n",
       "4          Adana   Ceyhan         Ulus  3+1  165   9000\n",
       "...          ...      ...          ...  ...  ...    ...\n",
       "24602     Yozgat   Sorgun         Yeni  3+1  120   3500\n",
       "24603     Yozgat   Yerköy     100. Yıl  3+1  135   4250\n",
       "24604     Yozgat   Yerköy     Ayanoğlu  3+1  135   5250\n",
       "24605     Yozgat   Yerköy     100. Yıl  3+1  140   3250\n",
       "24606  Zonguldak  Çaycuma     Karamusa  3+1  120  11000\n",
       "\n",
       "[24607 rows x 6 columns]"
      ]
     },
     "execution_count": 8,
     "metadata": {},
     "output_type": "execute_result"
    }
   ],
   "source": [
    "df"
   ]
  },
  {
   "cell_type": "code",
   "execution_count": 9,
   "id": "3862d455-ca24-4c5e-8c7f-d6e3d5aa8947",
   "metadata": {},
   "outputs": [],
   "source": [
    "# Assing dummy variable to columns for each room type\n",
    "df = pd.get_dummies(df, columns=[\"room\"], prefix=[\"room\"])"
   ]
  },
  {
   "cell_type": "code",
   "execution_count": 10,
   "id": "c814418d-79eb-4776-855a-ab191934cb60",
   "metadata": {},
   "outputs": [
    {
     "data": {
      "text/plain": [
       "[478, 4720, 9125, 9054, 1230]"
      ]
     },
     "execution_count": 10,
     "metadata": {},
     "output_type": "execute_result"
    }
   ],
   "source": [
    "# learn how many advert for each room type using cplumns that assing dummy \n",
    "arr= [df[\"room_1+0\"].sum(), df[\"room_1+1\"].sum(), df[\"room_2+1\"].sum(), df[\"room_3+1\"].sum(), df[\"room_4+1\"].sum()]\n",
    "arr"
   ]
  },
  {
   "cell_type": "code",
   "execution_count": 11,
   "id": "dcb68952-8ce2-4f93-b733-5d6f5abea36c",
   "metadata": {},
   "outputs": [],
   "source": [
    "# Apply LabelEencoder transformation for 'city', 'district', 'neighborhood'\n",
    "from sklearn.preprocessing import LabelEncoder\n",
    "# Create a LabelEncoder object\n",
    "le = LabelEncoder()\n",
    "\n",
    "# Encode the string column 'city'\n",
    "df['city_le'] = le.fit_transform(df['city'])\n",
    "\n",
    "# Encode the string column 'district'\n",
    "df['district_le'] = le.fit_transform(df['district'])\n",
    "\n",
    "# Encode the string column 'neighborhood'\n",
    "df['neighborhood_le'] = le.fit_transform(df['neighborhood'])"
   ]
  },
  {
   "cell_type": "code",
   "execution_count": 12,
   "id": "b951487f-9ad3-4b26-a969-16aaf720f6af",
   "metadata": {
    "tags": []
   },
   "outputs": [],
   "source": [
    "df = df.drop([\"city\",\"district\",\"neighborhood\"], axis=1)"
   ]
  },
  {
   "cell_type": "code",
   "execution_count": 13,
   "id": "9ef8e72f-2738-41c3-a611-59de5b740ef3",
   "metadata": {},
   "outputs": [
    {
     "data": {
      "text/html": [
       "<div>\n",
       "<style scoped>\n",
       "    .dataframe tbody tr th:only-of-type {\n",
       "        vertical-align: middle;\n",
       "    }\n",
       "\n",
       "    .dataframe tbody tr th {\n",
       "        vertical-align: top;\n",
       "    }\n",
       "\n",
       "    .dataframe thead th {\n",
       "        text-align: right;\n",
       "    }\n",
       "</style>\n",
       "<table border=\"1\" class=\"dataframe\">\n",
       "  <thead>\n",
       "    <tr style=\"text-align: right;\">\n",
       "      <th></th>\n",
       "      <th>count</th>\n",
       "      <th>mean</th>\n",
       "      <th>std</th>\n",
       "      <th>min</th>\n",
       "      <th>25%</th>\n",
       "      <th>50%</th>\n",
       "      <th>75%</th>\n",
       "      <th>max</th>\n",
       "    </tr>\n",
       "  </thead>\n",
       "  <tbody>\n",
       "    <tr>\n",
       "      <th>m²</th>\n",
       "      <td>24607.0</td>\n",
       "      <td>112.512984</td>\n",
       "      <td>39.937221</td>\n",
       "      <td>20.0</td>\n",
       "      <td>85.0</td>\n",
       "      <td>110.0</td>\n",
       "      <td>140.0</td>\n",
       "      <td>230.0</td>\n",
       "    </tr>\n",
       "    <tr>\n",
       "      <th>price</th>\n",
       "      <td>24607.0</td>\n",
       "      <td>14503.486366</td>\n",
       "      <td>6926.190760</td>\n",
       "      <td>2000.0</td>\n",
       "      <td>10000.0</td>\n",
       "      <td>13000.0</td>\n",
       "      <td>17500.0</td>\n",
       "      <td>57500.0</td>\n",
       "    </tr>\n",
       "    <tr>\n",
       "      <th>room_1+0</th>\n",
       "      <td>24607.0</td>\n",
       "      <td>0.019425</td>\n",
       "      <td>0.138017</td>\n",
       "      <td>0.0</td>\n",
       "      <td>0.0</td>\n",
       "      <td>0.0</td>\n",
       "      <td>0.0</td>\n",
       "      <td>1.0</td>\n",
       "    </tr>\n",
       "    <tr>\n",
       "      <th>room_1+1</th>\n",
       "      <td>24607.0</td>\n",
       "      <td>0.191815</td>\n",
       "      <td>0.393737</td>\n",
       "      <td>0.0</td>\n",
       "      <td>0.0</td>\n",
       "      <td>0.0</td>\n",
       "      <td>0.0</td>\n",
       "      <td>1.0</td>\n",
       "    </tr>\n",
       "    <tr>\n",
       "      <th>room_2+1</th>\n",
       "      <td>24607.0</td>\n",
       "      <td>0.370829</td>\n",
       "      <td>0.483037</td>\n",
       "      <td>0.0</td>\n",
       "      <td>0.0</td>\n",
       "      <td>0.0</td>\n",
       "      <td>1.0</td>\n",
       "      <td>1.0</td>\n",
       "    </tr>\n",
       "    <tr>\n",
       "      <th>room_3+1</th>\n",
       "      <td>24607.0</td>\n",
       "      <td>0.367944</td>\n",
       "      <td>0.482256</td>\n",
       "      <td>0.0</td>\n",
       "      <td>0.0</td>\n",
       "      <td>0.0</td>\n",
       "      <td>1.0</td>\n",
       "      <td>1.0</td>\n",
       "    </tr>\n",
       "    <tr>\n",
       "      <th>room_4+1</th>\n",
       "      <td>24607.0</td>\n",
       "      <td>0.049986</td>\n",
       "      <td>0.217920</td>\n",
       "      <td>0.0</td>\n",
       "      <td>0.0</td>\n",
       "      <td>0.0</td>\n",
       "      <td>0.0</td>\n",
       "      <td>1.0</td>\n",
       "    </tr>\n",
       "    <tr>\n",
       "      <th>city_le</th>\n",
       "      <td>24607.0</td>\n",
       "      <td>41.843947</td>\n",
       "      <td>27.592971</td>\n",
       "      <td>0.0</td>\n",
       "      <td>8.0</td>\n",
       "      <td>48.0</td>\n",
       "      <td>71.0</td>\n",
       "      <td>73.0</td>\n",
       "    </tr>\n",
       "    <tr>\n",
       "      <th>district_le</th>\n",
       "      <td>24607.0</td>\n",
       "      <td>192.843134</td>\n",
       "      <td>107.174784</td>\n",
       "      <td>0.0</td>\n",
       "      <td>107.0</td>\n",
       "      <td>196.0</td>\n",
       "      <td>278.0</td>\n",
       "      <td>377.0</td>\n",
       "    </tr>\n",
       "    <tr>\n",
       "      <th>neighborhood_le</th>\n",
       "      <td>24607.0</td>\n",
       "      <td>1198.389361</td>\n",
       "      <td>722.557204</td>\n",
       "      <td>0.0</td>\n",
       "      <td>523.0</td>\n",
       "      <td>1202.0</td>\n",
       "      <td>1861.0</td>\n",
       "      <td>2403.0</td>\n",
       "    </tr>\n",
       "  </tbody>\n",
       "</table>\n",
       "</div>"
      ],
      "text/plain": [
       "                   count          mean          std     min      25%      50%  \\\n",
       "m²               24607.0    112.512984    39.937221    20.0     85.0    110.0   \n",
       "price            24607.0  14503.486366  6926.190760  2000.0  10000.0  13000.0   \n",
       "room_1+0         24607.0      0.019425     0.138017     0.0      0.0      0.0   \n",
       "room_1+1         24607.0      0.191815     0.393737     0.0      0.0      0.0   \n",
       "room_2+1         24607.0      0.370829     0.483037     0.0      0.0      0.0   \n",
       "room_3+1         24607.0      0.367944     0.482256     0.0      0.0      0.0   \n",
       "room_4+1         24607.0      0.049986     0.217920     0.0      0.0      0.0   \n",
       "city_le          24607.0     41.843947    27.592971     0.0      8.0     48.0   \n",
       "district_le      24607.0    192.843134   107.174784     0.0    107.0    196.0   \n",
       "neighborhood_le  24607.0   1198.389361   722.557204     0.0    523.0   1202.0   \n",
       "\n",
       "                     75%      max  \n",
       "m²                 140.0    230.0  \n",
       "price            17500.0  57500.0  \n",
       "room_1+0             0.0      1.0  \n",
       "room_1+1             0.0      1.0  \n",
       "room_2+1             1.0      1.0  \n",
       "room_3+1             1.0      1.0  \n",
       "room_4+1             0.0      1.0  \n",
       "city_le             71.0     73.0  \n",
       "district_le        278.0    377.0  \n",
       "neighborhood_le   1861.0   2403.0  "
      ]
     },
     "execution_count": 13,
     "metadata": {},
     "output_type": "execute_result"
    }
   ],
   "source": [
    "df.describe().T"
   ]
  },
  {
   "cell_type": "code",
   "execution_count": 14,
   "id": "72054032-d9b0-4040-bf03-410394f2039e",
   "metadata": {},
   "outputs": [
    {
     "data": {
      "text/html": [
       "<div>\n",
       "<style scoped>\n",
       "    .dataframe tbody tr th:only-of-type {\n",
       "        vertical-align: middle;\n",
       "    }\n",
       "\n",
       "    .dataframe tbody tr th {\n",
       "        vertical-align: top;\n",
       "    }\n",
       "\n",
       "    .dataframe thead th {\n",
       "        text-align: right;\n",
       "    }\n",
       "</style>\n",
       "<table border=\"1\" class=\"dataframe\">\n",
       "  <thead>\n",
       "    <tr style=\"text-align: right;\">\n",
       "      <th></th>\n",
       "      <th>m²</th>\n",
       "      <th>price</th>\n",
       "      <th>room_1+0</th>\n",
       "      <th>room_1+1</th>\n",
       "      <th>room_2+1</th>\n",
       "      <th>room_3+1</th>\n",
       "      <th>room_4+1</th>\n",
       "      <th>city_le</th>\n",
       "      <th>district_le</th>\n",
       "      <th>neighborhood_le</th>\n",
       "    </tr>\n",
       "  </thead>\n",
       "  <tbody>\n",
       "    <tr>\n",
       "      <th>0</th>\n",
       "      <td>130</td>\n",
       "      <td>7000</td>\n",
       "      <td>0</td>\n",
       "      <td>0</td>\n",
       "      <td>1</td>\n",
       "      <td>0</td>\n",
       "      <td>0</td>\n",
       "      <td>0</td>\n",
       "      <td>88</td>\n",
       "      <td>486</td>\n",
       "    </tr>\n",
       "    <tr>\n",
       "      <th>1</th>\n",
       "      <td>180</td>\n",
       "      <td>12000</td>\n",
       "      <td>0</td>\n",
       "      <td>0</td>\n",
       "      <td>0</td>\n",
       "      <td>0</td>\n",
       "      <td>1</td>\n",
       "      <td>0</td>\n",
       "      <td>88</td>\n",
       "      <td>486</td>\n",
       "    </tr>\n",
       "    <tr>\n",
       "      <th>2</th>\n",
       "      <td>115</td>\n",
       "      <td>7250</td>\n",
       "      <td>0</td>\n",
       "      <td>0</td>\n",
       "      <td>1</td>\n",
       "      <td>0</td>\n",
       "      <td>0</td>\n",
       "      <td>0</td>\n",
       "      <td>88</td>\n",
       "      <td>486</td>\n",
       "    </tr>\n",
       "    <tr>\n",
       "      <th>3</th>\n",
       "      <td>185</td>\n",
       "      <td>11500</td>\n",
       "      <td>0</td>\n",
       "      <td>0</td>\n",
       "      <td>0</td>\n",
       "      <td>1</td>\n",
       "      <td>0</td>\n",
       "      <td>0</td>\n",
       "      <td>88</td>\n",
       "      <td>983</td>\n",
       "    </tr>\n",
       "    <tr>\n",
       "      <th>4</th>\n",
       "      <td>165</td>\n",
       "      <td>9000</td>\n",
       "      <td>0</td>\n",
       "      <td>0</td>\n",
       "      <td>0</td>\n",
       "      <td>1</td>\n",
       "      <td>0</td>\n",
       "      <td>0</td>\n",
       "      <td>88</td>\n",
       "      <td>1919</td>\n",
       "    </tr>\n",
       "  </tbody>\n",
       "</table>\n",
       "</div>"
      ],
      "text/plain": [
       "    m²  price  room_1+0  room_1+1  room_2+1  room_3+1  room_4+1  city_le  \\\n",
       "0  130   7000         0         0         1         0         0        0   \n",
       "1  180  12000         0         0         0         0         1        0   \n",
       "2  115   7250         0         0         1         0         0        0   \n",
       "3  185  11500         0         0         0         1         0        0   \n",
       "4  165   9000         0         0         0         1         0        0   \n",
       "\n",
       "   district_le  neighborhood_le  \n",
       "0           88              486  \n",
       "1           88              486  \n",
       "2           88              486  \n",
       "3           88              983  \n",
       "4           88             1919  "
      ]
     },
     "execution_count": 14,
     "metadata": {},
     "output_type": "execute_result"
    }
   ],
   "source": [
    "df.head()"
   ]
  },
  {
   "cell_type": "code",
   "execution_count": null,
   "id": "93855af8-aa3b-4878-ace4-bf1a900579af",
   "metadata": {},
   "outputs": [],
   "source": []
  },
  {
   "cell_type": "code",
   "execution_count": 15,
   "id": "714cd613-3970-4531-ab42-9c6b2d8e481f",
   "metadata": {},
   "outputs": [],
   "source": [
    "# Define dependet and independet variables\n",
    "\n",
    "y = df[\"price\"]\n",
    "x = df.drop(\"price\", axis=1)"
   ]
  },
  {
   "cell_type": "code",
   "execution_count": 16,
   "id": "9f3fae6a-9442-454d-8289-4e09b37736b8",
   "metadata": {},
   "outputs": [],
   "source": [
    "x_train, x_test, y_train, y_test = train_test_split(x, y, test_size=0.2, random_state=42)"
   ]
  },
  {
   "cell_type": "code",
   "execution_count": 17,
   "id": "57ebf329-3233-42bc-92b5-6947dd6c0e04",
   "metadata": {},
   "outputs": [
    {
     "data": {
      "text/plain": [
       "0.1978082191780822"
      ]
     },
     "execution_count": 17,
     "metadata": {},
     "output_type": "execute_result"
    }
   ],
   "source": [
    "# for learning rate\"test_data/all_data\" that 2+1 room type  \n",
    "(x_test[\"room_2+1\"].sum()) / (x_test[\"room_2+1\"].sum() + x_train[\"room_2+1\"].sum())"
   ]
  },
  {
   "cell_type": "code",
   "execution_count": 18,
   "id": "bef91b7f-d11a-4635-aef9-9a1343913838",
   "metadata": {},
   "outputs": [
    {
     "data": {
      "text/html": [
       "<div>\n",
       "<style scoped>\n",
       "    .dataframe tbody tr th:only-of-type {\n",
       "        vertical-align: middle;\n",
       "    }\n",
       "\n",
       "    .dataframe tbody tr th {\n",
       "        vertical-align: top;\n",
       "    }\n",
       "\n",
       "    .dataframe thead th {\n",
       "        text-align: right;\n",
       "    }\n",
       "</style>\n",
       "<table border=\"1\" class=\"dataframe\">\n",
       "  <thead>\n",
       "    <tr style=\"text-align: right;\">\n",
       "      <th></th>\n",
       "      <th>m²</th>\n",
       "      <th>room_1+0</th>\n",
       "      <th>room_1+1</th>\n",
       "      <th>room_2+1</th>\n",
       "      <th>room_3+1</th>\n",
       "      <th>room_4+1</th>\n",
       "      <th>city_le</th>\n",
       "      <th>district_le</th>\n",
       "      <th>neighborhood_le</th>\n",
       "    </tr>\n",
       "  </thead>\n",
       "  <tbody>\n",
       "    <tr>\n",
       "      <th>2444</th>\n",
       "      <td>115</td>\n",
       "      <td>0</td>\n",
       "      <td>0</td>\n",
       "      <td>0</td>\n",
       "      <td>1</td>\n",
       "      <td>0</td>\n",
       "      <td>5</td>\n",
       "      <td>190</td>\n",
       "      <td>2310</td>\n",
       "    </tr>\n",
       "    <tr>\n",
       "      <th>9061</th>\n",
       "      <td>75</td>\n",
       "      <td>0</td>\n",
       "      <td>1</td>\n",
       "      <td>0</td>\n",
       "      <td>0</td>\n",
       "      <td>0</td>\n",
       "      <td>25</td>\n",
       "      <td>321</td>\n",
       "      <td>1471</td>\n",
       "    </tr>\n",
       "    <tr>\n",
       "      <th>21152</th>\n",
       "      <td>70</td>\n",
       "      <td>0</td>\n",
       "      <td>0</td>\n",
       "      <td>1</td>\n",
       "      <td>0</td>\n",
       "      <td>0</td>\n",
       "      <td>48</td>\n",
       "      <td>326</td>\n",
       "      <td>34</td>\n",
       "    </tr>\n",
       "    <tr>\n",
       "      <th>5472</th>\n",
       "      <td>150</td>\n",
       "      <td>0</td>\n",
       "      <td>0</td>\n",
       "      <td>0</td>\n",
       "      <td>1</td>\n",
       "      <td>0</td>\n",
       "      <td>6</td>\n",
       "      <td>234</td>\n",
       "      <td>2401</td>\n",
       "    </tr>\n",
       "    <tr>\n",
       "      <th>7563</th>\n",
       "      <td>130</td>\n",
       "      <td>0</td>\n",
       "      <td>0</td>\n",
       "      <td>0</td>\n",
       "      <td>1</td>\n",
       "      <td>0</td>\n",
       "      <td>18</td>\n",
       "      <td>251</td>\n",
       "      <td>521</td>\n",
       "    </tr>\n",
       "    <tr>\n",
       "      <th>...</th>\n",
       "      <td>...</td>\n",
       "      <td>...</td>\n",
       "      <td>...</td>\n",
       "      <td>...</td>\n",
       "      <td>...</td>\n",
       "      <td>...</td>\n",
       "      <td>...</td>\n",
       "      <td>...</td>\n",
       "      <td>...</td>\n",
       "    </tr>\n",
       "    <tr>\n",
       "      <th>21575</th>\n",
       "      <td>150</td>\n",
       "      <td>0</td>\n",
       "      <td>0</td>\n",
       "      <td>0</td>\n",
       "      <td>1</td>\n",
       "      <td>0</td>\n",
       "      <td>49</td>\n",
       "      <td>90</td>\n",
       "      <td>1097</td>\n",
       "    </tr>\n",
       "    <tr>\n",
       "      <th>5390</th>\n",
       "      <td>185</td>\n",
       "      <td>0</td>\n",
       "      <td>0</td>\n",
       "      <td>0</td>\n",
       "      <td>1</td>\n",
       "      <td>0</td>\n",
       "      <td>6</td>\n",
       "      <td>220</td>\n",
       "      <td>955</td>\n",
       "    </tr>\n",
       "    <tr>\n",
       "      <th>860</th>\n",
       "      <td>49</td>\n",
       "      <td>0</td>\n",
       "      <td>1</td>\n",
       "      <td>0</td>\n",
       "      <td>0</td>\n",
       "      <td>0</td>\n",
       "      <td>5</td>\n",
       "      <td>142</td>\n",
       "      <td>2302</td>\n",
       "    </tr>\n",
       "    <tr>\n",
       "      <th>15795</th>\n",
       "      <td>145</td>\n",
       "      <td>0</td>\n",
       "      <td>0</td>\n",
       "      <td>1</td>\n",
       "      <td>0</td>\n",
       "      <td>0</td>\n",
       "      <td>71</td>\n",
       "      <td>311</td>\n",
       "      <td>256</td>\n",
       "    </tr>\n",
       "    <tr>\n",
       "      <th>23654</th>\n",
       "      <td>95</td>\n",
       "      <td>0</td>\n",
       "      <td>0</td>\n",
       "      <td>1</td>\n",
       "      <td>0</td>\n",
       "      <td>0</td>\n",
       "      <td>60</td>\n",
       "      <td>163</td>\n",
       "      <td>2316</td>\n",
       "    </tr>\n",
       "  </tbody>\n",
       "</table>\n",
       "<p>19685 rows × 9 columns</p>\n",
       "</div>"
      ],
      "text/plain": [
       "        m²  room_1+0  room_1+1  room_2+1  room_3+1  room_4+1  city_le  \\\n",
       "2444   115         0         0         0         1         0        5   \n",
       "9061    75         0         1         0         0         0       25   \n",
       "21152   70         0         0         1         0         0       48   \n",
       "5472   150         0         0         0         1         0        6   \n",
       "7563   130         0         0         0         1         0       18   \n",
       "...    ...       ...       ...       ...       ...       ...      ...   \n",
       "21575  150         0         0         0         1         0       49   \n",
       "5390   185         0         0         0         1         0        6   \n",
       "860     49         0         1         0         0         0        5   \n",
       "15795  145         0         0         1         0         0       71   \n",
       "23654   95         0         0         1         0         0       60   \n",
       "\n",
       "       district_le  neighborhood_le  \n",
       "2444           190             2310  \n",
       "9061           321             1471  \n",
       "21152          326               34  \n",
       "5472           234             2401  \n",
       "7563           251              521  \n",
       "...            ...              ...  \n",
       "21575           90             1097  \n",
       "5390           220              955  \n",
       "860            142             2302  \n",
       "15795          311              256  \n",
       "23654          163             2316  \n",
       "\n",
       "[19685 rows x 9 columns]"
      ]
     },
     "execution_count": 18,
     "metadata": {},
     "output_type": "execute_result"
    }
   ],
   "source": [
    "x_train"
   ]
  },
  {
   "cell_type": "code",
   "execution_count": null,
   "id": "0d4b3237-8ddf-4a3c-8732-1b6c6c4edb09",
   "metadata": {},
   "outputs": [],
   "source": []
  },
  {
   "cell_type": "markdown",
   "id": "1ab05852-cae4-4df7-8b37-73611b7d46f3",
   "metadata": {},
   "source": [
    "#### Creating machine learning models"
   ]
  },
  {
   "cell_type": "code",
   "execution_count": 124,
   "id": "9bcc7456-6555-4309-9273-137ccba519e2",
   "metadata": {
    "tags": []
   },
   "outputs": [],
   "source": [
    "# KNN regression\n",
    "knn_model = KNeighborsRegressor().fit(x_train, y_train)"
   ]
  },
  {
   "cell_type": "code",
   "execution_count": 125,
   "id": "6cf379de-a7fd-41c8-9788-719d74831b3d",
   "metadata": {},
   "outputs": [],
   "source": [
    "y_pred_knn = knn_model.predict(x_test)"
   ]
  },
  {
   "cell_type": "code",
   "execution_count": 126,
   "id": "37731157-441b-4aec-9ec2-53b765dc77f0",
   "metadata": {},
   "outputs": [
    {
     "data": {
      "text/plain": [
       "5199.242918971513"
      ]
     },
     "execution_count": 126,
     "metadata": {},
     "output_type": "execute_result"
    }
   ],
   "source": [
    "mse_knn = np.sqrt(mean_squared_error(y_test, y_pred_knn))\n",
    "mse_knn"
   ]
  },
  {
   "cell_type": "code",
   "execution_count": null,
   "id": "3015057d-3c56-4f15-9c36-60dd308000ee",
   "metadata": {},
   "outputs": [],
   "source": []
  },
  {
   "cell_type": "code",
   "execution_count": 25,
   "id": "87f3e1b7-7772-4a78-bee5-e49bd410fa8c",
   "metadata": {},
   "outputs": [],
   "source": [
    "# Decision Tree regression\n",
    "dec_tree = DecisionTreeRegressor().fit(x_train, y_train)"
   ]
  },
  {
   "cell_type": "code",
   "execution_count": 26,
   "id": "1f9c1ccf-cc57-4ae8-9012-c78e2e96d987",
   "metadata": {},
   "outputs": [],
   "source": [
    "y_pred_tree = dec_tree.predict(x_test)"
   ]
  },
  {
   "cell_type": "code",
   "execution_count": 27,
   "id": "3f40efbd-bd98-4212-8922-1f1e628ab44a",
   "metadata": {},
   "outputs": [
    {
     "data": {
      "text/plain": [
       "5431.531118786767"
      ]
     },
     "execution_count": 27,
     "metadata": {},
     "output_type": "execute_result"
    }
   ],
   "source": [
    "mse_tree = np.sqrt(mean_squared_error(y_test, y_pred_tree))\n",
    "mse_tree"
   ]
  },
  {
   "cell_type": "code",
   "execution_count": null,
   "id": "d2698723-d6aa-4bc4-b380-c3fe15ef9ad0",
   "metadata": {},
   "outputs": [],
   "source": []
  },
  {
   "cell_type": "code",
   "execution_count": 22,
   "id": "5d6f5eee-7172-4e1c-946e-2181b0b65863",
   "metadata": {},
   "outputs": [],
   "source": [
    "# Random Forest regression\n",
    "rf = RandomForestRegressor().fit(x_train, y_train)"
   ]
  },
  {
   "cell_type": "code",
   "execution_count": 23,
   "id": "20c73978-208f-491b-9b0f-1e2b9b32bb07",
   "metadata": {
    "tags": []
   },
   "outputs": [],
   "source": [
    "y_pred_rf = rf.predict(x_test)"
   ]
  },
  {
   "cell_type": "code",
   "execution_count": 24,
   "id": "50bf8334-8b66-430c-9c5c-9f7ad892c729",
   "metadata": {},
   "outputs": [
    {
     "data": {
      "text/plain": [
       "4454.814112018028"
      ]
     },
     "execution_count": 24,
     "metadata": {},
     "output_type": "execute_result"
    }
   ],
   "source": [
    "mse_rf = np.sqrt(mean_squared_error(y_test, y_pred_rf))\n",
    "mse_rf"
   ]
  },
  {
   "cell_type": "code",
   "execution_count": null,
   "id": "7e205c67-8674-404b-8cdb-caec802597e1",
   "metadata": {},
   "outputs": [],
   "source": []
  },
  {
   "cell_type": "code",
   "execution_count": null,
   "id": "064e6e29-3e5b-454a-82dc-fb0168153a9d",
   "metadata": {
    "tags": []
   },
   "outputs": [],
   "source": [
    "# Cat Boost regression\n",
    "cat_boost = CatBoostRegressor().fit(x_train, y_train)"
   ]
  },
  {
   "cell_type": "code",
   "execution_count": 29,
   "id": "3e88f3c5-a8da-4bbf-a2fe-3aa0b40655f4",
   "metadata": {},
   "outputs": [],
   "source": [
    "y_pred_cat = cat_boost.predict(x_test)"
   ]
  },
  {
   "cell_type": "code",
   "execution_count": 30,
   "id": "9df7a324-06dc-49f0-9669-823ce0f87c57",
   "metadata": {},
   "outputs": [
    {
     "data": {
      "text/plain": [
       "4379.82048845411"
      ]
     },
     "execution_count": 30,
     "metadata": {},
     "output_type": "execute_result"
    }
   ],
   "source": [
    "mse_cat = np.sqrt(mean_squared_error(y_test, y_pred_cat))\n",
    "mse_cat"
   ]
  },
  {
   "cell_type": "code",
   "execution_count": null,
   "id": "01afd763-123f-41d8-9424-ff554a74d6ed",
   "metadata": {},
   "outputs": [],
   "source": []
  },
  {
   "cell_type": "code",
   "execution_count": 35,
   "id": "cc92b324-b5c4-46e8-a85c-e5e54535a3be",
   "metadata": {},
   "outputs": [],
   "source": [
    "# Bagged Trees regression\n",
    "bag_model = BaggingRegressor(bootstrap_features = True).fit(x_train, y_train)"
   ]
  },
  {
   "cell_type": "code",
   "execution_count": 36,
   "id": "aefe1992-f3c9-4013-8299-6336ce90742b",
   "metadata": {},
   "outputs": [],
   "source": [
    "y_pred_bag = bag_model.predict(x_test)"
   ]
  },
  {
   "cell_type": "code",
   "execution_count": 37,
   "id": "c3d3d9f5-e8e7-4343-883a-c54a725d146a",
   "metadata": {},
   "outputs": [
    {
     "data": {
      "text/plain": [
       "4327.77377227226"
      ]
     },
     "execution_count": 37,
     "metadata": {},
     "output_type": "execute_result"
    }
   ],
   "source": [
    "mse_bag = np.sqrt(mean_squared_error(y_test, y_pred_bag))\n",
    "mse_bag"
   ]
  },
  {
   "cell_type": "code",
   "execution_count": null,
   "id": "863082db-8fd4-42e3-a317-d5bdbef3acf8",
   "metadata": {},
   "outputs": [],
   "source": []
  },
  {
   "cell_type": "code",
   "execution_count": null,
   "id": "a5a4d6c9-584f-4740-bdca-04958e528f70",
   "metadata": {},
   "outputs": [],
   "source": [
    "lgbm_model = LGBMRegressor().fit(x_train, y_train)\n",
    "y_pred_lgbm = lgbm_model.predict(x_test)"
   ]
  },
  {
   "cell_type": "code",
   "execution_count": null,
   "id": "f758e156-9515-4e6d-a921-3062076b1174",
   "metadata": {
    "tags": []
   },
   "outputs": [],
   "source": [
    "!pip install lightgbm"
   ]
  },
  {
   "cell_type": "code",
   "execution_count": null,
   "id": "e2f3f539-4002-4bad-ac0a-4ad56925cbc6",
   "metadata": {},
   "outputs": [],
   "source": [
    "mse_lgbm = np.sqrt(mean_squared_error(y_test, y_pred_lgbm))\n",
    "mse_lgbm"
   ]
  },
  {
   "cell_type": "code",
   "execution_count": null,
   "id": "f998a6b7-31e3-47e4-920a-7cc4477113f4",
   "metadata": {},
   "outputs": [],
   "source": []
  },
  {
   "cell_type": "code",
   "execution_count": 38,
   "id": "59edb952-19a1-46c6-a6d1-dbf51d12fbdc",
   "metadata": {},
   "outputs": [],
   "source": [
    "# Gradient Boosting regression\n",
    "gbm_model = GradientBoostingRegressor().fit(x_train, y_train)"
   ]
  },
  {
   "cell_type": "code",
   "execution_count": 39,
   "id": "020385cd-f39b-44d1-b2fc-770130e106eb",
   "metadata": {},
   "outputs": [],
   "source": [
    "y_pred_gbm = gbm_model.predict(x_test)"
   ]
  },
  {
   "cell_type": "code",
   "execution_count": 40,
   "id": "6d9054a9-3816-442b-b7bb-89f1dd5bd645",
   "metadata": {},
   "outputs": [
    {
     "data": {
      "text/plain": [
       "5095.605095492102"
      ]
     },
     "execution_count": 40,
     "metadata": {},
     "output_type": "execute_result"
    }
   ],
   "source": [
    "mse_gbm = np.sqrt(mean_squared_error(y_test, y_pred_gbm))\n",
    "mse_gbm"
   ]
  },
  {
   "cell_type": "code",
   "execution_count": null,
   "id": "cfcc08fd-f975-40e3-96cc-5970917e6884",
   "metadata": {},
   "outputs": [],
   "source": []
  },
  {
   "cell_type": "code",
   "execution_count": null,
   "id": "29e11be3-d1ac-49b4-8dbd-440ed0959832",
   "metadata": {
    "tags": []
   },
   "outputs": [],
   "source": [
    "!pip install xgboost"
   ]
  },
  {
   "cell_type": "code",
   "execution_count": 41,
   "id": "6103c867-4eb4-419b-84f9-fe555b4ec159",
   "metadata": {},
   "outputs": [],
   "source": [
    "# XGBoost regression\n",
    "xgb_model = XGBRegressor().fit(x_train, y_train)"
   ]
  },
  {
   "cell_type": "code",
   "execution_count": 42,
   "id": "7be7c5fa-b3f1-4d4f-b891-34090dcbea11",
   "metadata": {},
   "outputs": [],
   "source": [
    "y_pred_xgb = xgb_model.predict(x_test)"
   ]
  },
  {
   "cell_type": "code",
   "execution_count": 43,
   "id": "406b04e9-822b-42df-8fad-a0c3cec4ac9b",
   "metadata": {},
   "outputs": [
    {
     "data": {
      "text/plain": [
       "4277.446249084818"
      ]
     },
     "execution_count": 43,
     "metadata": {},
     "output_type": "execute_result"
    }
   ],
   "source": [
    "mse_xgb = np.sqrt(mean_squared_error(y_test, y_pred_xgb))\n",
    "mse_xgb"
   ]
  },
  {
   "cell_type": "code",
   "execution_count": null,
   "id": "9474144c-d74e-4514-ad42-f7d437ae452e",
   "metadata": {},
   "outputs": [],
   "source": []
  },
  {
   "cell_type": "code",
   "execution_count": 147,
   "id": "4ef5bafb-c732-4200-9e94-6028aaebf9a5",
   "metadata": {},
   "outputs": [
    {
     "data": {
      "text/plain": [
       "<BarContainer object of 8 artists>"
      ]
     },
     "execution_count": 147,
     "metadata": {},
     "output_type": "execute_result"
    },
    {
     "data": {
      "image/png": "[encoded data removed]",
      "text/plain": [
       "<Figure size 640x480 with 1 Axes>"
      ]
     },
     "metadata": {},
     "output_type": "display_data"
    }
   ],
   "source": [
    "all_mse = pd.DataFrame({\n",
    "    \"x\": [\"mse_xgb\",\"mse_bag\",\"mse_cat\",\"mse_gbm\",\"mse_knn\",\"mse_lgbm\",\"mse_rf\",\"mse_tree\"],\n",
    "    \"y\": [mse_xgb,mse_bag,mse_cat,mse_gbm,mse_knn,mse_lgbm,mse_rf,mse_tree]  \n",
    "})\n",
    "\n",
    "plt.grid(axis=\"x\")\n",
    "plt.barh(all_mse[\"x\"], all_mse[\"y\"])"
   ]
  },
  {
   "cell_type": "code",
   "execution_count": null,
   "id": "0400c021-24af-44c2-97d9-101d360be9ab",
   "metadata": {},
   "outputs": [],
   "source": [
    "# XGB showed the best performance in this dataset"
   ]
  },
  {
   "cell_type": "code",
   "execution_count": null,
   "id": "8fc5effe-cf90-4319-899a-b10625cade98",
   "metadata": {},
   "outputs": [],
   "source": []
  },
  {
   "cell_type": "markdown",
   "id": "0d8e7adb-210c-44e7-93f5-577a14af94fe",
   "metadata": {},
   "source": [
    "#### XGB model tuning"
   ]
  },
  {
   "cell_type": "code",
   "execution_count": 67,
   "id": "12334db2-439c-4427-bf51-46e358f0d9ae",
   "metadata": {},
   "outputs": [],
   "source": [
    "xgb_grid = {\n",
    "     'colsample_bytree': [0.4, 0.5,0.6,0.9,1], \n",
    "     'n_estimators':[100, 200, 500, 1000],\n",
    "     'max_depth': [2,3,4,5,6],\n",
    "     'learning_rate': [0.1, 0.01, 0.5]\n",
    "}"
   ]
  },
  {
   "cell_type": "code",
   "execution_count": null,
   "id": "fbdd2efb-1f6a-4486-9680-6a5cf52f118b",
   "metadata": {},
   "outputs": [],
   "source": [
    "xgb = XGBRegressor()\n",
    "\n",
    "xgb_cv = GridSearchCV(xgb, \n",
    "                      param_grid = xgb_grid, \n",
    "                      cv = 10, \n",
    "                      n_jobs = -1,\n",
    "                      verbose = 2)\n",
    "\n",
    "\n",
    "xgb_cv.fit(x_train, y_train)"
   ]
  },
  {
   "cell_type": "code",
   "execution_count": 69,
   "id": "1f3a9712-4cb7-4fe6-81a0-8f2654cde76e",
   "metadata": {},
   "outputs": [
    {
     "data": {
      "text/plain": [
       "{'colsample_bytree': 0.6,\n",
       " 'learning_rate': 0.1,\n",
       " 'max_depth': 6,\n",
       " 'n_estimators': 1000}"
      ]
     },
     "execution_count": 69,
     "metadata": {},
     "output_type": "execute_result"
    }
   ],
   "source": [
    "xgb_cv.best_params_"
   ]
  },
  {
   "cell_type": "code",
   "execution_count": 70,
   "id": "55bf2d4a-165e-4860-92c8-5a9a4ae4acb8",
   "metadata": {},
   "outputs": [],
   "source": [
    "xgb_tuned = XGBRegressor(colsample_bytree = 0.6, \n",
    "                         learning_rate = 0.1, \n",
    "                         max_depth = 6, \n",
    "                         n_estimators = 1000) \n",
    "\n",
    "xgb_tuned = xgb_tuned.fit(x_train,y_train)"
   ]
  },
  {
   "cell_type": "code",
   "execution_count": 71,
   "id": "787ff69d-7184-47f3-90d6-a201067b1385",
   "metadata": {},
   "outputs": [
    {
     "data": {
      "text/plain": [
       "4170.643619635636"
      ]
     },
     "execution_count": 71,
     "metadata": {},
     "output_type": "execute_result"
    }
   ],
   "source": [
    "y_pred = xgb_tuned.predict(x_test)\n",
    "np.sqrt(mean_squared_error(y_test, y_pred))"
   ]
  },
  {
   "cell_type": "code",
   "execution_count": null,
   "id": "ed0f8502-aede-4808-9bb5-a38e5eadc067",
   "metadata": {},
   "outputs": [],
   "source": []
  },
  {
   "cell_type": "code",
   "execution_count": null,
   "id": "9b46430d-32ca-42da-8a0e-86cc542782fe",
   "metadata": {},
   "outputs": [],
   "source": []
  },
  {
   "cell_type": "markdown",
   "id": "7ba141de-64bb-47f5-b362-ab5b0f7cdffd",
   "metadata": {},
   "source": [
    "### Show estimated price and many useful output using XGB model based on entered infos "
   ]
  },
  {
   "cell_type": "code",
   "execution_count": 167,
   "id": "db417df8-4bf6-41fd-b0ac-bbdaa2168096",
   "metadata": {},
   "outputs": [],
   "source": [
    "def pred_price(city, district, neighborhood, room, metrekare):\n",
    "  \n",
    "\n",
    "    if city!=\"\" and city not in d[\"city\"].tolist():\n",
    "        print(\"--------------------------------\\n\\nBöyle bir il bulunamadı ya da bu ilde ilan yok!\\n\")\n",
    "        print(\"Şehir ismini doğru yazdığınızdan emin olun!\\nŞehrin baş harfini büyük yazmayı deneyin!\\n\")\n",
    "        return None    \n",
    "    if district!=\"\" and district not in d[\"district\"].tolist():\n",
    "        print(\"--------------------------------\\n\\nBöyle bir ilçe bulunamadı ya da bu ilçede ilan yok!\\n\")\n",
    "        print(\"İlçe ismini doğru yazdığınızdan emin olun!\\nİlçenin baş harfini büyük yazmayı deneyin!\\n\")\n",
    "        return None\n",
    "    if neighborhood!=\"\" and neighborhood not in d[\"neighborhood\"].tolist():\n",
    "        print(\"--------------------------------\\n\\nBöyle bir mahalle bulunamadı ya da bu mahallede ilan yok!\\n\")\n",
    "        print(\"Mahalle ismini doğru yazdığınızdan emin olun!\\nMahallenin baş harfini büyük yazmayı deneyin!\\n\")\n",
    "        return None\n",
    "\n",
    "\n",
    "    \n",
    "    if metrekare==\"\" and room==\"1+0\": \n",
    "        metrekare=40\n",
    "        #print(f\"       m²={metrekare} olarak hesaba katıldı!\")\n",
    "    elif metrekare==\"\" and room==\"1+1\": \n",
    "        metrekare=65\n",
    "        #print(f\"       m²={metrekare} olarak hesaba katıldı!\")\n",
    "    elif metrekare==\"\" and room==\"2+1\": \n",
    "        metrekare=100\n",
    "        #print(f\"       m²={metrekare} olarak hesaba katıldı!\")\n",
    "    elif metrekare==\"\" and room==\"3+1\": \n",
    "        metrekare=130\n",
    "        #print(f\"       m²={metrekare} olarak hesaba katıldı!\")\n",
    "    elif metrekare==\"\" and room==\"4+1\": \n",
    "        metrekare=160\n",
    "        #print(f\"       m²={metrekare} olarak hesaba katıldı!\")\n",
    "    elif metrekare==\"\" and room==\"\": \n",
    "        metrekare=110\n",
    "        #print(f\"       m²={metrekare} olarak hesaba katıldı!\")\n",
    "    else: \n",
    "        pass\n",
    "\n",
    "    \n",
    "    \n",
    "    new = pd.DataFrame({\"city\":[city], \"district\":[district], \"neighborhood\":[neighborhood], \"room\":[room], \"m²\":[metrekare]})\n",
    "    new[\"m²\"] = pd.to_numeric(new[\"m²\"])\n",
    "       \n",
    "    dff = d.drop(\"price\", axis=1)\n",
    "    dff = pd.concat([dff, new], axis=0)\n",
    "\n",
    "    dff[\"\"] = np.arange(len(dff))\n",
    "    dff = dff.set_index(\"\")\n",
    "\n",
    "    # Get dummies the string column\"room\"\n",
    "    dff = pd.get_dummies(dff, columns=[\"room\"], prefix=[\"room\"])\n",
    "\n",
    "    # Encode the string column'city'\n",
    "    dff['city_le'] = le.fit_transform(dff['city'])\n",
    "    \n",
    "    # Encode the string column'district'\n",
    "    dff['district_le'] = le.fit_transform(dff['district'])\n",
    "    \n",
    "    # Encode the string column'neighborhood'\n",
    "    dff['neighborhood_le'] = le.fit_transform(dff['neighborhood'])\n",
    "\n",
    "    dff =dff.drop([\"city\",\"district\",\"neighborhood\"], axis=1)\n",
    "   \n",
    "    if room==\"\":\n",
    "        dff = dff.drop(\"room_\", axis=1)\n",
    "    \n",
    "    train_data = dff.iloc[24607:,:]\n",
    "    pred = xgb_tuned.predict(train_data)\n",
    "    #print(f\"----------------------------\\n\\nGirilen bilgilere göre tahmini fiyat: {int(pred)} TL\\n\\n----------------------------\")\n",
    "\n",
    "\n",
    "\n",
    "    # write advertising infos according to inputs entered by user\n",
    "    if city==\"\" and room!=\"\":\n",
    "        a=d[d[\"room\"]==room]\n",
    "        print(f\"----------------------------\\n\\nTürkiye'de tahmini {room} kira fiyatı: {int(pred)} TL\\n\\n----------------------------\")     \n",
    "        \n",
    "        print(f\"\\nTürkiye'de toplam {len(a)} tane {room} ilan var.\\n\\n----------------------------\")\n",
    "    \n",
    "    elif district==\"\" and room!=\"\":\n",
    "        a=d[d[\"city\"]==city]\n",
    "        a=a[a[\"room\"]==room]\n",
    "        print(f\"----------------------------\\n\\n{city} şehrinde tahmini {room} kira fiyatı: {int(pred)} TL\\n\\n----------------------------\")     \n",
    "        if len(a)>=5: \n",
    "            last_q = a[\"price\"].quantile(0.75) / a[\"m²\"].quantile(0.75)\n",
    "            first_q = a[\"price\"].quantile(0.25) / a[\"m²\"].quantile(0.25)\n",
    "            print(f\"\\nOrtalama metrekare fiyatı {int(first_q)}TL - {int(last_q)}TL aralığında.\")\n",
    "        else: pass\n",
    "        print(f\"\\nEn düşük fiyat: {a['price'].min()} \\nEn yüksek fiyat: {a['price'].max()}\\n\")\n",
    "        print(f\"{city} ilinde toplam {len(a)} tane {room} ilan var.\\n\\n----------------------------\")\n",
    "   \n",
    "    elif neighborhood==\"\" and room!=\"\":\n",
    "        a=d[d[\"district\"]==district]\n",
    "        a=a[a[\"room\"]==room]\n",
    "        print(f\"----------------------------\\n\\n{district} ilçesinde tahmini {room} kira fiyatı: {int(pred)} TL\\n\\n----------------------------\")     \n",
    "        if len(a)>=5: \n",
    "            last_q = a[\"price\"].quantile(0.75) / a[\"m²\"].quantile(0.75)\n",
    "            first_q = a[\"price\"].quantile(0.25) / a[\"m²\"].quantile(0.25)\n",
    "            print(f\"\\nOrtalama metrekare fiyatı {int(first_q)}TL - {int(last_q)}TL aralığında.\")\n",
    "        else: pass\n",
    "        print(f\"\\nEn düşük fiyat: {a['price'].min()} \\nEn yüksek fiyat: {a['price'].max()}\\n\")\n",
    "        print(f\"{district} ilçesinde toplam {len(a)} tane {room} ilan var.\\n\\n----------------------------\")\n",
    "        a=a.sort_values(by=\"price\", ascending=True)\n",
    "        print(f\"\\nGirilen bilgilere göre Emlakjet sitesindeki ilanlar 'Artan fiyata göre sıralı':\\n\\n{a.to_string(index=False)}\")\n",
    "   \n",
    "    elif neighborhood != \"\" and room!=\"\":\n",
    "        a=d[d[\"district\"]==district]\n",
    "        a=a[a[\"neighborhood\"]==neighborhood]\n",
    "        a=a[a[\"room\"]==room]\n",
    "        print(f\"----------------------------\\n\\n{neighborhood} mahallesinde tahmini {room} kira fiyatı: {int(pred)} TL\\n\\n----------------------------\")     \n",
    "        if len(a)>=5: \n",
    "            last_q = a[\"price\"].quantile(0.75) / a[\"m²\"].quantile(0.75)\n",
    "            first_q = a[\"price\"].quantile(0.25) / a[\"m²\"].quantile(0.25)\n",
    "            print(f\"\\nOrtalama metrekare fiyatı {int(first_q)}TL - {int(last_q)}TL aralığında.\")\n",
    "        else: pass\n",
    "        print(f\"\\nEn düşük fiyat: {a['price'].min()} \\nEn yüksek fiyat: {a['price'].max()}\\n\")\n",
    "        print(f\"{neighborhood} mahallesinde toplam {len(a)} tane {room} ilan var.\\n\\n----------------------------\")\n",
    "        a=a.sort_values(by=\"price\", ascending=True)\n",
    "        print(f\"\\nGirilen bilgilere göre Emlakjet sitesindeki ilanlar 'Artan fiyata göre sıralı':\\n\\n{a.to_string(index=False)}\")\n",
    "\n",
    "    \n",
    "    elif room==\"\" and city==\"\":\n",
    "        print(f\"----------------------------\\n\\nTürkiye'de tahmini kira fiyatı: {int(pred)} TL\\n\\n----------------------------\")     \n",
    "        print(f\"Türkiye'de toplam {len(d)} tane ilan var.\\n\\n----------------------------\")\n",
    "    \n",
    "    elif room == \"\" and district==\"\":\n",
    "        a=d[d[\"city\"]==city]\n",
    "        print(f\"----------------------------\\n\\n{city} şehrinde tahmini kira fiyatı: {int(pred)} TL\\n\\n----------------------------\")     \n",
    "        if len(a)>=5: \n",
    "            last_q = a[\"price\"].quantile(0.75) / a[\"m²\"].quantile(0.75)\n",
    "            first_q = a[\"price\"].quantile(0.25) / a[\"m²\"].quantile(0.25)\n",
    "            print(f\"\\nOrtalama metrekare fiyatı {int(first_q)}TL - {int(last_q)}TL aralığında.\")\n",
    "        else: pass\n",
    "        print(f\"\\nEn düşük fiyat: {a['price'].min()} \\nEn yüksek fiyat: {a['price'].max()}\\n\")\n",
    "        print(f\"{city} ilinde toplam {len(a)} tane ilan var.\\n\\n----------------------------\")\n",
    "    \n",
    "    elif room == \"\" and neighborhood==\"\":\n",
    "        a=d[d[\"district\"]==district]\n",
    "        print(f\"----------------------------\\n\\n{district} ilçesinde tahmini kira fiyatı: {int(pred)} TL\\n\\n----------------------------\")     \n",
    "        if len(a)>=5: \n",
    "            last_q = a[\"price\"].quantile(0.75) / a[\"m²\"].quantile(0.75)\n",
    "            first_q = a[\"price\"].quantile(0.25) / a[\"m²\"].quantile(0.25)\n",
    "            print(f\"\\nOrtalama metrekare fiyatı {int(first_q)}TL - {int(last_q)}TL aralığında.\")\n",
    "        else: pass\n",
    "        print(f\"\\nEn düşük fiyat: {a['price'].min()} \\nEn yüksek fiyat: {a['price'].max()}\\n\")\n",
    "        print(f\"{district} ilçesinde toplam {len(a)} tane ilan var.\\n\\n----------------------------\")\n",
    "        a=a.sort_values(by=\"price\", ascending=True)\n",
    "        print(f\"\\nGirilen bilgilere göre Emlakjet sitesindeki ilanlar 'Artan fiyata göre sıralı':\\n\\n{a.to_string(index=False)}\")\n",
    "    \n",
    "    elif room == \"\" and neighborhood!=\"\":\n",
    "        a=d[d[\"city\"]==city]\n",
    "        a=a[a[\"neighborhood\"]==neighborhood]\n",
    "        print(f\"----------------------------\\n\\n{neighborhood} mahallesinde tahmini kira fiyatı: {int(pred)} TL\\n\\n----------------------------\")     \n",
    "        if len(a)>=5: \n",
    "            last_q = a[\"price\"].quantile(0.75) / a[\"m²\"].quantile(0.75)\n",
    "            first_q = a[\"price\"].quantile(0.25) / a[\"m²\"].quantile(0.25)\n",
    "            print(f\"\\nOrtalama metrekare fiyatı {int(first_q)}TL - {int(last_q)}TL aralığında.\")\n",
    "        else: pass\n",
    "        print(f\"\\nEn düşük fiyat: {a['price'].min()} \\nEn yüksek fiyat: {a['price'].max()}\\n\")\n",
    "        print(f\"{neighborhood} mahallesinde toplam {len(a)} tane ilan var.\\n\\n----------------------------\")\n",
    "        a=a.sort_values(by=\"price\", ascending=True)\n",
    "        print(f\"\\nGirilen bilgilere göre Emlakjet sitesindeki ilanlar 'Artan fiyata göre sıralı':\\n\\n{a.to_string(index=False)}\")\n",
    "    \n",
    "    else:\n",
    "        pass\n",
    "\n"
   ]
  },
  {
   "cell_type": "code",
   "execution_count": 168,
   "id": "2cc874dc-5f89-4aca-b944-8903ea6a7b47",
   "metadata": {
    "tags": []
   },
   "outputs": [
    {
     "name": "stdout",
     "output_type": "stream",
     "text": [
      "İstediğiniz şekilde filtreleme yapınız.\n",
      "\n"
     ]
    },
    {
     "name": "stdin",
     "output_type": "stream",
     "text": [
      "City:  Manisa\n",
      "District:  Alaşehir\n",
      "Neighborhood:  \n",
      "Rooms:  2+1\n",
      "Meter:  \n"
     ]
    },
    {
     "name": "stdout",
     "output_type": "stream",
     "text": [
      "----------------------------\n",
      "\n",
      "Alaşehir ilçesinde tahmini 2+1 kira fiyatı: 7734 TL\n",
      "\n",
      "----------------------------\n",
      "\n",
      "Ortalama metrekare fiyatı 61TL - 66TL aralığında.\n",
      "\n",
      "En düşük fiyat: 4000 \n",
      "En yüksek fiyat: 8250\n",
      "\n",
      "Alaşehir ilçesinde toplam 6 tane 2+1 ilan var.\n",
      "\n",
      "----------------------------\n",
      "\n",
      "Girilen bilgilere göre Emlakjet sitesindeki ilanlar 'Artan fiyata göre sıralı':\n",
      "\n",
      "  city district neighborhood room  m²  price\n",
      "Manisa Alaşehir     Beşeylül  2+1 120   4000\n",
      "Manisa Alaşehir     Kurtuluş  2+1  95   6000\n",
      "Manisa Alaşehir     İstasyon  2+1 115   6500\n",
      "Manisa Alaşehir     Kurtuluş  2+1 120   8000\n",
      "Manisa Alaşehir     İstasyon  2+1 130   8000\n",
      "Manisa Alaşehir     Kurtuluş  2+1  90   8250\n"
     ]
    }
   ],
   "source": [
    "# Get the desired advertisement informations\n",
    "\n",
    "print(\"İstediğiniz şekilde filtreleme yapınız.\\n\")\n",
    "\n",
    "city = \"\"\n",
    "city = input(\"City: \")\n",
    "district = \"\"\n",
    "district = input(\"District: \")\n",
    "neighborhood = \"\"\n",
    "neighborhood = input(\"Neighborhood: \")\n",
    "room = \"\"\n",
    "room = input(\"Rooms: \")\n",
    "metrekare = \"\"\n",
    "metrekare = input(\"Meter: \")\n",
    "\n",
    "# Sent inputs to pred_price function\n",
    "pred_price(city,district,neighborhood,room,metrekare)\n",
    "\n"
   ]
  },
  {
   "cell_type": "code",
   "execution_count": null,
   "id": "aa594d31-515e-447e-b5d8-4d8e9cdf05a2",
   "metadata": {},
   "outputs": [],
   "source": []
  },
  {
   "cell_type": "code",
   "execution_count": null,
   "id": "16d7f967-8664-4023-a31d-d88135c6ad1b",
   "metadata": {},
   "outputs": [],
   "source": []
  },
  {
   "cell_type": "code",
   "execution_count": null,
   "id": "4e100bb8-a148-4a0d-8778-27d830ba2407",
   "metadata": {},
   "outputs": [],
   "source": []
  },
  {
   "cell_type": "code",
   "execution_count": null,
   "id": "46c56719-b4b8-4daf-baa3-5534d9281cad",
   "metadata": {},
   "outputs": [],
   "source": []
  },
  {
   "cell_type": "code",
   "execution_count": null,
   "id": "6d9fe932-be5e-4c12-b946-cbdf9cecda73",
   "metadata": {},
   "outputs": [],
   "source": []
  }
 ],
 "metadata": {
  "kernelspec": {
   "display_name": "Python 3 (ipykernel)",
   "language": "python",
   "name": "python3"
  },
  "language_info": {
   "codemirror_mode": {
    "name": "ipython",
    "version": 3
   },
   "file_extension": ".py",
   "mimetype": "text/x-python",
   "name": "python",
   "nbconvert_exporter": "python",
   "pygments_lexer": "ipython3",
   "version": "3.10.9"
  }
 },
 "nbformat": 4,
 "nbformat_minor": 5
}
