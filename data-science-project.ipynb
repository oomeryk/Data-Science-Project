{
 "cells": [
  {
   "cell_type": "markdown",
   "id": "32a2e1ab-4cd0-4180-9406-029b4fa767f2",
   "metadata": {},
   "source": [
    "### ~Rental house market project of Türkiye with selenium, sklearn, seaborn, matplotlib, pandas, numpy libraries."
   ]
  },
  {
   "cell_type": "markdown",
   "id": "a9a1ebc2-d7fd-4f09-ade7-509e729ace81",
   "metadata": {},
   "source": [
    "#### 1- Web Scraping\n",
    "#### 2- Data Analysis\n",
    "#### 3- Data Visualization\n",
    "#### 4- Machine Learning\n"
   ]
  },
  {
   "cell_type": "code",
   "execution_count": null,
   "id": "6599d2a3-acb0-47e8-9bf1-b311ede051e9",
   "metadata": {},
   "outputs": [],
   "source": []
  },
  {
   "cell_type": "code",
   "execution_count": null,
   "id": "60a901c3-27fc-48b3-b27e-519b0138c930",
   "metadata": {},
   "outputs": [],
   "source": []
  },
  {
   "cell_type": "markdown",
   "id": "28709377-6060-48a3-b03f-f82682b3957e",
   "metadata": {},
   "source": [
    "# 1- Web Scraping"
   ]
  },
  {
   "cell_type": "code",
   "execution_count": 2,
   "id": "9f0b399c-9dde-460c-bacf-f2a2127d4d8f",
   "metadata": {},
   "outputs": [],
   "source": [
    "\n",
    "# We should install and set up 'chrome driver' on computer.\n",
    "\n",
    "# We should do 'pip install Selenium'\n",
    "import selenium\n",
    "import pandas as pd\n",
    "import numpy as np\n",
    "import matplotlib.pyplot as plt\n",
    "import seaborn as sns\n",
    "\n",
    "# Import necessary modules for web browsing with Selenium.\n",
    "from selenium import webdriver\n",
    "from selenium.webdriver.common.by import By\n",
    "\n",
    "# Import functions for waiting.\n",
    "from selenium.webdriver.support.wait import WebDriverWait\n",
    "from selenium.webdriver.support import expected_conditions\n",
    "\n",
    "# Import exceptions for error handling.\n",
    "from selenium.common.exceptions import TimeoutException\n",
    "from selenium.common.exceptions import NoSuchElementException\n",
    "from selenium.common.exceptions import StaleElementReferenceException\n"
   ]
  },
  {
   "cell_type": "code",
   "execution_count": null,
   "id": "c3c90595-b73a-496b-972b-f7f563f623ab",
   "metadata": {},
   "outputs": [],
   "source": []
  },
  {
   "cell_type": "markdown",
   "id": "ab2fcbe3-0cb2-4f91-a2ce-d5664fa4cd2f",
   "metadata": {},
   "source": [
    "#### LIST OF TURKIYE DISTRICTS"
   ]
  },
  {
   "cell_type": "code",
   "execution_count": 412,
   "id": "7159d8e0-ef5b-4aa9-959a-fff39cf1731c",
   "metadata": {},
   "outputs": [],
   "source": [
    "# Create a Chrome WebDriver instance to open a new Chrome window.\n",
    "driver = webdriver.Chrome()\n",
    "\n",
    "# Create a WebDriverWait instance to wait for elements on the web page.\n",
    "wait = WebDriverWait(driver, 4)\n",
    "\n",
    "# Open the website.\n",
    "driver.get(\"https://www.drdatastats.com/turkiye-il-ve-ilceler-listesi/\")\n",
    "\n",
    "# Create a list to store the information to be extracted from the website.\n",
    "ilce_list = []\n",
    "\n",
    "# Wait until the table is visible on the page.\n",
    "wait.until(expected_conditions.visibility_of_element_located((By.XPATH, \"/html/body/div[5]/div[2]/div/div[2]/div/div/article/div[3]/figure[1]/table/tbody\")))\n",
    "\n",
    "# Find all the rows in the table.\n",
    "rows = driver.find_elements(By.XPATH, \"/html/body/div[5]/div[2]/div/div[2]/div/div/article/div[3]/figure[1]/table/tbody/tr\")\n",
    "\n",
    "# Iterate through the rows in the table.\n",
    "for i in range(len(rows)-1):\n",
    "    \n",
    "    # Extract the XPath for the district (ilçe).\n",
    "    ilce_path = f\"/html/body/div[5]/div[2]/div/div[2]/div/div/article/div[3]/figure[1]/table/tbody/tr[{i+2}]/td[3]\"\n",
    "    \n",
    "    # Find and extract the district (ilçe) text.\n",
    "    ilce = driver.find_element(By.XPATH, ilce_path)\n",
    "    ilce = ilce.text\n",
    "    \n",
    "    # Check if the district is not \"Merkez\" and add it to the list directly.\n",
    "    if ilce != \"Merkez\":\n",
    "        ilce_list.append(ilce)\n",
    "        \n",
    "    # If it's \"Merkez,\" also extract the province (il) and combine them.    \n",
    "    else:\n",
    "        il_path = f\"/html/body/div[5]/div[2]/div/div[2]/div/div/article/div[3]/figure[1]/table/tbody/tr[{i+2}]/td[2]\"\n",
    "        il = driver.find_element(By.XPATH, il_path)\n",
    "        il = il.text\n",
    "        ilce_list.append((il + \" \" + ilce))\n",
    "\n",
    "driver.quit()"
   ]
  },
  {
   "cell_type": "code",
   "execution_count": 413,
   "id": "ddc358c0-9fb6-4b76-83ba-b619c199d818",
   "metadata": {},
   "outputs": [
    {
     "name": "stdout",
     "output_type": "stream",
     "text": [
      "['Aladağ', 'Ceyhan', 'Çukurova', 'Feke', 'İmamoğlu', 'Karaisalı', 'Karataş', 'Kozan', 'Pozantı', 'Saimbeyli']\n",
      "Zonguldak Merkez\n"
     ]
    }
   ],
   "source": [
    "print(ilce_list[:10])\n",
    "print(ilce_list[len(ilce_list)-1])"
   ]
  },
  {
   "cell_type": "code",
   "execution_count": null,
   "id": "907f1bae-c81c-4fe0-9ffa-d6041b76ed59",
   "metadata": {},
   "outputs": [],
   "source": []
  },
  {
   "cell_type": "markdown",
   "id": "637b6e21-42f4-48b7-8c66-b2ee087fae57",
   "metadata": {},
   "source": [
    "#### RENTAL HOUSING ADVERTISEMENTS IN EVERY DISTRICT"
   ]
  },
  {
   "cell_type": "code",
   "execution_count": null,
   "id": "ced45f44-70f5-4154-804d-0e95914aeb51",
   "metadata": {
    "tags": []
   },
   "outputs": [],
   "source": [
    "# Open a Chrome window - create a driver instance.\n",
    "driver = webdriver.Chrome()\n",
    "\n",
    "# Create a WebDriverWait instance to wait for elements on the web page.\n",
    "wait = WebDriverWait(driver, 5)\n",
    "\n",
    "# Open the website.\n",
    "driver.get(\"https://www.emlakjet.com/kiralik-konut/\")\n",
    "\n",
    "# Close the pop-up bar that appears at the bottom of the first page.\n",
    "close_button = driver.find_element(By.XPATH, \"/html/body/div[1]/div/div[3]/div[5]/div[2]/div/button/span[1]\")\n",
    "close_button.click()\n",
    "\n",
    "# Create a list to store the information to be extracted from the website.\n",
    "list_before_excel = []\n",
    "\n",
    "# Turn through the district list.\n",
    "for j in range(446, len(ilce_list)):\n",
    "    \n",
    "        # Wait for the district input field to be clickable. Click and write district to input.\n",
    "    wait.until(expected_conditions.element_to_be_clickable((By.XPATH, \"/html/body/div/div/div[3]/div[1]/div/div[5]/div/div/div[2]/div[2]/div/input\")))\n",
    "    ilce_input = driver.find_element(By.XPATH, \"/html/body/div/div/div[3]/div[1]/div/div[5]/div/div/div[2]/div[2]/div/input\")\n",
    "    ilce_input.click()                          \n",
    "    ilce_input.send_keys(ilce_list[j])\n",
    " \n",
    "    # Wait for the search button to be clickable and click.\n",
    "    wait.until(expected_conditions.element_to_be_clickable((By.XPATH, \"html/body/div/div/div[3]/div[1]/div/div[5]/div/div/button\")))\n",
    "    search_button = driver.find_element(By.XPATH, \"html/body/div/div/div[3]/div[1]/div/div[5]/div/div/button\")\n",
    "    search_button.click()\n",
    "    \n",
    "    # Turn all pages for one district.\n",
    "    for one_page in range(40):\n",
    "        try:\n",
    "            try:\n",
    "                # Find elements with the class name of the advert listings on the first page.\n",
    "                wait.until(expected_conditions.visibility_of_all_elements_located((By.CLASS_NAME, \"manJWF\")))\n",
    "                elements = driver.find_elements(By.CLASS_NAME, \"manJWF\")\n",
    "                \n",
    "                # Turn through advert boxes on a page.\n",
    "                for element in elements:\n",
    "                    # Append advert information to list.\n",
    "                    list_before_excel.append(element.text.split(\"\\n\"))\n",
    "\n",
    "                # Click the \"Next\" button to go to the next page.      \n",
    "                wait.until(expected_conditions.visibility_of_all_elements_located((By.CLASS_NAME, \"_3au2n_.OTUgAO\")))\n",
    "                next_button = driver.find_element(By.CLASS_NAME, \"_3au2n_.OTUgAO\")\n",
    "                next_button.click()                                  \n",
    "                \n",
    "            # if StaleElementReferenceException occurs refresh web page and run same codes above       \n",
    "            except StaleElementReferenceException:\n",
    "                driver.refresh()\n",
    "                \n",
    "                # Find elements with the class name of the property listings on the first page.\n",
    "                wait.until(expected_conditions.visibility_of_all_elements_located((By.CLASS_NAME, \"manJWF\")))\n",
    "                elements = driver.find_elements(By.CLASS_NAME, \"manJWF\")\n",
    "                \n",
    "                # Iterate through property listings on one page.\n",
    "                for element in elements:\n",
    "                    # Append property information to the list.\n",
    "                    list_before_excel.append(element.text.split(\"\\n\"))\n",
    "\n",
    "                # Find the 'next_button' again.   \n",
    "                wait.until(expected_conditions.visibility_of_all_elements_located((By.CLASS_NAME, \"_3au2n_.OTUgAO\")))\n",
    "                next_button = driver.find_element(By.CLASS_NAME, \"_3au2n_.OTUgAO\")\n",
    "                next_button.click()\n",
    "                \n",
    "        # İf there aren't 'advert' or 'next_button' in page, move to next district.            \n",
    "        # So if these errors occurs from the try block above; remove the (il, ilçe) and break loop    \n",
    "        except (NoSuchElementException, TimeoutException, IndexError):\n",
    "            try:\n",
    "                # If (il, ilce) cancel buttons are not found(NoSuchElementException), change to second path and try again\n",
    "                remove_ilce = driver.find_element(By.XPATH, \"/html/body/div/div/div[3]/div[1]/div/div[5]/div/div/div[2]/div[2]/div/div[1]/i\")\n",
    "                remove_ilce.click()                     \n",
    "                remove_il = driver.find_element(By.XPATH, \"/html/body/div/div/div[3]/div[1]/div/div[5]/div/div/div[2]/div[2]/div/div/i\")\n",
    "                remove_il.click()                          \n",
    "            except NoSuchElementException:\n",
    "                remove_ilce = driver.find_element(By.XPATH, \"/html/body/div[1]/div/div[3]/div[1]/div/div[5]/div/div/div[2]/div[2]/div/div[1]/i\")\n",
    "                remove_ilce.click()                          \n",
    "                remove_il = driver.find_element(By.XPATH, \"/html/body/div[1]/div/div[3]/div[1]/div/div[5]/div/div/div[2]/div[2]/div/div/i\")\n",
    "                remove_il.click()                \n",
    "                \n",
    "            break\n"
   ]
  },
  {
   "cell_type": "code",
   "execution_count": 24,
   "id": "5a692f12-64c6-47cc-9418-b49e303699b2",
   "metadata": {},
   "outputs": [],
   "source": [
    "pddf = pd.DataFrame(list_before_excel)\n",
    "pddf.to_excel(\"emlakjet.xlsx\")"
   ]
  },
  {
   "cell_type": "code",
   "execution_count": null,
   "id": "ba8dec16-1976-4360-88e5-416f87003230",
   "metadata": {},
   "outputs": [],
   "source": []
  },
  {
   "cell_type": "code",
   "execution_count": null,
   "id": "8c58965a-2e3e-4ff0-b29b-d1328feb9c74",
   "metadata": {},
   "outputs": [],
   "source": []
  },
  {
   "cell_type": "code",
   "execution_count": null,
   "id": "e2482a43-78b0-4c7a-b8c6-120971bb6985",
   "metadata": {},
   "outputs": [],
   "source": []
  },
  {
   "cell_type": "markdown",
   "id": "1bc484d2-e281-4d50-85aa-a1af1bc40c54",
   "metadata": {},
   "source": [
    "# 2- DATA ANALYSIS"
   ]
  },
  {
   "cell_type": "code",
   "execution_count": 3,
   "id": "bbd03228-4097-4e6d-93c8-dbfd14d5fbaa",
   "metadata": {},
   "outputs": [],
   "source": [
    "import pandas as pd\n",
    "import numpy as np\n",
    "import seaborn as sns"
   ]
  },
  {
   "cell_type": "code",
   "execution_count": 6,
   "id": "0bcf14f9-d5c0-4a9d-b4fb-b0d87ff9025c",
   "metadata": {
    "tags": []
   },
   "outputs": [
    {
     "data": {
      "text/html": [
       "<div>\n",
       "<style scoped>\n",
       "    .dataframe tbody tr th:only-of-type {\n",
       "        vertical-align: middle;\n",
       "    }\n",
       "\n",
       "    .dataframe tbody tr th {\n",
       "        vertical-align: top;\n",
       "    }\n",
       "\n",
       "    .dataframe thead th {\n",
       "        text-align: right;\n",
       "    }\n",
       "</style>\n",
       "<table border=\"1\" class=\"dataframe\">\n",
       "  <thead>\n",
       "    <tr style=\"text-align: right;\">\n",
       "      <th></th>\n",
       "      <th>Source.Name</th>\n",
       "      <th>Column1</th>\n",
       "      <th>Column2</th>\n",
       "      <th>Column3</th>\n",
       "      <th>Column4</th>\n",
       "      <th>Column5</th>\n",
       "      <th>Column6</th>\n",
       "      <th>Column7</th>\n",
       "      <th>Column8</th>\n",
       "      <th>Column9</th>\n",
       "      <th>Column10</th>\n",
       "      <th>Column11</th>\n",
       "      <th>Column12</th>\n",
       "      <th>Column13</th>\n",
       "      <th>Column14</th>\n",
       "      <th>Column15</th>\n",
       "      <th>Column16</th>\n",
       "      <th>Column17</th>\n",
       "    </tr>\n",
       "  </thead>\n",
       "  <tbody>\n",
       "    <tr>\n",
       "      <th>0</th>\n",
       "      <td>emlakjet1.xlsx</td>\n",
       "      <td>a</td>\n",
       "      <td>0</td>\n",
       "      <td>1</td>\n",
       "      <td>2</td>\n",
       "      <td>3</td>\n",
       "      <td>4</td>\n",
       "      <td>5</td>\n",
       "      <td>6</td>\n",
       "      <td>7</td>\n",
       "      <td>8</td>\n",
       "      <td>9</td>\n",
       "      <td>10</td>\n",
       "      <td>11</td>\n",
       "      <td>12</td>\n",
       "      <td>13</td>\n",
       "      <td>14</td>\n",
       "      <td>15</td>\n",
       "    </tr>\n",
       "    <tr>\n",
       "      <th>1</th>\n",
       "      <td>emlakjet1.xlsx</td>\n",
       "      <td>0</td>\n",
       "      <td>edomer gayrimenkulden f.s.m. mahallesinde kira...</td>\n",
       "      <td>home</td>\n",
       "      <td>Müstakil Ev</td>\n",
       "      <td>weekend</td>\n",
       "      <td>3+1</td>\n",
       "      <td>texture</td>\n",
       "      <td>150 m2</td>\n",
       "      <td>event</td>\n",
       "      <td>22 Eylül</td>\n",
       "      <td>8.000 TL</td>\n",
       "      <td>Adana - Ceyhan - Fatih Sultan Mehmet Mh.</td>\n",
       "      <td>NaN</td>\n",
       "      <td>NaN</td>\n",
       "      <td>NaN</td>\n",
       "      <td>NaN</td>\n",
       "      <td>NaN</td>\n",
       "    </tr>\n",
       "    <tr>\n",
       "      <th>2</th>\n",
       "      <td>emlakjet1.xlsx</td>\n",
       "      <td>1</td>\n",
       "      <td>çinar emlak'tan cumhuri̇yet mh. ki̇ralik 2+1 d...</td>\n",
       "      <td>home</td>\n",
       "      <td>Daire</td>\n",
       "      <td>weekend</td>\n",
       "      <td>2+1</td>\n",
       "      <td>layers</td>\n",
       "      <td>5. Kat</td>\n",
       "      <td>texture</td>\n",
       "      <td>130 m2</td>\n",
       "      <td>event</td>\n",
       "      <td>21 Eylül</td>\n",
       "      <td>7.000 TL</td>\n",
       "      <td>Adana - Ceyhan - Cumhuriyet Mh.</td>\n",
       "      <td>NaN</td>\n",
       "      <td>NaN</td>\n",
       "      <td>NaN</td>\n",
       "    </tr>\n",
       "    <tr>\n",
       "      <th>3</th>\n",
       "      <td>emlakjet1.xlsx</td>\n",
       "      <td>2</td>\n",
       "      <td>yurdal emlak'tan ki̇ralik 4+1 dai̇re</td>\n",
       "      <td>home</td>\n",
       "      <td>Daire</td>\n",
       "      <td>weekend</td>\n",
       "      <td>4+1</td>\n",
       "      <td>layers</td>\n",
       "      <td>Yüksek giriş</td>\n",
       "      <td>texture</td>\n",
       "      <td>180 m2</td>\n",
       "      <td>event</td>\n",
       "      <td>20 Eylül</td>\n",
       "      <td>12.000 TL</td>\n",
       "      <td>Adana - Ceyhan - Cumhuriyet Mh.</td>\n",
       "      <td>NaN</td>\n",
       "      <td>NaN</td>\n",
       "      <td>NaN</td>\n",
       "    </tr>\n",
       "    <tr>\n",
       "      <th>4</th>\n",
       "      <td>emlakjet1.xlsx</td>\n",
       "      <td>3</td>\n",
       "      <td>mi̇ra emlak'tan cumhuri̇yet mah.de az hasarli ...</td>\n",
       "      <td>...</td>\n",
       "      <td>home</td>\n",
       "      <td>Daire</td>\n",
       "      <td>weekend</td>\n",
       "      <td>2+1</td>\n",
       "      <td>layers</td>\n",
       "      <td>7. Kat</td>\n",
       "      <td>texture</td>\n",
       "      <td>115 m2</td>\n",
       "      <td>event</td>\n",
       "      <td>20 Eylül</td>\n",
       "      <td>7.250 TL</td>\n",
       "      <td>Adana - Ceyhan - Cumhuriyet Mh.</td>\n",
       "      <td>NaN</td>\n",
       "      <td>NaN</td>\n",
       "    </tr>\n",
       "  </tbody>\n",
       "</table>\n",
       "</div>"
      ],
      "text/plain": [
       "      Source.Name Column1                                            Column2  \\\n",
       "0  emlakjet1.xlsx       a                                                  0   \n",
       "1  emlakjet1.xlsx       0  edomer gayrimenkulden f.s.m. mahallesinde kira...   \n",
       "2  emlakjet1.xlsx       1  çinar emlak'tan cumhuri̇yet mh. ki̇ralik 2+1 d...   \n",
       "3  emlakjet1.xlsx       2               yurdal emlak'tan ki̇ralik 4+1 dai̇re   \n",
       "4  emlakjet1.xlsx       3  mi̇ra emlak'tan cumhuri̇yet mah.de az hasarli ...   \n",
       "\n",
       "  Column3      Column4  Column5  Column6  Column7       Column8  Column9  \\\n",
       "0       1            2        3        4        5             6        7   \n",
       "1    home  Müstakil Ev  weekend      3+1  texture        150 m2    event   \n",
       "2    home        Daire  weekend      2+1   layers        5. Kat  texture   \n",
       "3    home        Daire  weekend      4+1   layers  Yüksek giriş  texture   \n",
       "4     ...         home    Daire  weekend      2+1        layers   7. Kat   \n",
       "\n",
       "   Column10  Column11                                  Column12   Column13  \\\n",
       "0         8         9                                        10         11   \n",
       "1  22 Eylül  8.000 TL  Adana - Ceyhan - Fatih Sultan Mehmet Mh.        NaN   \n",
       "2    130 m2     event                                  21 Eylül   7.000 TL   \n",
       "3    180 m2     event                                  20 Eylül  12.000 TL   \n",
       "4   texture    115 m2                                     event   20 Eylül   \n",
       "\n",
       "                          Column14                         Column15 Column16  \\\n",
       "0                               12                               13       14   \n",
       "1                              NaN                              NaN      NaN   \n",
       "2  Adana - Ceyhan - Cumhuriyet Mh.                              NaN      NaN   \n",
       "3  Adana - Ceyhan - Cumhuriyet Mh.                              NaN      NaN   \n",
       "4                         7.250 TL  Adana - Ceyhan - Cumhuriyet Mh.      NaN   \n",
       "\n",
       "  Column17  \n",
       "0       15  \n",
       "1      NaN  \n",
       "2      NaN  \n",
       "3      NaN  \n",
       "4      NaN  "
      ]
     },
     "execution_count": 6,
     "metadata": {},
     "output_type": "execute_result"
    }
   ],
   "source": [
    "data = pd.read_excel(\"emlak_jet.xlsx\")\n",
    "df = data.copy()\n",
    "df.head()\n"
   ]
  },
  {
   "cell_type": "code",
   "execution_count": 7,
   "id": "99b41a77-0efd-4f1d-8317-c6b65e9a0083",
   "metadata": {},
   "outputs": [
    {
     "data": {
      "text/plain": [
       "35841"
      ]
     },
     "execution_count": 7,
     "metadata": {},
     "output_type": "execute_result"
    }
   ],
   "source": [
    "len(df)"
   ]
  },
  {
   "cell_type": "code",
   "execution_count": 8,
   "id": "984fadf3-443a-46a5-ba3a-04ac215d28ba",
   "metadata": {},
   "outputs": [
    {
     "data": {
      "text/html": [
       "<div>\n",
       "<style scoped>\n",
       "    .dataframe tbody tr th:only-of-type {\n",
       "        vertical-align: middle;\n",
       "    }\n",
       "\n",
       "    .dataframe tbody tr th {\n",
       "        vertical-align: top;\n",
       "    }\n",
       "\n",
       "    .dataframe thead th {\n",
       "        text-align: right;\n",
       "    }\n",
       "</style>\n",
       "<table border=\"1\" class=\"dataframe\">\n",
       "  <thead>\n",
       "    <tr style=\"text-align: right;\">\n",
       "      <th></th>\n",
       "      <th>Column1</th>\n",
       "      <th>Column2</th>\n",
       "      <th>Column3</th>\n",
       "      <th>Column4</th>\n",
       "      <th>Column5</th>\n",
       "      <th>Column6</th>\n",
       "      <th>Column7</th>\n",
       "      <th>Column8</th>\n",
       "      <th>Column9</th>\n",
       "      <th>Column10</th>\n",
       "      <th>Column11</th>\n",
       "      <th>Column12</th>\n",
       "      <th>Column13</th>\n",
       "      <th>Column14</th>\n",
       "      <th>Column15</th>\n",
       "      <th>Column16</th>\n",
       "      <th>Column17</th>\n",
       "    </tr>\n",
       "  </thead>\n",
       "  <tbody>\n",
       "    <tr>\n",
       "      <th>1</th>\n",
       "      <td>0</td>\n",
       "      <td>edomer gayrimenkulden f.s.m. mahallesinde kira...</td>\n",
       "      <td>home</td>\n",
       "      <td>Müstakil Ev</td>\n",
       "      <td>weekend</td>\n",
       "      <td>3+1</td>\n",
       "      <td>texture</td>\n",
       "      <td>150 m2</td>\n",
       "      <td>event</td>\n",
       "      <td>22 Eylül</td>\n",
       "      <td>8.000 TL</td>\n",
       "      <td>Adana - Ceyhan - Fatih Sultan Mehmet Mh.</td>\n",
       "      <td>NaN</td>\n",
       "      <td>NaN</td>\n",
       "      <td>NaN</td>\n",
       "      <td>NaN</td>\n",
       "      <td>NaN</td>\n",
       "    </tr>\n",
       "    <tr>\n",
       "      <th>2</th>\n",
       "      <td>1</td>\n",
       "      <td>çinar emlak'tan cumhuri̇yet mh. ki̇ralik 2+1 d...</td>\n",
       "      <td>home</td>\n",
       "      <td>Daire</td>\n",
       "      <td>weekend</td>\n",
       "      <td>2+1</td>\n",
       "      <td>layers</td>\n",
       "      <td>5. Kat</td>\n",
       "      <td>texture</td>\n",
       "      <td>130 m2</td>\n",
       "      <td>event</td>\n",
       "      <td>21 Eylül</td>\n",
       "      <td>7.000 TL</td>\n",
       "      <td>Adana - Ceyhan - Cumhuriyet Mh.</td>\n",
       "      <td>NaN</td>\n",
       "      <td>NaN</td>\n",
       "      <td>NaN</td>\n",
       "    </tr>\n",
       "    <tr>\n",
       "      <th>3</th>\n",
       "      <td>2</td>\n",
       "      <td>yurdal emlak'tan ki̇ralik 4+1 dai̇re</td>\n",
       "      <td>home</td>\n",
       "      <td>Daire</td>\n",
       "      <td>weekend</td>\n",
       "      <td>4+1</td>\n",
       "      <td>layers</td>\n",
       "      <td>Yüksek giriş</td>\n",
       "      <td>texture</td>\n",
       "      <td>180 m2</td>\n",
       "      <td>event</td>\n",
       "      <td>20 Eylül</td>\n",
       "      <td>12.000 TL</td>\n",
       "      <td>Adana - Ceyhan - Cumhuriyet Mh.</td>\n",
       "      <td>NaN</td>\n",
       "      <td>NaN</td>\n",
       "      <td>NaN</td>\n",
       "    </tr>\n",
       "    <tr>\n",
       "      <th>4</th>\n",
       "      <td>3</td>\n",
       "      <td>mi̇ra emlak'tan cumhuri̇yet mah.de az hasarli ...</td>\n",
       "      <td>...</td>\n",
       "      <td>home</td>\n",
       "      <td>Daire</td>\n",
       "      <td>weekend</td>\n",
       "      <td>2+1</td>\n",
       "      <td>layers</td>\n",
       "      <td>7. Kat</td>\n",
       "      <td>texture</td>\n",
       "      <td>115 m2</td>\n",
       "      <td>event</td>\n",
       "      <td>20 Eylül</td>\n",
       "      <td>7.250 TL</td>\n",
       "      <td>Adana - Ceyhan - Cumhuriyet Mh.</td>\n",
       "      <td>NaN</td>\n",
       "      <td>NaN</td>\n",
       "    </tr>\n",
       "  </tbody>\n",
       "</table>\n",
       "</div>"
      ],
      "text/plain": [
       "  Column1                                            Column2 Column3  \\\n",
       "1       0  edomer gayrimenkulden f.s.m. mahallesinde kira...    home   \n",
       "2       1  çinar emlak'tan cumhuri̇yet mh. ki̇ralik 2+1 d...    home   \n",
       "3       2               yurdal emlak'tan ki̇ralik 4+1 dai̇re    home   \n",
       "4       3  mi̇ra emlak'tan cumhuri̇yet mah.de az hasarli ...     ...   \n",
       "\n",
       "       Column4  Column5  Column6  Column7       Column8  Column9  Column10  \\\n",
       "1  Müstakil Ev  weekend      3+1  texture        150 m2    event  22 Eylül   \n",
       "2        Daire  weekend      2+1   layers        5. Kat  texture    130 m2   \n",
       "3        Daire  weekend      4+1   layers  Yüksek giriş  texture    180 m2   \n",
       "4         home    Daire  weekend      2+1        layers   7. Kat   texture   \n",
       "\n",
       "   Column11                                  Column12   Column13  \\\n",
       "1  8.000 TL  Adana - Ceyhan - Fatih Sultan Mehmet Mh.        NaN   \n",
       "2     event                                  21 Eylül   7.000 TL   \n",
       "3     event                                  20 Eylül  12.000 TL   \n",
       "4    115 m2                                     event   20 Eylül   \n",
       "\n",
       "                          Column14                         Column15 Column16  \\\n",
       "1                              NaN                              NaN      NaN   \n",
       "2  Adana - Ceyhan - Cumhuriyet Mh.                              NaN      NaN   \n",
       "3  Adana - Ceyhan - Cumhuriyet Mh.                              NaN      NaN   \n",
       "4                         7.250 TL  Adana - Ceyhan - Cumhuriyet Mh.      NaN   \n",
       "\n",
       "  Column17  \n",
       "1      NaN  \n",
       "2      NaN  \n",
       "3      NaN  \n",
       "4      NaN  "
      ]
     },
     "execution_count": 8,
     "metadata": {},
     "output_type": "execute_result"
    }
   ],
   "source": [
    "df = df.drop(0, axis=0)\n",
    "df = df.drop(\"Source.Name\", axis=1)\n",
    "\n",
    "df.head(4)"
   ]
  },
  {
   "cell_type": "code",
   "execution_count": 9,
   "id": "5d203ec2-16b3-453c-a23e-02d891a7e480",
   "metadata": {
    "tags": []
   },
   "outputs": [
    {
     "data": {
      "text/html": [
       "<div>\n",
       "<style scoped>\n",
       "    .dataframe tbody tr th:only-of-type {\n",
       "        vertical-align: middle;\n",
       "    }\n",
       "\n",
       "    .dataframe tbody tr th {\n",
       "        vertical-align: top;\n",
       "    }\n",
       "\n",
       "    .dataframe thead th {\n",
       "        text-align: right;\n",
       "    }\n",
       "</style>\n",
       "<table border=\"1\" class=\"dataframe\">\n",
       "  <thead>\n",
       "    <tr style=\"text-align: right;\">\n",
       "      <th></th>\n",
       "      <th>Column1</th>\n",
       "      <th>Column2</th>\n",
       "      <th>Column3</th>\n",
       "      <th>Column4</th>\n",
       "      <th>Column5</th>\n",
       "      <th>Column6</th>\n",
       "      <th>Column7</th>\n",
       "      <th>Column8</th>\n",
       "      <th>Column9</th>\n",
       "      <th>Column10</th>\n",
       "      <th>Column11</th>\n",
       "      <th>Column12</th>\n",
       "      <th>Column13</th>\n",
       "      <th>Column14</th>\n",
       "      <th>Column15</th>\n",
       "      <th>Column16</th>\n",
       "      <th>Column17</th>\n",
       "    </tr>\n",
       "    <tr>\n",
       "      <th></th>\n",
       "      <th></th>\n",
       "      <th></th>\n",
       "      <th></th>\n",
       "      <th></th>\n",
       "      <th></th>\n",
       "      <th></th>\n",
       "      <th></th>\n",
       "      <th></th>\n",
       "      <th></th>\n",
       "      <th></th>\n",
       "      <th></th>\n",
       "      <th></th>\n",
       "      <th></th>\n",
       "      <th></th>\n",
       "      <th></th>\n",
       "      <th></th>\n",
       "      <th></th>\n",
       "    </tr>\n",
       "  </thead>\n",
       "  <tbody>\n",
       "    <tr>\n",
       "      <th>0</th>\n",
       "      <td>0</td>\n",
       "      <td>edomer gayrimenkulden f.s.m. mahallesinde kira...</td>\n",
       "      <td>home</td>\n",
       "      <td>Müstakil Ev</td>\n",
       "      <td>weekend</td>\n",
       "      <td>3+1</td>\n",
       "      <td>texture</td>\n",
       "      <td>150 m2</td>\n",
       "      <td>event</td>\n",
       "      <td>22 Eylül</td>\n",
       "      <td>8.000 TL</td>\n",
       "      <td>Adana - Ceyhan - Fatih Sultan Mehmet Mh.</td>\n",
       "      <td>NaN</td>\n",
       "      <td>NaN</td>\n",
       "      <td>NaN</td>\n",
       "      <td>NaN</td>\n",
       "      <td>NaN</td>\n",
       "    </tr>\n",
       "    <tr>\n",
       "      <th>1</th>\n",
       "      <td>1</td>\n",
       "      <td>çinar emlak'tan cumhuri̇yet mh. ki̇ralik 2+1 d...</td>\n",
       "      <td>home</td>\n",
       "      <td>Daire</td>\n",
       "      <td>weekend</td>\n",
       "      <td>2+1</td>\n",
       "      <td>layers</td>\n",
       "      <td>5. Kat</td>\n",
       "      <td>texture</td>\n",
       "      <td>130 m2</td>\n",
       "      <td>event</td>\n",
       "      <td>21 Eylül</td>\n",
       "      <td>7.000 TL</td>\n",
       "      <td>Adana - Ceyhan - Cumhuriyet Mh.</td>\n",
       "      <td>NaN</td>\n",
       "      <td>NaN</td>\n",
       "      <td>NaN</td>\n",
       "    </tr>\n",
       "    <tr>\n",
       "      <th>2</th>\n",
       "      <td>2</td>\n",
       "      <td>yurdal emlak'tan ki̇ralik 4+1 dai̇re</td>\n",
       "      <td>home</td>\n",
       "      <td>Daire</td>\n",
       "      <td>weekend</td>\n",
       "      <td>4+1</td>\n",
       "      <td>layers</td>\n",
       "      <td>Yüksek giriş</td>\n",
       "      <td>texture</td>\n",
       "      <td>180 m2</td>\n",
       "      <td>event</td>\n",
       "      <td>20 Eylül</td>\n",
       "      <td>12.000 TL</td>\n",
       "      <td>Adana - Ceyhan - Cumhuriyet Mh.</td>\n",
       "      <td>NaN</td>\n",
       "      <td>NaN</td>\n",
       "      <td>NaN</td>\n",
       "    </tr>\n",
       "    <tr>\n",
       "      <th>3</th>\n",
       "      <td>3</td>\n",
       "      <td>mi̇ra emlak'tan cumhuri̇yet mah.de az hasarli ...</td>\n",
       "      <td>...</td>\n",
       "      <td>home</td>\n",
       "      <td>Daire</td>\n",
       "      <td>weekend</td>\n",
       "      <td>2+1</td>\n",
       "      <td>layers</td>\n",
       "      <td>7. Kat</td>\n",
       "      <td>texture</td>\n",
       "      <td>115 m2</td>\n",
       "      <td>event</td>\n",
       "      <td>20 Eylül</td>\n",
       "      <td>7.250 TL</td>\n",
       "      <td>Adana - Ceyhan - Cumhuriyet Mh.</td>\n",
       "      <td>NaN</td>\n",
       "      <td>NaN</td>\n",
       "    </tr>\n",
       "  </tbody>\n",
       "</table>\n",
       "</div>"
      ],
      "text/plain": [
       "  Column1                                            Column2 Column3  \\\n",
       "                                                                       \n",
       "0       0  edomer gayrimenkulden f.s.m. mahallesinde kira...    home   \n",
       "1       1  çinar emlak'tan cumhuri̇yet mh. ki̇ralik 2+1 d...    home   \n",
       "2       2               yurdal emlak'tan ki̇ralik 4+1 dai̇re    home   \n",
       "3       3  mi̇ra emlak'tan cumhuri̇yet mah.de az hasarli ...     ...   \n",
       "\n",
       "       Column4  Column5  Column6  Column7       Column8  Column9  Column10  \\\n",
       "                                                                             \n",
       "0  Müstakil Ev  weekend      3+1  texture        150 m2    event  22 Eylül   \n",
       "1        Daire  weekend      2+1   layers        5. Kat  texture    130 m2   \n",
       "2        Daire  weekend      4+1   layers  Yüksek giriş  texture    180 m2   \n",
       "3         home    Daire  weekend      2+1        layers   7. Kat   texture   \n",
       "\n",
       "   Column11                                  Column12   Column13  \\\n",
       "                                                                   \n",
       "0  8.000 TL  Adana - Ceyhan - Fatih Sultan Mehmet Mh.        NaN   \n",
       "1     event                                  21 Eylül   7.000 TL   \n",
       "2     event                                  20 Eylül  12.000 TL   \n",
       "3    115 m2                                     event   20 Eylül   \n",
       "\n",
       "                          Column14                         Column15 Column16  \\\n",
       "                                                                               \n",
       "0                              NaN                              NaN      NaN   \n",
       "1  Adana - Ceyhan - Cumhuriyet Mh.                              NaN      NaN   \n",
       "2  Adana - Ceyhan - Cumhuriyet Mh.                              NaN      NaN   \n",
       "3                         7.250 TL  Adana - Ceyhan - Cumhuriyet Mh.      NaN   \n",
       "\n",
       "  Column17  \n",
       "            \n",
       "0      NaN  \n",
       "1      NaN  \n",
       "2      NaN  \n",
       "3      NaN  "
      ]
     },
     "execution_count": 9,
     "metadata": {},
     "output_type": "execute_result"
    }
   ],
   "source": [
    "# Reindex index number like starting from 0.\n",
    "# Add list of new_index to the DataFrame as a new column and set new_index to real index numbers\n",
    "df[''] = np.arange(len(df))\n",
    "df = df.set_index('')\n",
    "\n",
    "df.head(4)"
   ]
  },
  {
   "cell_type": "code",
   "execution_count": 10,
   "id": "d1bd0e0d-0335-47a0-b09b-e69bca6b5471",
   "metadata": {
    "tags": []
   },
   "outputs": [
    {
     "data": {
      "text/html": [
       "<div>\n",
       "<style scoped>\n",
       "    .dataframe tbody tr th:only-of-type {\n",
       "        vertical-align: middle;\n",
       "    }\n",
       "\n",
       "    .dataframe tbody tr th {\n",
       "        vertical-align: top;\n",
       "    }\n",
       "\n",
       "    .dataframe thead th {\n",
       "        text-align: right;\n",
       "    }\n",
       "</style>\n",
       "<table border=\"1\" class=\"dataframe\">\n",
       "  <thead>\n",
       "    <tr style=\"text-align: right;\">\n",
       "      <th></th>\n",
       "      <th>Column1</th>\n",
       "      <th>Column2</th>\n",
       "      <th>Column3</th>\n",
       "      <th>Column4</th>\n",
       "      <th>Column5</th>\n",
       "      <th>Column6</th>\n",
       "      <th>Column7</th>\n",
       "      <th>Column8</th>\n",
       "      <th>Column9</th>\n",
       "      <th>Column10</th>\n",
       "      <th>Column11</th>\n",
       "      <th>Column12</th>\n",
       "      <th>Column13</th>\n",
       "      <th>Column14</th>\n",
       "      <th>Column15</th>\n",
       "      <th>Column16</th>\n",
       "      <th>Column17</th>\n",
       "    </tr>\n",
       "    <tr>\n",
       "      <th></th>\n",
       "      <th></th>\n",
       "      <th></th>\n",
       "      <th></th>\n",
       "      <th></th>\n",
       "      <th></th>\n",
       "      <th></th>\n",
       "      <th></th>\n",
       "      <th></th>\n",
       "      <th></th>\n",
       "      <th></th>\n",
       "      <th></th>\n",
       "      <th></th>\n",
       "      <th></th>\n",
       "      <th></th>\n",
       "      <th></th>\n",
       "      <th></th>\n",
       "      <th></th>\n",
       "    </tr>\n",
       "  </thead>\n",
       "  <tbody>\n",
       "    <tr>\n",
       "      <th>0</th>\n",
       "      <td>0</td>\n",
       "      <td>edomer gayrimenkulden f.s.m. mahallesinde kira...</td>\n",
       "      <td>home</td>\n",
       "      <td>Müstakil Ev</td>\n",
       "      <td>weekend</td>\n",
       "      <td>3+1</td>\n",
       "      <td>texture</td>\n",
       "      <td>150 m2</td>\n",
       "      <td>event</td>\n",
       "      <td>22 Eylül</td>\n",
       "      <td>8.000 TL</td>\n",
       "      <td>Adana - Ceyhan - Fatih Sultan Mehmet Mh.</td>\n",
       "      <td>NaN</td>\n",
       "      <td>NaN</td>\n",
       "      <td>NaN</td>\n",
       "      <td>NaN</td>\n",
       "      <td>NaN</td>\n",
       "    </tr>\n",
       "    <tr>\n",
       "      <th>1</th>\n",
       "      <td>1</td>\n",
       "      <td>çinar emlak'tan cumhuri̇yet mh. ki̇ralik 2+1 d...</td>\n",
       "      <td>home</td>\n",
       "      <td>Daire</td>\n",
       "      <td>weekend</td>\n",
       "      <td>2+1</td>\n",
       "      <td>layers</td>\n",
       "      <td>5. Kat</td>\n",
       "      <td>texture</td>\n",
       "      <td>130 m2</td>\n",
       "      <td>event</td>\n",
       "      <td>21 Eylül</td>\n",
       "      <td>7.000 TL</td>\n",
       "      <td>Adana - Ceyhan - Cumhuriyet Mh.</td>\n",
       "      <td>NaN</td>\n",
       "      <td>NaN</td>\n",
       "      <td>NaN</td>\n",
       "    </tr>\n",
       "    <tr>\n",
       "      <th>2</th>\n",
       "      <td>2</td>\n",
       "      <td>yurdal emlak'tan ki̇ralik 4+1 dai̇re</td>\n",
       "      <td>home</td>\n",
       "      <td>Daire</td>\n",
       "      <td>weekend</td>\n",
       "      <td>4+1</td>\n",
       "      <td>layers</td>\n",
       "      <td>Yüksek giriş</td>\n",
       "      <td>texture</td>\n",
       "      <td>180 m2</td>\n",
       "      <td>event</td>\n",
       "      <td>20 Eylül</td>\n",
       "      <td>12.000 TL</td>\n",
       "      <td>Adana - Ceyhan - Cumhuriyet Mh.</td>\n",
       "      <td>NaN</td>\n",
       "      <td>NaN</td>\n",
       "      <td>NaN</td>\n",
       "    </tr>\n",
       "    <tr>\n",
       "      <th>3</th>\n",
       "      <td>3</td>\n",
       "      <td>mi̇ra emlak'tan cumhuri̇yet mah.de az hasarli ...</td>\n",
       "      <td>home</td>\n",
       "      <td>Daire</td>\n",
       "      <td>weekend</td>\n",
       "      <td>2+1</td>\n",
       "      <td>layers</td>\n",
       "      <td>7. Kat</td>\n",
       "      <td>texture</td>\n",
       "      <td>115 m2</td>\n",
       "      <td>event</td>\n",
       "      <td>20 Eylül</td>\n",
       "      <td>7.250 TL</td>\n",
       "      <td>Adana - Ceyhan - Cumhuriyet Mh.</td>\n",
       "      <td>NaN</td>\n",
       "      <td>NaN</td>\n",
       "      <td>NaN</td>\n",
       "    </tr>\n",
       "  </tbody>\n",
       "</table>\n",
       "</div>"
      ],
      "text/plain": [
       "  Column1                                            Column2 Column3  \\\n",
       "                                                                       \n",
       "0       0  edomer gayrimenkulden f.s.m. mahallesinde kira...    home   \n",
       "1       1  çinar emlak'tan cumhuri̇yet mh. ki̇ralik 2+1 d...    home   \n",
       "2       2               yurdal emlak'tan ki̇ralik 4+1 dai̇re    home   \n",
       "3       3  mi̇ra emlak'tan cumhuri̇yet mah.de az hasarli ...    home   \n",
       "\n",
       "       Column4  Column5 Column6  Column7       Column8  Column9  Column10  \\\n",
       "                                                                            \n",
       "0  Müstakil Ev  weekend     3+1  texture        150 m2    event  22 Eylül   \n",
       "1        Daire  weekend     2+1   layers        5. Kat  texture    130 m2   \n",
       "2        Daire  weekend     4+1   layers  Yüksek giriş  texture    180 m2   \n",
       "3        Daire  weekend     2+1   layers        7. Kat  texture    115 m2   \n",
       "\n",
       "   Column11                                  Column12   Column13  \\\n",
       "                                                                   \n",
       "0  8.000 TL  Adana - Ceyhan - Fatih Sultan Mehmet Mh.        NaN   \n",
       "1     event                                  21 Eylül   7.000 TL   \n",
       "2     event                                  20 Eylül  12.000 TL   \n",
       "3     event                                  20 Eylül   7.250 TL   \n",
       "\n",
       "                          Column14 Column15 Column16 Column17  \n",
       "                                                               \n",
       "0                              NaN      NaN      NaN      NaN  \n",
       "1  Adana - Ceyhan - Cumhuriyet Mh.      NaN      NaN      NaN  \n",
       "2  Adana - Ceyhan - Cumhuriyet Mh.      NaN      NaN      NaN  \n",
       "3  Adana - Ceyhan - Cumhuriyet Mh.      NaN      NaN      NaN  "
      ]
     },
     "execution_count": 10,
     "metadata": {},
     "output_type": "execute_result"
    }
   ],
   "source": [
    "# Swipe cell that write '...' to one cell left\n",
    "for i in range(len(df)):\n",
    "    if df.iloc[i,2] == \"...\":\n",
    "        j=2\n",
    "        while j<16:\n",
    "            df.iloc[i,j] = df.iloc[i,j+1]\n",
    "            j+=1\n",
    "df.head(4)"
   ]
  },
  {
   "cell_type": "code",
   "execution_count": 11,
   "id": "a56970f7-b364-4cf8-b400-f5bf3ca1f7bb",
   "metadata": {
    "tags": []
   },
   "outputs": [
    {
     "data": {
      "text/html": [
       "<div>\n",
       "<style scoped>\n",
       "    .dataframe tbody tr th:only-of-type {\n",
       "        vertical-align: middle;\n",
       "    }\n",
       "\n",
       "    .dataframe tbody tr th {\n",
       "        vertical-align: top;\n",
       "    }\n",
       "\n",
       "    .dataframe thead th {\n",
       "        text-align: right;\n",
       "    }\n",
       "</style>\n",
       "<table border=\"1\" class=\"dataframe\">\n",
       "  <thead>\n",
       "    <tr style=\"text-align: right;\">\n",
       "      <th></th>\n",
       "      <th>Column1</th>\n",
       "      <th>Column2</th>\n",
       "      <th>Column3</th>\n",
       "      <th>Column4</th>\n",
       "      <th>Column5</th>\n",
       "      <th>Column6</th>\n",
       "      <th>Column7</th>\n",
       "      <th>Column8</th>\n",
       "      <th>Column9</th>\n",
       "      <th>Column10</th>\n",
       "      <th>Column11</th>\n",
       "      <th>Column12</th>\n",
       "      <th>Column13</th>\n",
       "      <th>Column14</th>\n",
       "      <th>Column15</th>\n",
       "      <th>Column16</th>\n",
       "      <th>Column17</th>\n",
       "    </tr>\n",
       "    <tr>\n",
       "      <th></th>\n",
       "      <th></th>\n",
       "      <th></th>\n",
       "      <th></th>\n",
       "      <th></th>\n",
       "      <th></th>\n",
       "      <th></th>\n",
       "      <th></th>\n",
       "      <th></th>\n",
       "      <th></th>\n",
       "      <th></th>\n",
       "      <th></th>\n",
       "      <th></th>\n",
       "      <th></th>\n",
       "      <th></th>\n",
       "      <th></th>\n",
       "      <th></th>\n",
       "      <th></th>\n",
       "    </tr>\n",
       "  </thead>\n",
       "  <tbody>\n",
       "    <tr>\n",
       "      <th>1</th>\n",
       "      <td>1</td>\n",
       "      <td>çinar emlak'tan cumhuri̇yet mh. ki̇ralik 2+1 d...</td>\n",
       "      <td>home</td>\n",
       "      <td>Daire</td>\n",
       "      <td>weekend</td>\n",
       "      <td>2+1</td>\n",
       "      <td>layers</td>\n",
       "      <td>5. Kat</td>\n",
       "      <td>texture</td>\n",
       "      <td>130 m2</td>\n",
       "      <td>event</td>\n",
       "      <td>21 Eylül</td>\n",
       "      <td>7.000 TL</td>\n",
       "      <td>Adana - Ceyhan - Cumhuriyet Mh.</td>\n",
       "      <td>NaN</td>\n",
       "      <td>NaN</td>\n",
       "      <td>NaN</td>\n",
       "    </tr>\n",
       "    <tr>\n",
       "      <th>2</th>\n",
       "      <td>2</td>\n",
       "      <td>yurdal emlak'tan ki̇ralik 4+1 dai̇re</td>\n",
       "      <td>home</td>\n",
       "      <td>Daire</td>\n",
       "      <td>weekend</td>\n",
       "      <td>4+1</td>\n",
       "      <td>layers</td>\n",
       "      <td>Yüksek giriş</td>\n",
       "      <td>texture</td>\n",
       "      <td>180 m2</td>\n",
       "      <td>event</td>\n",
       "      <td>20 Eylül</td>\n",
       "      <td>12.000 TL</td>\n",
       "      <td>Adana - Ceyhan - Cumhuriyet Mh.</td>\n",
       "      <td>NaN</td>\n",
       "      <td>NaN</td>\n",
       "      <td>NaN</td>\n",
       "    </tr>\n",
       "    <tr>\n",
       "      <th>3</th>\n",
       "      <td>3</td>\n",
       "      <td>mi̇ra emlak'tan cumhuri̇yet mah.de az hasarli ...</td>\n",
       "      <td>home</td>\n",
       "      <td>Daire</td>\n",
       "      <td>weekend</td>\n",
       "      <td>2+1</td>\n",
       "      <td>layers</td>\n",
       "      <td>7. Kat</td>\n",
       "      <td>texture</td>\n",
       "      <td>115 m2</td>\n",
       "      <td>event</td>\n",
       "      <td>20 Eylül</td>\n",
       "      <td>7.250 TL</td>\n",
       "      <td>Adana - Ceyhan - Cumhuriyet Mh.</td>\n",
       "      <td>NaN</td>\n",
       "      <td>NaN</td>\n",
       "      <td>NaN</td>\n",
       "    </tr>\n",
       "    <tr>\n",
       "      <th>4</th>\n",
       "      <td>4</td>\n",
       "      <td>edomer gayrimenkul'den n.kemal mah. kiralık 3+...</td>\n",
       "      <td>home</td>\n",
       "      <td>Daire</td>\n",
       "      <td>weekend</td>\n",
       "      <td>3+1</td>\n",
       "      <td>layers</td>\n",
       "      <td>3. Kat</td>\n",
       "      <td>texture</td>\n",
       "      <td>125 m2</td>\n",
       "      <td>event</td>\n",
       "      <td>17 Eylül</td>\n",
       "      <td>130.000 TL</td>\n",
       "      <td>Adana - Ceyhan - Namık Kemal Mh.</td>\n",
       "      <td>NaN</td>\n",
       "      <td>NaN</td>\n",
       "      <td>NaN</td>\n",
       "    </tr>\n",
       "  </tbody>\n",
       "</table>\n",
       "</div>"
      ],
      "text/plain": [
       "  Column1                                            Column2 Column3 Column4  \\\n",
       "                                                                               \n",
       "1       1  çinar emlak'tan cumhuri̇yet mh. ki̇ralik 2+1 d...    home   Daire   \n",
       "2       2               yurdal emlak'tan ki̇ralik 4+1 dai̇re    home   Daire   \n",
       "3       3  mi̇ra emlak'tan cumhuri̇yet mah.de az hasarli ...    home   Daire   \n",
       "4       4  edomer gayrimenkul'den n.kemal mah. kiralık 3+...    home   Daire   \n",
       "\n",
       "   Column5 Column6 Column7       Column8  Column9 Column10 Column11  Column12  \\\n",
       "                                                                                \n",
       "1  weekend     2+1  layers        5. Kat  texture   130 m2    event  21 Eylül   \n",
       "2  weekend     4+1  layers  Yüksek giriş  texture   180 m2    event  20 Eylül   \n",
       "3  weekend     2+1  layers        7. Kat  texture   115 m2    event  20 Eylül   \n",
       "4  weekend     3+1  layers        3. Kat  texture   125 m2    event  17 Eylül   \n",
       "\n",
       "     Column13                          Column14 Column15 Column16 Column17  \n",
       "                                                                            \n",
       "1    7.000 TL   Adana - Ceyhan - Cumhuriyet Mh.      NaN      NaN      NaN  \n",
       "2   12.000 TL   Adana - Ceyhan - Cumhuriyet Mh.      NaN      NaN      NaN  \n",
       "3    7.250 TL   Adana - Ceyhan - Cumhuriyet Mh.      NaN      NaN      NaN  \n",
       "4  130.000 TL  Adana - Ceyhan - Namık Kemal Mh.      NaN      NaN      NaN  "
      ]
     },
     "execution_count": 11,
     "metadata": {},
     "output_type": "execute_result"
    }
   ],
   "source": [
    "# Drop rows except \"Residence\" and \"Daire\"\n",
    "for i in range(len(df)):\n",
    "    if df[\"Column4\"][i] != \"Residence\" and df[\"Column4\"][i] != \"Daire\":\n",
    "        df = df.drop(i, axis=0)\n",
    "        \n",
    "df.head(4)  "
   ]
  },
  {
   "cell_type": "code",
   "execution_count": 12,
   "id": "c2dacac1-b165-4215-8eb2-5f8fef951261",
   "metadata": {},
   "outputs": [],
   "source": [
    "df[''] = np.arange(len(df))\n",
    "df = df.set_index('')"
   ]
  },
  {
   "cell_type": "code",
   "execution_count": 13,
   "id": "d6f5534d-60a7-4dff-82ab-aabef0c3fc2b",
   "metadata": {},
   "outputs": [
    {
     "data": {
      "text/plain": [
       "33293"
      ]
     },
     "execution_count": 13,
     "metadata": {},
     "output_type": "execute_result"
    }
   ],
   "source": [
    "len(df)"
   ]
  },
  {
   "cell_type": "code",
   "execution_count": null,
   "id": "8ac90531-3cef-4e0f-83aa-a8e9a228e6e6",
   "metadata": {},
   "outputs": [],
   "source": []
  },
  {
   "cell_type": "code",
   "execution_count": 14,
   "id": "7a54814e-a5e6-4858-9661-d160f25bfb45",
   "metadata": {},
   "outputs": [
    {
     "data": {
      "text/html": [
       "<div>\n",
       "<style scoped>\n",
       "    .dataframe tbody tr th:only-of-type {\n",
       "        vertical-align: middle;\n",
       "    }\n",
       "\n",
       "    .dataframe tbody tr th {\n",
       "        vertical-align: top;\n",
       "    }\n",
       "\n",
       "    .dataframe thead th {\n",
       "        text-align: right;\n",
       "    }\n",
       "</style>\n",
       "<table border=\"1\" class=\"dataframe\">\n",
       "  <thead>\n",
       "    <tr style=\"text-align: right;\">\n",
       "      <th></th>\n",
       "      <th>Column1</th>\n",
       "      <th>Column2</th>\n",
       "      <th>Column3</th>\n",
       "      <th>Column4</th>\n",
       "      <th>Column5</th>\n",
       "      <th>Column6</th>\n",
       "      <th>Column7</th>\n",
       "      <th>Column8</th>\n",
       "      <th>Column9</th>\n",
       "      <th>Column10</th>\n",
       "      <th>Column11</th>\n",
       "      <th>Column12</th>\n",
       "      <th>Column13</th>\n",
       "      <th>Column14</th>\n",
       "      <th>Column15</th>\n",
       "      <th>Column16</th>\n",
       "      <th>Column17</th>\n",
       "    </tr>\n",
       "    <tr>\n",
       "      <th></th>\n",
       "      <th></th>\n",
       "      <th></th>\n",
       "      <th></th>\n",
       "      <th></th>\n",
       "      <th></th>\n",
       "      <th></th>\n",
       "      <th></th>\n",
       "      <th></th>\n",
       "      <th></th>\n",
       "      <th></th>\n",
       "      <th></th>\n",
       "      <th></th>\n",
       "      <th></th>\n",
       "      <th></th>\n",
       "      <th></th>\n",
       "      <th></th>\n",
       "      <th></th>\n",
       "    </tr>\n",
       "  </thead>\n",
       "  <tbody>\n",
       "    <tr>\n",
       "      <th>35</th>\n",
       "      <td>38</td>\n",
       "      <td>yüzüncüyil kri̇mi̇nal ci̇vari 2+1 apartman dai...</td>\n",
       "      <td>home</td>\n",
       "      <td>Daire</td>\n",
       "      <td>weekend</td>\n",
       "      <td>2+1</td>\n",
       "      <td>layers</td>\n",
       "      <td>5. Kat</td>\n",
       "      <td>texture</td>\n",
       "      <td>100 m2</td>\n",
       "      <td>event</td>\n",
       "      <td>25 Eylül</td>\n",
       "      <td>9.250 TL</td>\n",
       "      <td>arrow_downward</td>\n",
       "      <td>ESKİ FİYATI10.000 TL</td>\n",
       "      <td>Adana - Çukurova - Yüzüncüyıl Mh.</td>\n",
       "      <td>NaN</td>\n",
       "    </tr>\n",
       "    <tr>\n",
       "      <th>36</th>\n",
       "      <td>39</td>\n",
       "      <td>ruh sağliği karşisi 3+1 k.mutfak doğalgazli ha...</td>\n",
       "      <td>home</td>\n",
       "      <td>Daire</td>\n",
       "      <td>weekend</td>\n",
       "      <td>3+1</td>\n",
       "      <td>layers</td>\n",
       "      <td>9. Kat</td>\n",
       "      <td>texture</td>\n",
       "      <td>220 m2</td>\n",
       "      <td>event</td>\n",
       "      <td>24 Eylül</td>\n",
       "      <td>14.500 TL</td>\n",
       "      <td>Adana - Çukurova - Belediye Evleri Mh.</td>\n",
       "      <td>NaN</td>\n",
       "      <td>NaN</td>\n",
       "      <td>NaN</td>\n",
       "    </tr>\n",
       "    <tr>\n",
       "      <th>37</th>\n",
       "      <td>40</td>\n",
       "      <td>güzelyali mahallesi̇ 3+1 170 m2 ki̇ralik dai̇re</td>\n",
       "      <td>home</td>\n",
       "      <td>Daire</td>\n",
       "      <td>weekend</td>\n",
       "      <td>3+1</td>\n",
       "      <td>layers</td>\n",
       "      <td>2. Kat</td>\n",
       "      <td>texture</td>\n",
       "      <td>170 m2</td>\n",
       "      <td>event</td>\n",
       "      <td>25 Eylül</td>\n",
       "      <td>100.000 TL</td>\n",
       "      <td>Adana - Çukurova - Güzelyalı Mh.</td>\n",
       "      <td>NaN</td>\n",
       "      <td>NaN</td>\n",
       "      <td>NaN</td>\n",
       "    </tr>\n",
       "  </tbody>\n",
       "</table>\n",
       "</div>"
      ],
      "text/plain": [
       "   Column1                                            Column2 Column3 Column4  \\\n",
       "                                                                                \n",
       "35      38  yüzüncüyil kri̇mi̇nal ci̇vari 2+1 apartman dai...    home   Daire   \n",
       "36      39  ruh sağliği karşisi 3+1 k.mutfak doğalgazli ha...    home   Daire   \n",
       "37      40    güzelyali mahallesi̇ 3+1 170 m2 ki̇ralik dai̇re    home   Daire   \n",
       "\n",
       "    Column5 Column6 Column7 Column8  Column9 Column10 Column11  Column12  \\\n",
       "                                                                           \n",
       "35  weekend     2+1  layers  5. Kat  texture   100 m2    event  25 Eylül   \n",
       "36  weekend     3+1  layers  9. Kat  texture   220 m2    event  24 Eylül   \n",
       "37  weekend     3+1  layers  2. Kat  texture   170 m2    event  25 Eylül   \n",
       "\n",
       "      Column13                                Column14              Column15  \\\n",
       "                                                                               \n",
       "35    9.250 TL                          arrow_downward  ESKİ FİYATI10.000 TL   \n",
       "36   14.500 TL  Adana - Çukurova - Belediye Evleri Mh.                   NaN   \n",
       "37  100.000 TL        Adana - Çukurova - Güzelyalı Mh.                   NaN   \n",
       "\n",
       "                             Column16 Column17  \n",
       "                                                \n",
       "35  Adana - Çukurova - Yüzüncüyıl Mh.      NaN  \n",
       "36                                NaN      NaN  \n",
       "37                                NaN      NaN  "
      ]
     },
     "execution_count": 14,
     "metadata": {},
     "output_type": "execute_result"
    }
   ],
   "source": [
    "# Wiew the error of Column14 and Column16\n",
    "df.iloc[35:38,:]"
   ]
  },
  {
   "cell_type": "code",
   "execution_count": 15,
   "id": "9344672d-69a0-414e-ac76-6818b2735bbc",
   "metadata": {},
   "outputs": [
    {
     "data": {
      "text/html": [
       "<div>\n",
       "<style scoped>\n",
       "    .dataframe tbody tr th:only-of-type {\n",
       "        vertical-align: middle;\n",
       "    }\n",
       "\n",
       "    .dataframe tbody tr th {\n",
       "        vertical-align: top;\n",
       "    }\n",
       "\n",
       "    .dataframe thead th {\n",
       "        text-align: right;\n",
       "    }\n",
       "</style>\n",
       "<table border=\"1\" class=\"dataframe\">\n",
       "  <thead>\n",
       "    <tr style=\"text-align: right;\">\n",
       "      <th></th>\n",
       "      <th>Column1</th>\n",
       "      <th>Column2</th>\n",
       "      <th>Column3</th>\n",
       "      <th>Column4</th>\n",
       "      <th>Column5</th>\n",
       "      <th>Column6</th>\n",
       "      <th>Column7</th>\n",
       "      <th>Column8</th>\n",
       "      <th>Column9</th>\n",
       "      <th>Column10</th>\n",
       "      <th>Column11</th>\n",
       "      <th>Column12</th>\n",
       "      <th>Column13</th>\n",
       "      <th>Column14</th>\n",
       "      <th>Column15</th>\n",
       "      <th>Column16</th>\n",
       "      <th>Column17</th>\n",
       "    </tr>\n",
       "    <tr>\n",
       "      <th></th>\n",
       "      <th></th>\n",
       "      <th></th>\n",
       "      <th></th>\n",
       "      <th></th>\n",
       "      <th></th>\n",
       "      <th></th>\n",
       "      <th></th>\n",
       "      <th></th>\n",
       "      <th></th>\n",
       "      <th></th>\n",
       "      <th></th>\n",
       "      <th></th>\n",
       "      <th></th>\n",
       "      <th></th>\n",
       "      <th></th>\n",
       "      <th></th>\n",
       "      <th></th>\n",
       "    </tr>\n",
       "  </thead>\n",
       "  <tbody>\n",
       "    <tr>\n",
       "      <th>35</th>\n",
       "      <td>38</td>\n",
       "      <td>yüzüncüyil kri̇mi̇nal ci̇vari 2+1 apartman dai...</td>\n",
       "      <td>home</td>\n",
       "      <td>Daire</td>\n",
       "      <td>weekend</td>\n",
       "      <td>2+1</td>\n",
       "      <td>layers</td>\n",
       "      <td>5. Kat</td>\n",
       "      <td>texture</td>\n",
       "      <td>100 m2</td>\n",
       "      <td>event</td>\n",
       "      <td>25 Eylül</td>\n",
       "      <td>9.250 TL</td>\n",
       "      <td>Adana - Çukurova - Yüzüncüyıl Mh.</td>\n",
       "      <td>ESKİ FİYATI10.000 TL</td>\n",
       "      <td>Adana - Çukurova - Yüzüncüyıl Mh.</td>\n",
       "      <td>NaN</td>\n",
       "    </tr>\n",
       "    <tr>\n",
       "      <th>36</th>\n",
       "      <td>39</td>\n",
       "      <td>ruh sağliği karşisi 3+1 k.mutfak doğalgazli ha...</td>\n",
       "      <td>home</td>\n",
       "      <td>Daire</td>\n",
       "      <td>weekend</td>\n",
       "      <td>3+1</td>\n",
       "      <td>layers</td>\n",
       "      <td>9. Kat</td>\n",
       "      <td>texture</td>\n",
       "      <td>220 m2</td>\n",
       "      <td>event</td>\n",
       "      <td>24 Eylül</td>\n",
       "      <td>14.500 TL</td>\n",
       "      <td>Adana - Çukurova - Belediye Evleri Mh.</td>\n",
       "      <td>NaN</td>\n",
       "      <td>NaN</td>\n",
       "      <td>NaN</td>\n",
       "    </tr>\n",
       "    <tr>\n",
       "      <th>37</th>\n",
       "      <td>40</td>\n",
       "      <td>güzelyali mahallesi̇ 3+1 170 m2 ki̇ralik dai̇re</td>\n",
       "      <td>home</td>\n",
       "      <td>Daire</td>\n",
       "      <td>weekend</td>\n",
       "      <td>3+1</td>\n",
       "      <td>layers</td>\n",
       "      <td>2. Kat</td>\n",
       "      <td>texture</td>\n",
       "      <td>170 m2</td>\n",
       "      <td>event</td>\n",
       "      <td>25 Eylül</td>\n",
       "      <td>100.000 TL</td>\n",
       "      <td>Adana - Çukurova - Güzelyalı Mh.</td>\n",
       "      <td>NaN</td>\n",
       "      <td>NaN</td>\n",
       "      <td>NaN</td>\n",
       "    </tr>\n",
       "  </tbody>\n",
       "</table>\n",
       "</div>"
      ],
      "text/plain": [
       "   Column1                                            Column2 Column3 Column4  \\\n",
       "                                                                                \n",
       "35      38  yüzüncüyil kri̇mi̇nal ci̇vari 2+1 apartman dai...    home   Daire   \n",
       "36      39  ruh sağliği karşisi 3+1 k.mutfak doğalgazli ha...    home   Daire   \n",
       "37      40    güzelyali mahallesi̇ 3+1 170 m2 ki̇ralik dai̇re    home   Daire   \n",
       "\n",
       "    Column5 Column6 Column7 Column8  Column9 Column10 Column11  Column12  \\\n",
       "                                                                           \n",
       "35  weekend     2+1  layers  5. Kat  texture   100 m2    event  25 Eylül   \n",
       "36  weekend     3+1  layers  9. Kat  texture   220 m2    event  24 Eylül   \n",
       "37  weekend     3+1  layers  2. Kat  texture   170 m2    event  25 Eylül   \n",
       "\n",
       "      Column13                                Column14              Column15  \\\n",
       "                                                                               \n",
       "35    9.250 TL       Adana - Çukurova - Yüzüncüyıl Mh.  ESKİ FİYATI10.000 TL   \n",
       "36   14.500 TL  Adana - Çukurova - Belediye Evleri Mh.                   NaN   \n",
       "37  100.000 TL        Adana - Çukurova - Güzelyalı Mh.                   NaN   \n",
       "\n",
       "                             Column16 Column17  \n",
       "                                                \n",
       "35  Adana - Çukurova - Yüzüncüyıl Mh.      NaN  \n",
       "36                                NaN      NaN  \n",
       "37                                NaN      NaN  "
      ]
     },
     "execution_count": 15,
     "metadata": {},
     "output_type": "execute_result"
    }
   ],
   "source": [
    "# Assign Column16 cell to Column14 cell\n",
    "for i in range(len(df)):\n",
    "    if df[\"Column14\"][i]==\"arrow_downward\":\n",
    "        df[\"Column14\"][i] = df[\"Column16\"][i]\n",
    "        \n",
    "# Error fixed\n",
    "df.iloc[35:38,:]"
   ]
  },
  {
   "cell_type": "code",
   "execution_count": 16,
   "id": "ccc596be-4b2c-46b0-b5eb-377035d09145",
   "metadata": {},
   "outputs": [
    {
     "data": {
      "text/html": [
       "<div>\n",
       "<style scoped>\n",
       "    .dataframe tbody tr th:only-of-type {\n",
       "        vertical-align: middle;\n",
       "    }\n",
       "\n",
       "    .dataframe tbody tr th {\n",
       "        vertical-align: top;\n",
       "    }\n",
       "\n",
       "    .dataframe thead th {\n",
       "        text-align: right;\n",
       "    }\n",
       "</style>\n",
       "<table border=\"1\" class=\"dataframe\">\n",
       "  <thead>\n",
       "    <tr style=\"text-align: right;\">\n",
       "      <th></th>\n",
       "      <th>Column6</th>\n",
       "      <th>Column10</th>\n",
       "      <th>Column13</th>\n",
       "      <th>Column14</th>\n",
       "    </tr>\n",
       "    <tr>\n",
       "      <th></th>\n",
       "      <th></th>\n",
       "      <th></th>\n",
       "      <th></th>\n",
       "      <th></th>\n",
       "    </tr>\n",
       "  </thead>\n",
       "  <tbody>\n",
       "    <tr>\n",
       "      <th>0</th>\n",
       "      <td>2+1</td>\n",
       "      <td>130 m2</td>\n",
       "      <td>7.000 TL</td>\n",
       "      <td>Adana - Ceyhan - Cumhuriyet Mh.</td>\n",
       "    </tr>\n",
       "    <tr>\n",
       "      <th>1</th>\n",
       "      <td>4+1</td>\n",
       "      <td>180 m2</td>\n",
       "      <td>12.000 TL</td>\n",
       "      <td>Adana - Ceyhan - Cumhuriyet Mh.</td>\n",
       "    </tr>\n",
       "    <tr>\n",
       "      <th>2</th>\n",
       "      <td>2+1</td>\n",
       "      <td>115 m2</td>\n",
       "      <td>7.250 TL</td>\n",
       "      <td>Adana - Ceyhan - Cumhuriyet Mh.</td>\n",
       "    </tr>\n",
       "    <tr>\n",
       "      <th>3</th>\n",
       "      <td>3+1</td>\n",
       "      <td>125 m2</td>\n",
       "      <td>130.000 TL</td>\n",
       "      <td>Adana - Ceyhan - Namık Kemal Mh.</td>\n",
       "    </tr>\n",
       "    <tr>\n",
       "      <th>4</th>\n",
       "      <td>3+1</td>\n",
       "      <td>185 m2</td>\n",
       "      <td>11.500 TL</td>\n",
       "      <td>Adana - Ceyhan - Hürriyet Mh.</td>\n",
       "    </tr>\n",
       "  </tbody>\n",
       "</table>\n",
       "</div>"
      ],
      "text/plain": [
       "  Column6 Column10    Column13                          Column14\n",
       "                                                                \n",
       "0     2+1   130 m2    7.000 TL   Adana - Ceyhan - Cumhuriyet Mh.\n",
       "1     4+1   180 m2   12.000 TL   Adana - Ceyhan - Cumhuriyet Mh.\n",
       "2     2+1   115 m2    7.250 TL   Adana - Ceyhan - Cumhuriyet Mh.\n",
       "3     3+1   125 m2  130.000 TL  Adana - Ceyhan - Namık Kemal Mh.\n",
       "4     3+1   185 m2   11.500 TL     Adana - Ceyhan - Hürriyet Mh."
      ]
     },
     "execution_count": 16,
     "metadata": {},
     "output_type": "execute_result"
    }
   ],
   "source": [
    "## Drop colums that not necessary \n",
    "\n",
    "# Create a list of the columns_to_keep with column(6,10,13,14)\n",
    "columns_to_keep = [f\"Column{i}\" for i in [6, 10, 13, 14]]\n",
    "\n",
    "for column in df.columns:\n",
    "    if column not in columns_to_keep:\n",
    "        df = df.drop(column, axis=1)\n",
    "    \n",
    "df.head()"
   ]
  },
  {
   "cell_type": "code",
   "execution_count": null,
   "id": "d3e0ec12-ef89-4e27-b91f-bc38da76752e",
   "metadata": {},
   "outputs": [],
   "source": []
  },
  {
   "cell_type": "code",
   "execution_count": 17,
   "id": "3bac3238-2654-40ae-936c-79283b9e0ed5",
   "metadata": {},
   "outputs": [
    {
     "data": {
      "text/html": [
       "<div>\n",
       "<style scoped>\n",
       "    .dataframe tbody tr th:only-of-type {\n",
       "        vertical-align: middle;\n",
       "    }\n",
       "\n",
       "    .dataframe tbody tr th {\n",
       "        vertical-align: top;\n",
       "    }\n",
       "\n",
       "    .dataframe thead th {\n",
       "        text-align: right;\n",
       "    }\n",
       "</style>\n",
       "<table border=\"1\" class=\"dataframe\">\n",
       "  <thead>\n",
       "    <tr style=\"text-align: right;\">\n",
       "      <th></th>\n",
       "      <th>room</th>\n",
       "      <th>m²</th>\n",
       "      <th>price</th>\n",
       "      <th>address</th>\n",
       "    </tr>\n",
       "    <tr>\n",
       "      <th></th>\n",
       "      <th></th>\n",
       "      <th></th>\n",
       "      <th></th>\n",
       "      <th></th>\n",
       "    </tr>\n",
       "  </thead>\n",
       "  <tbody>\n",
       "    <tr>\n",
       "      <th>0</th>\n",
       "      <td>2+1</td>\n",
       "      <td>130 m2</td>\n",
       "      <td>7.000 TL</td>\n",
       "      <td>Adana - Ceyhan - Cumhuriyet Mh.</td>\n",
       "    </tr>\n",
       "  </tbody>\n",
       "</table>\n",
       "</div>"
      ],
      "text/plain": [
       "  room      m²     price                          address\n",
       "                                                         \n",
       "0  2+1  130 m2  7.000 TL  Adana - Ceyhan - Cumhuriyet Mh."
      ]
     },
     "execution_count": 17,
     "metadata": {},
     "output_type": "execute_result"
    }
   ],
   "source": [
    "# rename column name\n",
    "df.rename(columns = {'Column6':  'room',   'Column10': 'm²',\n",
    "                     'Column13': 'price',  'Column14': 'address'}, inplace = True)    \n",
    "df.head(1)"
   ]
  },
  {
   "cell_type": "code",
   "execution_count": 18,
   "id": "41709839-aa87-40a0-85f9-c7ad4741fbda",
   "metadata": {},
   "outputs": [
    {
     "data": {
      "text/html": [
       "<div>\n",
       "<style scoped>\n",
       "    .dataframe tbody tr th:only-of-type {\n",
       "        vertical-align: middle;\n",
       "    }\n",
       "\n",
       "    .dataframe tbody tr th {\n",
       "        vertical-align: top;\n",
       "    }\n",
       "\n",
       "    .dataframe thead th {\n",
       "        text-align: right;\n",
       "    }\n",
       "</style>\n",
       "<table border=\"1\" class=\"dataframe\">\n",
       "  <thead>\n",
       "    <tr style=\"text-align: right;\">\n",
       "      <th></th>\n",
       "      <th>room</th>\n",
       "      <th>m²</th>\n",
       "      <th>price</th>\n",
       "      <th>address</th>\n",
       "    </tr>\n",
       "    <tr>\n",
       "      <th></th>\n",
       "      <th></th>\n",
       "      <th></th>\n",
       "      <th></th>\n",
       "      <th></th>\n",
       "    </tr>\n",
       "  </thead>\n",
       "  <tbody>\n",
       "    <tr>\n",
       "      <th>0</th>\n",
       "      <td>2+1</td>\n",
       "      <td>130</td>\n",
       "      <td>7.000</td>\n",
       "      <td>Adana - Ceyhan - Cumhuriyet</td>\n",
       "    </tr>\n",
       "    <tr>\n",
       "      <th>1</th>\n",
       "      <td>4+1</td>\n",
       "      <td>180</td>\n",
       "      <td>12.000</td>\n",
       "      <td>Adana - Ceyhan - Cumhuriyet</td>\n",
       "    </tr>\n",
       "    <tr>\n",
       "      <th>2</th>\n",
       "      <td>2+1</td>\n",
       "      <td>115</td>\n",
       "      <td>7.250</td>\n",
       "      <td>Adana - Ceyhan - Cumhuriyet</td>\n",
       "    </tr>\n",
       "    <tr>\n",
       "      <th>3</th>\n",
       "      <td>3+1</td>\n",
       "      <td>125</td>\n",
       "      <td>130.000</td>\n",
       "      <td>Adana - Ceyhan - Namık Kemal</td>\n",
       "    </tr>\n",
       "    <tr>\n",
       "      <th>4</th>\n",
       "      <td>3+1</td>\n",
       "      <td>185</td>\n",
       "      <td>11.500</td>\n",
       "      <td>Adana - Ceyhan - Hürriyet</td>\n",
       "    </tr>\n",
       "  </tbody>\n",
       "</table>\n",
       "</div>"
      ],
      "text/plain": [
       "  room   m²    price                       address\n",
       "                                                  \n",
       "0  2+1  130    7.000   Adana - Ceyhan - Cumhuriyet\n",
       "1  4+1  180   12.000   Adana - Ceyhan - Cumhuriyet\n",
       "2  2+1  115    7.250   Adana - Ceyhan - Cumhuriyet\n",
       "3  3+1  125  130.000  Adana - Ceyhan - Namık Kemal\n",
       "4  3+1  185   11.500     Adana - Ceyhan - Hürriyet"
      ]
     },
     "execution_count": 18,
     "metadata": {},
     "output_type": "execute_result"
    }
   ],
   "source": [
    "# Delete extentions of \"m²\", \"price\", \"address\"\n",
    "df[\"m²\"     ] = df[\"m²\"     ].str.slice(0, -3)\n",
    "df[\"price\"  ] = df[\"price\"  ].str.slice(0, -3)\n",
    "df[\"address\"] = df[\"address\"].str.slice(0, -4)\n",
    "\n",
    "df.head()"
   ]
  },
  {
   "cell_type": "code",
   "execution_count": 19,
   "id": "5be8a599-00ab-45fa-9119-8f7086647cda",
   "metadata": {},
   "outputs": [
    {
     "data": {
      "text/html": [
       "<div>\n",
       "<style scoped>\n",
       "    .dataframe tbody tr th:only-of-type {\n",
       "        vertical-align: middle;\n",
       "    }\n",
       "\n",
       "    .dataframe tbody tr th {\n",
       "        vertical-align: top;\n",
       "    }\n",
       "\n",
       "    .dataframe thead th {\n",
       "        text-align: right;\n",
       "    }\n",
       "</style>\n",
       "<table border=\"1\" class=\"dataframe\">\n",
       "  <thead>\n",
       "    <tr style=\"text-align: right;\">\n",
       "      <th></th>\n",
       "      <th>room</th>\n",
       "      <th>m²</th>\n",
       "      <th>price</th>\n",
       "      <th>address</th>\n",
       "      <th>city</th>\n",
       "      <th>district</th>\n",
       "      <th>neighborhood</th>\n",
       "    </tr>\n",
       "    <tr>\n",
       "      <th></th>\n",
       "      <th></th>\n",
       "      <th></th>\n",
       "      <th></th>\n",
       "      <th></th>\n",
       "      <th></th>\n",
       "      <th></th>\n",
       "      <th></th>\n",
       "    </tr>\n",
       "  </thead>\n",
       "  <tbody>\n",
       "    <tr>\n",
       "      <th>0</th>\n",
       "      <td>2+1</td>\n",
       "      <td>130</td>\n",
       "      <td>7.000</td>\n",
       "      <td>Adana - Ceyhan - Cumhuriyet</td>\n",
       "      <td>Adana</td>\n",
       "      <td>Ceyhan</td>\n",
       "      <td>Cumhuriyet</td>\n",
       "    </tr>\n",
       "    <tr>\n",
       "      <th>1</th>\n",
       "      <td>4+1</td>\n",
       "      <td>180</td>\n",
       "      <td>12.000</td>\n",
       "      <td>Adana - Ceyhan - Cumhuriyet</td>\n",
       "      <td>Adana</td>\n",
       "      <td>Ceyhan</td>\n",
       "      <td>Cumhuriyet</td>\n",
       "    </tr>\n",
       "    <tr>\n",
       "      <th>2</th>\n",
       "      <td>2+1</td>\n",
       "      <td>115</td>\n",
       "      <td>7.250</td>\n",
       "      <td>Adana - Ceyhan - Cumhuriyet</td>\n",
       "      <td>Adana</td>\n",
       "      <td>Ceyhan</td>\n",
       "      <td>Cumhuriyet</td>\n",
       "    </tr>\n",
       "    <tr>\n",
       "      <th>3</th>\n",
       "      <td>3+1</td>\n",
       "      <td>125</td>\n",
       "      <td>130.000</td>\n",
       "      <td>Adana - Ceyhan - Namık Kemal</td>\n",
       "      <td>Adana</td>\n",
       "      <td>Ceyhan</td>\n",
       "      <td>Namık Kemal</td>\n",
       "    </tr>\n",
       "    <tr>\n",
       "      <th>4</th>\n",
       "      <td>3+1</td>\n",
       "      <td>185</td>\n",
       "      <td>11.500</td>\n",
       "      <td>Adana - Ceyhan - Hürriyet</td>\n",
       "      <td>Adana</td>\n",
       "      <td>Ceyhan</td>\n",
       "      <td>Hürriyet</td>\n",
       "    </tr>\n",
       "  </tbody>\n",
       "</table>\n",
       "</div>"
      ],
      "text/plain": [
       "  room   m²    price                       address   city district  \\\n",
       "                                                                     \n",
       "0  2+1  130    7.000   Adana - Ceyhan - Cumhuriyet  Adana   Ceyhan   \n",
       "1  4+1  180   12.000   Adana - Ceyhan - Cumhuriyet  Adana   Ceyhan   \n",
       "2  2+1  115    7.250   Adana - Ceyhan - Cumhuriyet  Adana   Ceyhan   \n",
       "3  3+1  125  130.000  Adana - Ceyhan - Namık Kemal  Adana   Ceyhan   \n",
       "4  3+1  185   11.500     Adana - Ceyhan - Hürriyet  Adana   Ceyhan   \n",
       "\n",
       "  neighborhood  \n",
       "                \n",
       "0   Cumhuriyet  \n",
       "1   Cumhuriyet  \n",
       "2   Cumhuriyet  \n",
       "3  Namık Kemal  \n",
       "4     Hürriyet  "
      ]
     },
     "execution_count": 19,
     "metadata": {},
     "output_type": "execute_result"
    }
   ],
   "source": [
    "# Split \"address\" to tree column that \"city\", \"district\", \"neighborhood\"\n",
    "df = df.assign(\n",
    "    city         = df[\"address\"].str.split(\" - \").str[0],\n",
    "    district     = df[\"address\"].str.split(\" - \").str[1],\n",
    "    neighborhood = df[\"address\"].str.split(\" - \").str[2]\n",
    ")\n",
    "\n",
    "df.head()"
   ]
  },
  {
   "cell_type": "code",
   "execution_count": 20,
   "id": "c1e18cfe-ca48-43f5-bfa3-b085e1496996",
   "metadata": {},
   "outputs": [],
   "source": [
    "df = df.drop(\"address\", axis=1)"
   ]
  },
  {
   "cell_type": "code",
   "execution_count": 21,
   "id": "dbf0f4c7-03c4-4836-a4fa-6fb1d13ce198",
   "metadata": {},
   "outputs": [
    {
     "name": "stdout",
     "output_type": "stream",
     "text": [
      "Number of rows that include Null values: 0\n"
     ]
    }
   ],
   "source": [
    "# how many rows that include null cell are there?\n",
    "\n",
    "NaNdf = df[df.isnull().any(axis=1)]\n",
    "print(f\"Number of rows that include Null values: {len(NaNdf)}\")  # = 0 row"
   ]
  },
  {
   "cell_type": "code",
   "execution_count": null,
   "id": "1f057fac-5a47-453c-a8ac-2226dca345dc",
   "metadata": {},
   "outputs": [],
   "source": []
  },
  {
   "cell_type": "code",
   "execution_count": 22,
   "id": "ab631b8d-51c4-4e07-a954-543811e99a69",
   "metadata": {},
   "outputs": [],
   "source": [
    "# Convert the \"price\" and \"m²\" to integer.\n",
    "for i in range(len(df)):\n",
    "    df[\"price\"][i] = df[\"price\"][i].replace(\".\" , \"\") \n",
    "\n",
    "df[\"price\"] = pd.to_numeric(df[\"price\"])  # pandas to_numeric function convert string \"to int64\"\n",
    "df[\"price\"] = df[\"price\"].astype(int)     # astype int function convert int64 \"to int32\"\n",
    "\n",
    "df[\"m²\"] = df[\"m²\"].astype(int)\n",
    "\n",
    "# 2.way\n",
    "# but this code don't transform over 1.000.000 to float \n",
    "#df[\"price\"] = df[\"price\"].astype(float)\n",
    "#df[\"price\"] = df[\"price\"].astype(int)"
   ]
  },
  {
   "cell_type": "code",
   "execution_count": 23,
   "id": "1a368cb3-16d7-412e-846b-117c957ef848",
   "metadata": {},
   "outputs": [
    {
     "name": "stdout",
     "output_type": "stream",
     "text": [
      "int32\n",
      "int32\n"
     ]
    }
   ],
   "source": [
    "print(df[\"m²\"].dtype)\n",
    "print(df[\"price\"].dtype)"
   ]
  },
  {
   "cell_type": "code",
   "execution_count": null,
   "id": "eaeca78d-6d26-43c5-947e-fc25b8e7ce1b",
   "metadata": {},
   "outputs": [],
   "source": []
  },
  {
   "cell_type": "code",
   "execution_count": 24,
   "id": "3885533f-84b8-4900-9ec8-5a13e4c86416",
   "metadata": {},
   "outputs": [],
   "source": [
    "# Drop outlier \"m²\" values.\n",
    "# Drop limited to between 300 and 20  for now...\n",
    "# if \"m²\">300 or \"m²\"<20 drop this row\n",
    "\n",
    "for i in range(len(df)):\n",
    "    if df[\"m²\"][i]>300 or df[\"m²\"][i]<20:\n",
    "        df = df.drop(i, axis=0)\n",
    "        \n",
    "# Reindex index column.\n",
    "df[''] = np.arange(len(df))\n",
    "df = df.set_index('')"
   ]
  },
  {
   "cell_type": "code",
   "execution_count": 25,
   "id": "63124bee-d27e-48ac-9731-9df8f368a1fb",
   "metadata": {
    "tags": []
   },
   "outputs": [
    {
     "data": {
      "text/plain": [
       "<Axes: xlabel='m²'>"
      ]
     },
     "execution_count": 25,
     "metadata": {},
     "output_type": "execute_result"
    },
    {
     "data": {
      "image/png": "[encoded data removed]",
      "text/plain": [
       "<Figure size 640x480 with 1 Axes>"
      ]
     },
     "metadata": {},
     "output_type": "display_data"
    }
   ],
   "source": [
    "# Wiew m² outliars in seaborn boxplot\n",
    "\n",
    "m = df[\"m²\"]\n",
    "sns.boxplot(x = m)"
   ]
  },
  {
   "cell_type": "code",
   "execution_count": 26,
   "id": "03644f46-d69c-4cd9-833e-9d6c5fb4ded8",
   "metadata": {},
   "outputs": [
    {
     "data": {
      "text/html": [
       "<div>\n",
       "<style scoped>\n",
       "    .dataframe tbody tr th:only-of-type {\n",
       "        vertical-align: middle;\n",
       "    }\n",
       "\n",
       "    .dataframe tbody tr th {\n",
       "        vertical-align: top;\n",
       "    }\n",
       "\n",
       "    .dataframe thead th {\n",
       "        text-align: right;\n",
       "    }\n",
       "</style>\n",
       "<table border=\"1\" class=\"dataframe\">\n",
       "  <thead>\n",
       "    <tr style=\"text-align: right;\">\n",
       "      <th></th>\n",
       "      <th>count</th>\n",
       "      <th>mean</th>\n",
       "      <th>std</th>\n",
       "      <th>min</th>\n",
       "      <th>25%</th>\n",
       "      <th>50%</th>\n",
       "      <th>75%</th>\n",
       "      <th>max</th>\n",
       "    </tr>\n",
       "  </thead>\n",
       "  <tbody>\n",
       "    <tr>\n",
       "      <th>m²</th>\n",
       "      <td>32892.0</td>\n",
       "      <td>116.690533</td>\n",
       "      <td>4.799438e+01</td>\n",
       "      <td>2.000000e+01</td>\n",
       "      <td>80.0</td>\n",
       "      <td>110.0</td>\n",
       "      <td>145.0</td>\n",
       "      <td>300.0</td>\n",
       "    </tr>\n",
       "    <tr>\n",
       "      <th>price</th>\n",
       "      <td>32892.0</td>\n",
       "      <td>-4345.949836</td>\n",
       "      <td>9.366895e+06</td>\n",
       "      <td>-1.694967e+09</td>\n",
       "      <td>10000.0</td>\n",
       "      <td>13500.0</td>\n",
       "      <td>19000.0</td>\n",
       "      <td>50000000.0</td>\n",
       "    </tr>\n",
       "  </tbody>\n",
       "</table>\n",
       "</div>"
      ],
      "text/plain": [
       "         count         mean           std           min      25%      50%  \\\n",
       "m²     32892.0   116.690533  4.799438e+01  2.000000e+01     80.0    110.0   \n",
       "price  32892.0 -4345.949836  9.366895e+06 -1.694967e+09  10000.0  13500.0   \n",
       "\n",
       "           75%         max  \n",
       "m²       145.0       300.0  \n",
       "price  19000.0  50000000.0  "
      ]
     },
     "execution_count": 26,
     "metadata": {},
     "output_type": "execute_result"
    }
   ],
   "source": [
    "df.describe().T"
   ]
  },
  {
   "cell_type": "code",
   "execution_count": 27,
   "id": "17007642-bb73-48fe-8ed1-4187525232e7",
   "metadata": {},
   "outputs": [
    {
     "data": {
      "text/plain": [
       "Int64Index([   51,   137,   211,   227,   228,   235,   256,   305,   310,\n",
       "              435,\n",
       "            ...\n",
       "            32397, 32484, 32592, 32687, 32692, 32698, 32703, 32718, 32760,\n",
       "            32815],\n",
       "           dtype='int64', name='', length=595)"
      ]
     },
     "execution_count": 27,
     "metadata": {},
     "output_type": "execute_result"
    }
   ],
   "source": [
    "# learn index of m² outliars\n",
    "outliars = df[\"m²\"] > (145 + (3/2*(145-80)))\n",
    "df[outliars].index"
   ]
  },
  {
   "cell_type": "code",
   "execution_count": 28,
   "id": "513e02ed-55ee-40ec-99ca-94aa92bd4470",
   "metadata": {},
   "outputs": [],
   "source": [
    "# drop outlier \"m²\" values\n",
    "df = df.drop(df[outliars].index, axis=0)\n",
    "\n",
    "# Reindex index column. \n",
    "df[''] = np.arange(len(df))\n",
    "df = df.set_index('')"
   ]
  },
  {
   "cell_type": "code",
   "execution_count": null,
   "id": "98b701a5-e6bf-4f55-b4fb-48b5fbe9ed7c",
   "metadata": {},
   "outputs": [],
   "source": []
  },
  {
   "cell_type": "code",
   "execution_count": 29,
   "id": "e3da2253-76e4-4470-97ef-7cef212893d5",
   "metadata": {},
   "outputs": [
    {
     "data": {
      "text/plain": [
       "<Axes: xlabel='m²'>"
      ]
     },
     "execution_count": 29,
     "metadata": {},
     "output_type": "execute_result"
    },
    {
     "data": {
      "image/png": "[encoded data removed]",
      "text/plain": [
       "<Figure size 640x480 with 1 Axes>"
      ]
     },
     "metadata": {},
     "output_type": "display_data"
    }
   ],
   "source": [
    "# wiew outliars m² in seaborn boxplot again.\n",
    "m = df[\"m²\"]\n",
    "sns.boxplot(x = m)"
   ]
  },
  {
   "cell_type": "code",
   "execution_count": 30,
   "id": "71ed7c05-fb06-4445-b0d2-177ee219feaa",
   "metadata": {},
   "outputs": [
    {
     "data": {
      "text/html": [
       "<div>\n",
       "<style scoped>\n",
       "    .dataframe tbody tr th:only-of-type {\n",
       "        vertical-align: middle;\n",
       "    }\n",
       "\n",
       "    .dataframe tbody tr th {\n",
       "        vertical-align: top;\n",
       "    }\n",
       "\n",
       "    .dataframe thead th {\n",
       "        text-align: right;\n",
       "    }\n",
       "</style>\n",
       "<table border=\"1\" class=\"dataframe\">\n",
       "  <thead>\n",
       "    <tr style=\"text-align: right;\">\n",
       "      <th></th>\n",
       "      <th>count</th>\n",
       "      <th>mean</th>\n",
       "      <th>std</th>\n",
       "      <th>min</th>\n",
       "      <th>25%</th>\n",
       "      <th>50%</th>\n",
       "      <th>75%</th>\n",
       "      <th>max</th>\n",
       "    </tr>\n",
       "  </thead>\n",
       "  <tbody>\n",
       "    <tr>\n",
       "      <th>m²</th>\n",
       "      <td>32297.0</td>\n",
       "      <td>113.922532</td>\n",
       "      <td>4.376906e+01</td>\n",
       "      <td>2.000000e+01</td>\n",
       "      <td>80.0</td>\n",
       "      <td>110.0</td>\n",
       "      <td>140.0</td>\n",
       "      <td>242.0</td>\n",
       "    </tr>\n",
       "    <tr>\n",
       "      <th>price</th>\n",
       "      <td>32297.0</td>\n",
       "      <td>-8542.597362</td>\n",
       "      <td>9.447729e+06</td>\n",
       "      <td>-1.694967e+09</td>\n",
       "      <td>10000.0</td>\n",
       "      <td>13500.0</td>\n",
       "      <td>18500.0</td>\n",
       "      <td>49000000.0</td>\n",
       "    </tr>\n",
       "  </tbody>\n",
       "</table>\n",
       "</div>"
      ],
      "text/plain": [
       "         count         mean           std           min      25%      50%  \\\n",
       "m²     32297.0   113.922532  4.376906e+01  2.000000e+01     80.0    110.0   \n",
       "price  32297.0 -8542.597362  9.447729e+06 -1.694967e+09  10000.0  13500.0   \n",
       "\n",
       "           75%         max  \n",
       "m²       140.0       242.0  \n",
       "price  18500.0  49000000.0  "
      ]
     },
     "execution_count": 30,
     "metadata": {},
     "output_type": "execute_result"
    }
   ],
   "source": [
    "df.describe().T"
   ]
  },
  {
   "cell_type": "code",
   "execution_count": 31,
   "id": "7bafff80-5ef0-40f8-88f8-0d4cbc4bca53",
   "metadata": {},
   "outputs": [],
   "source": [
    "# learn index of m² outliars\n",
    "outliars = df[\"m²\"] > (140 + (3/2*(140-80)))\n",
    "\n",
    "# drop outliers \"m²\" again.\n",
    "df = df.drop(df[outliars].index, axis=0)\n",
    "\n",
    "df[''] = np.arange(len(df))\n",
    "df = df.set_index('')"
   ]
  },
  {
   "cell_type": "code",
   "execution_count": 32,
   "id": "f6958d92-b4a0-45dd-94b8-b7c1bf871c09",
   "metadata": {},
   "outputs": [
    {
     "data": {
      "text/plain": [
       "<Axes: xlabel='m²'>"
      ]
     },
     "execution_count": 32,
     "metadata": {},
     "output_type": "execute_result"
    },
    {
     "data": {
      "image/png": "[encoded data removed]",
      "text/plain": [
       "<Figure size 640x480 with 1 Axes>"
      ]
     },
     "metadata": {},
     "output_type": "display_data"
    }
   ],
   "source": [
    "# wiew m² outliars in seaborn boxplot \n",
    "m = df[\"m²\"]\n",
    "sns.boxplot(x = m)"
   ]
  },
  {
   "cell_type": "code",
   "execution_count": null,
   "id": "2d3deeaa-b3bd-4b43-8af8-7b55dd81d0ad",
   "metadata": {},
   "outputs": [],
   "source": []
  },
  {
   "cell_type": "code",
   "execution_count": 33,
   "id": "9537a176-d47c-4846-85e6-63dfc85f509e",
   "metadata": {
    "tags": []
   },
   "outputs": [],
   "source": [
    "# Deleting outlier \"price\" values.\n",
    "# Drop outlier \"price\" values between 2000 and 75000 for now...\n",
    "# if \"price\">75000 or \"price\"<2000 drop that row.\n",
    "\n",
    "for i in range(len(df)):\n",
    "    if df[\"price\"][i]>75000 or df[\"price\"][i]<2000:\n",
    "        df = df.drop(i, axis=0)\n",
    "        \n",
    "df[''] = np.arange(len(df))\n",
    "df = df.set_index('')"
   ]
  },
  {
   "cell_type": "code",
   "execution_count": 34,
   "id": "e81ef481-c59e-4a60-8514-74b135f3fe5e",
   "metadata": {},
   "outputs": [
    {
     "data": {
      "text/html": [
       "<div>\n",
       "<style scoped>\n",
       "    .dataframe tbody tr th:only-of-type {\n",
       "        vertical-align: middle;\n",
       "    }\n",
       "\n",
       "    .dataframe tbody tr th {\n",
       "        vertical-align: top;\n",
       "    }\n",
       "\n",
       "    .dataframe thead th {\n",
       "        text-align: right;\n",
       "    }\n",
       "</style>\n",
       "<table border=\"1\" class=\"dataframe\">\n",
       "  <thead>\n",
       "    <tr style=\"text-align: right;\">\n",
       "      <th></th>\n",
       "      <th>count</th>\n",
       "      <th>mean</th>\n",
       "      <th>std</th>\n",
       "      <th>min</th>\n",
       "      <th>25%</th>\n",
       "      <th>50%</th>\n",
       "      <th>75%</th>\n",
       "      <th>max</th>\n",
       "    </tr>\n",
       "  </thead>\n",
       "  <tbody>\n",
       "    <tr>\n",
       "      <th>m²</th>\n",
       "      <td>29861.0</td>\n",
       "      <td>113.667057</td>\n",
       "      <td>41.514222</td>\n",
       "      <td>20.0</td>\n",
       "      <td>85.0</td>\n",
       "      <td>110.0</td>\n",
       "      <td>140.0</td>\n",
       "      <td>230.0</td>\n",
       "    </tr>\n",
       "    <tr>\n",
       "      <th>price</th>\n",
       "      <td>29861.0</td>\n",
       "      <td>15412.878169</td>\n",
       "      <td>9355.479629</td>\n",
       "      <td>2000.0</td>\n",
       "      <td>10000.0</td>\n",
       "      <td>13500.0</td>\n",
       "      <td>18000.0</td>\n",
       "      <td>75000.0</td>\n",
       "    </tr>\n",
       "  </tbody>\n",
       "</table>\n",
       "</div>"
      ],
      "text/plain": [
       "         count          mean          std     min      25%      50%      75%  \\\n",
       "m²     29861.0    113.667057    41.514222    20.0     85.0    110.0    140.0   \n",
       "price  29861.0  15412.878169  9355.479629  2000.0  10000.0  13500.0  18000.0   \n",
       "\n",
       "           max  \n",
       "m²       230.0  \n",
       "price  75000.0  "
      ]
     },
     "execution_count": 34,
     "metadata": {},
     "output_type": "execute_result"
    }
   ],
   "source": [
    "df.describe().T"
   ]
  },
  {
   "cell_type": "code",
   "execution_count": null,
   "id": "ae4b643d-d79f-477a-bd18-06cab4dd7896",
   "metadata": {},
   "outputs": [],
   "source": []
  },
  {
   "cell_type": "code",
   "execution_count": 35,
   "id": "07642d7f-87bf-4c05-9f1c-12ec4dc4f13e",
   "metadata": {},
   "outputs": [
    {
     "data": {
      "text/html": [
       "<div>\n",
       "<style scoped>\n",
       "    .dataframe tbody tr th:only-of-type {\n",
       "        vertical-align: middle;\n",
       "    }\n",
       "\n",
       "    .dataframe tbody tr th {\n",
       "        vertical-align: top;\n",
       "    }\n",
       "\n",
       "    .dataframe thead th {\n",
       "        text-align: right;\n",
       "    }\n",
       "</style>\n",
       "<table border=\"1\" class=\"dataframe\">\n",
       "  <thead>\n",
       "    <tr style=\"text-align: right;\">\n",
       "      <th></th>\n",
       "      <th>city</th>\n",
       "      <th>district</th>\n",
       "      <th>neighborhood</th>\n",
       "      <th>room</th>\n",
       "      <th>m²</th>\n",
       "      <th>price</th>\n",
       "    </tr>\n",
       "    <tr>\n",
       "      <th></th>\n",
       "      <th></th>\n",
       "      <th></th>\n",
       "      <th></th>\n",
       "      <th></th>\n",
       "      <th></th>\n",
       "      <th></th>\n",
       "    </tr>\n",
       "  </thead>\n",
       "  <tbody>\n",
       "    <tr>\n",
       "      <th>0</th>\n",
       "      <td>Adana</td>\n",
       "      <td>Ceyhan</td>\n",
       "      <td>Cumhuriyet</td>\n",
       "      <td>2+1</td>\n",
       "      <td>130</td>\n",
       "      <td>7000</td>\n",
       "    </tr>\n",
       "    <tr>\n",
       "      <th>1</th>\n",
       "      <td>Adana</td>\n",
       "      <td>Ceyhan</td>\n",
       "      <td>Cumhuriyet</td>\n",
       "      <td>4+1</td>\n",
       "      <td>180</td>\n",
       "      <td>12000</td>\n",
       "    </tr>\n",
       "    <tr>\n",
       "      <th>2</th>\n",
       "      <td>Adana</td>\n",
       "      <td>Ceyhan</td>\n",
       "      <td>Cumhuriyet</td>\n",
       "      <td>2+1</td>\n",
       "      <td>115</td>\n",
       "      <td>7250</td>\n",
       "    </tr>\n",
       "    <tr>\n",
       "      <th>3</th>\n",
       "      <td>Adana</td>\n",
       "      <td>Ceyhan</td>\n",
       "      <td>Hürriyet</td>\n",
       "      <td>3+1</td>\n",
       "      <td>185</td>\n",
       "      <td>11500</td>\n",
       "    </tr>\n",
       "    <tr>\n",
       "      <th>4</th>\n",
       "      <td>Adana</td>\n",
       "      <td>Ceyhan</td>\n",
       "      <td>Ulus</td>\n",
       "      <td>3+1</td>\n",
       "      <td>165</td>\n",
       "      <td>9000</td>\n",
       "    </tr>\n",
       "  </tbody>\n",
       "</table>\n",
       "</div>"
      ],
      "text/plain": [
       "    city district neighborhood room   m²  price\n",
       "                                               \n",
       "0  Adana   Ceyhan   Cumhuriyet  2+1  130   7000\n",
       "1  Adana   Ceyhan   Cumhuriyet  4+1  180  12000\n",
       "2  Adana   Ceyhan   Cumhuriyet  2+1  115   7250\n",
       "3  Adana   Ceyhan     Hürriyet  3+1  185  11500\n",
       "4  Adana   Ceyhan         Ulus  3+1  165   9000"
      ]
     },
     "execution_count": 35,
     "metadata": {},
     "output_type": "execute_result"
    }
   ],
   "source": [
    "# sort columns\n",
    "df = df.reindex([\"city\", \"district\", \"neighborhood\", \"room\", \"m²\", \"price\"], axis=1)\n",
    "df.head()"
   ]
  },
  {
   "cell_type": "code",
   "execution_count": 37,
   "id": "c5e8d8fe-8708-4780-aba7-e72e14a67717",
   "metadata": {},
   "outputs": [],
   "source": [
    "# replace \"Stüdyo\" to \"1+0\"\n",
    "for i in range(len(df)):\n",
    "    if df[\"room\"][i]==\"Stüdyo\":\n",
    "        df[\"room\"][i]=\"1+0\""
   ]
  },
  {
   "cell_type": "code",
   "execution_count": 38,
   "id": "722b2dde-04a7-4e5f-a6cc-3af11d049230",
   "metadata": {},
   "outputs": [],
   "source": [
    "# Drop room numbers that not important like \"2.5+1\", \"5+1\", \"2+0\"\n",
    "for i in range(len(df)):\n",
    "    if df[\"room\"][i] not in [\"1+0\", \"1+1\", \"2+1\", \"3+1\", \"4+1\"]:\n",
    "        df = df.drop(i, axis=0)\n",
    "        \n",
    "df[''] = np.arange(len(df))\n",
    "df = df.set_index('')"
   ]
  },
  {
   "cell_type": "code",
   "execution_count": 39,
   "id": "819a38b7-f39c-4d41-8d3f-470cb58e4af4",
   "metadata": {},
   "outputs": [
    {
     "data": {
      "text/plain": [
       "28577"
      ]
     },
     "execution_count": 39,
     "metadata": {},
     "output_type": "execute_result"
    }
   ],
   "source": [
    "len(df)"
   ]
  },
  {
   "cell_type": "code",
   "execution_count": 40,
   "id": "4675e127-1eac-438c-910e-40ec1469db93",
   "metadata": {},
   "outputs": [],
   "source": [
    "df1 = df.copy()"
   ]
  },
  {
   "cell_type": "code",
   "execution_count": 41,
   "id": "21bbd0a7-64c2-4fe9-a42b-8b13bb48ec83",
   "metadata": {},
   "outputs": [],
   "source": [
    "df.to_excel(\"adverts1-1.xlsx\")"
   ]
  },
  {
   "cell_type": "code",
   "execution_count": null,
   "id": "b8f8c41e-8e4f-4254-a986-0e2bc91e4c0e",
   "metadata": {},
   "outputs": [],
   "source": []
  },
  {
   "cell_type": "markdown",
   "id": "435e337f-5d1c-426c-8ada-9ce3cd23755f",
   "metadata": {},
   "source": [
    "### Cleaning some outlier 'm²' values"
   ]
  },
  {
   "cell_type": "code",
   "execution_count": 115,
   "id": "58ee9cab-5eb6-4194-b2fc-8feda55ff0eb",
   "metadata": {},
   "outputs": [
    {
     "data": {
      "text/plain": [
       "count    555.000000\n",
       "mean      44.863063\n",
       "std       18.345540\n",
       "min       20.000000\n",
       "25%       35.000000\n",
       "50%       40.000000\n",
       "75%       54.000000\n",
       "max      220.000000\n",
       "Name: m², dtype: float64"
      ]
     },
     "execution_count": 115,
     "metadata": {},
     "output_type": "execute_result"
    },
    {
     "data": {
      "image/png": "[encoded data removed]",
      "text/plain": [
       "<Figure size 640x480 with 1 Axes>"
      ]
     },
     "metadata": {},
     "output_type": "display_data"
    }
   ],
   "source": [
    "# wiew and drop outliar \"m²\" for \"1+0\" room type\n",
    "room0 = df[df[\"room\"]==\"1+0\"]\n",
    "\n",
    "sns.boxplot(x = room0[\"m²\"])\n",
    "room0[\"m²\"].describe()"
   ]
  },
  {
   "cell_type": "code",
   "execution_count": 116,
   "id": "038ebf33-7a36-405f-97ad-9542038a60eb",
   "metadata": {},
   "outputs": [
    {
     "data": {
      "text/plain": [
       "Int64Index([ 1261,  5982,  6089, 11209, 11575, 11576, 12986, 16249, 16250,\n",
       "            16666, 17482, 17504, 17546, 18290, 20029, 20423, 22904, 22906,\n",
       "            24775, 26840, 28142],\n",
       "           dtype='int64', name='')"
      ]
     },
     "execution_count": 116,
     "metadata": {},
     "output_type": "execute_result"
    }
   ],
   "source": [
    "outliars = room0[\"m²\"]> 54 + 3/2*(54-35)\n",
    "room0[outliars].index"
   ]
  },
  {
   "cell_type": "code",
   "execution_count": 117,
   "id": "6f0926a1-df27-41d6-ac6f-068b85953b6e",
   "metadata": {},
   "outputs": [],
   "source": [
    "df = df.drop(room0[outliars].index, axis=0)\n",
    "df[\"\"]= np.arange(len(df))\n",
    "df = df.set_index(\"\")"
   ]
  },
  {
   "cell_type": "code",
   "execution_count": null,
   "id": "39fbe27f-6d93-4c6d-bd5d-41ff6e4b1e8b",
   "metadata": {},
   "outputs": [],
   "source": []
  },
  {
   "cell_type": "code",
   "execution_count": 120,
   "id": "32b2886e-9222-4705-a45f-e6837e75fd7c",
   "metadata": {},
   "outputs": [
    {
     "data": {
      "text/plain": [
       "count    5463.000000\n",
       "mean       66.308805\n",
       "std        16.355970\n",
       "min        20.000000\n",
       "25%        55.000000\n",
       "50%        65.000000\n",
       "75%        75.000000\n",
       "max       225.000000\n",
       "Name: m², dtype: float64"
      ]
     },
     "execution_count": 120,
     "metadata": {},
     "output_type": "execute_result"
    },
    {
     "data": {
      "image/png": "[encoded data removed]",
      "text/plain": [
       "<Figure size 640x480 with 1 Axes>"
      ]
     },
     "metadata": {},
     "output_type": "display_data"
    }
   ],
   "source": [
    "# wiew and drop outliar \"m²\" for \"1+1\" room type\n",
    "room1 = df[df[\"room\"]==\"1+1\"]\n",
    "\n",
    "sns.boxplot(x = room1[\"m²\"])\n",
    "room1[\"m²\"].describe()"
   ]
  },
  {
   "cell_type": "code",
   "execution_count": 121,
   "id": "fa9b66eb-98b3-4ec7-99bc-aea629326c6c",
   "metadata": {},
   "outputs": [],
   "source": [
    "outliars = room1[room1[\"m²\"] > 75 + 3/2*(75-55)].index\n",
    "outliars2 = room1[room1[\"m²\"] < 55 - 3/2*(75-55)].index\n",
    "o = outliars.append(outliars2)\n",
    "\n",
    "df = df.drop(o, axis=0)\n",
    "df[\"\"]= np.arange(len(df))\n",
    "df = df.set_index(\"\")"
   ]
  },
  {
   "cell_type": "code",
   "execution_count": null,
   "id": "006b815e-3cfb-4dba-bfb4-005d89809882",
   "metadata": {},
   "outputs": [],
   "source": []
  },
  {
   "cell_type": "code",
   "execution_count": 122,
   "id": "83997c35-1296-4dba-b8e7-38b73ec60f08",
   "metadata": {},
   "outputs": [
    {
     "data": {
      "text/plain": [
       "count    10533.000000\n",
       "mean       101.444033\n",
       "std         20.839024\n",
       "min         30.000000\n",
       "25%         90.000000\n",
       "50%        100.000000\n",
       "75%        110.000000\n",
       "max        230.000000\n",
       "Name: m², dtype: float64"
      ]
     },
     "execution_count": 122,
     "metadata": {},
     "output_type": "execute_result"
    },
    {
     "data": {
      "image/png": "[encoded data removed]",
      "text/plain": [
       "<Figure size 640x480 with 1 Axes>"
      ]
     },
     "metadata": {},
     "output_type": "display_data"
    }
   ],
   "source": [
    "# wiew and drop outliar \"m²\" for \"2+1\" room type\n",
    "room2 = df[df[\"room\"]==\"2+1\"]\n",
    "\n",
    "sns.boxplot(x = room2[\"m²\"])\n",
    "room2[\"m²\"].describe()"
   ]
  },
  {
   "cell_type": "code",
   "execution_count": 123,
   "id": "eff0b587-61b0-4e7e-832c-12d6672f0fe1",
   "metadata": {},
   "outputs": [],
   "source": [
    "outliars = room2[room2[\"m²\"] > 110 + 3/2*(110-90)].index\n",
    "outliars2 = room2[room2[\"m²\"] < 90 - 3/2*(110-90)].index\n",
    "o = outliars.append(outliars2)\n",
    "\n",
    "df = df.drop(o, axis=0)\n",
    "df[\"\"]= np.arange(len(df))\n",
    "df = df.set_index(\"\")"
   ]
  },
  {
   "cell_type": "code",
   "execution_count": null,
   "id": "1da5e472-1002-43d4-a7b0-67e4aa538bca",
   "metadata": {},
   "outputs": [],
   "source": []
  },
  {
   "cell_type": "code",
   "execution_count": 124,
   "id": "5f2e908c-b9fe-4705-9a1d-0c0e61029bd8",
   "metadata": {},
   "outputs": [
    {
     "data": {
      "text/plain": [
       "count    10621.000000\n",
       "mean       143.297241\n",
       "std         24.128487\n",
       "min         20.000000\n",
       "25%        125.000000\n",
       "50%        140.000000\n",
       "75%        160.000000\n",
       "max        230.000000\n",
       "Name: m², dtype: float64"
      ]
     },
     "execution_count": 124,
     "metadata": {},
     "output_type": "execute_result"
    },
    {
     "data": {
      "image/png": "[encoded data removed]",
      "text/plain": [
       "<Figure size 640x480 with 1 Axes>"
      ]
     },
     "metadata": {},
     "output_type": "display_data"
    }
   ],
   "source": [
    "# wiew and drop outliar \"m²\" for \"3+1\" room type\n",
    "room3 = df[df[\"room\"]==\"3+1\"]\n",
    "\n",
    "sns.boxplot(x = room3[\"m²\"])\n",
    "room3[\"m²\"].describe()"
   ]
  },
  {
   "cell_type": "code",
   "execution_count": 125,
   "id": "dcc65006-73d4-49c5-b7ec-12a619fd7a3f",
   "metadata": {},
   "outputs": [],
   "source": [
    "outliars = room3[room3[\"m²\"] > 160+3/2*(160-125)].index\n",
    "outliars2 = room3[room3[\"m²\"] < 125-3/2*(160-125)].index\n",
    "o = outliars.append(outliars2)\n",
    "\n",
    "df = df.drop(o, axis=0)\n",
    "df[\"\"]= np.arange(len(df))\n",
    "df = df.set_index(\"\")"
   ]
  },
  {
   "cell_type": "code",
   "execution_count": null,
   "id": "ea5a6e87-1ea0-4c1e-b95a-c09789a45752",
   "metadata": {},
   "outputs": [],
   "source": []
  },
  {
   "cell_type": "code",
   "execution_count": 127,
   "id": "d909d67b-9ee8-445e-ae58-5b1d26804d16",
   "metadata": {},
   "outputs": [
    {
     "data": {
      "text/plain": [
       "count    1405.000000\n",
       "mean      185.887544\n",
       "std        26.717716\n",
       "min        35.000000\n",
       "25%       170.000000\n",
       "50%       185.000000\n",
       "75%       205.000000\n",
       "max       230.000000\n",
       "Name: m², dtype: float64"
      ]
     },
     "execution_count": 127,
     "metadata": {},
     "output_type": "execute_result"
    },
    {
     "data": {
      "image/png": "[encoded data removed]",
      "text/plain": [
       "<Figure size 640x480 with 1 Axes>"
      ]
     },
     "metadata": {},
     "output_type": "display_data"
    }
   ],
   "source": [
    "# wiew and drop outliar \"m²\" for \"4+1\" room type\n",
    "room4 = df[df[\"room\"]==\"4+1\"]\n",
    "\n",
    "sns.boxplot(x = room4[\"m²\"])\n",
    "room4[\"m²\"].describe()"
   ]
  },
  {
   "cell_type": "code",
   "execution_count": 128,
   "id": "2aedd712-80b1-48c1-8b78-91040fddabd9",
   "metadata": {},
   "outputs": [],
   "source": [
    "outliars = room4[room4[\"m²\"] < 170-3/2*(205-170)].index\n",
    "\n",
    "df = df.drop(outliars, axis=0)\n",
    "df[\"\"]= np.arange(len(df))\n",
    "df = df.set_index(\"\")"
   ]
  },
  {
   "cell_type": "code",
   "execution_count": 129,
   "id": "9f96956c-7c21-4ab1-becf-96646e1f7b45",
   "metadata": {},
   "outputs": [
    {
     "data": {
      "text/plain": [
       "27868"
      ]
     },
     "execution_count": 129,
     "metadata": {},
     "output_type": "execute_result"
    }
   ],
   "source": [
    "len(df)"
   ]
  },
  {
   "cell_type": "code",
   "execution_count": 130,
   "id": "b7090b52-b4d7-468e-bac8-42f77f29fa23",
   "metadata": {},
   "outputs": [],
   "source": [
    "df2=df"
   ]
  },
  {
   "cell_type": "markdown",
   "id": "f3425510-4cfd-40dc-880f-50192c1147af",
   "metadata": {},
   "source": [
    "### Cleaning some outlier \"prices\""
   ]
  },
  {
   "cell_type": "code",
   "execution_count": 131,
   "id": "19cf4886-4527-4d23-9dde-29ce95d47e63",
   "metadata": {},
   "outputs": [
    {
     "data": {
      "text/plain": [
       "count      534.000000\n",
       "mean      9430.335206\n",
       "std       5835.686519\n",
       "min       2000.000000\n",
       "25%       5000.000000\n",
       "50%       8000.000000\n",
       "75%      12000.000000\n",
       "max      50000.000000\n",
       "Name: price, dtype: float64"
      ]
     },
     "execution_count": 131,
     "metadata": {},
     "output_type": "execute_result"
    },
    {
     "data": {
      "image/png": "[encoded data removed]",
      "text/plain": [
       "<Figure size 640x480 with 1 Axes>"
      ]
     },
     "metadata": {},
     "output_type": "display_data"
    }
   ],
   "source": [
    "# wiew and drop \"price\" outliars for \"1+0\" room type\n",
    "room0 = df[df[\"room\"]==\"1+0\"]\n",
    "price0 = room0[\"price\"]\n",
    "\n",
    "sns.boxplot(x = price0)\n",
    "price0.describe()"
   ]
  },
  {
   "cell_type": "code",
   "execution_count": 132,
   "id": "e6d5724b-a554-42c9-99fb-25dbc6049e5e",
   "metadata": {},
   "outputs": [],
   "source": [
    "outliars = price0[price0>12000+3/2*(12000-5000)].index\n",
    "\n",
    "df = df.drop(outliars, axis=0)\n",
    "df[\"\"] = np.arange(len(df))\n",
    "df = df.set_index(\"\")"
   ]
  },
  {
   "cell_type": "code",
   "execution_count": null,
   "id": "05d8c49d-c464-4749-bde8-6454411060ac",
   "metadata": {},
   "outputs": [],
   "source": []
  },
  {
   "cell_type": "code",
   "execution_count": 133,
   "id": "15224196-eb06-4301-9169-cb0100064a87",
   "metadata": {},
   "outputs": [
    {
     "data": {
      "text/plain": [
       "count     5337.000000\n",
       "mean     12566.709762\n",
       "std       7441.811615\n",
       "min       2000.000000\n",
       "25%       8000.000000\n",
       "50%      11000.000000\n",
       "75%      15000.000000\n",
       "max      75000.000000\n",
       "Name: price, dtype: float64"
      ]
     },
     "execution_count": 133,
     "metadata": {},
     "output_type": "execute_result"
    },
    {
     "data": {
      "image/png": "[encoded data removed]",
      "text/plain": [
       "<Figure size 640x480 with 1 Axes>"
      ]
     },
     "metadata": {},
     "output_type": "display_data"
    }
   ],
   "source": [
    "# wiew and drop \"price\" outliars for \"1+1\" room type\n",
    "room1 = df[df[\"room\"]==\"1+1\"]\n",
    "price1 = room1[\"price\"]\n",
    "\n",
    "sns.boxplot(x = price1)\n",
    "price1.describe()"
   ]
  },
  {
   "cell_type": "code",
   "execution_count": 134,
   "id": "727549cf-b83b-4b77-ac46-2777ddaa6540",
   "metadata": {},
   "outputs": [],
   "source": [
    "outliars = price1[price1>15000+5/2*(15000-8000)].index\n",
    "\n",
    "df = df.drop(outliars, axis=0)\n",
    "df[\"\"] = np.arange(len(df))\n",
    "df = df.set_index(\"\")"
   ]
  },
  {
   "cell_type": "code",
   "execution_count": null,
   "id": "bd657bf2-5425-4c44-a245-545be3101b96",
   "metadata": {},
   "outputs": [],
   "source": []
  },
  {
   "cell_type": "code",
   "execution_count": 136,
   "id": "2e39b3bf-c6da-4c6c-9a7d-45644ece703b",
   "metadata": {},
   "outputs": [
    {
     "data": {
      "text/plain": [
       "count    10077.000000\n",
       "mean     15180.284013\n",
       "std       8612.151401\n",
       "min       2000.000000\n",
       "25%      10000.000000\n",
       "50%      13500.000000\n",
       "75%      17500.000000\n",
       "max      75000.000000\n",
       "Name: price, dtype: float64"
      ]
     },
     "execution_count": 136,
     "metadata": {},
     "output_type": "execute_result"
    },
    {
     "data": {
      "image/png": "[encoded data removed]",
      "text/plain": [
       "<Figure size 640x480 with 1 Axes>"
      ]
     },
     "metadata": {},
     "output_type": "display_data"
    }
   ],
   "source": [
    "# wiew and drop \"price\" outliars for \"2+1\" room type\n",
    "room2 = df[df[\"room\"]==\"2+1\"]\n",
    "price2 = room2[\"price\"]\n",
    "\n",
    "sns.boxplot(x = price2)\n",
    "price2.describe()"
   ]
  },
  {
   "cell_type": "code",
   "execution_count": null,
   "id": "6f337316-36bc-4534-8c81-99c270130263",
   "metadata": {},
   "outputs": [],
   "source": [
    "outliars = price2[price2>17500+5/2*(17500-10000)].index\n",
    "\n",
    "df = df.drop(outliars, axis=0)\n",
    "df[\"\"] = np.arange(len(df))\n",
    "df = df.set_index(\"\")"
   ]
  },
  {
   "cell_type": "code",
   "execution_count": null,
   "id": "f0a2205e-9d48-48e3-af18-ac4c421c96d5",
   "metadata": {},
   "outputs": [],
   "source": []
  },
  {
   "cell_type": "code",
   "execution_count": 139,
   "id": "7417436e-a882-4df6-8345-d8a8b55da903",
   "metadata": {},
   "outputs": [
    {
     "data": {
      "text/plain": [
       "count    10524.000000\n",
       "mean     16231.013968\n",
       "std       9284.797375\n",
       "min       2000.000000\n",
       "25%      11000.000000\n",
       "50%      14000.000000\n",
       "75%      18500.000000\n",
       "max      75000.000000\n",
       "Name: price, dtype: float64"
      ]
     },
     "execution_count": 139,
     "metadata": {},
     "output_type": "execute_result"
    },
    {
     "data": {
      "image/png": "[encoded data removed]",
      "text/plain": [
       "<Figure size 640x480 with 1 Axes>"
      ]
     },
     "metadata": {},
     "output_type": "display_data"
    }
   ],
   "source": [
    "# wiew and drop \"price\" outliars for \"3+1\" room type\n",
    "room3 = df[df[\"room\"]==\"3+1\"]\n",
    "price3 = room3[\"price\"]\n",
    "\n",
    "sns.boxplot(x = price3)\n",
    "price3.describe()"
   ]
  },
  {
   "cell_type": "code",
   "execution_count": 140,
   "id": "00003969-4826-4553-b92f-f7f1e02e50e8",
   "metadata": {},
   "outputs": [],
   "source": [
    "outliars = price3[price3>18500+3*(18500-11000)].index\n",
    "\n",
    "df = df.drop(outliars, axis=0)\n",
    "df[\"\"] = np.arange(len(df))\n",
    "df = df.set_index(\"\")"
   ]
  },
  {
   "cell_type": "code",
   "execution_count": null,
   "id": "6e5b896a-bcbc-4965-a502-701f194f4914",
   "metadata": {},
   "outputs": [],
   "source": []
  },
  {
   "cell_type": "code",
   "execution_count": 142,
   "id": "22d90e97-2031-4d95-9e23-535ab4169f20",
   "metadata": {},
   "outputs": [
    {
     "data": {
      "text/plain": [
       "count     1396.000000\n",
       "mean     21112.977794\n",
       "std      11411.484635\n",
       "min       2000.000000\n",
       "25%      14000.000000\n",
       "50%      18500.000000\n",
       "75%      25000.000000\n",
       "max      75000.000000\n",
       "Name: price, dtype: float64"
      ]
     },
     "execution_count": 142,
     "metadata": {},
     "output_type": "execute_result"
    },
    {
     "data": {
      "image/png": "[encoded data removed]",
      "text/plain": [
       "<Figure size 640x480 with 1 Axes>"
      ]
     },
     "metadata": {},
     "output_type": "display_data"
    }
   ],
   "source": [
    "# wiew and drop \"price\" outliars for \"4+1\" room type\n",
    "room4 = df[df[\"room\"]==\"4+1\"]\n",
    "price4 = room4[\"price\"]\n",
    "\n",
    "sns.boxplot(x = price4)\n",
    "price4.describe()"
   ]
  },
  {
   "cell_type": "code",
   "execution_count": 143,
   "id": "99f859a9-894b-4414-bc75-0faee101255b",
   "metadata": {},
   "outputs": [],
   "source": [
    "outliars = price4[price4>25000+3*(25000-14000)].index\n",
    "\n",
    "df = df.drop(outliars, axis=0)\n",
    "df[\"\"] = np.arange(len(df))\n",
    "df = df.set_index(\"\")"
   ]
  },
  {
   "cell_type": "code",
   "execution_count": 145,
   "id": "beb45a5c-4c03-43ab-b6f5-51504f6201e6",
   "metadata": {},
   "outputs": [
    {
     "data": {
      "text/plain": [
       "27118"
      ]
     },
     "execution_count": 145,
     "metadata": {},
     "output_type": "execute_result"
    }
   ],
   "source": [
    "len(df)"
   ]
  },
  {
   "cell_type": "code",
   "execution_count": 146,
   "id": "ba8fed0b-855c-4826-8be6-44e58faa00e9",
   "metadata": {},
   "outputs": [],
   "source": [
    "# save dataframe to excel\n",
    "df.to_excel(\"adverts1-2.xlsx\")"
   ]
  },
  {
   "cell_type": "code",
   "execution_count": 147,
   "id": "a7b3599f-5a99-4add-bc64-6ab98fbf185f",
   "metadata": {},
   "outputs": [],
   "source": [
    "df3 = df"
   ]
  },
  {
   "cell_type": "code",
   "execution_count": null,
   "id": "365020ad-2205-49b4-9cb0-52a2c231380b",
   "metadata": {},
   "outputs": [],
   "source": []
  },
  {
   "cell_type": "markdown",
   "id": "60ccfefb-aab3-43c6-a467-1bdcc0d817da",
   "metadata": {},
   "source": [
    "# 3- Visualization"
   ]
  },
  {
   "cell_type": "code",
   "execution_count": 150,
   "id": "b47fc82f-d3f6-47fd-9fb4-25b5a8618418",
   "metadata": {},
   "outputs": [],
   "source": [
    "import pandas as pd\n",
    "import numpy as np\n",
    "import matplotlib.pyplot as plt"
   ]
  },
  {
   "cell_type": "code",
   "execution_count": 158,
   "id": "f743c6cd-201c-4e51-bf44-c7df1b55525f",
   "metadata": {},
   "outputs": [
    {
     "data": {
      "text/html": [
       "<div>\n",
       "<style scoped>\n",
       "    .dataframe tbody tr th:only-of-type {\n",
       "        vertical-align: middle;\n",
       "    }\n",
       "\n",
       "    .dataframe tbody tr th {\n",
       "        vertical-align: top;\n",
       "    }\n",
       "\n",
       "    .dataframe thead th {\n",
       "        text-align: right;\n",
       "    }\n",
       "</style>\n",
       "<table border=\"1\" class=\"dataframe\">\n",
       "  <thead>\n",
       "    <tr style=\"text-align: right;\">\n",
       "      <th></th>\n",
       "      <th>Unnamed: 0</th>\n",
       "      <th>city</th>\n",
       "      <th>district</th>\n",
       "      <th>neighborhood</th>\n",
       "      <th>room</th>\n",
       "      <th>m²</th>\n",
       "      <th>price</th>\n",
       "    </tr>\n",
       "  </thead>\n",
       "  <tbody>\n",
       "    <tr>\n",
       "      <th>0</th>\n",
       "      <td>0</td>\n",
       "      <td>Adana</td>\n",
       "      <td>Ceyhan</td>\n",
       "      <td>Cumhuriyet</td>\n",
       "      <td>2+1</td>\n",
       "      <td>130</td>\n",
       "      <td>7000</td>\n",
       "    </tr>\n",
       "    <tr>\n",
       "      <th>1</th>\n",
       "      <td>1</td>\n",
       "      <td>Adana</td>\n",
       "      <td>Ceyhan</td>\n",
       "      <td>Cumhuriyet</td>\n",
       "      <td>4+1</td>\n",
       "      <td>180</td>\n",
       "      <td>12000</td>\n",
       "    </tr>\n",
       "    <tr>\n",
       "      <th>2</th>\n",
       "      <td>2</td>\n",
       "      <td>Adana</td>\n",
       "      <td>Ceyhan</td>\n",
       "      <td>Cumhuriyet</td>\n",
       "      <td>2+1</td>\n",
       "      <td>115</td>\n",
       "      <td>7250</td>\n",
       "    </tr>\n",
       "    <tr>\n",
       "      <th>3</th>\n",
       "      <td>3</td>\n",
       "      <td>Adana</td>\n",
       "      <td>Ceyhan</td>\n",
       "      <td>Hürriyet</td>\n",
       "      <td>3+1</td>\n",
       "      <td>185</td>\n",
       "      <td>11500</td>\n",
       "    </tr>\n",
       "    <tr>\n",
       "      <th>4</th>\n",
       "      <td>4</td>\n",
       "      <td>Adana</td>\n",
       "      <td>Ceyhan</td>\n",
       "      <td>Ulus</td>\n",
       "      <td>3+1</td>\n",
       "      <td>165</td>\n",
       "      <td>9000</td>\n",
       "    </tr>\n",
       "  </tbody>\n",
       "</table>\n",
       "</div>"
      ],
      "text/plain": [
       "   Unnamed: 0   city district neighborhood room   m²  price\n",
       "0           0  Adana   Ceyhan   Cumhuriyet  2+1  130   7000\n",
       "1           1  Adana   Ceyhan   Cumhuriyet  4+1  180  12000\n",
       "2           2  Adana   Ceyhan   Cumhuriyet  2+1  115   7250\n",
       "3           3  Adana   Ceyhan     Hürriyet  3+1  185  11500\n",
       "4           4  Adana   Ceyhan         Ulus  3+1  165   9000"
      ]
     },
     "execution_count": 158,
     "metadata": {},
     "output_type": "execute_result"
    }
   ],
   "source": [
    "data = pd.read_excel(\"adverts1-2.xlsx\")\n",
    "df = data.copy()\n",
    "df.head()"
   ]
  },
  {
   "cell_type": "code",
   "execution_count": 159,
   "id": "038840e2-c53e-4133-836f-47f48f38de9d",
   "metadata": {},
   "outputs": [],
   "source": [
    "df = df.drop(\"Unnamed: 0\", axis=1)"
   ]
  },
  {
   "cell_type": "code",
   "execution_count": 152,
   "id": "c8496c53-9139-4784-a729-40808b19ff09",
   "metadata": {},
   "outputs": [
    {
     "data": {
      "image/png": "[encoded data removed]",
      "text/plain": [
       "<Figure size 640x480 with 1 Axes>"
      ]
     },
     "metadata": {},
     "output_type": "display_data"
    }
   ],
   "source": [
    "# average price for each home type in Türkiye\n",
    "y = df.groupby(\"room\")[\"price\"].mean()\n",
    "x = np.array([\"1+0\", \"1+1\", \"2+1\", \"3+1\", \"4+1\"])\n",
    "\n",
    "plt.grid(axis=\"y\")\n",
    "plt.title(\"Average price for each home type in Türkiye\")\n",
    "plt.bar(x,y)\n",
    "plt.show()"
   ]
  },
  {
   "cell_type": "code",
   "execution_count": null,
   "id": "86d06785-3746-47e9-a63d-eea145c6a687",
   "metadata": {},
   "outputs": [],
   "source": []
  },
  {
   "cell_type": "code",
   "execution_count": 153,
   "id": "b241d0a7-29be-48f8-ac3e-d4c732f0c80a",
   "metadata": {},
   "outputs": [
    {
     "data": {
      "image/png": "[encoded data removed]",
      "text/plain": [
       "<Figure size 640x480 with 1 Axes>"
      ]
     },
     "metadata": {},
     "output_type": "display_data"
    }
   ],
   "source": [
    "# average m² for each home type\n",
    "y = df.groupby(\"room\")[\"m²\"].mean()\n",
    "x = np.array([\"1+0\", \"1+1\", \"2+1\", \"3+1\", \"4+1\"])\n",
    "\n",
    "plt.grid()\n",
    "plt.title(\"average m² for each home type\")\n",
    "plt.scatter(x,y, s=50)\n",
    "plt.show()"
   ]
  },
  {
   "cell_type": "code",
   "execution_count": null,
   "id": "c9b5f4e4-94f5-4755-9283-bdfd5bbae553",
   "metadata": {},
   "outputs": [],
   "source": []
  },
  {
   "cell_type": "code",
   "execution_count": 154,
   "id": "8999ba24-af3e-472a-83d7-351e9e4e351b",
   "metadata": {},
   "outputs": [
    {
     "name": "stdout",
     "output_type": "stream",
     "text": [
      "count of 4+1 house: 1369\n",
      "count of 3+1 house: 10236\n",
      "count of 2+1 house: 9778\n",
      "count of 1+1 house: 5225\n",
      "count of 1+0 house: 510\n"
     ]
    }
   ],
   "source": [
    "# count of home type\n",
    "# the code below can also write using 'groupby' method!\n",
    "\n",
    "unique_room_list = df[\"room\"].unique()\n",
    "\n",
    "twoone= [] # mean of \"twoone\" is \"2+1\" house\n",
    "fourone= []\n",
    "treeone= []\n",
    "oneone= []\n",
    "onezero= []\n",
    "\n",
    "for i in range(len(df)):\n",
    "    if unique_room_list[0] == df[\"room\"][i]:\n",
    "        twoone.append(df[\"room\"][i])\n",
    "    elif unique_room_list[1] == df[\"room\"][i]:\n",
    "        fourone.append(df[\"room\"][i])\n",
    "    elif unique_room_list[2] == df[\"room\"][i]:\n",
    "        treeone.append(df[\"room\"][i])\n",
    "    elif unique_room_list[3] == df[\"room\"][i]:\n",
    "        oneone.append(df[\"room\"][i])\n",
    "    else:\n",
    "        onezero.append(df[\"room\"][i])\n",
    "\n",
    "print(f\"count of 4+1 house: {len(fourone)}\")\n",
    "print(f\"count of 3+1 house: {len(treeone)}\")\n",
    "print(f\"count of 2+1 house: {len(twoone)}\")\n",
    "print(f\"count of 1+1 house: {len(oneone)}\")\n",
    "print(f\"count of 1+0 house: {len(onezero)}\")"
   ]
  },
  {
   "cell_type": "code",
   "execution_count": 155,
   "id": "9f74ae63-fbd3-4abc-8858-993f2f060520",
   "metadata": {},
   "outputs": [
    {
     "data": {
      "image/png": "[encoded data removed]",
      "text/plain": [
       "<Figure size 640x480 with 1 Axes>"
      ]
     },
     "metadata": {},
     "output_type": "display_data"
    }
   ],
   "source": [
    "# count of home type\n",
    "# determination x and y labels of pie chart \n",
    "x = np.array([\"4+1\", \"3+1\", \"2+1\", \"1+1\", \"1+0\"])\n",
    "y = np.array([len(fourone), len(treeone), len(twoone), len(oneone), len(onezero)])\n",
    "\n",
    "# create pie chart\n",
    "plt.pie(y, labels=x)\n",
    "plt.title(\"count of home type\")\n",
    "plt.show()"
   ]
  },
  {
   "cell_type": "code",
   "execution_count": null,
   "id": "a5ae61f2-6f2b-432a-ab33-4124650aeb93",
   "metadata": {},
   "outputs": [],
   "source": []
  },
  {
   "cell_type": "code",
   "execution_count": 156,
   "id": "0caa414b-b860-4fec-9dba-fb8eed28dc4c",
   "metadata": {},
   "outputs": [
    {
     "data": {
      "image/png": "[encoded data removed]",
      "text/plain": [
       "<Figure size 600x1600 with 1 Axes>"
      ]
     },
     "metadata": {},
     "output_type": "display_data"
    }
   ],
   "source": [
    "# Average of rental house prices for each cities\n",
    "\n",
    "average_prices = df.groupby(\"city\")[\"price\"].mean()\n",
    "y = average_prices.values\n",
    "x = average_prices.index\n",
    "\n",
    "\n",
    "plt.figure(figsize=(6, 16))\n",
    "plt.grid(linewidth=0.4,  axis=\"x\")\n",
    "\n",
    "plt.barh(x, y,  height=0.5,  color=[\"orange\",\"blue\"])\n",
    "\n",
    "plt.title(\"average rent price of each cities\")\n",
    "\n",
    "plt.show()"
   ]
  },
  {
   "cell_type": "code",
   "execution_count": null,
   "id": "759f7817-83ed-4c8d-833d-813ef4a89ce1",
   "metadata": {},
   "outputs": [],
   "source": []
  },
  {
   "cell_type": "code",
   "execution_count": 157,
   "id": "ed513add-f84b-4000-b2c5-45957c1ece32",
   "metadata": {},
   "outputs": [
    {
     "data": {
      "image/png": "[encoded data removed]",
      "text/plain": [
       "<Figure size 1000x1500 with 1 Axes>"
      ]
     },
     "metadata": {},
     "output_type": "display_data"
    }
   ],
   "source": [
    "# count of rental house in logarithmic scale\n",
    "df[\"constant\"] = 1\n",
    "\n",
    "y = df.groupby(\"city\")[\"constant\"].sum()\n",
    "x = pd.DataFrame(y).index\n",
    "\n",
    "plt.figure(figsize=(10, 15))\n",
    "plt.grid(axis=\"x\")\n",
    "plt.xscale(\"log\")\n",
    "\n",
    "plt.barh(x, y, height=0.4,  color=[\"red\",\"y\"])\n",
    "plt.title(\"count of rental house in logarithmic scale\")\n",
    "plt.show()"
   ]
  },
  {
   "cell_type": "code",
   "execution_count": null,
   "id": "9c6ff7d8-8235-4af0-8954-7b5907db46b1",
   "metadata": {},
   "outputs": [],
   "source": []
  },
  {
   "cell_type": "code",
   "execution_count": null,
   "id": "2cef0745-c60b-484d-9805-261b8d45cdec",
   "metadata": {},
   "outputs": [],
   "source": []
  },
  {
   "cell_type": "code",
   "execution_count": null,
   "id": "adf55a1b-7361-4ee5-9f3b-d486d8ac33d7",
   "metadata": {},
   "outputs": [],
   "source": []
  },
  {
   "cell_type": "markdown",
   "id": "286d1550-1018-4198-ae2e-d618011de07b",
   "metadata": {},
   "source": [
    "# 4- Machine Learning"
   ]
  },
  {
   "cell_type": "code",
   "execution_count": 174,
   "id": "7db2042c-f3cc-4c74-81f3-3c79685e44d2",
   "metadata": {},
   "outputs": [],
   "source": [
    "import pandas as pd\n",
    "import numpy as np\n",
    "import matplotlib.pyplot as plt\n",
    "import seaborn as sns\n",
    "\n",
    "\n",
    "from sklearn.model_selection import train_test_split, GridSearchCV,cross_val_score\n",
    "from sklearn.metrics import mean_squared_error, r2_score\n",
    "from sklearn.preprocessing import LabelEncoder\n",
    "from sklearn.model_selection import GridSearchCV\n",
    "\n",
    "from sklearn.neighbors import KNeighborsRegressor\n",
    "from sklearn.svm import SVR\n",
    "from sklearn.tree import DecisionTreeRegressor  \n",
    "from catboost import CatBoostRegressor\n",
    "from sklearn.tree import DecisionTreeRegressor\n",
    "from sklearn.ensemble import RandomForestRegressor\n",
    "from sklearn.neural_network import MLPRegressor\n",
    "from sklearn.ensemble import BaggingRegressor\n",
    "from sklearn.ensemble import GradientBoostingRegressor\n",
    "import xgboost as xgb\n",
    "from xgboost import XGBRegressor\n",
    "from lightgbm import LGBMRegressor"
   ]
  },
  {
   "cell_type": "code",
   "execution_count": 163,
   "id": "98aafe19-f0b7-48e6-86f6-2aaf7a37f92d",
   "metadata": {},
   "outputs": [
    {
     "data": {
      "text/html": [
       "<div>\n",
       "<style scoped>\n",
       "    .dataframe tbody tr th:only-of-type {\n",
       "        vertical-align: middle;\n",
       "    }\n",
       "\n",
       "    .dataframe tbody tr th {\n",
       "        vertical-align: top;\n",
       "    }\n",
       "\n",
       "    .dataframe thead th {\n",
       "        text-align: right;\n",
       "    }\n",
       "</style>\n",
       "<table border=\"1\" class=\"dataframe\">\n",
       "  <thead>\n",
       "    <tr style=\"text-align: right;\">\n",
       "      <th></th>\n",
       "      <th>Unnamed: 0</th>\n",
       "      <th>city</th>\n",
       "      <th>district</th>\n",
       "      <th>neighborhood</th>\n",
       "      <th>room</th>\n",
       "      <th>m²</th>\n",
       "      <th>price</th>\n",
       "    </tr>\n",
       "  </thead>\n",
       "  <tbody>\n",
       "    <tr>\n",
       "      <th>0</th>\n",
       "      <td>0</td>\n",
       "      <td>Adana</td>\n",
       "      <td>Ceyhan</td>\n",
       "      <td>Cumhuriyet</td>\n",
       "      <td>2+1</td>\n",
       "      <td>130</td>\n",
       "      <td>7000</td>\n",
       "    </tr>\n",
       "    <tr>\n",
       "      <th>1</th>\n",
       "      <td>1</td>\n",
       "      <td>Adana</td>\n",
       "      <td>Ceyhan</td>\n",
       "      <td>Cumhuriyet</td>\n",
       "      <td>4+1</td>\n",
       "      <td>180</td>\n",
       "      <td>12000</td>\n",
       "    </tr>\n",
       "    <tr>\n",
       "      <th>2</th>\n",
       "      <td>2</td>\n",
       "      <td>Adana</td>\n",
       "      <td>Ceyhan</td>\n",
       "      <td>Cumhuriyet</td>\n",
       "      <td>2+1</td>\n",
       "      <td>115</td>\n",
       "      <td>7250</td>\n",
       "    </tr>\n",
       "    <tr>\n",
       "      <th>3</th>\n",
       "      <td>3</td>\n",
       "      <td>Adana</td>\n",
       "      <td>Ceyhan</td>\n",
       "      <td>Hürriyet</td>\n",
       "      <td>3+1</td>\n",
       "      <td>185</td>\n",
       "      <td>11500</td>\n",
       "    </tr>\n",
       "    <tr>\n",
       "      <th>4</th>\n",
       "      <td>4</td>\n",
       "      <td>Adana</td>\n",
       "      <td>Ceyhan</td>\n",
       "      <td>Ulus</td>\n",
       "      <td>3+1</td>\n",
       "      <td>165</td>\n",
       "      <td>9000</td>\n",
       "    </tr>\n",
       "    <tr>\n",
       "      <th>...</th>\n",
       "      <td>...</td>\n",
       "      <td>...</td>\n",
       "      <td>...</td>\n",
       "      <td>...</td>\n",
       "      <td>...</td>\n",
       "      <td>...</td>\n",
       "      <td>...</td>\n",
       "    </tr>\n",
       "    <tr>\n",
       "      <th>27113</th>\n",
       "      <td>27113</td>\n",
       "      <td>Yozgat</td>\n",
       "      <td>Yerköy</td>\n",
       "      <td>100. Yıl</td>\n",
       "      <td>3+1</td>\n",
       "      <td>135</td>\n",
       "      <td>4250</td>\n",
       "    </tr>\n",
       "    <tr>\n",
       "      <th>27114</th>\n",
       "      <td>27114</td>\n",
       "      <td>Yozgat</td>\n",
       "      <td>Yerköy</td>\n",
       "      <td>Ayanoğlu</td>\n",
       "      <td>3+1</td>\n",
       "      <td>135</td>\n",
       "      <td>5250</td>\n",
       "    </tr>\n",
       "    <tr>\n",
       "      <th>27115</th>\n",
       "      <td>27115</td>\n",
       "      <td>Yozgat</td>\n",
       "      <td>Yerköy</td>\n",
       "      <td>100. Yıl</td>\n",
       "      <td>3+1</td>\n",
       "      <td>140</td>\n",
       "      <td>3250</td>\n",
       "    </tr>\n",
       "    <tr>\n",
       "      <th>27116</th>\n",
       "      <td>27116</td>\n",
       "      <td>Zonguldak</td>\n",
       "      <td>Çaycuma</td>\n",
       "      <td>Karamusa</td>\n",
       "      <td>3+1</td>\n",
       "      <td>120</td>\n",
       "      <td>11000</td>\n",
       "    </tr>\n",
       "    <tr>\n",
       "      <th>27117</th>\n",
       "      <td>27117</td>\n",
       "      <td>Zonguldak</td>\n",
       "      <td>Çaycuma</td>\n",
       "      <td>Yukarıdere Köyü (Yukarı</td>\n",
       "      <td>3+1</td>\n",
       "      <td>160</td>\n",
       "      <td>8000</td>\n",
       "    </tr>\n",
       "  </tbody>\n",
       "</table>\n",
       "<p>27118 rows × 7 columns</p>\n",
       "</div>"
      ],
      "text/plain": [
       "       Unnamed: 0       city district              neighborhood room   m²  \\\n",
       "0               0      Adana   Ceyhan                Cumhuriyet  2+1  130   \n",
       "1               1      Adana   Ceyhan                Cumhuriyet  4+1  180   \n",
       "2               2      Adana   Ceyhan                Cumhuriyet  2+1  115   \n",
       "3               3      Adana   Ceyhan                  Hürriyet  3+1  185   \n",
       "4               4      Adana   Ceyhan                      Ulus  3+1  165   \n",
       "...           ...        ...      ...                       ...  ...  ...   \n",
       "27113       27113     Yozgat   Yerköy                  100. Yıl  3+1  135   \n",
       "27114       27114     Yozgat   Yerköy                  Ayanoğlu  3+1  135   \n",
       "27115       27115     Yozgat   Yerköy                  100. Yıl  3+1  140   \n",
       "27116       27116  Zonguldak  Çaycuma                  Karamusa  3+1  120   \n",
       "27117       27117  Zonguldak  Çaycuma  Yukarıdere Köyü (Yukarı   3+1  160   \n",
       "\n",
       "       price  \n",
       "0       7000  \n",
       "1      12000  \n",
       "2       7250  \n",
       "3      11500  \n",
       "4       9000  \n",
       "...      ...  \n",
       "27113   4250  \n",
       "27114   5250  \n",
       "27115   3250  \n",
       "27116  11000  \n",
       "27117   8000  \n",
       "\n",
       "[27118 rows x 7 columns]"
      ]
     },
     "execution_count": 163,
     "metadata": {},
     "output_type": "execute_result"
    }
   ],
   "source": [
    "data = pd.read_excel(\"adverts1-2.xlsx\")\n",
    "data"
   ]
  },
  {
   "cell_type": "code",
   "execution_count": 164,
   "id": "52854cda-f34d-4f79-aa1b-831432d65af2",
   "metadata": {},
   "outputs": [],
   "source": [
    "data = data.drop(\"Unnamed: 0\", axis=1)"
   ]
  },
  {
   "cell_type": "code",
   "execution_count": 165,
   "id": "2c9043bc-a637-48c9-ac56-22399325799d",
   "metadata": {},
   "outputs": [],
   "source": [
    "df = data"
   ]
  },
  {
   "cell_type": "code",
   "execution_count": null,
   "id": "fe785ceb-6184-49f5-848e-2f084146e464",
   "metadata": {},
   "outputs": [],
   "source": []
  },
  {
   "cell_type": "code",
   "execution_count": 166,
   "id": "33cb3f31-43cb-4aa4-a28a-a2159c84192f",
   "metadata": {},
   "outputs": [],
   "source": [
    "# Assing dummy variable to columns for each room type\n",
    "df = pd.get_dummies(df, columns=[\"room\"], prefix=[\"room\"])"
   ]
  },
  {
   "cell_type": "code",
   "execution_count": 167,
   "id": "d59d36ba-e3d3-49a1-a18b-959dca119580",
   "metadata": {},
   "outputs": [
    {
     "data": {
      "text/plain": [
       "[510, 5225, 9778, 10236, 1369]"
      ]
     },
     "execution_count": 167,
     "metadata": {},
     "output_type": "execute_result"
    }
   ],
   "source": [
    "# learn how many advert for each room type using cplumns that assing dummy \n",
    "arr= [df[\"room_1+0\"].sum(), df[\"room_1+1\"].sum(), df[\"room_2+1\"].sum(), df[\"room_3+1\"].sum(), df[\"room_4+1\"].sum()]\n",
    "arr"
   ]
  },
  {
   "cell_type": "code",
   "execution_count": 168,
   "id": "fa7aad3e-56ce-47ff-8cb3-f7af49453fd1",
   "metadata": {},
   "outputs": [],
   "source": [
    "# Apply LabelEencoder transformation for 'city', 'district', 'neighborhood'\n",
    "from sklearn.preprocessing import LabelEncoder\n",
    "# Create a LabelEncoder object\n",
    "le = LabelEncoder()\n",
    "\n",
    "# Encode the string column 'city'\n",
    "df['city_le'] = le.fit_transform(df['city'])\n",
    "\n",
    "# Encode the string column 'district'\n",
    "df['district_le'] = le.fit_transform(df['district'])\n",
    "\n",
    "# Encode the string column 'neighborhood'\n",
    "df['neighborhood_le'] = le.fit_transform(df['neighborhood'])"
   ]
  },
  {
   "cell_type": "code",
   "execution_count": 169,
   "id": "273b93a9-bbf1-4989-b320-5f553284b81e",
   "metadata": {},
   "outputs": [],
   "source": [
    "df = df.drop([\"city\",\"district\",\"neighborhood\"], axis=1)"
   ]
  },
  {
   "cell_type": "code",
   "execution_count": 170,
   "id": "37b89a19-0bba-4b4d-b2ca-f83f25c134fe",
   "metadata": {},
   "outputs": [
    {
     "data": {
      "text/html": [
       "<div>\n",
       "<style scoped>\n",
       "    .dataframe tbody tr th:only-of-type {\n",
       "        vertical-align: middle;\n",
       "    }\n",
       "\n",
       "    .dataframe tbody tr th {\n",
       "        vertical-align: top;\n",
       "    }\n",
       "\n",
       "    .dataframe thead th {\n",
       "        text-align: right;\n",
       "    }\n",
       "</style>\n",
       "<table border=\"1\" class=\"dataframe\">\n",
       "  <thead>\n",
       "    <tr style=\"text-align: right;\">\n",
       "      <th></th>\n",
       "      <th>count</th>\n",
       "      <th>mean</th>\n",
       "      <th>std</th>\n",
       "      <th>min</th>\n",
       "      <th>25%</th>\n",
       "      <th>50%</th>\n",
       "      <th>75%</th>\n",
       "      <th>max</th>\n",
       "    </tr>\n",
       "  </thead>\n",
       "  <tbody>\n",
       "    <tr>\n",
       "      <th>m²</th>\n",
       "      <td>27118.0</td>\n",
       "      <td>112.314514</td>\n",
       "      <td>39.752902</td>\n",
       "      <td>20.0</td>\n",
       "      <td>85.0</td>\n",
       "      <td>110.0</td>\n",
       "      <td>140.0</td>\n",
       "      <td>230.0</td>\n",
       "    </tr>\n",
       "    <tr>\n",
       "      <th>price</th>\n",
       "      <td>27118.0</td>\n",
       "      <td>14284.049856</td>\n",
       "      <td>6637.580786</td>\n",
       "      <td>2000.0</td>\n",
       "      <td>10000.0</td>\n",
       "      <td>13000.0</td>\n",
       "      <td>17000.0</td>\n",
       "      <td>57500.0</td>\n",
       "    </tr>\n",
       "    <tr>\n",
       "      <th>room_1+0</th>\n",
       "      <td>27118.0</td>\n",
       "      <td>0.018807</td>\n",
       "      <td>0.135844</td>\n",
       "      <td>0.0</td>\n",
       "      <td>0.0</td>\n",
       "      <td>0.0</td>\n",
       "      <td>0.0</td>\n",
       "      <td>1.0</td>\n",
       "    </tr>\n",
       "    <tr>\n",
       "      <th>room_1+1</th>\n",
       "      <td>27118.0</td>\n",
       "      <td>0.192676</td>\n",
       "      <td>0.394408</td>\n",
       "      <td>0.0</td>\n",
       "      <td>0.0</td>\n",
       "      <td>0.0</td>\n",
       "      <td>0.0</td>\n",
       "      <td>1.0</td>\n",
       "    </tr>\n",
       "    <tr>\n",
       "      <th>room_2+1</th>\n",
       "      <td>27118.0</td>\n",
       "      <td>0.360572</td>\n",
       "      <td>0.480175</td>\n",
       "      <td>0.0</td>\n",
       "      <td>0.0</td>\n",
       "      <td>0.0</td>\n",
       "      <td>1.0</td>\n",
       "      <td>1.0</td>\n",
       "    </tr>\n",
       "    <tr>\n",
       "      <th>room_3+1</th>\n",
       "      <td>27118.0</td>\n",
       "      <td>0.377461</td>\n",
       "      <td>0.484761</td>\n",
       "      <td>0.0</td>\n",
       "      <td>0.0</td>\n",
       "      <td>0.0</td>\n",
       "      <td>1.0</td>\n",
       "      <td>1.0</td>\n",
       "    </tr>\n",
       "    <tr>\n",
       "      <th>room_4+1</th>\n",
       "      <td>27118.0</td>\n",
       "      <td>0.050483</td>\n",
       "      <td>0.218944</td>\n",
       "      <td>0.0</td>\n",
       "      <td>0.0</td>\n",
       "      <td>0.0</td>\n",
       "      <td>0.0</td>\n",
       "      <td>1.0</td>\n",
       "    </tr>\n",
       "    <tr>\n",
       "      <th>city_le</th>\n",
       "      <td>27118.0</td>\n",
       "      <td>41.867763</td>\n",
       "      <td>27.576993</td>\n",
       "      <td>0.0</td>\n",
       "      <td>8.0</td>\n",
       "      <td>48.0</td>\n",
       "      <td>71.0</td>\n",
       "      <td>73.0</td>\n",
       "    </tr>\n",
       "    <tr>\n",
       "      <th>district_le</th>\n",
       "      <td>27118.0</td>\n",
       "      <td>195.596357</td>\n",
       "      <td>109.571811</td>\n",
       "      <td>0.0</td>\n",
       "      <td>106.0</td>\n",
       "      <td>199.0</td>\n",
       "      <td>283.0</td>\n",
       "      <td>383.0</td>\n",
       "    </tr>\n",
       "    <tr>\n",
       "      <th>neighborhood_le</th>\n",
       "      <td>27118.0</td>\n",
       "      <td>1232.499004</td>\n",
       "      <td>742.287054</td>\n",
       "      <td>0.0</td>\n",
       "      <td>540.0</td>\n",
       "      <td>1240.5</td>\n",
       "      <td>1912.0</td>\n",
       "      <td>2471.0</td>\n",
       "    </tr>\n",
       "  </tbody>\n",
       "</table>\n",
       "</div>"
      ],
      "text/plain": [
       "                   count          mean          std     min      25%      50%  \\\n",
       "m²               27118.0    112.314514    39.752902    20.0     85.0    110.0   \n",
       "price            27118.0  14284.049856  6637.580786  2000.0  10000.0  13000.0   \n",
       "room_1+0         27118.0      0.018807     0.135844     0.0      0.0      0.0   \n",
       "room_1+1         27118.0      0.192676     0.394408     0.0      0.0      0.0   \n",
       "room_2+1         27118.0      0.360572     0.480175     0.0      0.0      0.0   \n",
       "room_3+1         27118.0      0.377461     0.484761     0.0      0.0      0.0   \n",
       "room_4+1         27118.0      0.050483     0.218944     0.0      0.0      0.0   \n",
       "city_le          27118.0     41.867763    27.576993     0.0      8.0     48.0   \n",
       "district_le      27118.0    195.596357   109.571811     0.0    106.0    199.0   \n",
       "neighborhood_le  27118.0   1232.499004   742.287054     0.0    540.0   1240.5   \n",
       "\n",
       "                     75%      max  \n",
       "m²                 140.0    230.0  \n",
       "price            17000.0  57500.0  \n",
       "room_1+0             0.0      1.0  \n",
       "room_1+1             0.0      1.0  \n",
       "room_2+1             1.0      1.0  \n",
       "room_3+1             1.0      1.0  \n",
       "room_4+1             0.0      1.0  \n",
       "city_le             71.0     73.0  \n",
       "district_le        283.0    383.0  \n",
       "neighborhood_le   1912.0   2471.0  "
      ]
     },
     "execution_count": 170,
     "metadata": {},
     "output_type": "execute_result"
    }
   ],
   "source": [
    "df.describe().T"
   ]
  },
  {
   "cell_type": "code",
   "execution_count": 171,
   "id": "bda5342d-a9f6-4a0b-887f-0c88a6289bc8",
   "metadata": {},
   "outputs": [
    {
     "data": {
      "text/html": [
       "<div>\n",
       "<style scoped>\n",
       "    .dataframe tbody tr th:only-of-type {\n",
       "        vertical-align: middle;\n",
       "    }\n",
       "\n",
       "    .dataframe tbody tr th {\n",
       "        vertical-align: top;\n",
       "    }\n",
       "\n",
       "    .dataframe thead th {\n",
       "        text-align: right;\n",
       "    }\n",
       "</style>\n",
       "<table border=\"1\" class=\"dataframe\">\n",
       "  <thead>\n",
       "    <tr style=\"text-align: right;\">\n",
       "      <th></th>\n",
       "      <th>m²</th>\n",
       "      <th>price</th>\n",
       "      <th>room_1+0</th>\n",
       "      <th>room_1+1</th>\n",
       "      <th>room_2+1</th>\n",
       "      <th>room_3+1</th>\n",
       "      <th>room_4+1</th>\n",
       "      <th>city_le</th>\n",
       "      <th>district_le</th>\n",
       "      <th>neighborhood_le</th>\n",
       "    </tr>\n",
       "  </thead>\n",
       "  <tbody>\n",
       "    <tr>\n",
       "      <th>0</th>\n",
       "      <td>130</td>\n",
       "      <td>7000</td>\n",
       "      <td>0</td>\n",
       "      <td>0</td>\n",
       "      <td>1</td>\n",
       "      <td>0</td>\n",
       "      <td>0</td>\n",
       "      <td>0</td>\n",
       "      <td>88</td>\n",
       "      <td>500</td>\n",
       "    </tr>\n",
       "    <tr>\n",
       "      <th>1</th>\n",
       "      <td>180</td>\n",
       "      <td>12000</td>\n",
       "      <td>0</td>\n",
       "      <td>0</td>\n",
       "      <td>0</td>\n",
       "      <td>0</td>\n",
       "      <td>1</td>\n",
       "      <td>0</td>\n",
       "      <td>88</td>\n",
       "      <td>500</td>\n",
       "    </tr>\n",
       "    <tr>\n",
       "      <th>2</th>\n",
       "      <td>115</td>\n",
       "      <td>7250</td>\n",
       "      <td>0</td>\n",
       "      <td>0</td>\n",
       "      <td>1</td>\n",
       "      <td>0</td>\n",
       "      <td>0</td>\n",
       "      <td>0</td>\n",
       "      <td>88</td>\n",
       "      <td>500</td>\n",
       "    </tr>\n",
       "    <tr>\n",
       "      <th>3</th>\n",
       "      <td>185</td>\n",
       "      <td>11500</td>\n",
       "      <td>0</td>\n",
       "      <td>0</td>\n",
       "      <td>0</td>\n",
       "      <td>1</td>\n",
       "      <td>0</td>\n",
       "      <td>0</td>\n",
       "      <td>88</td>\n",
       "      <td>1013</td>\n",
       "    </tr>\n",
       "    <tr>\n",
       "      <th>4</th>\n",
       "      <td>165</td>\n",
       "      <td>9000</td>\n",
       "      <td>0</td>\n",
       "      <td>0</td>\n",
       "      <td>0</td>\n",
       "      <td>1</td>\n",
       "      <td>0</td>\n",
       "      <td>0</td>\n",
       "      <td>88</td>\n",
       "      <td>1973</td>\n",
       "    </tr>\n",
       "  </tbody>\n",
       "</table>\n",
       "</div>"
      ],
      "text/plain": [
       "    m²  price  room_1+0  room_1+1  room_2+1  room_3+1  room_4+1  city_le  \\\n",
       "0  130   7000         0         0         1         0         0        0   \n",
       "1  180  12000         0         0         0         0         1        0   \n",
       "2  115   7250         0         0         1         0         0        0   \n",
       "3  185  11500         0         0         0         1         0        0   \n",
       "4  165   9000         0         0         0         1         0        0   \n",
       "\n",
       "   district_le  neighborhood_le  \n",
       "0           88              500  \n",
       "1           88              500  \n",
       "2           88              500  \n",
       "3           88             1013  \n",
       "4           88             1973  "
      ]
     },
     "execution_count": 171,
     "metadata": {},
     "output_type": "execute_result"
    }
   ],
   "source": [
    "df.head()"
   ]
  },
  {
   "cell_type": "code",
   "execution_count": null,
   "id": "0fbd1361-c4bc-4ce3-bc5f-45b0f54374a9",
   "metadata": {},
   "outputs": [],
   "source": []
  },
  {
   "cell_type": "code",
   "execution_count": 172,
   "id": "d5947f24-2a7a-460d-94ac-e7441f2e1a3c",
   "metadata": {},
   "outputs": [],
   "source": [
    "# Define dependet and independet variables\n",
    "\n",
    "y = df[\"price\"]\n",
    "x = df.drop(\"price\", axis=1)"
   ]
  },
  {
   "cell_type": "code",
   "execution_count": 175,
   "id": "593bf539-ede8-46ee-baf1-39a7a9cd5b5b",
   "metadata": {},
   "outputs": [],
   "source": [
    "x_train, x_test, y_train, y_test = train_test_split(x, y, test_size=0.2, random_state=42)"
   ]
  },
  {
   "cell_type": "code",
   "execution_count": 176,
   "id": "bc05b321-1e55-4949-865f-7746f9583403",
   "metadata": {},
   "outputs": [
    {
     "data": {
      "text/plain": [
       "0.20085907138474127"
      ]
     },
     "execution_count": 176,
     "metadata": {},
     "output_type": "execute_result"
    }
   ],
   "source": [
    "# for learning rate\"test_data/all_data\" that 2+1 room type  \n",
    "(x_test[\"room_2+1\"].sum()) / (x_test[\"room_2+1\"].sum() + x_train[\"room_2+1\"].sum())"
   ]
  },
  {
   "cell_type": "code",
   "execution_count": 177,
   "id": "a145fc98-f695-4ff5-97f0-325736e7b38e",
   "metadata": {},
   "outputs": [
    {
     "data": {
      "text/html": [
       "<div>\n",
       "<style scoped>\n",
       "    .dataframe tbody tr th:only-of-type {\n",
       "        vertical-align: middle;\n",
       "    }\n",
       "\n",
       "    .dataframe tbody tr th {\n",
       "        vertical-align: top;\n",
       "    }\n",
       "\n",
       "    .dataframe thead th {\n",
       "        text-align: right;\n",
       "    }\n",
       "</style>\n",
       "<table border=\"1\" class=\"dataframe\">\n",
       "  <thead>\n",
       "    <tr style=\"text-align: right;\">\n",
       "      <th></th>\n",
       "      <th>m²</th>\n",
       "      <th>room_1+0</th>\n",
       "      <th>room_1+1</th>\n",
       "      <th>room_2+1</th>\n",
       "      <th>room_3+1</th>\n",
       "      <th>room_4+1</th>\n",
       "      <th>city_le</th>\n",
       "      <th>district_le</th>\n",
       "      <th>neighborhood_le</th>\n",
       "    </tr>\n",
       "  </thead>\n",
       "  <tbody>\n",
       "    <tr>\n",
       "      <th>1287</th>\n",
       "      <td>145</td>\n",
       "      <td>0</td>\n",
       "      <td>0</td>\n",
       "      <td>0</td>\n",
       "      <td>1</td>\n",
       "      <td>0</td>\n",
       "      <td>5</td>\n",
       "      <td>21</td>\n",
       "      <td>733</td>\n",
       "    </tr>\n",
       "    <tr>\n",
       "      <th>18226</th>\n",
       "      <td>115</td>\n",
       "      <td>0</td>\n",
       "      <td>0</td>\n",
       "      <td>0</td>\n",
       "      <td>1</td>\n",
       "      <td>0</td>\n",
       "      <td>72</td>\n",
       "      <td>76</td>\n",
       "      <td>705</td>\n",
       "    </tr>\n",
       "    <tr>\n",
       "      <th>13766</th>\n",
       "      <td>130</td>\n",
       "      <td>0</td>\n",
       "      <td>0</td>\n",
       "      <td>1</td>\n",
       "      <td>0</td>\n",
       "      <td>0</td>\n",
       "      <td>71</td>\n",
       "      <td>124</td>\n",
       "      <td>1643</td>\n",
       "    </tr>\n",
       "    <tr>\n",
       "      <th>23406</th>\n",
       "      <td>70</td>\n",
       "      <td>0</td>\n",
       "      <td>0</td>\n",
       "      <td>1</td>\n",
       "      <td>0</td>\n",
       "      <td>0</td>\n",
       "      <td>49</td>\n",
       "      <td>74</td>\n",
       "      <td>1236</td>\n",
       "    </tr>\n",
       "    <tr>\n",
       "      <th>5099</th>\n",
       "      <td>80</td>\n",
       "      <td>0</td>\n",
       "      <td>0</td>\n",
       "      <td>1</td>\n",
       "      <td>0</td>\n",
       "      <td>0</td>\n",
       "      <td>6</td>\n",
       "      <td>191</td>\n",
       "      <td>2132</td>\n",
       "    </tr>\n",
       "    <tr>\n",
       "      <th>...</th>\n",
       "      <td>...</td>\n",
       "      <td>...</td>\n",
       "      <td>...</td>\n",
       "      <td>...</td>\n",
       "      <td>...</td>\n",
       "      <td>...</td>\n",
       "      <td>...</td>\n",
       "      <td>...</td>\n",
       "      <td>...</td>\n",
       "    </tr>\n",
       "    <tr>\n",
       "      <th>21575</th>\n",
       "      <td>200</td>\n",
       "      <td>0</td>\n",
       "      <td>0</td>\n",
       "      <td>0</td>\n",
       "      <td>0</td>\n",
       "      <td>1</td>\n",
       "      <td>45</td>\n",
       "      <td>335</td>\n",
       "      <td>1871</td>\n",
       "    </tr>\n",
       "    <tr>\n",
       "      <th>5390</th>\n",
       "      <td>80</td>\n",
       "      <td>0</td>\n",
       "      <td>0</td>\n",
       "      <td>1</td>\n",
       "      <td>0</td>\n",
       "      <td>0</td>\n",
       "      <td>6</td>\n",
       "      <td>199</td>\n",
       "      <td>1008</td>\n",
       "    </tr>\n",
       "    <tr>\n",
       "      <th>860</th>\n",
       "      <td>60</td>\n",
       "      <td>0</td>\n",
       "      <td>1</td>\n",
       "      <td>0</td>\n",
       "      <td>0</td>\n",
       "      <td>0</td>\n",
       "      <td>0</td>\n",
       "      <td>287</td>\n",
       "      <td>1830</td>\n",
       "    </tr>\n",
       "    <tr>\n",
       "      <th>15795</th>\n",
       "      <td>74</td>\n",
       "      <td>0</td>\n",
       "      <td>1</td>\n",
       "      <td>0</td>\n",
       "      <td>0</td>\n",
       "      <td>0</td>\n",
       "      <td>71</td>\n",
       "      <td>210</td>\n",
       "      <td>234</td>\n",
       "    </tr>\n",
       "    <tr>\n",
       "      <th>23654</th>\n",
       "      <td>55</td>\n",
       "      <td>0</td>\n",
       "      <td>1</td>\n",
       "      <td>0</td>\n",
       "      <td>0</td>\n",
       "      <td>0</td>\n",
       "      <td>49</td>\n",
       "      <td>91</td>\n",
       "      <td>1133</td>\n",
       "    </tr>\n",
       "  </tbody>\n",
       "</table>\n",
       "<p>21694 rows × 9 columns</p>\n",
       "</div>"
      ],
      "text/plain": [
       "        m²  room_1+0  room_1+1  room_2+1  room_3+1  room_4+1  city_le  \\\n",
       "1287   145         0         0         0         1         0        5   \n",
       "18226  115         0         0         0         1         0       72   \n",
       "13766  130         0         0         1         0         0       71   \n",
       "23406   70         0         0         1         0         0       49   \n",
       "5099    80         0         0         1         0         0        6   \n",
       "...    ...       ...       ...       ...       ...       ...      ...   \n",
       "21575  200         0         0         0         0         1       45   \n",
       "5390    80         0         0         1         0         0        6   \n",
       "860     60         0         1         0         0         0        0   \n",
       "15795   74         0         1         0         0         0       71   \n",
       "23654   55         0         1         0         0         0       49   \n",
       "\n",
       "       district_le  neighborhood_le  \n",
       "1287            21              733  \n",
       "18226           76              705  \n",
       "13766          124             1643  \n",
       "23406           74             1236  \n",
       "5099           191             2132  \n",
       "...            ...              ...  \n",
       "21575          335             1871  \n",
       "5390           199             1008  \n",
       "860            287             1830  \n",
       "15795          210              234  \n",
       "23654           91             1133  \n",
       "\n",
       "[21694 rows x 9 columns]"
      ]
     },
     "execution_count": 177,
     "metadata": {},
     "output_type": "execute_result"
    }
   ],
   "source": [
    "x_train"
   ]
  },
  {
   "cell_type": "code",
   "execution_count": null,
   "id": "641da863-14d0-44e9-adfb-9091dac55abe",
   "metadata": {},
   "outputs": [],
   "source": []
  },
  {
   "cell_type": "markdown",
   "id": "ad6b98c0-d330-4a0e-a1f7-bfbf20be9a18",
   "metadata": {},
   "source": [
    "#### Creating machine learning models"
   ]
  },
  {
   "cell_type": "code",
   "execution_count": 178,
   "id": "d47e148d-ebda-4379-92bc-62824e622ec7",
   "metadata": {},
   "outputs": [],
   "source": [
    "# KNN regression\n",
    "knn_model = KNeighborsRegressor().fit(x_train, y_train)"
   ]
  },
  {
   "cell_type": "code",
   "execution_count": 179,
   "id": "3e6ab182-3aad-43d7-bab5-d4d0be27a984",
   "metadata": {},
   "outputs": [],
   "source": [
    "y_pred_knn = knn_model.predict(x_test)"
   ]
  },
  {
   "cell_type": "code",
   "execution_count": 180,
   "id": "f2b6815c-fcc2-42b5-9a4f-d939ef0c1549",
   "metadata": {},
   "outputs": [
    {
     "data": {
      "text/plain": [
       "5145.270325654042"
      ]
     },
     "execution_count": 180,
     "metadata": {},
     "output_type": "execute_result"
    }
   ],
   "source": [
    "mse_knn = np.sqrt(mean_squared_error(y_test, y_pred_knn))\n",
    "mse_knn"
   ]
  },
  {
   "cell_type": "code",
   "execution_count": null,
   "id": "5d957703-9879-4ee5-bbdb-b207d449aaa0",
   "metadata": {},
   "outputs": [],
   "source": []
  },
  {
   "cell_type": "code",
   "execution_count": 190,
   "id": "9857f7d9-fe04-432b-94fe-e14bda704508",
   "metadata": {},
   "outputs": [],
   "source": [
    "# Decision Tree regression\n",
    "dec_tree = DecisionTreeRegressor().fit(x_train, y_train)"
   ]
  },
  {
   "cell_type": "code",
   "execution_count": 191,
   "id": "0abc6ca5-00ed-4c99-8d45-cbd8e5b33e0e",
   "metadata": {},
   "outputs": [],
   "source": [
    "y_pred_tree = dec_tree.predict(x_test)"
   ]
  },
  {
   "cell_type": "code",
   "execution_count": 192,
   "id": "c8e1239e-3a05-4d3c-b61d-27cc17008bc4",
   "metadata": {},
   "outputs": [
    {
     "data": {
      "text/plain": [
       "5457.371985810566"
      ]
     },
     "execution_count": 192,
     "metadata": {},
     "output_type": "execute_result"
    }
   ],
   "source": [
    "mse_tree = np.sqrt(mean_squared_error(y_test, y_pred_tree))\n",
    "mse_tree"
   ]
  },
  {
   "cell_type": "code",
   "execution_count": null,
   "id": "22812357-d229-42a5-9108-d7be306936bb",
   "metadata": {},
   "outputs": [],
   "source": []
  },
  {
   "cell_type": "code",
   "execution_count": 194,
   "id": "5a837bca-eaf1-4c1a-9ae8-0033574b8b79",
   "metadata": {},
   "outputs": [
    {
     "data": {
      "text/plain": [
       "4454.812084407402"
      ]
     },
     "execution_count": 194,
     "metadata": {},
     "output_type": "execute_result"
    }
   ],
   "source": [
    "# Random Forest regression\n",
    "rf = RandomForestRegressor().fit(x_train, y_train)\n",
    "\n",
    "y_pred_rf = rf.predict(x_test)\n",
    "\n",
    "mse_rf = np.sqrt(mean_squared_error(y_test, y_pred_rf))\n",
    "mse_rf"
   ]
  },
  {
   "cell_type": "code",
   "execution_count": null,
   "id": "229f9497-ffba-41b5-adfd-60f7e8fda3a5",
   "metadata": {},
   "outputs": [],
   "source": []
  },
  {
   "cell_type": "code",
   "execution_count": null,
   "id": "2d4faff8-bbc3-461e-99ad-082d533152a0",
   "metadata": {
    "tags": []
   },
   "outputs": [],
   "source": [
    "# Cat Boost regression\n",
    "cat_boost = CatBoostRegressor().fit(x_train, y_train)\n",
    "\n",
    "y_pred_cat = cat_boost.predict(x_test)\n",
    "\n",
    "mse_cat = np.sqrt(mean_squared_error(y_test, y_pred_cat))"
   ]
  },
  {
   "cell_type": "code",
   "execution_count": 198,
   "id": "6c7d8cfb-ef48-4060-a046-1d601bacb364",
   "metadata": {},
   "outputs": [
    {
     "data": {
      "text/plain": [
       "4392.805183995254"
      ]
     },
     "execution_count": 198,
     "metadata": {},
     "output_type": "execute_result"
    }
   ],
   "source": [
    "mse_cat"
   ]
  },
  {
   "cell_type": "code",
   "execution_count": null,
   "id": "02c26baf-158e-4019-bcc8-72c6118c06b6",
   "metadata": {},
   "outputs": [],
   "source": []
  },
  {
   "cell_type": "code",
   "execution_count": 209,
   "id": "155f0657-ebae-4d95-a3c1-0b44eaa24e8c",
   "metadata": {},
   "outputs": [
    {
     "data": {
      "text/plain": [
       "4353.5829854304975"
      ]
     },
     "execution_count": 209,
     "metadata": {},
     "output_type": "execute_result"
    }
   ],
   "source": [
    "# Bagged Trees regression\n",
    "bag_model = BaggingRegressor(bootstrap_features = True).fit(x_train, y_train)\n",
    "\n",
    "y_pred_bag = bag_model.predict(x_test)\n",
    "\n",
    "mse_bag = np.sqrt(mean_squared_error(y_test, y_pred_bag))\n",
    "mse_bag"
   ]
  },
  {
   "cell_type": "code",
   "execution_count": null,
   "id": "e986cbeb-c9df-426a-a29b-dd60162118e0",
   "metadata": {},
   "outputs": [],
   "source": []
  },
  {
   "cell_type": "code",
   "execution_count": null,
   "id": "057460dc-a1ba-4ce4-b9c2-37b23fa6af8e",
   "metadata": {},
   "outputs": [],
   "source": [
    "!pip install lightgbm"
   ]
  },
  {
   "cell_type": "code",
   "execution_count": 201,
   "id": "db231074-7719-4601-a26d-cb7e1b093397",
   "metadata": {},
   "outputs": [],
   "source": [
    "import os\n",
    "\n",
    "os.environ[\"LOKY_MAX_CPU_COUNT\"] = \"4\""
   ]
  },
  {
   "cell_type": "code",
   "execution_count": null,
   "id": "80c377e9-95e5-4c5d-b431-469d3dbb2085",
   "metadata": {},
   "outputs": [],
   "source": [
    "lgbm_model = LGBMRegressor().fit(x_train, y_train)\n",
    "\n",
    "y_pred_lgbm = lgbm_model.predict(x_test)\n",
    "\n",
    "mse_lgbm = np.sqrt(mean_squared_error(y_test, y_pred_lgbm))"
   ]
  },
  {
   "cell_type": "code",
   "execution_count": 205,
   "id": "b929ec35-26b9-4621-849a-e01588125c85",
   "metadata": {},
   "outputs": [
    {
     "data": {
      "text/plain": [
       "4508.189849935392"
      ]
     },
     "execution_count": 205,
     "metadata": {},
     "output_type": "execute_result"
    }
   ],
   "source": [
    "mse_lgbm"
   ]
  },
  {
   "cell_type": "code",
   "execution_count": null,
   "id": "ca69521f-8758-47fe-ba73-820fb825d50d",
   "metadata": {},
   "outputs": [],
   "source": []
  },
  {
   "cell_type": "code",
   "execution_count": 206,
   "id": "a5a1ba4e-25d6-4e31-8e46-e214e3f8c365",
   "metadata": {},
   "outputs": [
    {
     "data": {
      "text/plain": [
       "5026.7750224499"
      ]
     },
     "execution_count": 206,
     "metadata": {},
     "output_type": "execute_result"
    }
   ],
   "source": [
    "# Gradient Boosting regression\n",
    "gbm_model = GradientBoostingRegressor().fit(x_train, y_train)\n",
    "\n",
    "y_pred_gbm = gbm_model.predict(x_test)\n",
    "\n",
    "mse_gbm = np.sqrt(mean_squared_error(y_test, y_pred_gbm))\n",
    "mse_gbm"
   ]
  },
  {
   "cell_type": "code",
   "execution_count": null,
   "id": "88f4952f-4761-4a48-9522-bf5dfdc8da1c",
   "metadata": {},
   "outputs": [],
   "source": []
  },
  {
   "cell_type": "code",
   "execution_count": null,
   "id": "656cdace-cccb-48d9-a882-03904ef6ef7b",
   "metadata": {},
   "outputs": [],
   "source": [
    "!pip install xgboost"
   ]
  },
  {
   "cell_type": "code",
   "execution_count": 207,
   "id": "970af53c-a875-44df-bb9c-4ab224d949a2",
   "metadata": {},
   "outputs": [
    {
     "data": {
      "text/plain": [
       "4346.723388373664"
      ]
     },
     "execution_count": 207,
     "metadata": {},
     "output_type": "execute_result"
    }
   ],
   "source": [
    "# XGBoost regression\n",
    "xgb_model = XGBRegressor().fit(x_train, y_train)\n",
    "\n",
    "y_pred_xgb = xgb_model.predict(x_test)\n",
    "\n",
    "mse_xgb = np.sqrt(mean_squared_error(y_test, y_pred_xgb))\n",
    "mse_xgb"
   ]
  },
  {
   "cell_type": "code",
   "execution_count": null,
   "id": "695d7607-88d0-4ad6-b181-93b4e951ae11",
   "metadata": {},
   "outputs": [],
   "source": []
  },
  {
   "cell_type": "code",
   "execution_count": null,
   "id": "afad2325-4dd4-419f-8bfa-f22ac03a6e8b",
   "metadata": {},
   "outputs": [],
   "source": []
  },
  {
   "cell_type": "code",
   "execution_count": 210,
   "id": "5755ee52-6f10-4ac3-ae7b-e1b410aec88e",
   "metadata": {},
   "outputs": [
    {
     "data": {
      "text/plain": [
       "<BarContainer object of 8 artists>"
      ]
     },
     "execution_count": 210,
     "metadata": {},
     "output_type": "execute_result"
    },
    {
     "data": {
      "image/png": "[encoded data removed]",
      "text/plain": [
       "<Figure size 640x480 with 1 Axes>"
      ]
     },
     "metadata": {},
     "output_type": "display_data"
    }
   ],
   "source": [
    "# mse comparison of all models\n",
    "all_mse = pd.DataFrame({\n",
    "    \"x\": [\"mse_xgb\",\"mse_bag\",\"mse_cat\",\"mse_gbm\",\"mse_knn\",\"mse_lgbm\",\"mse_rf\",\"mse_tree\"],\n",
    "    \"y\": [mse_xgb,mse_bag,mse_cat,mse_gbm,mse_knn,mse_lgbm,mse_rf,mse_tree]  \n",
    "})\n",
    "\n",
    "plt.grid(axis=\"x\")\n",
    "plt.barh(all_mse[\"x\"], all_mse[\"y\"])"
   ]
  },
  {
   "cell_type": "code",
   "execution_count": null,
   "id": "e091f5b6-2084-48f5-803f-199540b6c670",
   "metadata": {},
   "outputs": [],
   "source": [
    "# XGB showed the best performance in this dataset"
   ]
  },
  {
   "cell_type": "code",
   "execution_count": null,
   "id": "3c34adfd-5e62-4e4d-934e-df5b9b483054",
   "metadata": {},
   "outputs": [],
   "source": []
  },
  {
   "cell_type": "markdown",
   "id": "cee7fef9-bb08-43d6-9b3e-a9e4f42ef785",
   "metadata": {},
   "source": [
    "#### XGB model tuning"
   ]
  },
  {
   "cell_type": "code",
   "execution_count": 165,
   "id": "ac307e04-b455-4e4c-8137-a9dbad2e9f7e",
   "metadata": {},
   "outputs": [],
   "source": [
    "xgb_grid = {\n",
    "     'colsample_bytree': [0.5, 0.6, 0.7, 0.9],\n",
    "     'subsample': [0.5, 1],\n",
    "     'n_estimators':[100, 500, 900, 1000, 1100],\n",
    "     'max_depth': [3, 5, 6, 7],\n",
    "     'learning_rate': [0.1, 0.01, 0.2]\n",
    "}"
   ]
  },
  {
   "cell_type": "code",
   "execution_count": null,
   "id": "a486753f-0f54-477e-9ff6-99432b8acc40",
   "metadata": {},
   "outputs": [],
   "source": [
    "xgb = XGBRegressor()\n",
    "\n",
    "xgb_cv = GridSearchCV(xgb, \n",
    "                      param_grid = xgb_grid, \n",
    "                      cv = 10, \n",
    "                      n_jobs = -1,\n",
    "                      verbose = 2)\n",
    "\n",
    "\n",
    "xgb_cv.fit(x_train, y_train)"
   ]
  },
  {
   "cell_type": "code",
   "execution_count": 167,
   "id": "c9605c04-7f4b-4c28-acd7-950d5f7b7622",
   "metadata": {},
   "outputs": [
    {
     "data": {
      "text/plain": [
       "{'colsample_bytree': 0.6,\n",
       " 'learning_rate': 0.1,\n",
       " 'max_depth': 7,\n",
       " 'n_estimators': 500,\n",
       " 'subsample': 1}"
      ]
     },
     "execution_count": 167,
     "metadata": {},
     "output_type": "execute_result"
    }
   ],
   "source": [
    "xgb_cv.best_params_"
   ]
  },
  {
   "cell_type": "code",
   "execution_count": 360,
   "id": "ace73c54-a3ac-4ed7-9043-38af9eba0d03",
   "metadata": {},
   "outputs": [],
   "source": [
    "xgb_tuned = XGBRegressor(colsample_bytree = 0.6, \n",
    "                         learning_rate = 0.1, \n",
    "                         max_depth = 7, \n",
    "                         n_estimators = 500,\n",
    "                         subsample = 1)\n",
    "xgb_tuned = xgb_tuned.fit(x_train,y_train)"
   ]
  },
  {
   "cell_type": "code",
   "execution_count": 361,
   "id": "6c916089-36d1-4e79-aa31-1523faa1912f",
   "metadata": {},
   "outputs": [
    {
     "data": {
      "text/plain": [
       "4246.158031953026"
      ]
     },
     "execution_count": 361,
     "metadata": {},
     "output_type": "execute_result"
    }
   ],
   "source": [
    "y_pred = xgb_tuned.predict(x_test)\n",
    "np.sqrt(mean_squared_error(y_test, y_pred))"
   ]
  },
  {
   "cell_type": "code",
   "execution_count": null,
   "id": "c8f323c8-5beb-4153-91f6-1ea91a39b7f0",
   "metadata": {},
   "outputs": [],
   "source": []
  },
  {
   "cell_type": "code",
   "execution_count": 328,
   "id": "18a87bfc-bc68-4864-8e9f-f31859a8701c",
   "metadata": {},
   "outputs": [],
   "source": []
  },
  {
   "cell_type": "markdown",
   "id": "07c06bbf-8a43-457a-8696-f72a2b2d9717",
   "metadata": {},
   "source": [
    "### Show estimated price and many useful output using XGB model based on entered infos "
   ]
  },
  {
   "cell_type": "code",
   "execution_count": 362,
   "id": "01badee9-a17c-498e-b28a-4669725eef50",
   "metadata": {},
   "outputs": [],
   "source": [
    "def pred_price(city, district, neighborhood, room, metrekare):\n",
    "  \n",
    "    d = data\n",
    "    if city!=\"\" and city not in d[\"city\"].tolist():\n",
    "        print(\"--------------------------------\\n\\nBöyle bir il bulunamadı ya da bu ilde ilan yok!\\n\")\n",
    "        print(\"Şehir ismini doğru yazdığınızdan emin olun!\\nŞehrin baş harfini büyük yazmayı deneyin!\\n\")\n",
    "        return None    \n",
    "    if district!=\"\" and district not in d[\"district\"].tolist():\n",
    "        print(\"--------------------------------\\n\\nBöyle bir ilçe bulunamadı ya da bu ilçede ilan yok!\\n\")\n",
    "        print(\"İlçe ismini doğru yazdığınızdan emin olun!\\nİlçenin baş harfini büyük yazmayı deneyin!\\n\")\n",
    "        return None\n",
    "    if neighborhood!=\"\" and neighborhood not in d[\"neighborhood\"].tolist():\n",
    "        print(\"--------------------------------\\n\\nBöyle bir mahalle bulunamadı ya da bu mahallede ilan yok!\\n\")\n",
    "        print(\"Mahalle ismini doğru yazdığınızdan emin olun!\\nMahallenin baş harfini büyük yazmayı deneyin!\\n\")\n",
    "        return None\n",
    "\n",
    "\n",
    "    \n",
    "    if metrekare==\"\" and room==\"1+0\": \n",
    "        metrekare=40\n",
    "        #print(f\"       m²={metrekare} olarak hesaba katıldı!\")\n",
    "    elif metrekare==\"\" and room==\"1+1\": \n",
    "        metrekare=65\n",
    "        #print(f\"       m²={metrekare} olarak hesaba katıldı!\")\n",
    "    elif metrekare==\"\" and room==\"2+1\": \n",
    "        metrekare=100\n",
    "        #print(f\"       m²={metrekare} olarak hesaba katıldı!\")\n",
    "    elif metrekare==\"\" and room==\"3+1\": \n",
    "        metrekare=130\n",
    "        #print(f\"       m²={metrekare} olarak hesaba katıldı!\")\n",
    "    elif metrekare==\"\" and room==\"4+1\": \n",
    "        metrekare=160\n",
    "        #print(f\"       m²={metrekare} olarak hesaba katıldı!\")\n",
    "    elif metrekare==\"\" and room==\"\": \n",
    "        metrekare=110\n",
    "        #print(f\"       m²={metrekare} olarak hesaba katıldı!\")\n",
    "    else: \n",
    "        pass\n",
    "    \n",
    "    \n",
    "    new = pd.DataFrame({\"city\":[city], \"district\":[district], \"neighborhood\":[neighborhood], \"room\":[room], \"m²\":[metrekare]})\n",
    "    new[\"m²\"] = pd.to_numeric(new[\"m²\"])\n",
    "       \n",
    "    dff = d.drop(\"price\", axis=1)\n",
    "    dff = pd.concat([dff, new], axis=0)\n",
    "\n",
    "    dff[\"\"] = np.arange(len(dff))\n",
    "    dff = dff.set_index(\"\")\n",
    "\n",
    "    # Get dummies the string column\"room\"\n",
    "    dff = pd.get_dummies(dff, columns=[\"room\"], prefix=[\"room\"])\n",
    "\n",
    "    # Encode the string column'city'\n",
    "    dff['city_le'] = le.fit_transform(dff['city'])\n",
    "    \n",
    "    # Encode the string column'district'\n",
    "    dff['district_le'] = le.fit_transform(dff['district'])\n",
    "    \n",
    "    # Encode the string column'neighborhood'\n",
    "    dff['neighborhood_le'] = le.fit_transform(dff['neighborhood'])\n",
    "\n",
    "    dff =dff.drop([\"city\",\"district\",\"neighborhood\"], axis=1)\n",
    "   \n",
    "    if room==\"\":\n",
    "        dff = dff.drop(\"room_\", axis=1)\n",
    "    \n",
    "    # len(data) = 27118 = index of last row\n",
    "    train_data = dff.iloc[27118:,:]\n",
    "    pred = xgb_tuned.predict(train_data)\n",
    "    #print(f\"----------------------------\\n\\nGirilen bilgilere göre tahmini fiyat: {int(pred)} TL\\n\\n----------------------------\")\n",
    "\n",
    "\n",
    "\n",
    "    # write advertising infos according to inputs entered by user\n",
    "    if city==\"\" and room!=\"\":\n",
    "        a=d[d[\"room\"]==room]\n",
    "        print(f\"----------------------------\\n\\nTürkiye'de tahmini {room} kira fiyatı: {int(pred)} TL\\n\\n----------------------------\")     \n",
    "        \n",
    "        print(f\"\\nTürkiye'de toplam {len(a)} tane {room} ilan var.\\n\\n----------------------------\")\n",
    "    \n",
    "    elif district==\"\" and room!=\"\":\n",
    "        a=d[d[\"city\"]==city]\n",
    "        a=a[a[\"room\"]==room]\n",
    "        print(f\"----------------------------\\n\\n{city} şehrinde tahmini {room} kira fiyatı: {int(pred)} TL\\n\\n----------------------------\")     \n",
    "        if len(a)>=5: \n",
    "            last_q = a[\"price\"].quantile(0.75) / a[\"m²\"].quantile(0.75)\n",
    "            first_q = a[\"price\"].quantile(0.25) / a[\"m²\"].quantile(0.25)\n",
    "            print(f\"\\nOrtalama metrekare fiyatı {int(first_q)}TL - {int(last_q)}TL aralığında.\")\n",
    "        else: pass\n",
    "        print(f\"\\nEn düşük fiyat: {a['price'].min()} \\nEn yüksek fiyat: {a['price'].max()}\\n\")\n",
    "        print(f\"{city} ilinde toplam {len(a)} tane {room} ilan var.\\n\\n----------------------------\")\n",
    "   \n",
    "    elif neighborhood==\"\" and room!=\"\":\n",
    "        a=d[d[\"district\"]==district]\n",
    "        a=a[a[\"room\"]==room]\n",
    "        print(f\"----------------------------\\n\\n{district} ilçesinde tahmini {room} kira fiyatı: {int(pred)} TL\\n\\n----------------------------\")     \n",
    "        if len(a)>=5: \n",
    "            last_q = a[\"price\"].quantile(0.75) / a[\"m²\"].quantile(0.75)\n",
    "            first_q = a[\"price\"].quantile(0.25) / a[\"m²\"].quantile(0.25)\n",
    "            print(f\"\\nOrtalama metrekare fiyatı {int(first_q)}TL - {int(last_q)}TL aralığında.\")\n",
    "        else: pass\n",
    "        print(f\"\\nEn düşük fiyat: {a['price'].min()} \\nEn yüksek fiyat: {a['price'].max()}\\n\")\n",
    "        print(f\"{district} ilçesinde toplam {len(a)} tane {room} ilan var.\\n\\n----------------------------\")\n",
    "        a=a.sort_values(by=\"price\", ascending=True)\n",
    "        print(f\"\\nGirilen bilgilere göre Emlakjet sitesindeki ilanlar 'Artan fiyata göre sıralı':\\n\\n{a.to_string(index=False)}\")\n",
    "   \n",
    "    elif neighborhood != \"\" and room!=\"\":\n",
    "        a=d[d[\"district\"]==district]\n",
    "        a=a[a[\"neighborhood\"]==neighborhood]\n",
    "        a=a[a[\"room\"]==room]\n",
    "        print(f\"----------------------------\\n\\n{neighborhood} mahallesinde tahmini {room} kira fiyatı: {int(pred)} TL\\n\\n----------------------------\")     \n",
    "        if len(a)>=5: \n",
    "            last_q = a[\"price\"].quantile(0.75) / a[\"m²\"].quantile(0.75)\n",
    "            first_q = a[\"price\"].quantile(0.25) / a[\"m²\"].quantile(0.25)\n",
    "            print(f\"\\nOrtalama metrekare fiyatı {int(first_q)}TL - {int(last_q)}TL aralığında.\")\n",
    "        else: pass\n",
    "        print(f\"\\nEn düşük fiyat: {a['price'].min()} \\nEn yüksek fiyat: {a['price'].max()}\\n\")\n",
    "        print(f\"{neighborhood} mahallesinde toplam {len(a)} tane {room} ilan var.\\n\\n----------------------------\")\n",
    "        a=a.sort_values(by=\"price\", ascending=True)\n",
    "        print(f\"\\nGirilen bilgilere göre Emlakjet sitesindeki ilanlar 'Artan fiyata göre sıralı':\\n\\n{a.to_string(index=False)}\")\n",
    "\n",
    "    \n",
    "    elif room==\"\" and city==\"\":\n",
    "        print(f\"----------------------------\\n\\nTürkiye'de tahmini kira fiyatı: {int(pred)} TL\\n\\n----------------------------\")     \n",
    "        print(f\"Türkiye'de toplam {len(d)} tane ilan var.\\n\\n----------------------------\")\n",
    "    \n",
    "    elif room == \"\" and district==\"\":\n",
    "        a=d[d[\"city\"]==city]\n",
    "        print(f\"----------------------------\\n\\n{city} şehrinde tahmini kira fiyatı: {int(pred)} TL\\n\\n----------------------------\")     \n",
    "        if len(a)>=5: \n",
    "            last_q = a[\"price\"].quantile(0.75) / a[\"m²\"].quantile(0.75)\n",
    "            first_q = a[\"price\"].quantile(0.25) / a[\"m²\"].quantile(0.25)\n",
    "            print(f\"\\nOrtalama metrekare fiyatı {int(first_q)}TL - {int(last_q)}TL aralığında.\")\n",
    "        else: pass\n",
    "        print(f\"\\nEn düşük fiyat: {a['price'].min()} \\nEn yüksek fiyat: {a['price'].max()}\\n\")\n",
    "        print(f\"{city} ilinde toplam {len(a)} tane ilan var.\\n\\n----------------------------\")\n",
    "    \n",
    "    elif room == \"\" and neighborhood==\"\":\n",
    "        a=d[d[\"district\"]==district]\n",
    "        print(f\"----------------------------\\n\\n{district} ilçesinde tahmini kira fiyatı: {int(pred)} TL\\n\\n----------------------------\")     \n",
    "        if len(a)>=5: \n",
    "            last_q = a[\"price\"].quantile(0.75) / a[\"m²\"].quantile(0.75)\n",
    "            first_q = a[\"price\"].quantile(0.25) / a[\"m²\"].quantile(0.25)\n",
    "            print(f\"\\nOrtalama metrekare fiyatı {int(first_q)}TL - {int(last_q)}TL aralığında.\")\n",
    "        else: pass\n",
    "        print(f\"\\nEn düşük fiyat: {a['price'].min()} \\nEn yüksek fiyat: {a['price'].max()}\\n\")\n",
    "        print(f\"{district} ilçesinde toplam {len(a)} tane ilan var.\\n\\n----------------------------\")\n",
    "        a=a.sort_values(by=\"price\", ascending=True)\n",
    "        print(f\"\\nGirilen bilgilere göre Emlakjet sitesindeki ilanlar 'Artan fiyata göre sıralı':\\n\\n{a.to_string(index=False)}\")\n",
    "    \n",
    "    elif room == \"\" and neighborhood!=\"\":\n",
    "        a=d[d[\"city\"]==city]\n",
    "        a=a[a[\"neighborhood\"]==neighborhood]\n",
    "        print(f\"----------------------------\\n\\n{neighborhood} mahallesinde tahmini kira fiyatı: {int(pred)} TL\\n\\n----------------------------\")     \n",
    "        if len(a)>=5: \n",
    "            last_q = a[\"price\"].quantile(0.75) / a[\"m²\"].quantile(0.75)\n",
    "            first_q = a[\"price\"].quantile(0.25) / a[\"m²\"].quantile(0.25)\n",
    "            print(f\"\\nOrtalama metrekare fiyatı {int(first_q)}TL - {int(last_q)}TL aralığında.\")\n",
    "        else: pass\n",
    "        print(f\"\\nEn düşük fiyat: {a['price'].min()} \\nEn yüksek fiyat: {a['price'].max()}\\n\")\n",
    "        print(f\"{neighborhood} mahallesinde toplam {len(a)} tane ilan var.\\n\\n----------------------------\")\n",
    "        a=a.sort_values(by=\"price\", ascending=True)\n",
    "        print(f\"\\nGirilen bilgilere göre Emlakjet sitesindeki ilanlar 'Artan fiyata göre sıralı':\\n\\n{a.to_string(index=False)}\")\n",
    "    \n",
    "    else:\n",
    "        pass\n",
    "\n"
   ]
  },
  {
   "cell_type": "code",
   "execution_count": 374,
   "id": "e0173dc2-3a66-47c0-87e8-a495d224a34a",
   "metadata": {},
   "outputs": [
    {
     "name": "stdout",
     "output_type": "stream",
     "text": [
      "İstenilen şekilde filtreleme yapılabilir.\n",
      "\n"
     ]
    },
    {
     "name": "stdin",
     "output_type": "stream",
     "text": [
      "City:  Manisa\n",
      "District:  Alaşehir\n",
      "Neighborhood:  \n",
      "Rooms:  2+1\n",
      "Meter:  \n"
     ]
    },
    {
     "name": "stdout",
     "output_type": "stream",
     "text": [
      "----------------------------\n",
      "\n",
      "Alaşehir ilçesinde tahmini 2+1 kira fiyatı: 7210 TL\n",
      "\n",
      "----------------------------\n",
      "\n",
      "Ortalama metrekare fiyatı 61TL - 66TL aralığında.\n",
      "\n",
      "En düşük fiyat: 4000 \n",
      "En yüksek fiyat: 8250\n",
      "\n",
      "Alaşehir ilçesinde toplam 6 tane 2+1 ilan var.\n",
      "\n",
      "----------------------------\n",
      "\n",
      "Girilen bilgilere göre Emlakjet sitesindeki ilanlar 'Artan fiyata göre sıralı':\n",
      "\n",
      "  city district neighborhood room  m²  price\n",
      "Manisa Alaşehir     Beşeylül  2+1 120   4000\n",
      "Manisa Alaşehir     Kurtuluş  2+1  95   6000\n",
      "Manisa Alaşehir     İstasyon  2+1 115   6500\n",
      "Manisa Alaşehir     Kurtuluş  2+1 120   8000\n",
      "Manisa Alaşehir     İstasyon  2+1 130   8000\n",
      "Manisa Alaşehir     Kurtuluş  2+1  90   8250\n"
     ]
    }
   ],
   "source": [
    "\n",
    "print(\"İstenilen şekilde filtreleme yapılabilir.\\n\")\n",
    "\n",
    "city = \"\"\n",
    "city = input(\"City: \")\n",
    "district = \"\"\n",
    "district = input(\"District: \")\n",
    "neighborhood = \"\"\n",
    "neighborhood = input(\"Neighborhood: \")\n",
    "room = \"\"\n",
    "room = input(\"Rooms: \")\n",
    "metrekare = \"\"\n",
    "metrekare = input(\"Meter: \")\n",
    "\n",
    "# Sent inputs to pred_price function\n",
    "pred_price(city,district,neighborhood,room,metrekare)\n"
   ]
  },
  {
   "cell_type": "code",
   "execution_count": null,
   "id": "c914a73e-0863-493d-affc-fb91597f58b7",
   "metadata": {},
   "outputs": [],
   "source": []
  },
  {
   "cell_type": "code",
   "execution_count": null,
   "id": "bd1547b6-3b1c-4131-a44d-fc14ba216a61",
   "metadata": {},
   "outputs": [],
   "source": []
  },
  {
   "cell_type": "code",
   "execution_count": null,
   "id": "3c4e4cad-a335-4b81-af44-a3f5dc20ee18",
   "metadata": {},
   "outputs": [],
   "source": []
  },
  {
   "cell_type": "code",
   "execution_count": null,
   "id": "128cbbda-2f59-44df-ad76-7c392b5ced38",
   "metadata": {},
   "outputs": [],
   "source": []
  }
 ],
 "metadata": {
  "kernelspec": {
   "display_name": "Python 3 (ipykernel)",
   "language": "python",
   "name": "python3"
  },
  "language_info": {
   "codemirror_mode": {
    "name": "ipython",
    "version": 3
   },
   "file_extension": ".py",
   "mimetype": "text/x-python",
   "name": "python",
   "nbconvert_exporter": "python",
   "pygments_lexer": "ipython3",
   "version": "3.10.9"
  },
  "toc-autonumbering": true,
  "toc-showcode": true,
  "toc-showmarkdowntxt": true,
  "toc-showtags": true
 },
 "nbformat": 4,
 "nbformat_minor": 5
}
