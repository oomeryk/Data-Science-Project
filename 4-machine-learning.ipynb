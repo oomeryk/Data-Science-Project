{
 "cells": [
  {
   "cell_type": "markdown",
   "id": "5c997ff5-8823-4715-a2f8-b8d1e5a04822",
   "metadata": {},
   "source": [
    "# 4- Machine Learning"
   ]
  },
  {
   "cell_type": "code",
   "execution_count": 2,
   "id": "5d7b2fbb-a75c-4223-a857-d66c051280dc",
   "metadata": {},
   "outputs": [],
   "source": [
    "import pandas as pd\n",
    "import numpy as np\n",
    "import matplotlib.pyplot as plt\n",
    "import seaborn as sns\n",
    "\n",
    "\n",
    "from sklearn.model_selection import train_test_split, GridSearchCV,cross_val_score\n",
    "from sklearn.metrics import mean_squared_error, r2_score\n",
    "from sklearn.preprocessing import LabelEncoder\n",
    "from sklearn.model_selection import GridSearchCV\n",
    "\n",
    "from sklearn.neighbors import KNeighborsRegressor\n",
    "from sklearn.svm import SVR\n",
    "from sklearn.tree import DecisionTreeRegressor  \n",
    "from catboost import CatBoostRegressor\n",
    "from sklearn.tree import DecisionTreeRegressor\n",
    "from sklearn.ensemble import RandomForestRegressor\n",
    "from sklearn.neural_network import MLPRegressor\n",
    "from sklearn.ensemble import BaggingRegressor\n",
    "from sklearn.ensemble import GradientBoostingRegressor\n",
    "from xgboost import XGBRegressor\n",
    "from lightgbm import LGBMRegressor"
   ]
  },
  {
   "cell_type": "code",
   "execution_count": 3,
   "id": "ea2f10a1-f9ae-4325-a51a-4178b7e9a97c",
   "metadata": {},
   "outputs": [
    {
     "data": {
      "text/html": [
       "<div>\n",
       "<style scoped>\n",
       "    .dataframe tbody tr th:only-of-type {\n",
       "        vertical-align: middle;\n",
       "    }\n",
       "\n",
       "    .dataframe tbody tr th {\n",
       "        vertical-align: top;\n",
       "    }\n",
       "\n",
       "    .dataframe thead th {\n",
       "        text-align: right;\n",
       "    }\n",
       "</style>\n",
       "<table border=\"1\" class=\"dataframe\">\n",
       "  <thead>\n",
       "    <tr style=\"text-align: right;\">\n",
       "      <th></th>\n",
       "      <th>Unnamed: 0</th>\n",
       "      <th>city</th>\n",
       "      <th>district</th>\n",
       "      <th>neighborhood</th>\n",
       "      <th>room</th>\n",
       "      <th>m²</th>\n",
       "      <th>price</th>\n",
       "    </tr>\n",
       "  </thead>\n",
       "  <tbody>\n",
       "    <tr>\n",
       "      <th>0</th>\n",
       "      <td>0</td>\n",
       "      <td>Adana</td>\n",
       "      <td>Ceyhan</td>\n",
       "      <td>Cumhuriyet</td>\n",
       "      <td>2+1</td>\n",
       "      <td>130</td>\n",
       "      <td>7000</td>\n",
       "    </tr>\n",
       "    <tr>\n",
       "      <th>1</th>\n",
       "      <td>1</td>\n",
       "      <td>Adana</td>\n",
       "      <td>Ceyhan</td>\n",
       "      <td>Cumhuriyet</td>\n",
       "      <td>4+1</td>\n",
       "      <td>180</td>\n",
       "      <td>12000</td>\n",
       "    </tr>\n",
       "    <tr>\n",
       "      <th>2</th>\n",
       "      <td>2</td>\n",
       "      <td>Adana</td>\n",
       "      <td>Ceyhan</td>\n",
       "      <td>Cumhuriyet</td>\n",
       "      <td>2+1</td>\n",
       "      <td>115</td>\n",
       "      <td>7250</td>\n",
       "    </tr>\n",
       "    <tr>\n",
       "      <th>3</th>\n",
       "      <td>3</td>\n",
       "      <td>Adana</td>\n",
       "      <td>Ceyhan</td>\n",
       "      <td>Hürriyet</td>\n",
       "      <td>3+1</td>\n",
       "      <td>185</td>\n",
       "      <td>11500</td>\n",
       "    </tr>\n",
       "    <tr>\n",
       "      <th>4</th>\n",
       "      <td>4</td>\n",
       "      <td>Adana</td>\n",
       "      <td>Ceyhan</td>\n",
       "      <td>Ulus</td>\n",
       "      <td>3+1</td>\n",
       "      <td>165</td>\n",
       "      <td>9000</td>\n",
       "    </tr>\n",
       "    <tr>\n",
       "      <th>...</th>\n",
       "      <td>...</td>\n",
       "      <td>...</td>\n",
       "      <td>...</td>\n",
       "      <td>...</td>\n",
       "      <td>...</td>\n",
       "      <td>...</td>\n",
       "      <td>...</td>\n",
       "    </tr>\n",
       "    <tr>\n",
       "      <th>27113</th>\n",
       "      <td>27113</td>\n",
       "      <td>Yozgat</td>\n",
       "      <td>Yerköy</td>\n",
       "      <td>100. Yıl</td>\n",
       "      <td>3+1</td>\n",
       "      <td>135</td>\n",
       "      <td>4250</td>\n",
       "    </tr>\n",
       "    <tr>\n",
       "      <th>27114</th>\n",
       "      <td>27114</td>\n",
       "      <td>Yozgat</td>\n",
       "      <td>Yerköy</td>\n",
       "      <td>Ayanoğlu</td>\n",
       "      <td>3+1</td>\n",
       "      <td>135</td>\n",
       "      <td>5250</td>\n",
       "    </tr>\n",
       "    <tr>\n",
       "      <th>27115</th>\n",
       "      <td>27115</td>\n",
       "      <td>Yozgat</td>\n",
       "      <td>Yerköy</td>\n",
       "      <td>100. Yıl</td>\n",
       "      <td>3+1</td>\n",
       "      <td>140</td>\n",
       "      <td>3250</td>\n",
       "    </tr>\n",
       "    <tr>\n",
       "      <th>27116</th>\n",
       "      <td>27116</td>\n",
       "      <td>Zonguldak</td>\n",
       "      <td>Çaycuma</td>\n",
       "      <td>Karamusa</td>\n",
       "      <td>3+1</td>\n",
       "      <td>120</td>\n",
       "      <td>11000</td>\n",
       "    </tr>\n",
       "    <tr>\n",
       "      <th>27117</th>\n",
       "      <td>27117</td>\n",
       "      <td>Zonguldak</td>\n",
       "      <td>Çaycuma</td>\n",
       "      <td>Yukarıdere Köyü (Yukarı</td>\n",
       "      <td>3+1</td>\n",
       "      <td>160</td>\n",
       "      <td>8000</td>\n",
       "    </tr>\n",
       "  </tbody>\n",
       "</table>\n",
       "<p>27118 rows × 7 columns</p>\n",
       "</div>"
      ],
      "text/plain": [
       "       Unnamed: 0       city district              neighborhood room   m²  \\\n",
       "0               0      Adana   Ceyhan                Cumhuriyet  2+1  130   \n",
       "1               1      Adana   Ceyhan                Cumhuriyet  4+1  180   \n",
       "2               2      Adana   Ceyhan                Cumhuriyet  2+1  115   \n",
       "3               3      Adana   Ceyhan                  Hürriyet  3+1  185   \n",
       "4               4      Adana   Ceyhan                      Ulus  3+1  165   \n",
       "...           ...        ...      ...                       ...  ...  ...   \n",
       "27113       27113     Yozgat   Yerköy                  100. Yıl  3+1  135   \n",
       "27114       27114     Yozgat   Yerköy                  Ayanoğlu  3+1  135   \n",
       "27115       27115     Yozgat   Yerköy                  100. Yıl  3+1  140   \n",
       "27116       27116  Zonguldak  Çaycuma                  Karamusa  3+1  120   \n",
       "27117       27117  Zonguldak  Çaycuma  Yukarıdere Köyü (Yukarı   3+1  160   \n",
       "\n",
       "       price  \n",
       "0       7000  \n",
       "1      12000  \n",
       "2       7250  \n",
       "3      11500  \n",
       "4       9000  \n",
       "...      ...  \n",
       "27113   4250  \n",
       "27114   5250  \n",
       "27115   3250  \n",
       "27116  11000  \n",
       "27117   8000  \n",
       "\n",
       "[27118 rows x 7 columns]"
      ]
     },
     "execution_count": 3,
     "metadata": {},
     "output_type": "execute_result"
    }
   ],
   "source": [
    "data = pd.read_excel(\"adverts1-2.xlsx\")\n",
    "data"
   ]
  },
  {
   "cell_type": "code",
   "execution_count": 4,
   "id": "be520645-a69c-4e7d-8262-59b80796017d",
   "metadata": {},
   "outputs": [],
   "source": [
    "data = data.drop(\"Unnamed: 0\", axis=1)"
   ]
  },
  {
   "cell_type": "code",
   "execution_count": 5,
   "id": "f403abf6-9bb5-42fe-b581-fa949a69e22e",
   "metadata": {},
   "outputs": [],
   "source": [
    "df = data"
   ]
  },
  {
   "cell_type": "code",
   "execution_count": null,
   "id": "f3f05fae-8ef3-4b43-a580-108c9d9d7463",
   "metadata": {},
   "outputs": [],
   "source": []
  },
  {
   "cell_type": "code",
   "execution_count": 6,
   "id": "3862d455-ca24-4c5e-8c7f-d6e3d5aa8947",
   "metadata": {},
   "outputs": [],
   "source": [
    "# Assing dummy variable to columns for each room type\n",
    "df = pd.get_dummies(df, columns=[\"room\"], prefix=[\"room\"])"
   ]
  },
  {
   "cell_type": "code",
   "execution_count": 7,
   "id": "c814418d-79eb-4776-855a-ab191934cb60",
   "metadata": {},
   "outputs": [
    {
     "data": {
      "text/plain": [
       "[510, 5225, 9778, 10236, 1369]"
      ]
     },
     "execution_count": 7,
     "metadata": {},
     "output_type": "execute_result"
    }
   ],
   "source": [
    "# learn how many advert for each room type using cplumns that assing dummy \n",
    "arr= [df[\"room_1+0\"].sum(), df[\"room_1+1\"].sum(), df[\"room_2+1\"].sum(), df[\"room_3+1\"].sum(), df[\"room_4+1\"].sum()]\n",
    "arr"
   ]
  },
  {
   "cell_type": "code",
   "execution_count": 8,
   "id": "dcb68952-8ce2-4f93-b733-5d6f5abea36c",
   "metadata": {},
   "outputs": [],
   "source": [
    "# Apply LabelEencoder transformation for 'city', 'district', 'neighborhood'\n",
    "from sklearn.preprocessing import LabelEncoder\n",
    "# Create a LabelEncoder object\n",
    "le = LabelEncoder()\n",
    "\n",
    "# Encode the string column 'city'\n",
    "df['city_le'] = le.fit_transform(df['city'])\n",
    "\n",
    "# Encode the string column 'district'\n",
    "df['district_le'] = le.fit_transform(df['district'])\n",
    "\n",
    "# Encode the string column 'neighborhood'\n",
    "df['neighborhood_le'] = le.fit_transform(df['neighborhood'])"
   ]
  },
  {
   "cell_type": "code",
   "execution_count": 9,
   "id": "b951487f-9ad3-4b26-a969-16aaf720f6af",
   "metadata": {
    "tags": []
   },
   "outputs": [],
   "source": [
    "df = df.drop([\"city\",\"district\",\"neighborhood\"], axis=1)"
   ]
  },
  {
   "cell_type": "code",
   "execution_count": 10,
   "id": "9ef8e72f-2738-41c3-a611-59de5b740ef3",
   "metadata": {},
   "outputs": [
    {
     "data": {
      "text/html": [
       "<div>\n",
       "<style scoped>\n",
       "    .dataframe tbody tr th:only-of-type {\n",
       "        vertical-align: middle;\n",
       "    }\n",
       "\n",
       "    .dataframe tbody tr th {\n",
       "        vertical-align: top;\n",
       "    }\n",
       "\n",
       "    .dataframe thead th {\n",
       "        text-align: right;\n",
       "    }\n",
       "</style>\n",
       "<table border=\"1\" class=\"dataframe\">\n",
       "  <thead>\n",
       "    <tr style=\"text-align: right;\">\n",
       "      <th></th>\n",
       "      <th>count</th>\n",
       "      <th>mean</th>\n",
       "      <th>std</th>\n",
       "      <th>min</th>\n",
       "      <th>25%</th>\n",
       "      <th>50%</th>\n",
       "      <th>75%</th>\n",
       "      <th>max</th>\n",
       "    </tr>\n",
       "  </thead>\n",
       "  <tbody>\n",
       "    <tr>\n",
       "      <th>m²</th>\n",
       "      <td>27118.0</td>\n",
       "      <td>112.314514</td>\n",
       "      <td>39.752902</td>\n",
       "      <td>20.0</td>\n",
       "      <td>85.0</td>\n",
       "      <td>110.0</td>\n",
       "      <td>140.0</td>\n",
       "      <td>230.0</td>\n",
       "    </tr>\n",
       "    <tr>\n",
       "      <th>price</th>\n",
       "      <td>27118.0</td>\n",
       "      <td>14284.049856</td>\n",
       "      <td>6637.580786</td>\n",
       "      <td>2000.0</td>\n",
       "      <td>10000.0</td>\n",
       "      <td>13000.0</td>\n",
       "      <td>17000.0</td>\n",
       "      <td>57500.0</td>\n",
       "    </tr>\n",
       "    <tr>\n",
       "      <th>room_1+0</th>\n",
       "      <td>27118.0</td>\n",
       "      <td>0.018807</td>\n",
       "      <td>0.135844</td>\n",
       "      <td>0.0</td>\n",
       "      <td>0.0</td>\n",
       "      <td>0.0</td>\n",
       "      <td>0.0</td>\n",
       "      <td>1.0</td>\n",
       "    </tr>\n",
       "    <tr>\n",
       "      <th>room_1+1</th>\n",
       "      <td>27118.0</td>\n",
       "      <td>0.192676</td>\n",
       "      <td>0.394408</td>\n",
       "      <td>0.0</td>\n",
       "      <td>0.0</td>\n",
       "      <td>0.0</td>\n",
       "      <td>0.0</td>\n",
       "      <td>1.0</td>\n",
       "    </tr>\n",
       "    <tr>\n",
       "      <th>room_2+1</th>\n",
       "      <td>27118.0</td>\n",
       "      <td>0.360572</td>\n",
       "      <td>0.480175</td>\n",
       "      <td>0.0</td>\n",
       "      <td>0.0</td>\n",
       "      <td>0.0</td>\n",
       "      <td>1.0</td>\n",
       "      <td>1.0</td>\n",
       "    </tr>\n",
       "    <tr>\n",
       "      <th>room_3+1</th>\n",
       "      <td>27118.0</td>\n",
       "      <td>0.377461</td>\n",
       "      <td>0.484761</td>\n",
       "      <td>0.0</td>\n",
       "      <td>0.0</td>\n",
       "      <td>0.0</td>\n",
       "      <td>1.0</td>\n",
       "      <td>1.0</td>\n",
       "    </tr>\n",
       "    <tr>\n",
       "      <th>room_4+1</th>\n",
       "      <td>27118.0</td>\n",
       "      <td>0.050483</td>\n",
       "      <td>0.218944</td>\n",
       "      <td>0.0</td>\n",
       "      <td>0.0</td>\n",
       "      <td>0.0</td>\n",
       "      <td>0.0</td>\n",
       "      <td>1.0</td>\n",
       "    </tr>\n",
       "    <tr>\n",
       "      <th>city_le</th>\n",
       "      <td>27118.0</td>\n",
       "      <td>41.867763</td>\n",
       "      <td>27.576993</td>\n",
       "      <td>0.0</td>\n",
       "      <td>8.0</td>\n",
       "      <td>48.0</td>\n",
       "      <td>71.0</td>\n",
       "      <td>73.0</td>\n",
       "    </tr>\n",
       "    <tr>\n",
       "      <th>district_le</th>\n",
       "      <td>27118.0</td>\n",
       "      <td>195.596357</td>\n",
       "      <td>109.571811</td>\n",
       "      <td>0.0</td>\n",
       "      <td>106.0</td>\n",
       "      <td>199.0</td>\n",
       "      <td>283.0</td>\n",
       "      <td>383.0</td>\n",
       "    </tr>\n",
       "    <tr>\n",
       "      <th>neighborhood_le</th>\n",
       "      <td>27118.0</td>\n",
       "      <td>1232.499004</td>\n",
       "      <td>742.287054</td>\n",
       "      <td>0.0</td>\n",
       "      <td>540.0</td>\n",
       "      <td>1240.5</td>\n",
       "      <td>1912.0</td>\n",
       "      <td>2471.0</td>\n",
       "    </tr>\n",
       "  </tbody>\n",
       "</table>\n",
       "</div>"
      ],
      "text/plain": [
       "                   count          mean          std     min      25%      50%  \\\n",
       "m²               27118.0    112.314514    39.752902    20.0     85.0    110.0   \n",
       "price            27118.0  14284.049856  6637.580786  2000.0  10000.0  13000.0   \n",
       "room_1+0         27118.0      0.018807     0.135844     0.0      0.0      0.0   \n",
       "room_1+1         27118.0      0.192676     0.394408     0.0      0.0      0.0   \n",
       "room_2+1         27118.0      0.360572     0.480175     0.0      0.0      0.0   \n",
       "room_3+1         27118.0      0.377461     0.484761     0.0      0.0      0.0   \n",
       "room_4+1         27118.0      0.050483     0.218944     0.0      0.0      0.0   \n",
       "city_le          27118.0     41.867763    27.576993     0.0      8.0     48.0   \n",
       "district_le      27118.0    195.596357   109.571811     0.0    106.0    199.0   \n",
       "neighborhood_le  27118.0   1232.499004   742.287054     0.0    540.0   1240.5   \n",
       "\n",
       "                     75%      max  \n",
       "m²                 140.0    230.0  \n",
       "price            17000.0  57500.0  \n",
       "room_1+0             0.0      1.0  \n",
       "room_1+1             0.0      1.0  \n",
       "room_2+1             1.0      1.0  \n",
       "room_3+1             1.0      1.0  \n",
       "room_4+1             0.0      1.0  \n",
       "city_le             71.0     73.0  \n",
       "district_le        283.0    383.0  \n",
       "neighborhood_le   1912.0   2471.0  "
      ]
     },
     "execution_count": 10,
     "metadata": {},
     "output_type": "execute_result"
    }
   ],
   "source": [
    "df.describe().T"
   ]
  },
  {
   "cell_type": "code",
   "execution_count": 11,
   "id": "72054032-d9b0-4040-bf03-410394f2039e",
   "metadata": {},
   "outputs": [
    {
     "data": {
      "text/html": [
       "<div>\n",
       "<style scoped>\n",
       "    .dataframe tbody tr th:only-of-type {\n",
       "        vertical-align: middle;\n",
       "    }\n",
       "\n",
       "    .dataframe tbody tr th {\n",
       "        vertical-align: top;\n",
       "    }\n",
       "\n",
       "    .dataframe thead th {\n",
       "        text-align: right;\n",
       "    }\n",
       "</style>\n",
       "<table border=\"1\" class=\"dataframe\">\n",
       "  <thead>\n",
       "    <tr style=\"text-align: right;\">\n",
       "      <th></th>\n",
       "      <th>m²</th>\n",
       "      <th>price</th>\n",
       "      <th>room_1+0</th>\n",
       "      <th>room_1+1</th>\n",
       "      <th>room_2+1</th>\n",
       "      <th>room_3+1</th>\n",
       "      <th>room_4+1</th>\n",
       "      <th>city_le</th>\n",
       "      <th>district_le</th>\n",
       "      <th>neighborhood_le</th>\n",
       "    </tr>\n",
       "  </thead>\n",
       "  <tbody>\n",
       "    <tr>\n",
       "      <th>0</th>\n",
       "      <td>130</td>\n",
       "      <td>7000</td>\n",
       "      <td>0</td>\n",
       "      <td>0</td>\n",
       "      <td>1</td>\n",
       "      <td>0</td>\n",
       "      <td>0</td>\n",
       "      <td>0</td>\n",
       "      <td>88</td>\n",
       "      <td>500</td>\n",
       "    </tr>\n",
       "    <tr>\n",
       "      <th>1</th>\n",
       "      <td>180</td>\n",
       "      <td>12000</td>\n",
       "      <td>0</td>\n",
       "      <td>0</td>\n",
       "      <td>0</td>\n",
       "      <td>0</td>\n",
       "      <td>1</td>\n",
       "      <td>0</td>\n",
       "      <td>88</td>\n",
       "      <td>500</td>\n",
       "    </tr>\n",
       "    <tr>\n",
       "      <th>2</th>\n",
       "      <td>115</td>\n",
       "      <td>7250</td>\n",
       "      <td>0</td>\n",
       "      <td>0</td>\n",
       "      <td>1</td>\n",
       "      <td>0</td>\n",
       "      <td>0</td>\n",
       "      <td>0</td>\n",
       "      <td>88</td>\n",
       "      <td>500</td>\n",
       "    </tr>\n",
       "    <tr>\n",
       "      <th>3</th>\n",
       "      <td>185</td>\n",
       "      <td>11500</td>\n",
       "      <td>0</td>\n",
       "      <td>0</td>\n",
       "      <td>0</td>\n",
       "      <td>1</td>\n",
       "      <td>0</td>\n",
       "      <td>0</td>\n",
       "      <td>88</td>\n",
       "      <td>1013</td>\n",
       "    </tr>\n",
       "    <tr>\n",
       "      <th>4</th>\n",
       "      <td>165</td>\n",
       "      <td>9000</td>\n",
       "      <td>0</td>\n",
       "      <td>0</td>\n",
       "      <td>0</td>\n",
       "      <td>1</td>\n",
       "      <td>0</td>\n",
       "      <td>0</td>\n",
       "      <td>88</td>\n",
       "      <td>1973</td>\n",
       "    </tr>\n",
       "  </tbody>\n",
       "</table>\n",
       "</div>"
      ],
      "text/plain": [
       "    m²  price  room_1+0  room_1+1  room_2+1  room_3+1  room_4+1  city_le  \\\n",
       "0  130   7000         0         0         1         0         0        0   \n",
       "1  180  12000         0         0         0         0         1        0   \n",
       "2  115   7250         0         0         1         0         0        0   \n",
       "3  185  11500         0         0         0         1         0        0   \n",
       "4  165   9000         0         0         0         1         0        0   \n",
       "\n",
       "   district_le  neighborhood_le  \n",
       "0           88              500  \n",
       "1           88              500  \n",
       "2           88              500  \n",
       "3           88             1013  \n",
       "4           88             1973  "
      ]
     },
     "execution_count": 11,
     "metadata": {},
     "output_type": "execute_result"
    }
   ],
   "source": [
    "df.head()"
   ]
  },
  {
   "cell_type": "code",
   "execution_count": null,
   "id": "93855af8-aa3b-4878-ace4-bf1a900579af",
   "metadata": {},
   "outputs": [],
   "source": []
  },
  {
   "cell_type": "code",
   "execution_count": 12,
   "id": "714cd613-3970-4531-ab42-9c6b2d8e481f",
   "metadata": {},
   "outputs": [],
   "source": [
    "# Define dependet and independet variables\n",
    "\n",
    "y = df[\"price\"]\n",
    "x = df.drop(\"price\", axis=1)"
   ]
  },
  {
   "cell_type": "code",
   "execution_count": 13,
   "id": "9f3fae6a-9442-454d-8289-4e09b37736b8",
   "metadata": {},
   "outputs": [],
   "source": [
    "x_train, x_test, y_train, y_test = train_test_split(x, y, test_size=0.2, random_state=42)"
   ]
  },
  {
   "cell_type": "code",
   "execution_count": 14,
   "id": "57ebf329-3233-42bc-92b5-6947dd6c0e04",
   "metadata": {},
   "outputs": [
    {
     "data": {
      "text/plain": [
       "0.20085907138474127"
      ]
     },
     "execution_count": 14,
     "metadata": {},
     "output_type": "execute_result"
    }
   ],
   "source": [
    "# for learning rate\"test_data/all_data\" that 2+1 room type  \n",
    "(x_test[\"room_2+1\"].sum()) / (x_test[\"room_2+1\"].sum() + x_train[\"room_2+1\"].sum())"
   ]
  },
  {
   "cell_type": "code",
   "execution_count": 15,
   "id": "bef91b7f-d11a-4635-aef9-9a1343913838",
   "metadata": {},
   "outputs": [
    {
     "data": {
      "text/html": [
       "<div>\n",
       "<style scoped>\n",
       "    .dataframe tbody tr th:only-of-type {\n",
       "        vertical-align: middle;\n",
       "    }\n",
       "\n",
       "    .dataframe tbody tr th {\n",
       "        vertical-align: top;\n",
       "    }\n",
       "\n",
       "    .dataframe thead th {\n",
       "        text-align: right;\n",
       "    }\n",
       "</style>\n",
       "<table border=\"1\" class=\"dataframe\">\n",
       "  <thead>\n",
       "    <tr style=\"text-align: right;\">\n",
       "      <th></th>\n",
       "      <th>m²</th>\n",
       "      <th>room_1+0</th>\n",
       "      <th>room_1+1</th>\n",
       "      <th>room_2+1</th>\n",
       "      <th>room_3+1</th>\n",
       "      <th>room_4+1</th>\n",
       "      <th>city_le</th>\n",
       "      <th>district_le</th>\n",
       "      <th>neighborhood_le</th>\n",
       "    </tr>\n",
       "  </thead>\n",
       "  <tbody>\n",
       "    <tr>\n",
       "      <th>1287</th>\n",
       "      <td>145</td>\n",
       "      <td>0</td>\n",
       "      <td>0</td>\n",
       "      <td>0</td>\n",
       "      <td>1</td>\n",
       "      <td>0</td>\n",
       "      <td>5</td>\n",
       "      <td>21</td>\n",
       "      <td>733</td>\n",
       "    </tr>\n",
       "    <tr>\n",
       "      <th>18226</th>\n",
       "      <td>115</td>\n",
       "      <td>0</td>\n",
       "      <td>0</td>\n",
       "      <td>0</td>\n",
       "      <td>1</td>\n",
       "      <td>0</td>\n",
       "      <td>72</td>\n",
       "      <td>76</td>\n",
       "      <td>705</td>\n",
       "    </tr>\n",
       "    <tr>\n",
       "      <th>13766</th>\n",
       "      <td>130</td>\n",
       "      <td>0</td>\n",
       "      <td>0</td>\n",
       "      <td>1</td>\n",
       "      <td>0</td>\n",
       "      <td>0</td>\n",
       "      <td>71</td>\n",
       "      <td>124</td>\n",
       "      <td>1643</td>\n",
       "    </tr>\n",
       "    <tr>\n",
       "      <th>23406</th>\n",
       "      <td>70</td>\n",
       "      <td>0</td>\n",
       "      <td>0</td>\n",
       "      <td>1</td>\n",
       "      <td>0</td>\n",
       "      <td>0</td>\n",
       "      <td>49</td>\n",
       "      <td>74</td>\n",
       "      <td>1236</td>\n",
       "    </tr>\n",
       "    <tr>\n",
       "      <th>5099</th>\n",
       "      <td>80</td>\n",
       "      <td>0</td>\n",
       "      <td>0</td>\n",
       "      <td>1</td>\n",
       "      <td>0</td>\n",
       "      <td>0</td>\n",
       "      <td>6</td>\n",
       "      <td>191</td>\n",
       "      <td>2132</td>\n",
       "    </tr>\n",
       "    <tr>\n",
       "      <th>...</th>\n",
       "      <td>...</td>\n",
       "      <td>...</td>\n",
       "      <td>...</td>\n",
       "      <td>...</td>\n",
       "      <td>...</td>\n",
       "      <td>...</td>\n",
       "      <td>...</td>\n",
       "      <td>...</td>\n",
       "      <td>...</td>\n",
       "    </tr>\n",
       "    <tr>\n",
       "      <th>21575</th>\n",
       "      <td>200</td>\n",
       "      <td>0</td>\n",
       "      <td>0</td>\n",
       "      <td>0</td>\n",
       "      <td>0</td>\n",
       "      <td>1</td>\n",
       "      <td>45</td>\n",
       "      <td>335</td>\n",
       "      <td>1871</td>\n",
       "    </tr>\n",
       "    <tr>\n",
       "      <th>5390</th>\n",
       "      <td>80</td>\n",
       "      <td>0</td>\n",
       "      <td>0</td>\n",
       "      <td>1</td>\n",
       "      <td>0</td>\n",
       "      <td>0</td>\n",
       "      <td>6</td>\n",
       "      <td>199</td>\n",
       "      <td>1008</td>\n",
       "    </tr>\n",
       "    <tr>\n",
       "      <th>860</th>\n",
       "      <td>60</td>\n",
       "      <td>0</td>\n",
       "      <td>1</td>\n",
       "      <td>0</td>\n",
       "      <td>0</td>\n",
       "      <td>0</td>\n",
       "      <td>0</td>\n",
       "      <td>287</td>\n",
       "      <td>1830</td>\n",
       "    </tr>\n",
       "    <tr>\n",
       "      <th>15795</th>\n",
       "      <td>74</td>\n",
       "      <td>0</td>\n",
       "      <td>1</td>\n",
       "      <td>0</td>\n",
       "      <td>0</td>\n",
       "      <td>0</td>\n",
       "      <td>71</td>\n",
       "      <td>210</td>\n",
       "      <td>234</td>\n",
       "    </tr>\n",
       "    <tr>\n",
       "      <th>23654</th>\n",
       "      <td>55</td>\n",
       "      <td>0</td>\n",
       "      <td>1</td>\n",
       "      <td>0</td>\n",
       "      <td>0</td>\n",
       "      <td>0</td>\n",
       "      <td>49</td>\n",
       "      <td>91</td>\n",
       "      <td>1133</td>\n",
       "    </tr>\n",
       "  </tbody>\n",
       "</table>\n",
       "<p>21694 rows × 9 columns</p>\n",
       "</div>"
      ],
      "text/plain": [
       "        m²  room_1+0  room_1+1  room_2+1  room_3+1  room_4+1  city_le  \\\n",
       "1287   145         0         0         0         1         0        5   \n",
       "18226  115         0         0         0         1         0       72   \n",
       "13766  130         0         0         1         0         0       71   \n",
       "23406   70         0         0         1         0         0       49   \n",
       "5099    80         0         0         1         0         0        6   \n",
       "...    ...       ...       ...       ...       ...       ...      ...   \n",
       "21575  200         0         0         0         0         1       45   \n",
       "5390    80         0         0         1         0         0        6   \n",
       "860     60         0         1         0         0         0        0   \n",
       "15795   74         0         1         0         0         0       71   \n",
       "23654   55         0         1         0         0         0       49   \n",
       "\n",
       "       district_le  neighborhood_le  \n",
       "1287            21              733  \n",
       "18226           76              705  \n",
       "13766          124             1643  \n",
       "23406           74             1236  \n",
       "5099           191             2132  \n",
       "...            ...              ...  \n",
       "21575          335             1871  \n",
       "5390           199             1008  \n",
       "860            287             1830  \n",
       "15795          210              234  \n",
       "23654           91             1133  \n",
       "\n",
       "[21694 rows x 9 columns]"
      ]
     },
     "execution_count": 15,
     "metadata": {},
     "output_type": "execute_result"
    }
   ],
   "source": [
    "x_train"
   ]
  },
  {
   "cell_type": "code",
   "execution_count": null,
   "id": "0d4b3237-8ddf-4a3c-8732-1b6c6c4edb09",
   "metadata": {},
   "outputs": [],
   "source": []
  },
  {
   "cell_type": "markdown",
   "id": "1ab05852-cae4-4df7-8b37-73611b7d46f3",
   "metadata": {},
   "source": [
    "#### Creating machine learning models"
   ]
  },
  {
   "cell_type": "code",
   "execution_count": 16,
   "id": "9bcc7456-6555-4309-9273-137ccba519e2",
   "metadata": {
    "tags": []
   },
   "outputs": [],
   "source": [
    "# KNN regression\n",
    "knn_model = KNeighborsRegressor().fit(x_train, y_train)"
   ]
  },
  {
   "cell_type": "code",
   "execution_count": 17,
   "id": "6cf379de-a7fd-41c8-9788-719d74831b3d",
   "metadata": {},
   "outputs": [],
   "source": [
    "y_pred_knn = knn_model.predict(x_test)"
   ]
  },
  {
   "cell_type": "code",
   "execution_count": 18,
   "id": "37731157-441b-4aec-9ec2-53b765dc77f0",
   "metadata": {},
   "outputs": [
    {
     "data": {
      "text/plain": [
       "5145.270325654042"
      ]
     },
     "execution_count": 18,
     "metadata": {},
     "output_type": "execute_result"
    }
   ],
   "source": [
    "mse_knn = np.sqrt(mean_squared_error(y_test, y_pred_knn))\n",
    "mse_knn"
   ]
  },
  {
   "cell_type": "code",
   "execution_count": null,
   "id": "3015057d-3c56-4f15-9c36-60dd308000ee",
   "metadata": {},
   "outputs": [],
   "source": []
  },
  {
   "cell_type": "code",
   "execution_count": 34,
   "id": "87f3e1b7-7772-4a78-bee5-e49bd410fa8c",
   "metadata": {},
   "outputs": [],
   "source": [
    "# Decision Tree regression\n",
    "dec_tree = DecisionTreeRegressor().fit(x_train, y_train)"
   ]
  },
  {
   "cell_type": "code",
   "execution_count": 35,
   "id": "1f9c1ccf-cc57-4ae8-9012-c78e2e96d987",
   "metadata": {},
   "outputs": [],
   "source": [
    "y_pred_tree = dec_tree.predict(x_test)"
   ]
  },
  {
   "cell_type": "code",
   "execution_count": 36,
   "id": "3f40efbd-bd98-4212-8922-1f1e628ab44a",
   "metadata": {},
   "outputs": [
    {
     "data": {
      "text/plain": [
       "5453.936159682585"
      ]
     },
     "execution_count": 36,
     "metadata": {},
     "output_type": "execute_result"
    }
   ],
   "source": [
    "mse_tree = np.sqrt(mean_squared_error(y_test, y_pred_tree))\n",
    "mse_tree"
   ]
  },
  {
   "cell_type": "code",
   "execution_count": null,
   "id": "d2698723-d6aa-4bc4-b380-c3fe15ef9ad0",
   "metadata": {},
   "outputs": [],
   "source": []
  },
  {
   "cell_type": "code",
   "execution_count": 37,
   "id": "5d6f5eee-7172-4e1c-946e-2181b0b65863",
   "metadata": {
    "tags": []
   },
   "outputs": [
    {
     "data": {
      "text/plain": [
       "4457.751142209001"
      ]
     },
     "execution_count": 37,
     "metadata": {},
     "output_type": "execute_result"
    }
   ],
   "source": [
    "# Random Forest regression\n",
    "rf = RandomForestRegressor().fit(x_train, y_train)\n",
    "\n",
    "y_pred_rf = rf.predict(x_test)\n",
    "\n",
    "mse_rf = np.sqrt(mean_squared_error(y_test, y_pred_rf))\n",
    "mse_rf"
   ]
  },
  {
   "cell_type": "code",
   "execution_count": null,
   "id": "7e205c67-8674-404b-8cdb-caec802597e1",
   "metadata": {},
   "outputs": [],
   "source": []
  },
  {
   "cell_type": "code",
   "execution_count": null,
   "id": "064e6e29-3e5b-454a-82dc-fb0168153a9d",
   "metadata": {
    "tags": []
   },
   "outputs": [],
   "source": [
    "# Cat Boost regression\n",
    "cat_boost = CatBoostRegressor().fit(x_train, y_train)\n",
    "\n",
    "y_pred_cat = cat_boost.predict(x_test)\n",
    "\n",
    "mse_cat = np.sqrt(mean_squared_error(y_test, y_pred_cat))"
   ]
  },
  {
   "cell_type": "code",
   "execution_count": 39,
   "id": "3e88f3c5-a8da-4bbf-a2fe-3aa0b40655f4",
   "metadata": {},
   "outputs": [
    {
     "data": {
      "text/plain": [
       "4392.805183995254"
      ]
     },
     "execution_count": 39,
     "metadata": {},
     "output_type": "execute_result"
    }
   ],
   "source": [
    "mse_cat"
   ]
  },
  {
   "cell_type": "code",
   "execution_count": null,
   "id": "01afd763-123f-41d8-9424-ff554a74d6ed",
   "metadata": {},
   "outputs": [],
   "source": []
  },
  {
   "cell_type": "code",
   "execution_count": 52,
   "id": "cc92b324-b5c4-46e8-a85c-e5e54535a3be",
   "metadata": {},
   "outputs": [
    {
     "data": {
      "text/plain": [
       "4348.894303377174"
      ]
     },
     "execution_count": 52,
     "metadata": {},
     "output_type": "execute_result"
    }
   ],
   "source": [
    "# Bagged Trees regression\n",
    "bag_model = BaggingRegressor(bootstrap_features = True).fit(x_train, y_train)\n",
    "\n",
    "y_pred_bag = bag_model.predict(x_test)\n",
    "\n",
    "mse_bag = np.sqrt(mean_squared_error(y_test, y_pred_bag))\n",
    "mse_bag"
   ]
  },
  {
   "cell_type": "code",
   "execution_count": 36,
   "id": "aefe1992-f3c9-4013-8299-6336ce90742b",
   "metadata": {},
   "outputs": [],
   "source": []
  },
  {
   "cell_type": "code",
   "execution_count": null,
   "id": "f758e156-9515-4e6d-a921-3062076b1174",
   "metadata": {
    "tags": []
   },
   "outputs": [],
   "source": [
    "!pip install lightgbm"
   ]
  },
  {
   "cell_type": "code",
   "execution_count": 43,
   "id": "d5c904f1-8573-4888-9a75-6dc92d9f52f1",
   "metadata": {},
   "outputs": [],
   "source": [
    "import os\n",
    "\n",
    "os.environ[\"LOKY_MAX_CPU_COUNT\"] = \"4\""
   ]
  },
  {
   "cell_type": "code",
   "execution_count": null,
   "id": "a5a4d6c9-584f-4740-bdca-04958e528f70",
   "metadata": {},
   "outputs": [],
   "source": [
    "lgbm_model = LGBMRegressor().fit(x_train, y_train)\n",
    "\n",
    "y_pred_lgbm = lgbm_model.predict(x_test)\n",
    "\n",
    "mse_lgbm = np.sqrt(mean_squared_error(y_test, y_pred_lgbm))"
   ]
  },
  {
   "cell_type": "code",
   "execution_count": 45,
   "id": "e2f3f539-4002-4bad-ac0a-4ad56925cbc6",
   "metadata": {},
   "outputs": [
    {
     "data": {
      "text/plain": [
       "4508.189849935392"
      ]
     },
     "execution_count": 45,
     "metadata": {},
     "output_type": "execute_result"
    }
   ],
   "source": [
    "mse_lgbm"
   ]
  },
  {
   "cell_type": "code",
   "execution_count": null,
   "id": "f998a6b7-31e3-47e4-920a-7cc4477113f4",
   "metadata": {},
   "outputs": [],
   "source": []
  },
  {
   "cell_type": "code",
   "execution_count": 46,
   "id": "59edb952-19a1-46c6-a6d1-dbf51d12fbdc",
   "metadata": {},
   "outputs": [
    {
     "data": {
      "text/plain": [
       "5026.818159551314"
      ]
     },
     "execution_count": 46,
     "metadata": {},
     "output_type": "execute_result"
    }
   ],
   "source": [
    "# Gradient Boosting regression\n",
    "gbm_model = GradientBoostingRegressor().fit(x_train, y_train)\n",
    "\n",
    "y_pred_gbm = gbm_model.predict(x_test)\n",
    "\n",
    "mse_gbm = np.sqrt(mean_squared_error(y_test, y_pred_gbm))\n",
    "mse_gbm"
   ]
  },
  {
   "cell_type": "code",
   "execution_count": null,
   "id": "cfcc08fd-f975-40e3-96cc-5970917e6884",
   "metadata": {},
   "outputs": [],
   "source": []
  },
  {
   "cell_type": "code",
   "execution_count": null,
   "id": "29e11be3-d1ac-49b4-8dbd-440ed0959832",
   "metadata": {
    "tags": []
   },
   "outputs": [],
   "source": [
    "!pip install xgboost"
   ]
  },
  {
   "cell_type": "code",
   "execution_count": 50,
   "id": "6103c867-4eb4-419b-84f9-fe555b4ec159",
   "metadata": {},
   "outputs": [
    {
     "data": {
      "text/plain": [
       "4346.723388373664"
      ]
     },
     "execution_count": 50,
     "metadata": {},
     "output_type": "execute_result"
    }
   ],
   "source": [
    "# XGBoost regression\n",
    "xgb_model = XGBRegressor().fit(x_train, y_train)\n",
    "\n",
    "y_pred_xgb = xgb_model.predict(x_test)\n",
    "\n",
    "mse_xgb = np.sqrt(mean_squared_error(y_test, y_pred_xgb))\n",
    "mse_xgb"
   ]
  },
  {
   "cell_type": "code",
   "execution_count": null,
   "id": "9474144c-d74e-4514-ad42-f7d437ae452e",
   "metadata": {},
   "outputs": [],
   "source": []
  },
  {
   "cell_type": "code",
   "execution_count": null,
   "id": "557f28a5-bf5e-4509-8881-b7cb5373b035",
   "metadata": {},
   "outputs": [],
   "source": []
  },
  {
   "cell_type": "code",
   "execution_count": 53,
   "id": "4ef5bafb-c732-4200-9e94-6028aaebf9a5",
   "metadata": {},
   "outputs": [
    {
     "data": {
      "text/plain": [
       "<BarContainer object of 8 artists>"
      ]
     },
     "execution_count": 53,
     "metadata": {},
     "output_type": "execute_result"
    },
    {
     "data": {
      "image/png": "[encoded data removed]",
      "text/plain": [
       "<Figure size 640x480 with 1 Axes>"
      ]
     },
     "metadata": {},
     "output_type": "display_data"
    }
   ],
   "source": [
    "# mse comparison of all models\n",
    "\n",
    "all_mse = pd.DataFrame({\n",
    "    \"x\": [\"mse_xgb\",\"mse_bag\",\"mse_cat\",\"mse_gbm\",\"mse_knn\",\"mse_lgbm\",\"mse_rf\",\"mse_tree\"],\n",
    "    \"y\": [mse_xgb,mse_bag,mse_cat,mse_gbm,mse_knn,mse_lgbm,mse_rf,mse_tree]  \n",
    "})\n",
    "\n",
    "plt.grid(axis=\"x\")\n",
    "plt.barh(all_mse[\"x\"], all_mse[\"y\"])"
   ]
  },
  {
   "cell_type": "code",
   "execution_count": null,
   "id": "0400c021-24af-44c2-97d9-101d360be9ab",
   "metadata": {},
   "outputs": [],
   "source": [
    "# XGB showed the best performance in this dataset"
   ]
  },
  {
   "cell_type": "code",
   "execution_count": null,
   "id": "8fc5effe-cf90-4319-899a-b10625cade98",
   "metadata": {},
   "outputs": [],
   "source": []
  },
  {
   "cell_type": "markdown",
   "id": "0d8e7adb-210c-44e7-93f5-577a14af94fe",
   "metadata": {},
   "source": [
    "#### XGB model tuning"
   ]
  },
  {
   "cell_type": "code",
   "execution_count": 67,
   "id": "12334db2-439c-4427-bf51-46e358f0d9ae",
   "metadata": {},
   "outputs": [],
   "source": [
    "xgb_grid = {\n",
    "     'colsample_bytree': [0.4, 0.5,0.6,0.9,1], \n",
    "     'n_estimators':[100, 200, 500, 1000],\n",
    "     'max_depth': [2,3,4,5,6],\n",
    "     'learning_rate': [0.1, 0.01, 0.5]\n",
    "}"
   ]
  },
  {
   "cell_type": "code",
   "execution_count": null,
   "id": "fbdd2efb-1f6a-4486-9680-6a5cf52f118b",
   "metadata": {},
   "outputs": [],
   "source": [
    "xgb = XGBRegressor()\n",
    "\n",
    "xgb_cv = GridSearchCV(xgb, \n",
    "                      param_grid = xgb_grid, \n",
    "                      cv = 10, \n",
    "                      n_jobs = -1,\n",
    "                      verbose = 2)\n",
    "\n",
    "\n",
    "xgb_cv.fit(x_train, y_train)"
   ]
  },
  {
   "cell_type": "code",
   "execution_count": 69,
   "id": "1f3a9712-4cb7-4fe6-81a0-8f2654cde76e",
   "metadata": {},
   "outputs": [
    {
     "data": {
      "text/plain": [
       "{'colsample_bytree': 0.6,\n",
       " 'learning_rate': 0.1,\n",
       " 'max_depth': 6,\n",
       " 'n_estimators': 1000}"
      ]
     },
     "execution_count": 69,
     "metadata": {},
     "output_type": "execute_result"
    }
   ],
   "source": [
    "xgb_cv.best_params_"
   ]
  },
  {
   "cell_type": "code",
   "execution_count": 54,
   "id": "55bf2d4a-165e-4860-92c8-5a9a4ae4acb8",
   "metadata": {},
   "outputs": [],
   "source": [
    "xgb_tuned = XGBRegressor(colsample_bytree = 0.6, \n",
    "                         learning_rate = 0.1, \n",
    "                         max_depth = 6, \n",
    "                         n_estimators = 1000) \n",
    "\n",
    "xgb_tuned = xgb_tuned.fit(x_train,y_train)"
   ]
  },
  {
   "cell_type": "code",
   "execution_count": 55,
   "id": "787ff69d-7184-47f3-90d6-a201067b1385",
   "metadata": {},
   "outputs": [
    {
     "data": {
      "text/plain": [
       "4240.442662558513"
      ]
     },
     "execution_count": 55,
     "metadata": {},
     "output_type": "execute_result"
    }
   ],
   "source": [
    "y_pred = xgb_tuned.predict(x_test)\n",
    "np.sqrt(mean_squared_error(y_test, y_pred))"
   ]
  },
  {
   "cell_type": "code",
   "execution_count": null,
   "id": "ed0f8502-aede-4808-9bb5-a38e5eadc067",
   "metadata": {},
   "outputs": [],
   "source": []
  },
  {
   "cell_type": "code",
   "execution_count": null,
   "id": "9b46430d-32ca-42da-8a0e-86cc542782fe",
   "metadata": {},
   "outputs": [],
   "source": []
  },
  {
   "cell_type": "markdown",
   "id": "7ba141de-64bb-47f5-b362-ab5b0f7cdffd",
   "metadata": {},
   "source": [
    "### Show estimated price and many useful output using XGB model based on entered infos "
   ]
  },
  {
   "cell_type": "code",
   "execution_count": 84,
   "id": "db417df8-4bf6-41fd-b0ac-bbdaa2168096",
   "metadata": {},
   "outputs": [],
   "source": [
    "def pred_price(city, district, neighborhood, room, metrekare):\n",
    "  \n",
    "    d = data\n",
    "    if city!=\"\" and city not in d[\"city\"].tolist():\n",
    "        print(\"--------------------------------\\n\\nBöyle bir il bulunamadı ya da bu ilde ilan yok!\\n\")\n",
    "        print(\"Şehir ismini doğru yazdığınızdan emin olun!\\nŞehrin baş harfini büyük yazmayı deneyin!\\n\")\n",
    "        return None    \n",
    "    if district!=\"\" and district not in d[\"district\"].tolist():\n",
    "        print(\"--------------------------------\\n\\nBöyle bir ilçe bulunamadı ya da bu ilçede ilan yok!\\n\")\n",
    "        print(\"İlçe ismini doğru yazdığınızdan emin olun!\\nİlçenin baş harfini büyük yazmayı deneyin!\\n\")\n",
    "        return None\n",
    "    if neighborhood!=\"\" and neighborhood not in d[\"neighborhood\"].tolist():\n",
    "        print(\"--------------------------------\\n\\nBöyle bir mahalle bulunamadı ya da bu mahallede ilan yok!\\n\")\n",
    "        print(\"Mahalle ismini doğru yazdığınızdan emin olun!\\nMahallenin baş harfini büyük yazmayı deneyin!\\n\")\n",
    "        return None\n",
    "\n",
    "    \n",
    "    if metrekare==\"\" and room==\"1+0\": \n",
    "        metrekare=40\n",
    "        #print(f\"       m²={metrekare} olarak hesaba katıldı!\")\n",
    "    elif metrekare==\"\" and room==\"1+1\": \n",
    "        metrekare=65\n",
    "        #print(f\"       m²={metrekare} olarak hesaba katıldı!\")\n",
    "    elif metrekare==\"\" and room==\"2+1\": \n",
    "        metrekare=100\n",
    "        #print(f\"       m²={metrekare} olarak hesaba katıldı!\")\n",
    "    elif metrekare==\"\" and room==\"3+1\": \n",
    "        metrekare=130\n",
    "        #print(f\"       m²={metrekare} olarak hesaba katıldı!\")\n",
    "    elif metrekare==\"\" and room==\"4+1\": \n",
    "        metrekare=160\n",
    "        #print(f\"       m²={metrekare} olarak hesaba katıldı!\")\n",
    "    elif metrekare==\"\" and room==\"\": \n",
    "        metrekare=110\n",
    "        #print(f\"       m²={metrekare} olarak hesaba katıldı!\")\n",
    "    else: \n",
    "        pass\n",
    "\n",
    "    \n",
    "    \n",
    "    new = pd.DataFrame({\"city\":[city], \"district\":[district], \"neighborhood\":[neighborhood], \"room\":[room], \"m²\":[metrekare]})\n",
    "    new[\"m²\"] = pd.to_numeric(new[\"m²\"])\n",
    "       \n",
    "    dff = d.drop(\"price\", axis=1)\n",
    "    dff = pd.concat([dff, new], axis=0)\n",
    "\n",
    "    dff[\"\"] = np.arange(len(dff))\n",
    "    dff = dff.set_index(\"\")\n",
    "\n",
    "    # Get dummies the string column\"room\"\n",
    "    dff = pd.get_dummies(dff, columns=[\"room\"], prefix=[\"room\"])\n",
    "\n",
    "    # Encode the string column'city'\n",
    "    dff['city_le'] = le.fit_transform(dff['city'])\n",
    "    \n",
    "    # Encode the string column'district'\n",
    "    dff['district_le'] = le.fit_transform(dff['district'])\n",
    "    \n",
    "    # Encode the string column'neighborhood'\n",
    "    dff['neighborhood_le'] = le.fit_transform(dff['neighborhood'])\n",
    "\n",
    "    dff =dff.drop([\"city\",\"district\",\"neighborhood\"], axis=1)\n",
    "   \n",
    "    if room==\"\":\n",
    "        dff = dff.drop(\"room_\", axis=1)\n",
    "    \n",
    "    # len(data) = 27118 = index of last row\n",
    "    train_data = dff.iloc[27118:,:]\n",
    "    pred = xgb_tuned.predict(train_data)\n",
    "    #print(f\"----------------------------\\n\\nGirilen bilgilere göre tahmini fiyat: {int(pred)} TL\\n\\n----------------------------\")\n",
    "\n",
    "\n",
    "\n",
    "    # write advertising infos according to inputs entered by user\n",
    "    if city==\"\" and room!=\"\":\n",
    "        a=d[d[\"room\"]==room]\n",
    "        print(f\"----------------------------\\n\\nTürkiye'de tahmini {room} kira fiyatı: {int(pred)} TL\\n\\n----------------------------\")     \n",
    "        \n",
    "        print(f\"\\nTürkiye'de toplam {len(a)} tane {room} ilan var.\\n\\n----------------------------\")\n",
    "    \n",
    "    elif district==\"\" and room!=\"\":\n",
    "        a=d[d[\"city\"]==city]\n",
    "        a=a[a[\"room\"]==room]\n",
    "        print(f\"----------------------------\\n\\n{city} şehrinde tahmini {room} kira fiyatı: {int(pred)} TL\\n\\n----------------------------\")     \n",
    "        if len(a)>=5: \n",
    "            last_q = a[\"price\"].quantile(0.75) / a[\"m²\"].quantile(0.75)\n",
    "            first_q = a[\"price\"].quantile(0.25) / a[\"m²\"].quantile(0.25)\n",
    "            print(f\"\\nOrtalama metrekare fiyatı {int(first_q)}TL - {int(last_q)}TL aralığında.\")\n",
    "        else: pass\n",
    "        print(f\"\\nEn düşük fiyat: {a['price'].min()} \\nEn yüksek fiyat: {a['price'].max()}\\n\")\n",
    "        print(f\"{city} ilinde toplam {len(a)} tane {room} ilan var.\\n\\n----------------------------\")\n",
    "   \n",
    "    elif neighborhood==\"\" and room!=\"\":\n",
    "        a=d[d[\"district\"]==district]\n",
    "        a=a[a[\"room\"]==room]\n",
    "        print(f\"----------------------------\\n\\n{district} ilçesinde tahmini {room} kira fiyatı: {int(pred)} TL\\n\\n----------------------------\")     \n",
    "        if len(a)>=5: \n",
    "            last_q = a[\"price\"].quantile(0.75) / a[\"m²\"].quantile(0.75)\n",
    "            first_q = a[\"price\"].quantile(0.25) / a[\"m²\"].quantile(0.25)\n",
    "            print(f\"\\nOrtalama metrekare fiyatı {int(first_q)}TL - {int(last_q)}TL aralığında.\")\n",
    "        else: pass\n",
    "        print(f\"\\nEn düşük fiyat: {a['price'].min()} \\nEn yüksek fiyat: {a['price'].max()}\\n\")\n",
    "        print(f\"{district} ilçesinde toplam {len(a)} tane {room} ilan var.\\n\\n----------------------------\")\n",
    "        a=a.sort_values(by=\"price\", ascending=True)\n",
    "        print(f\"\\nGirilen bilgilere göre Emlakjet sitesindeki ilanlar 'Artan fiyata göre sıralı':\\n\\n{a.to_string(index=False)}\")\n",
    "   \n",
    "    elif neighborhood != \"\" and room!=\"\":\n",
    "        a=d[d[\"district\"]==district]\n",
    "        a=a[a[\"neighborhood\"]==neighborhood]\n",
    "        a=a[a[\"room\"]==room]\n",
    "        print(f\"----------------------------\\n\\n{neighborhood} mahallesinde tahmini {room} kira fiyatı: {int(pred)} TL\\n\\n----------------------------\")     \n",
    "        if len(a)>=5: \n",
    "            last_q = a[\"price\"].quantile(0.75) / a[\"m²\"].quantile(0.75)\n",
    "            first_q = a[\"price\"].quantile(0.25) / a[\"m²\"].quantile(0.25)\n",
    "            print(f\"\\nOrtalama metrekare fiyatı {int(first_q)}TL - {int(last_q)}TL aralığında.\")\n",
    "        else: pass\n",
    "        print(f\"\\nEn düşük fiyat: {a['price'].min()} \\nEn yüksek fiyat: {a['price'].max()}\\n\")\n",
    "        print(f\"{neighborhood} mahallesinde toplam {len(a)} tane {room} ilan var.\\n\\n----------------------------\")\n",
    "        a=a.sort_values(by=\"price\", ascending=True)\n",
    "        print(f\"\\nGirilen bilgilere göre Emlakjet sitesindeki ilanlar 'Artan fiyata göre sıralı':\\n\\n{a.to_string(index=False)}\")\n",
    "\n",
    "    \n",
    "    elif room==\"\" and city==\"\":\n",
    "        print(f\"----------------------------\\n\\nTürkiye'de tahmini kira fiyatı: {int(pred)} TL\\n\\n----------------------------\")     \n",
    "        print(f\"Türkiye'de toplam {len(d)} tane ilan var.\\n\\n----------------------------\")\n",
    "    \n",
    "    elif room == \"\" and district==\"\":\n",
    "        a=d[d[\"city\"]==city]\n",
    "        print(f\"----------------------------\\n\\n{city} şehrinde tahmini kira fiyatı: {int(pred)} TL\\n\\n----------------------------\")     \n",
    "        if len(a)>=5: \n",
    "            last_q = a[\"price\"].quantile(0.75) / a[\"m²\"].quantile(0.75)\n",
    "            first_q = a[\"price\"].quantile(0.25) / a[\"m²\"].quantile(0.25)\n",
    "            print(f\"\\nOrtalama metrekare fiyatı {int(first_q)}TL - {int(last_q)}TL aralığında.\")\n",
    "        else: pass\n",
    "        print(f\"\\nEn düşük fiyat: {a['price'].min()} \\nEn yüksek fiyat: {a['price'].max()}\\n\")\n",
    "        print(f\"{city} ilinde toplam {len(a)} tane ilan var.\\n\\n----------------------------\")\n",
    "    \n",
    "    elif room == \"\" and neighborhood==\"\":\n",
    "        a=d[d[\"district\"]==district]\n",
    "        print(f\"----------------------------\\n\\n{district} ilçesinde tahmini kira fiyatı: {int(pred)} TL\\n\\n----------------------------\")     \n",
    "        if len(a)>=5: \n",
    "            last_q = a[\"price\"].quantile(0.75) / a[\"m²\"].quantile(0.75)\n",
    "            first_q = a[\"price\"].quantile(0.25) / a[\"m²\"].quantile(0.25)\n",
    "            print(f\"\\nOrtalama metrekare fiyatı {int(first_q)}TL - {int(last_q)}TL aralığında.\")\n",
    "        else: pass\n",
    "        print(f\"\\nEn düşük fiyat: {a['price'].min()} \\nEn yüksek fiyat: {a['price'].max()}\\n\")\n",
    "        print(f\"{district} ilçesinde toplam {len(a)} tane ilan var.\\n\\n----------------------------\")\n",
    "        a=a.sort_values(by=\"price\", ascending=True)\n",
    "        print(f\"\\nGirilen bilgilere göre Emlakjet sitesindeki ilanlar 'Artan fiyata göre sıralı':\\n\\n{a.to_string(index=False)}\")\n",
    "    \n",
    "    elif room == \"\" and neighborhood!=\"\":\n",
    "        a=d[d[\"city\"]==city]\n",
    "        a=a[a[\"neighborhood\"]==neighborhood]\n",
    "        print(f\"----------------------------\\n\\n{neighborhood} mahallesinde tahmini kira fiyatı: {int(pred)} TL\\n\\n----------------------------\")     \n",
    "        if len(a)>=5: \n",
    "            last_q = a[\"price\"].quantile(0.75) / a[\"m²\"].quantile(0.75)\n",
    "            first_q = a[\"price\"].quantile(0.25) / a[\"m²\"].quantile(0.25)\n",
    "            print(f\"\\nOrtalama metrekare fiyatı {int(first_q)}TL - {int(last_q)}TL aralığında.\")\n",
    "        else: pass\n",
    "        print(f\"\\nEn düşük fiyat: {a['price'].min()} \\nEn yüksek fiyat: {a['price'].max()}\\n\")\n",
    "        print(f\"{neighborhood} mahallesinde toplam {len(a)} tane ilan var.\\n\\n----------------------------\")\n",
    "        a=a.sort_values(by=\"price\", ascending=True)\n",
    "        print(f\"\\nGirilen bilgilere göre Emlakjet sitesindeki ilanlar 'Artan fiyata göre sıralı':\\n\\n{a.to_string(index=False)}\")\n",
    "    \n",
    "    else:\n",
    "        pass\n",
    "\n"
   ]
  },
  {
   "cell_type": "code",
   "execution_count": 86,
   "id": "2cc874dc-5f89-4aca-b944-8903ea6a7b47",
   "metadata": {
    "tags": []
   },
   "outputs": [
    {
     "name": "stdout",
     "output_type": "stream",
     "text": [
      "İstenilen şekilde filtreleme yapılabilir.\n",
      "\n"
     ]
    },
    {
     "name": "stdin",
     "output_type": "stream",
     "text": [
      "City:  İstanbul\n",
      "District:  Bağcılar\n",
      "Neighborhood:  \n",
      "Rooms:  3+1\n",
      "Meter:  \n"
     ]
    },
    {
     "name": "stdout",
     "output_type": "stream",
     "text": [
      "----------------------------\n",
      "\n",
      "Bağcılar ilçesinde tahmini 3+1 kira fiyatı: 15822 TL\n",
      "\n",
      "----------------------------\n",
      "\n",
      "Ortalama metrekare fiyatı 113TL - 142TL aralığında.\n",
      "\n",
      "En düşük fiyat: 10000 \n",
      "En yüksek fiyat: 35000\n",
      "\n",
      "Bağcılar ilçesinde toplam 40 tane 3+1 ilan var.\n",
      "\n",
      "----------------------------\n",
      "\n",
      "Girilen bilgilere göre Emlakjet sitesindeki ilanlar 'Artan fiyata göre sıralı':\n",
      "\n",
      "    city district neighborhood room  m²  price\n",
      "İstanbul Bağcılar        Fatih  3+1 130  10000\n",
      "İstanbul Bağcılar   Yıldıztepe  3+1 140  10500\n",
      "İstanbul Bağcılar Fevzi Çakmak  3+1 110  11000\n",
      "İstanbul Bağcılar Fevzi Çakmak  3+1 115  11000\n",
      "İstanbul Bağcılar  Yenimahalle  3+1 110  11000\n",
      "İstanbul Bağcılar    Demirkapı  3+1 125  12000\n",
      "İstanbul Bağcılar  Yavuz Selim  3+1 120  12000\n",
      "İstanbul Bağcılar    15 Temmuz  3+1 115  12500\n",
      "İstanbul Bağcılar       Merkez  3+1 140  13000\n",
      "İstanbul Bağcılar       Merkez  3+1 120  13000\n",
      "İstanbul Bağcılar       Merkez  3+1 140  13000\n",
      "İstanbul Bağcılar       Merkez  3+1 140  13000\n",
      "İstanbul Bağcılar       Merkez  3+1 120  13000\n",
      "İstanbul Bağcılar   Yıldıztepe  3+1 135  13500\n",
      "İstanbul Bağcılar    Demirkapı  3+1 110  13500\n",
      "İstanbul Bağcılar     Hürriyet  3+1 150  14000\n",
      "İstanbul Bağcılar        Çınar  3+1 125  14000\n",
      "İstanbul Bağcılar        Çınar  3+1 125  15000\n",
      "İstanbul Bağcılar        Çınar  3+1 110  15000\n",
      "İstanbul Bağcılar       Merkez  3+1 130  15500\n",
      "İstanbul Bağcılar  Yavuz Selim  3+1 105  16000\n",
      "İstanbul Bağcılar    Demirkapı  3+1 110  16000\n",
      "İstanbul Bağcılar    Demirkapı  3+1 100  17500\n",
      "İstanbul Bağcılar   Yıldıztepe  3+1 125  18000\n",
      "İstanbul Bağcılar      Yenigün  3+1 140  18000\n",
      "İstanbul Bağcılar    Kemalpaşa  3+1 160  18000\n",
      "İstanbul Bağcılar    Demirkapı  3+1 115  18000\n",
      "İstanbul Bağcılar   Sancaktepe  3+1 165  19000\n",
      "İstanbul Bağcılar    Mahmutbey  3+1 130  20000\n",
      "İstanbul Bağcılar        Fatih  3+1 160  20000\n",
      "İstanbul Bağcılar    15 Temmuz  3+1 130  20000\n",
      "İstanbul Bağcılar    15 Temmuz  3+1 130  20000\n",
      "İstanbul Bağcılar    Demirkapı  3+1 105  20000\n",
      "İstanbul Bağcılar      Kirazlı  3+1 130  22500\n",
      "İstanbul Bağcılar     Hürriyet  3+1 135  23000\n",
      "İstanbul Bağcılar      Göztepe  3+1 140  24000\n",
      "İstanbul Bağcılar  Yavuz Selim  3+1 130  25000\n",
      "İstanbul Bağcılar       Bağlar  3+1 167  33000\n",
      "İstanbul Bağcılar       Bağlar  3+1 176  35000\n",
      "İstanbul Bağcılar       Bağlar  3+1 172  35000\n"
     ]
    }
   ],
   "source": [
    "# Get the desired advertisement informations\n",
    "\n",
    "print(\"İstenilen şekilde filtreleme yapılabilir.\\n\")\n",
    "\n",
    "city = \"\"\n",
    "city = input(\"City: \")\n",
    "district = \"\"\n",
    "district = input(\"District: \")\n",
    "neighborhood = \"\"\n",
    "neighborhood = input(\"Neighborhood: \")\n",
    "room = \"\"\n",
    "room = input(\"Rooms: \")\n",
    "metrekare = \"\"\n",
    "metrekare = input(\"Meter: \")\n",
    "\n",
    "# Sent inputs to pred_price function\n",
    "pred_price(city,district,neighborhood,room,metrekare)\n",
    "\n"
   ]
  },
  {
   "cell_type": "code",
   "execution_count": null,
   "id": "aa594d31-515e-447e-b5d8-4d8e9cdf05a2",
   "metadata": {},
   "outputs": [],
   "source": []
  },
  {
   "cell_type": "code",
   "execution_count": null,
   "id": "16d7f967-8664-4023-a31d-d88135c6ad1b",
   "metadata": {},
   "outputs": [],
   "source": []
  },
  {
   "cell_type": "code",
   "execution_count": null,
   "id": "4e100bb8-a148-4a0d-8778-27d830ba2407",
   "metadata": {},
   "outputs": [],
   "source": []
  },
  {
   "cell_type": "code",
   "execution_count": null,
   "id": "46c56719-b4b8-4daf-baa3-5534d9281cad",
   "metadata": {},
   "outputs": [],
   "source": []
  },
  {
   "cell_type": "code",
   "execution_count": null,
   "id": "6d9fe932-be5e-4c12-b946-cbdf9cecda73",
   "metadata": {},
   "outputs": [],
   "source": []
  }
 ],
 "metadata": {
  "kernelspec": {
   "display_name": "Python 3 (ipykernel)",
   "language": "python",
   "name": "python3"
  },
  "language_info": {
   "codemirror_mode": {
    "name": "ipython",
    "version": 3
   },
   "file_extension": ".py",
   "mimetype": "text/x-python",
   "name": "python",
   "nbconvert_exporter": "python",
   "pygments_lexer": "ipython3",
   "version": "3.10.9"
  }
 },
 "nbformat": 4,
 "nbformat_minor": 5
}
